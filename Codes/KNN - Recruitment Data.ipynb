{
 "cells": [
  {
   "cell_type": "markdown",
   "metadata": {
    "_cell_guid": "79c7e3d0-c299-4dcb-8224-4455121ee9b0",
    "_uuid": "d629ff2d2480ee46fbb7e2d37f6b5fab8052498a"
   },
   "source": [
    "# KNN - Recruitment Data\n",
    "\n",
    "The dataset contains placement data for students with various attributes that could influence their placement outcomes.\n",
    "\n",
    "- sl_no: Serial number,  a unique identifier for each student.\n",
    "- gender: The gender of the individual (e.g., M for Male).\n",
    "- ssc_p: Secondary Education percentage- 10th Grade.\n",
    "- ssc_b: Board of Education for Secondary Education.\n",
    "- hsc_p: Higher Secondary Education percentage- 12th Grade.\n",
    "- hsc_b: Board of Education for Higher Secondary Education.\n",
    "- hsc_s: Specialization in Higher Secondary Education.\n",
    "- degree_p: Degree percentage.\n",
    "- degree_t: Type of degree.\n",
    "- workex: Work experience (Yes or No).\n",
    "- etest_p: E-test percentage.\n",
    "- specialisation: MBA specialization.\n",
    "- mba_p: MBA percentage.\n",
    "- status: Placement status (Placed or Not Placed).\n",
    "- salary: Salary offered to the placed students."
   ]
  },
  {
   "cell_type": "markdown",
   "metadata": {},
   "source": [
    "## Data Preprocessing"
   ]
  },
  {
   "cell_type": "code",
   "execution_count": 1,
   "metadata": {
    "_kg_hide-input": true
   },
   "outputs": [],
   "source": [
    "import pandas as pd\n",
    "import numpy as np\n",
    "import matplotlib.pyplot as plt\n",
    "import seaborn as sns\n",
    "%matplotlib inline"
   ]
  },
  {
   "cell_type": "code",
   "execution_count": 2,
   "metadata": {},
   "outputs": [],
   "source": [
    "placement=pd.read_csv(\"Placement_Data.csv\")"
   ]
  },
  {
   "cell_type": "code",
   "execution_count": 3,
   "metadata": {
    "_kg_hide-input": true
   },
   "outputs": [
    {
     "data": {
      "text/html": [
       "<div>\n",
       "<style scoped>\n",
       "    .dataframe tbody tr th:only-of-type {\n",
       "        vertical-align: middle;\n",
       "    }\n",
       "\n",
       "    .dataframe tbody tr th {\n",
       "        vertical-align: top;\n",
       "    }\n",
       "\n",
       "    .dataframe thead th {\n",
       "        text-align: right;\n",
       "    }\n",
       "</style>\n",
       "<table border=\"1\" class=\"dataframe\">\n",
       "  <thead>\n",
       "    <tr style=\"text-align: right;\">\n",
       "      <th></th>\n",
       "      <th>sl_no</th>\n",
       "      <th>gender</th>\n",
       "      <th>ssc_p</th>\n",
       "      <th>ssc_b</th>\n",
       "      <th>hsc_p</th>\n",
       "      <th>hsc_b</th>\n",
       "      <th>hsc_s</th>\n",
       "      <th>degree_p</th>\n",
       "      <th>degree_t</th>\n",
       "      <th>workex</th>\n",
       "      <th>etest_p</th>\n",
       "      <th>specialisation</th>\n",
       "      <th>mba_p</th>\n",
       "      <th>status</th>\n",
       "      <th>salary</th>\n",
       "    </tr>\n",
       "  </thead>\n",
       "  <tbody>\n",
       "    <tr>\n",
       "      <th>0</th>\n",
       "      <td>1</td>\n",
       "      <td>M</td>\n",
       "      <td>67.00</td>\n",
       "      <td>Others</td>\n",
       "      <td>91.00</td>\n",
       "      <td>Others</td>\n",
       "      <td>Commerce</td>\n",
       "      <td>58.00</td>\n",
       "      <td>Sci&amp;Tech</td>\n",
       "      <td>No</td>\n",
       "      <td>55.0</td>\n",
       "      <td>Mkt&amp;HR</td>\n",
       "      <td>58.80</td>\n",
       "      <td>Placed</td>\n",
       "      <td>270000.0</td>\n",
       "    </tr>\n",
       "    <tr>\n",
       "      <th>1</th>\n",
       "      <td>2</td>\n",
       "      <td>M</td>\n",
       "      <td>79.33</td>\n",
       "      <td>Central</td>\n",
       "      <td>78.33</td>\n",
       "      <td>Others</td>\n",
       "      <td>Science</td>\n",
       "      <td>77.48</td>\n",
       "      <td>Sci&amp;Tech</td>\n",
       "      <td>Yes</td>\n",
       "      <td>86.5</td>\n",
       "      <td>Mkt&amp;Fin</td>\n",
       "      <td>66.28</td>\n",
       "      <td>Placed</td>\n",
       "      <td>200000.0</td>\n",
       "    </tr>\n",
       "    <tr>\n",
       "      <th>2</th>\n",
       "      <td>3</td>\n",
       "      <td>M</td>\n",
       "      <td>65.00</td>\n",
       "      <td>Central</td>\n",
       "      <td>68.00</td>\n",
       "      <td>Central</td>\n",
       "      <td>Arts</td>\n",
       "      <td>64.00</td>\n",
       "      <td>Comm&amp;Mgmt</td>\n",
       "      <td>No</td>\n",
       "      <td>75.0</td>\n",
       "      <td>Mkt&amp;Fin</td>\n",
       "      <td>57.80</td>\n",
       "      <td>Placed</td>\n",
       "      <td>250000.0</td>\n",
       "    </tr>\n",
       "    <tr>\n",
       "      <th>3</th>\n",
       "      <td>4</td>\n",
       "      <td>M</td>\n",
       "      <td>56.00</td>\n",
       "      <td>Central</td>\n",
       "      <td>52.00</td>\n",
       "      <td>Central</td>\n",
       "      <td>Science</td>\n",
       "      <td>52.00</td>\n",
       "      <td>Sci&amp;Tech</td>\n",
       "      <td>No</td>\n",
       "      <td>66.0</td>\n",
       "      <td>Mkt&amp;HR</td>\n",
       "      <td>59.43</td>\n",
       "      <td>Not Placed</td>\n",
       "      <td>NaN</td>\n",
       "    </tr>\n",
       "    <tr>\n",
       "      <th>4</th>\n",
       "      <td>5</td>\n",
       "      <td>M</td>\n",
       "      <td>85.80</td>\n",
       "      <td>Central</td>\n",
       "      <td>73.60</td>\n",
       "      <td>Central</td>\n",
       "      <td>Commerce</td>\n",
       "      <td>73.30</td>\n",
       "      <td>Comm&amp;Mgmt</td>\n",
       "      <td>No</td>\n",
       "      <td>96.8</td>\n",
       "      <td>Mkt&amp;Fin</td>\n",
       "      <td>55.50</td>\n",
       "      <td>Placed</td>\n",
       "      <td>425000.0</td>\n",
       "    </tr>\n",
       "  </tbody>\n",
       "</table>\n",
       "</div>"
      ],
      "text/plain": [
       "   sl_no gender  ssc_p    ssc_b  hsc_p    hsc_b     hsc_s  degree_p  \\\n",
       "0      1      M  67.00   Others  91.00   Others  Commerce     58.00   \n",
       "1      2      M  79.33  Central  78.33   Others   Science     77.48   \n",
       "2      3      M  65.00  Central  68.00  Central      Arts     64.00   \n",
       "3      4      M  56.00  Central  52.00  Central   Science     52.00   \n",
       "4      5      M  85.80  Central  73.60  Central  Commerce     73.30   \n",
       "\n",
       "    degree_t workex  etest_p specialisation  mba_p      status    salary  \n",
       "0   Sci&Tech     No     55.0         Mkt&HR  58.80      Placed  270000.0  \n",
       "1   Sci&Tech    Yes     86.5        Mkt&Fin  66.28      Placed  200000.0  \n",
       "2  Comm&Mgmt     No     75.0        Mkt&Fin  57.80      Placed  250000.0  \n",
       "3   Sci&Tech     No     66.0         Mkt&HR  59.43  Not Placed       NaN  \n",
       "4  Comm&Mgmt     No     96.8        Mkt&Fin  55.50      Placed  425000.0  "
      ]
     },
     "execution_count": 3,
     "metadata": {},
     "output_type": "execute_result"
    }
   ],
   "source": [
    "placement.head()"
   ]
  },
  {
   "cell_type": "code",
   "execution_count": 4,
   "metadata": {},
   "outputs": [
    {
     "name": "stdout",
     "output_type": "stream",
     "text": [
      "<class 'pandas.core.frame.DataFrame'>\n",
      "RangeIndex: 215 entries, 0 to 214\n",
      "Data columns (total 15 columns):\n",
      " #   Column          Non-Null Count  Dtype  \n",
      "---  ------          --------------  -----  \n",
      " 0   sl_no           215 non-null    int64  \n",
      " 1   gender          215 non-null    object \n",
      " 2   ssc_p           215 non-null    float64\n",
      " 3   ssc_b           215 non-null    object \n",
      " 4   hsc_p           215 non-null    float64\n",
      " 5   hsc_b           215 non-null    object \n",
      " 6   hsc_s           215 non-null    object \n",
      " 7   degree_p        215 non-null    float64\n",
      " 8   degree_t        215 non-null    object \n",
      " 9   workex          215 non-null    object \n",
      " 10  etest_p         215 non-null    float64\n",
      " 11  specialisation  215 non-null    object \n",
      " 12  mba_p           215 non-null    float64\n",
      " 13  status          215 non-null    object \n",
      " 14  salary          148 non-null    float64\n",
      "dtypes: float64(6), int64(1), object(8)\n",
      "memory usage: 25.3+ KB\n"
     ]
    }
   ],
   "source": [
    "placement.info()"
   ]
  },
  {
   "cell_type": "markdown",
   "metadata": {},
   "source": [
    "We have **215 candidate details** and there are mixed datatypes in each column. We have  missing values in the salary column as expected since those are the people who didn't get hired"
   ]
  },
  {
   "cell_type": "code",
   "execution_count": 5,
   "metadata": {},
   "outputs": [
    {
     "name": "stdout",
     "output_type": "stream",
     "text": [
      "Data columns with null values:\n",
      "sl_no              0\n",
      "gender             0\n",
      "ssc_p              0\n",
      "ssc_b              0\n",
      "hsc_p              0\n",
      "hsc_b              0\n",
      "hsc_s              0\n",
      "degree_p           0\n",
      "degree_t           0\n",
      "workex             0\n",
      "etest_p            0\n",
      "specialisation     0\n",
      "mba_p              0\n",
      "status             0\n",
      "salary            67\n",
      "dtype: int64\n"
     ]
    }
   ],
   "source": [
    "print('Data columns with null values:',placement.isnull().sum(), sep = '\\n')"
   ]
  },
  {
   "cell_type": "markdown",
   "metadata": {},
   "source": [
    "**Inference**\n",
    "* There are **67 null values** in our data, which means 67 unhired candidates. \n",
    "* We can't drop these values as this will provide a valuable information on why candidates failed to get hired.\n",
    "* We can't impute it with mean/median values and it will go against the context of this dataset and it will show unhired candidates got salary.\n",
    "* Our best way to deal with these null values is to **impute it with '0'** which shows they don't have any income"
   ]
  },
  {
   "cell_type": "markdown",
   "metadata": {},
   "source": [
    "### Data Cleaning"
   ]
  },
  {
   "cell_type": "markdown",
   "metadata": {},
   "source": [
    "**Handling missing values**\n",
    "First lets focus on the missing data in review features,if we drop the rows which has null values we might sabotage some potential information from the dataset. So we have to impute values into the NaN values. Since it is a salary feature,it is best to impute the records with '0' for unhired candidates"
   ]
  },
  {
   "cell_type": "code",
   "execution_count": 6,
   "metadata": {},
   "outputs": [
    {
     "name": "stdout",
     "output_type": "stream",
     "text": [
      "Salary column with null values:\n",
      "0\n"
     ]
    }
   ],
   "source": [
    "placement['salary'].fillna(0, inplace=True)\n",
    "print('Salary column with null values:',placement['salary'].isnull().sum(), sep = '\\n')"
   ]
  },
  {
   "cell_type": "markdown",
   "metadata": {},
   "source": [
    "No more missing values in the salary columns! Now it's time to drop unwanted features !"
   ]
  },
  {
   "cell_type": "code",
   "execution_count": 7,
   "metadata": {},
   "outputs": [
    {
     "data": {
      "text/html": [
       "<div>\n",
       "<style scoped>\n",
       "    .dataframe tbody tr th:only-of-type {\n",
       "        vertical-align: middle;\n",
       "    }\n",
       "\n",
       "    .dataframe tbody tr th {\n",
       "        vertical-align: top;\n",
       "    }\n",
       "\n",
       "    .dataframe thead th {\n",
       "        text-align: right;\n",
       "    }\n",
       "</style>\n",
       "<table border=\"1\" class=\"dataframe\">\n",
       "  <thead>\n",
       "    <tr style=\"text-align: right;\">\n",
       "      <th></th>\n",
       "      <th>gender</th>\n",
       "      <th>ssc_p</th>\n",
       "      <th>hsc_p</th>\n",
       "      <th>hsc_s</th>\n",
       "      <th>degree_p</th>\n",
       "      <th>degree_t</th>\n",
       "      <th>workex</th>\n",
       "      <th>etest_p</th>\n",
       "      <th>specialisation</th>\n",
       "      <th>mba_p</th>\n",
       "      <th>status</th>\n",
       "      <th>salary</th>\n",
       "    </tr>\n",
       "  </thead>\n",
       "  <tbody>\n",
       "    <tr>\n",
       "      <th>0</th>\n",
       "      <td>M</td>\n",
       "      <td>67.00</td>\n",
       "      <td>91.00</td>\n",
       "      <td>Commerce</td>\n",
       "      <td>58.00</td>\n",
       "      <td>Sci&amp;Tech</td>\n",
       "      <td>No</td>\n",
       "      <td>55.0</td>\n",
       "      <td>Mkt&amp;HR</td>\n",
       "      <td>58.80</td>\n",
       "      <td>Placed</td>\n",
       "      <td>270000.0</td>\n",
       "    </tr>\n",
       "    <tr>\n",
       "      <th>1</th>\n",
       "      <td>M</td>\n",
       "      <td>79.33</td>\n",
       "      <td>78.33</td>\n",
       "      <td>Science</td>\n",
       "      <td>77.48</td>\n",
       "      <td>Sci&amp;Tech</td>\n",
       "      <td>Yes</td>\n",
       "      <td>86.5</td>\n",
       "      <td>Mkt&amp;Fin</td>\n",
       "      <td>66.28</td>\n",
       "      <td>Placed</td>\n",
       "      <td>200000.0</td>\n",
       "    </tr>\n",
       "    <tr>\n",
       "      <th>2</th>\n",
       "      <td>M</td>\n",
       "      <td>65.00</td>\n",
       "      <td>68.00</td>\n",
       "      <td>Arts</td>\n",
       "      <td>64.00</td>\n",
       "      <td>Comm&amp;Mgmt</td>\n",
       "      <td>No</td>\n",
       "      <td>75.0</td>\n",
       "      <td>Mkt&amp;Fin</td>\n",
       "      <td>57.80</td>\n",
       "      <td>Placed</td>\n",
       "      <td>250000.0</td>\n",
       "    </tr>\n",
       "    <tr>\n",
       "      <th>3</th>\n",
       "      <td>M</td>\n",
       "      <td>56.00</td>\n",
       "      <td>52.00</td>\n",
       "      <td>Science</td>\n",
       "      <td>52.00</td>\n",
       "      <td>Sci&amp;Tech</td>\n",
       "      <td>No</td>\n",
       "      <td>66.0</td>\n",
       "      <td>Mkt&amp;HR</td>\n",
       "      <td>59.43</td>\n",
       "      <td>Not Placed</td>\n",
       "      <td>0.0</td>\n",
       "    </tr>\n",
       "    <tr>\n",
       "      <th>4</th>\n",
       "      <td>M</td>\n",
       "      <td>85.80</td>\n",
       "      <td>73.60</td>\n",
       "      <td>Commerce</td>\n",
       "      <td>73.30</td>\n",
       "      <td>Comm&amp;Mgmt</td>\n",
       "      <td>No</td>\n",
       "      <td>96.8</td>\n",
       "      <td>Mkt&amp;Fin</td>\n",
       "      <td>55.50</td>\n",
       "      <td>Placed</td>\n",
       "      <td>425000.0</td>\n",
       "    </tr>\n",
       "  </tbody>\n",
       "</table>\n",
       "</div>"
      ],
      "text/plain": [
       "  gender  ssc_p  hsc_p     hsc_s  degree_p   degree_t workex  etest_p  \\\n",
       "0      M  67.00  91.00  Commerce     58.00   Sci&Tech     No     55.0   \n",
       "1      M  79.33  78.33   Science     77.48   Sci&Tech    Yes     86.5   \n",
       "2      M  65.00  68.00      Arts     64.00  Comm&Mgmt     No     75.0   \n",
       "3      M  56.00  52.00   Science     52.00   Sci&Tech     No     66.0   \n",
       "4      M  85.80  73.60  Commerce     73.30  Comm&Mgmt     No     96.8   \n",
       "\n",
       "  specialisation  mba_p      status    salary  \n",
       "0         Mkt&HR  58.80      Placed  270000.0  \n",
       "1        Mkt&Fin  66.28      Placed  200000.0  \n",
       "2        Mkt&Fin  57.80      Placed  250000.0  \n",
       "3         Mkt&HR  59.43  Not Placed       0.0  \n",
       "4        Mkt&Fin  55.50      Placed  425000.0  "
      ]
     },
     "execution_count": 7,
     "metadata": {},
     "output_type": "execute_result"
    }
   ],
   "source": [
    "placement.drop(['sl_no','ssc_b','hsc_b'], axis = 1,inplace=True) \n",
    "placement.head()"
   ]
  },
  {
   "cell_type": "markdown",
   "metadata": {},
   "source": [
    "### EDA"
   ]
  },
  {
   "cell_type": "code",
   "execution_count": 8,
   "metadata": {
    "_kg_hide-input": true
   },
   "outputs": [
    {
     "data": {
      "image/png": "[encoded data removed]",
      "text/plain": [
       "<Figure size 720x720 with 6 Axes>"
      ]
     },
     "metadata": {
      "needs_background": "light"
     },
     "output_type": "display_data"
    }
   ],
   "source": [
    "plt.figure(figsize = (15, 7))\n",
    "plt.style.use('seaborn-white')\n",
    "\n",
    "#Specialisation\n",
    "plt.subplot(234)\n",
    "ax=sns.countplot(x=\"specialisation\", data=placement)\n",
    "\n",
    "#Work experience\n",
    "plt.subplot(235)\n",
    "ax=sns.countplot(x=\"workex\", data=placement)\n",
    "\n",
    "#Degree type\n",
    "plt.subplot(233)\n",
    "ax=sns.countplot(x=\"degree_t\", data=placement)\n",
    "\n",
    "fig = plt.gcf()\n",
    "fig.set_size_inches(10,10)\n",
    "ax.set_xticklabels(ax.get_xticklabels(),fontsize=12,rotation=20)\n",
    "\n",
    "#Gender\n",
    "plt.subplot(231)\n",
    "ax=sns.countplot(x=\"gender\", data=placement)\n",
    "\n",
    "#Higher secondary specialisation\n",
    "plt.subplot(232)\n",
    "ax=sns.countplot(x=\"hsc_s\", data=placement)\n",
    "\n",
    "#Status of recruitment\n",
    "plt.subplot(236)\n",
    "ax=sns.countplot(x=\"status\", data=placement)\n"
   ]
  },
  {
   "cell_type": "code",
   "execution_count": 9,
   "metadata": {
    "_kg_hide-input": true
   },
   "outputs": [
    {
     "data": {
      "image/png": "[encoded data removed]",
      "text/plain": [
       "<Figure size 1296x576 with 2 Axes>"
      ]
     },
     "metadata": {},
     "output_type": "display_data"
    }
   ],
   "source": [
    "f,ax=plt.subplots(1,2,figsize=(18,8))\n",
    "plt.style.use('seaborn-white')\n",
    "\n",
    "#Pie chart\n",
    "placement['workex'].value_counts().plot.pie(explode=[0,0.05],autopct='%1.1f%%',ax=ax[0])\n",
    "ax[0].set_title('Work experience')\n",
    "\n",
    "#Column chart\n",
    "sns.countplot(x = 'workex',hue = \"status\",data = placement)\n",
    "ax[1].set_title('Placement based on work experience')\n",
    "plt.show()"
   ]
  },
  {
   "cell_type": "code",
   "execution_count": 10,
   "metadata": {},
   "outputs": [],
   "source": [
    "X = placement.drop(['status', 'salary'],axis=1)\n",
    "y = placement['status']"
   ]
  },
  {
   "cell_type": "code",
   "execution_count": 11,
   "metadata": {},
   "outputs": [
    {
     "data": {
      "text/html": [
       "<div>\n",
       "<style scoped>\n",
       "    .dataframe tbody tr th:only-of-type {\n",
       "        vertical-align: middle;\n",
       "    }\n",
       "\n",
       "    .dataframe tbody tr th {\n",
       "        vertical-align: top;\n",
       "    }\n",
       "\n",
       "    .dataframe thead th {\n",
       "        text-align: right;\n",
       "    }\n",
       "</style>\n",
       "<table border=\"1\" class=\"dataframe\">\n",
       "  <thead>\n",
       "    <tr style=\"text-align: right;\">\n",
       "      <th></th>\n",
       "      <th>ssc_p</th>\n",
       "      <th>hsc_p</th>\n",
       "      <th>degree_p</th>\n",
       "      <th>etest_p</th>\n",
       "      <th>mba_p</th>\n",
       "      <th>gender_M</th>\n",
       "      <th>hsc_s_Commerce</th>\n",
       "      <th>hsc_s_Science</th>\n",
       "      <th>degree_t_Others</th>\n",
       "      <th>degree_t_Sci&amp;Tech</th>\n",
       "      <th>workex_Yes</th>\n",
       "      <th>specialisation_Mkt&amp;HR</th>\n",
       "    </tr>\n",
       "  </thead>\n",
       "  <tbody>\n",
       "    <tr>\n",
       "      <th>0</th>\n",
       "      <td>67.00</td>\n",
       "      <td>91.00</td>\n",
       "      <td>58.00</td>\n",
       "      <td>55.0</td>\n",
       "      <td>58.80</td>\n",
       "      <td>1</td>\n",
       "      <td>1</td>\n",
       "      <td>0</td>\n",
       "      <td>0</td>\n",
       "      <td>1</td>\n",
       "      <td>0</td>\n",
       "      <td>1</td>\n",
       "    </tr>\n",
       "    <tr>\n",
       "      <th>1</th>\n",
       "      <td>79.33</td>\n",
       "      <td>78.33</td>\n",
       "      <td>77.48</td>\n",
       "      <td>86.5</td>\n",
       "      <td>66.28</td>\n",
       "      <td>1</td>\n",
       "      <td>0</td>\n",
       "      <td>1</td>\n",
       "      <td>0</td>\n",
       "      <td>1</td>\n",
       "      <td>1</td>\n",
       "      <td>0</td>\n",
       "    </tr>\n",
       "    <tr>\n",
       "      <th>2</th>\n",
       "      <td>65.00</td>\n",
       "      <td>68.00</td>\n",
       "      <td>64.00</td>\n",
       "      <td>75.0</td>\n",
       "      <td>57.80</td>\n",
       "      <td>1</td>\n",
       "      <td>0</td>\n",
       "      <td>0</td>\n",
       "      <td>0</td>\n",
       "      <td>0</td>\n",
       "      <td>0</td>\n",
       "      <td>0</td>\n",
       "    </tr>\n",
       "    <tr>\n",
       "      <th>3</th>\n",
       "      <td>56.00</td>\n",
       "      <td>52.00</td>\n",
       "      <td>52.00</td>\n",
       "      <td>66.0</td>\n",
       "      <td>59.43</td>\n",
       "      <td>1</td>\n",
       "      <td>0</td>\n",
       "      <td>1</td>\n",
       "      <td>0</td>\n",
       "      <td>1</td>\n",
       "      <td>0</td>\n",
       "      <td>1</td>\n",
       "    </tr>\n",
       "    <tr>\n",
       "      <th>4</th>\n",
       "      <td>85.80</td>\n",
       "      <td>73.60</td>\n",
       "      <td>73.30</td>\n",
       "      <td>96.8</td>\n",
       "      <td>55.50</td>\n",
       "      <td>1</td>\n",
       "      <td>1</td>\n",
       "      <td>0</td>\n",
       "      <td>0</td>\n",
       "      <td>0</td>\n",
       "      <td>0</td>\n",
       "      <td>0</td>\n",
       "    </tr>\n",
       "  </tbody>\n",
       "</table>\n",
       "</div>"
      ],
      "text/plain": [
       "   ssc_p  hsc_p  degree_p  etest_p  mba_p  gender_M  hsc_s_Commerce  \\\n",
       "0  67.00  91.00     58.00     55.0  58.80         1               1   \n",
       "1  79.33  78.33     77.48     86.5  66.28         1               0   \n",
       "2  65.00  68.00     64.00     75.0  57.80         1               0   \n",
       "3  56.00  52.00     52.00     66.0  59.43         1               0   \n",
       "4  85.80  73.60     73.30     96.8  55.50         1               1   \n",
       "\n",
       "   hsc_s_Science  degree_t_Others  degree_t_Sci&Tech  workex_Yes  \\\n",
       "0              0                0                  1           0   \n",
       "1              1                0                  1           1   \n",
       "2              0                0                  0           0   \n",
       "3              1                0                  1           0   \n",
       "4              0                0                  0           0   \n",
       "\n",
       "   specialisation_Mkt&HR  \n",
       "0                      1  \n",
       "1                      0  \n",
       "2                      0  \n",
       "3                      1  \n",
       "4                      0  "
      ]
     },
     "execution_count": 11,
     "metadata": {},
     "output_type": "execute_result"
    }
   ],
   "source": [
    "X = pd.get_dummies(X, drop_first=True)\n",
    "X.head()"
   ]
  },
  {
   "cell_type": "markdown",
   "metadata": {},
   "source": [
    "## Train and Test Split"
   ]
  },
  {
   "cell_type": "code",
   "execution_count": 12,
   "metadata": {},
   "outputs": [],
   "source": [
    "# Splitting the dataset into the Training set and Test set\n",
    "from sklearn.model_selection import train_test_split\n",
    "X_train, X_test, y_train, y_test = train_test_split(X, y, test_size = 0.20, random_state = 42)"
   ]
  },
  {
   "cell_type": "markdown",
   "metadata": {},
   "source": [
    "### Model1\n",
    "Let's fit a KNN Classifier"
   ]
  },
  {
   "cell_type": "code",
   "execution_count": 13,
   "metadata": {
    "scrolled": true
   },
   "outputs": [
    {
     "name": "stdout",
     "output_type": "stream",
     "text": [
      "Fitting 5 folds for each of 19 candidates, totalling 95 fits\n",
      "[CV 1/5] END .....................n_neighbors=1;, score=0.714 total time=   0.0s\n",
      "[CV 2/5] END .....................n_neighbors=1;, score=0.714 total time=   0.0s\n",
      "[CV 3/5] END .....................n_neighbors=1;, score=0.824 total time=   0.0s\n",
      "[CV 4/5] END .....................n_neighbors=1;, score=0.794 total time=   0.0s\n",
      "[CV 5/5] END .....................n_neighbors=1;, score=0.735 total time=   0.0s\n",
      "[CV 1/5] END .....................n_neighbors=2;, score=0.657 total time=   0.0s\n",
      "[CV 2/5] END .....................n_neighbors=2;, score=0.714 total time=   0.0s\n",
      "[CV 3/5] END .....................n_neighbors=2;, score=0.765 total time=   0.0s\n",
      "[CV 4/5] END .....................n_neighbors=2;, score=0.794 total time=   0.0s\n",
      "[CV 5/5] END .....................n_neighbors=2;, score=0.765 total time=   0.0s\n",
      "[CV 1/5] END .....................n_neighbors=3;, score=0.714 total time=   0.0s\n",
      "[CV 2/5] END .....................n_neighbors=3;, score=0.829 total time=   0.0s\n",
      "[CV 3/5] END .....................n_neighbors=3;, score=0.882 total time=   0.0s\n",
      "[CV 4/5] END .....................n_neighbors=3;, score=0.824 total time=   0.0s\n",
      "[CV 5/5] END .....................n_neighbors=3;, score=0.853 total time=   0.0s\n",
      "[CV 1/5] END .....................n_neighbors=4;, score=0.714 total time=   0.0s\n",
      "[CV 2/5] END .....................n_neighbors=4;, score=0.829 total time=   0.0s\n",
      "[CV 3/5] END .....................n_neighbors=4;, score=0.882 total time=   0.0s\n",
      "[CV 4/5] END .....................n_neighbors=4;, score=0.853 total time=   0.0s\n",
      "[CV 5/5] END .....................n_neighbors=4;, score=0.824 total time=   0.0s\n",
      "[CV 1/5] END .....................n_neighbors=5;, score=0.771 total time=   0.0s\n",
      "[CV 2/5] END .....................n_neighbors=5;, score=0.857 total time=   0.0s\n",
      "[CV 3/5] END .....................n_neighbors=5;, score=0.882 total time=   0.0s\n",
      "[CV 4/5] END .....................n_neighbors=5;, score=0.824 total time=   0.0s\n",
      "[CV 5/5] END .....................n_neighbors=5;, score=0.853 total time=   0.0s\n",
      "[CV 1/5] END .....................n_neighbors=6;, score=0.743 total time=   0.0s\n",
      "[CV 2/5] END .....................n_neighbors=6;, score=0.829 total time=   0.0s\n",
      "[CV 3/5] END .....................n_neighbors=6;, score=0.853 total time=   0.0s\n",
      "[CV 4/5] END .....................n_neighbors=6;, score=0.853 total time=   0.0s\n",
      "[CV 5/5] END .....................n_neighbors=6;, score=0.882 total time=   0.0s\n",
      "[CV 1/5] END .....................n_neighbors=7;, score=0.829 total time=   0.0s\n",
      "[CV 2/5] END .....................n_neighbors=7;, score=0.886 total time=   0.0s\n",
      "[CV 3/5] END .....................n_neighbors=7;, score=0.853 total time=   0.0s\n",
      "[CV 4/5] END .....................n_neighbors=7;, score=0.853 total time=   0.0s\n",
      "[CV 5/5] END .....................n_neighbors=7;, score=0.853 total time=   0.0s\n",
      "[CV 1/5] END .....................n_neighbors=8;, score=0.800 total time=   0.0s\n",
      "[CV 2/5] END .....................n_neighbors=8;, score=0.886 total time=   0.0s\n",
      "[CV 3/5] END .....................n_neighbors=8;, score=0.853 total time=   0.0s\n",
      "[CV 4/5] END .....................n_neighbors=8;, score=0.882 total time=   0.0s\n",
      "[CV 5/5] END .....................n_neighbors=8;, score=0.853 total time=   0.0s\n",
      "[CV 1/5] END .....................n_neighbors=9;, score=0.800 total time=   0.0s\n",
      "[CV 2/5] END .....................n_neighbors=9;, score=0.914 total time=   0.0s\n",
      "[CV 3/5] END .....................n_neighbors=9;, score=0.882 total time=   0.0s\n",
      "[CV 4/5] END .....................n_neighbors=9;, score=0.853 total time=   0.0s\n",
      "[CV 5/5] END .....................n_neighbors=9;, score=0.853 total time=   0.0s\n",
      "[CV 1/5] END ....................n_neighbors=10;, score=0.771 total time=   0.0s\n",
      "[CV 2/5] END ....................n_neighbors=10;, score=0.857 total time=   0.0s\n",
      "[CV 3/5] END ....................n_neighbors=10;, score=0.853 total time=   0.0s\n",
      "[CV 4/5] END ....................n_neighbors=10;, score=0.853 total time=   0.0s\n",
      "[CV 5/5] END ....................n_neighbors=10;, score=0.853 total time=   0.0s\n",
      "[CV 1/5] END ....................n_neighbors=11;, score=0.829 total time=   0.0s\n",
      "[CV 2/5] END ....................n_neighbors=11;, score=0.914 total time=   0.0s\n",
      "[CV 3/5] END ....................n_neighbors=11;, score=0.853 total time=   0.0s\n",
      "[CV 4/5] END ....................n_neighbors=11;, score=0.794 total time=   0.0s\n",
      "[CV 5/5] END ....................n_neighbors=11;, score=0.853 total time=   0.0s\n",
      "[CV 1/5] END ....................n_neighbors=12;, score=0.829 total time=   0.0s\n",
      "[CV 2/5] END ....................n_neighbors=12;, score=0.886 total time=   0.0s\n",
      "[CV 3/5] END ....................n_neighbors=12;, score=0.882 total time=   0.0s\n",
      "[CV 4/5] END ....................n_neighbors=12;, score=0.824 total time=   0.0s\n",
      "[CV 5/5] END ....................n_neighbors=12;, score=0.853 total time=   0.0s\n",
      "[CV 1/5] END ....................n_neighbors=13;, score=0.829 total time=   0.0s\n",
      "[CV 2/5] END ....................n_neighbors=13;, score=0.886 total time=   0.0s\n",
      "[CV 3/5] END ....................n_neighbors=13;, score=0.853 total time=   0.0s\n",
      "[CV 4/5] END ....................n_neighbors=13;, score=0.824 total time=   0.0s\n",
      "[CV 5/5] END ....................n_neighbors=13;, score=0.853 total time=   0.0s\n",
      "[CV 1/5] END ....................n_neighbors=14;, score=0.829 total time=   0.0s\n",
      "[CV 2/5] END ....................n_neighbors=14;, score=0.886 total time=   0.0s\n",
      "[CV 3/5] END ....................n_neighbors=14;, score=0.853 total time=   0.0s\n",
      "[CV 4/5] END ....................n_neighbors=14;, score=0.824 total time=   0.0s\n",
      "[CV 5/5] END ....................n_neighbors=14;, score=0.853 total time=   0.0s\n",
      "[CV 1/5] END ....................n_neighbors=15;, score=0.829 total time=   0.0s\n",
      "[CV 2/5] END ....................n_neighbors=15;, score=0.857 total time=   0.0s\n",
      "[CV 3/5] END ....................n_neighbors=15;, score=0.853 total time=   0.0s\n",
      "[CV 4/5] END ....................n_neighbors=15;, score=0.824 total time=   0.0s\n",
      "[CV 5/5] END ....................n_neighbors=15;, score=0.853 total time=   0.0s\n",
      "[CV 1/5] END ....................n_neighbors=16;, score=0.829 total time=   0.0s\n",
      "[CV 2/5] END ....................n_neighbors=16;, score=0.857 total time=   0.0s\n",
      "[CV 3/5] END ....................n_neighbors=16;, score=0.853 total time=   0.0s\n",
      "[CV 4/5] END ....................n_neighbors=16;, score=0.824 total time=   0.0s\n",
      "[CV 5/5] END ....................n_neighbors=16;, score=0.824 total time=   0.0s\n",
      "[CV 1/5] END ....................n_neighbors=17;, score=0.829 total time=   0.0s\n",
      "[CV 2/5] END ....................n_neighbors=17;, score=0.829 total time=   0.0s\n",
      "[CV 3/5] END ....................n_neighbors=17;, score=0.882 total time=   0.0s\n",
      "[CV 4/5] END ....................n_neighbors=17;, score=0.824 total time=   0.0s\n",
      "[CV 5/5] END ....................n_neighbors=17;, score=0.853 total time=   0.0s\n",
      "[CV 1/5] END ....................n_neighbors=18;, score=0.800 total time=   0.0s\n",
      "[CV 2/5] END ....................n_neighbors=18;, score=0.829 total time=   0.0s\n",
      "[CV 3/5] END ....................n_neighbors=18;, score=0.882 total time=   0.0s\n",
      "[CV 4/5] END ....................n_neighbors=18;, score=0.824 total time=   0.0s\n",
      "[CV 5/5] END ....................n_neighbors=18;, score=0.853 total time=   0.0s\n",
      "[CV 1/5] END ....................n_neighbors=19;, score=0.829 total time=   0.0s\n",
      "[CV 2/5] END ....................n_neighbors=19;, score=0.829 total time=   0.0s\n",
      "[CV 3/5] END ....................n_neighbors=19;, score=0.882 total time=   0.0s\n",
      "[CV 4/5] END ....................n_neighbors=19;, score=0.824 total time=   0.0s\n",
      "[CV 5/5] END ....................n_neighbors=19;, score=0.853 total time=   0.0s\n"
     ]
    },
    {
     "data": {
      "text/plain": [
       "GridSearchCV(estimator=KNeighborsClassifier(),\n",
       "             param_grid={'n_neighbors': [1, 2, 3, 4, 5, 6, 7, 8, 9, 10, 11, 12,\n",
       "                                         13, 14, 15, 16, 17, 18, 19]},\n",
       "             verbose=3)"
      ]
     },
     "execution_count": 13,
     "metadata": {},
     "output_type": "execute_result"
    }
   ],
   "source": [
    "from sklearn.neighbors import KNeighborsClassifier\n",
    "from sklearn.model_selection import GridSearchCV\n",
    "param_grid = {'n_neighbors':list(range(1,20))}\n",
    "grid = GridSearchCV(KNeighborsClassifier(), param_grid, verbose=3)\n",
    "grid.fit(X_train, y_train)"
   ]
  },
  {
   "cell_type": "code",
   "execution_count": 14,
   "metadata": {},
   "outputs": [
    {
     "data": {
      "text/plain": [
       "{'n_neighbors': 9}"
      ]
     },
     "execution_count": 14,
     "metadata": {},
     "output_type": "execute_result"
    }
   ],
   "source": [
    "grid.best_params_"
   ]
  },
  {
   "cell_type": "code",
   "execution_count": 15,
   "metadata": {},
   "outputs": [],
   "source": [
    "grid_predictions = grid.best_estimator_.predict(X_test)"
   ]
  },
  {
   "cell_type": "code",
   "execution_count": 16,
   "metadata": {},
   "outputs": [
    {
     "name": "stdout",
     "output_type": "stream",
     "text": [
      "Confusion Matrix:\n",
      " [[ 4  8]\n",
      " [ 1 30]]\n"
     ]
    }
   ],
   "source": [
    "from sklearn.metrics import confusion_matrix\n",
    "confusion_matrix = confusion_matrix(y_test, grid_predictions)\n",
    "print(\"Confusion Matrix:\\n\", confusion_matrix)"
   ]
  },
  {
   "cell_type": "code",
   "execution_count": 17,
   "metadata": {},
   "outputs": [
    {
     "name": "stdout",
     "output_type": "stream",
     "text": [
      "Classification Report:\n",
      "               precision    recall  f1-score   support\n",
      "\n",
      "  Not Placed       0.80      0.33      0.47        12\n",
      "      Placed       0.79      0.97      0.87        31\n",
      "\n",
      "    accuracy                           0.79        43\n",
      "   macro avg       0.79      0.65      0.67        43\n",
      "weighted avg       0.79      0.79      0.76        43\n",
      "\n"
     ]
    }
   ],
   "source": [
    "from sklearn.metrics import classification_report\n",
    "print(\"Classification Report:\\n\",classification_report(y_test, grid_predictions))"
   ]
  },
  {
   "cell_type": "markdown",
   "metadata": {},
   "source": [
    "### Model2\n",
    "Let's fit the model in logistic regression and figure out the accuracy of our model"
   ]
  },
  {
   "cell_type": "code",
   "execution_count": 18,
   "metadata": {},
   "outputs": [],
   "source": [
    "from sklearn.linear_model import LogisticRegression\n",
    "from sklearn import metrics\n",
    "\n",
    "logreg = LogisticRegression(max_iter =500)\n",
    "logreg.fit(X_train, y_train)\n",
    "\n",
    "y_pred = logreg.predict(X_test)"
   ]
  },
  {
   "cell_type": "code",
   "execution_count": 19,
   "metadata": {},
   "outputs": [
    {
     "name": "stdout",
     "output_type": "stream",
     "text": [
      "Confusion Matrix:\n",
      " [[ 9  3]\n",
      " [ 2 29]]\n"
     ]
    }
   ],
   "source": [
    "from sklearn.metrics import confusion_matrix\n",
    "confusion_matrix = confusion_matrix(y_test, y_pred)\n",
    "print(\"Confusion Matrix:\\n\", confusion_matrix)\n"
   ]
  },
  {
   "cell_type": "code",
   "execution_count": 20,
   "metadata": {},
   "outputs": [
    {
     "name": "stdout",
     "output_type": "stream",
     "text": [
      "Classification Report:\n",
      "               precision    recall  f1-score   support\n",
      "\n",
      "  Not Placed       0.82      0.75      0.78        12\n",
      "      Placed       0.91      0.94      0.92        31\n",
      "\n",
      "    accuracy                           0.88        43\n",
      "   macro avg       0.86      0.84      0.85        43\n",
      "weighted avg       0.88      0.88      0.88        43\n",
      "\n"
     ]
    }
   ],
   "source": [
    "from sklearn.metrics import classification_report\n",
    "print(\"Classification Report:\\n\",classification_report(y_test, y_pred))"
   ]
  },
  {
   "cell_type": "markdown",
   "metadata": {},
   "source": [
    "### Model 3\n",
    "Let's checkout how the model makes the decision using Decision Tree Classifier"
   ]
  },
  {
   "cell_type": "code",
   "execution_count": 21,
   "metadata": {},
   "outputs": [],
   "source": [
    "from sklearn.tree import DecisionTreeClassifier\n",
    "dt = DecisionTreeClassifier(max_depth=3)\n",
    "dt = dt.fit(X_train,y_train)\n",
    "y_pred = dt.predict(X_test)"
   ]
  },
  {
   "cell_type": "code",
   "execution_count": 22,
   "metadata": {},
   "outputs": [
    {
     "name": "stdout",
     "output_type": "stream",
     "text": [
      "Confusion Matrix:\n",
      " [[ 5  7]\n",
      " [ 1 30]]\n"
     ]
    }
   ],
   "source": [
    "from sklearn.metrics import confusion_matrix\n",
    "confusion_matrix = confusion_matrix(y_test, y_pred)\n",
    "print(\"Confusion Matrix:\\n\", confusion_matrix)"
   ]
  },
  {
   "cell_type": "code",
   "execution_count": 23,
   "metadata": {},
   "outputs": [
    {
     "name": "stdout",
     "output_type": "stream",
     "text": [
      "Classification Report:\n",
      "               precision    recall  f1-score   support\n",
      "\n",
      "  Not Placed       0.83      0.42      0.56        12\n",
      "      Placed       0.81      0.97      0.88        31\n",
      "\n",
      "    accuracy                           0.81        43\n",
      "   macro avg       0.82      0.69      0.72        43\n",
      "weighted avg       0.82      0.81      0.79        43\n",
      "\n"
     ]
    }
   ],
   "source": [
    "from sklearn.metrics import classification_report\n",
    "print(\"Classification Report:\\n\",classification_report(y_test, y_pred))"
   ]
  },
  {
   "cell_type": "code",
   "execution_count": 24,
   "metadata": {},
   "outputs": [
    {
     "data": {
      "text/plain": [
       "{'ssc_p': 0.5872938719341184,\n",
       " 'hsc_p': 0.23071616773562276,\n",
       " 'degree_p': 0.08131015356386873,\n",
       " 'etest_p': 0.0,\n",
       " 'mba_p': 0.10067980676639003,\n",
       " 'gender_M': 0.0,\n",
       " 'hsc_s_Commerce': 0.0,\n",
       " 'hsc_s_Science': 0.0,\n",
       " 'degree_t_Others': 0.0,\n",
       " 'degree_t_Sci&Tech': 0.0,\n",
       " 'workex_Yes': 0.0,\n",
       " 'specialisation_Mkt&HR': 0.0}"
      ]
     },
     "execution_count": 24,
     "metadata": {},
     "output_type": "execute_result"
    }
   ],
   "source": [
    "dict(zip(X.columns,dt.feature_importances_))"
   ]
  },
  {
   "cell_type": "code",
   "execution_count": 25,
   "metadata": {},
   "outputs": [
    {
     "data": {
      "image/png": "[encoded data removed]",
      "text/plain": [
       "<Figure size 1080x864 with 1 Axes>"
      ]
     },
     "metadata": {},
     "output_type": "display_data"
    }
   ],
   "source": [
    "from sklearn import tree\n",
    "fig = plt.figure(figsize = (15,12))\n",
    "tree_viz = tree.plot_tree(dt, \n",
    "                         feature_names = X_train.columns,\n",
    "                         class_names = y_train.values,\n",
    "                         filled=True)"
   ]
  },
  {
   "cell_type": "markdown",
   "metadata": {},
   "source": [
    "### Model 4\n",
    "Let's fit a Random Forest"
   ]
  },
  {
   "cell_type": "code",
   "execution_count": 26,
   "metadata": {},
   "outputs": [
    {
     "name": "stdout",
     "output_type": "stream",
     "text": [
      "Fitting 5 folds for each of 4 candidates, totalling 20 fits\n",
      "[CV 1/5] END ...................n_estimators=50;, score=0.829 total time=   0.1s\n",
      "[CV 2/5] END ...................n_estimators=50;, score=0.857 total time=   0.1s\n",
      "[CV 3/5] END ...................n_estimators=50;, score=0.941 total time=   0.1s\n",
      "[CV 4/5] END ...................n_estimators=50;, score=0.794 total time=   0.1s\n",
      "[CV 5/5] END ...................n_estimators=50;, score=0.912 total time=   0.1s\n",
      "[CV 1/5] END ..................n_estimators=100;, score=0.829 total time=   0.1s\n",
      "[CV 2/5] END ..................n_estimators=100;, score=0.857 total time=   0.1s\n",
      "[CV 3/5] END ..................n_estimators=100;, score=0.882 total time=   0.1s\n",
      "[CV 4/5] END ..................n_estimators=100;, score=0.765 total time=   0.1s\n",
      "[CV 5/5] END ..................n_estimators=100;, score=0.912 total time=   0.1s\n",
      "[CV 1/5] END ..................n_estimators=200;, score=0.829 total time=   0.2s\n",
      "[CV 2/5] END ..................n_estimators=200;, score=0.829 total time=   0.2s\n",
      "[CV 3/5] END ..................n_estimators=200;, score=0.941 total time=   0.2s\n",
      "[CV 4/5] END ..................n_estimators=200;, score=0.824 total time=   0.2s\n",
      "[CV 5/5] END ..................n_estimators=200;, score=0.912 total time=   0.2s\n",
      "[CV 1/5] END ..................n_estimators=500;, score=0.829 total time=   0.5s\n",
      "[CV 2/5] END ..................n_estimators=500;, score=0.857 total time=   0.5s\n",
      "[CV 3/5] END ..................n_estimators=500;, score=0.941 total time=   0.5s\n",
      "[CV 4/5] END ..................n_estimators=500;, score=0.794 total time=   0.5s\n",
      "[CV 5/5] END ..................n_estimators=500;, score=0.912 total time=   0.5s\n"
     ]
    },
    {
     "data": {
      "text/plain": [
       "GridSearchCV(estimator=RandomForestClassifier(),\n",
       "             param_grid={'n_estimators': [50, 100, 200, 500]}, verbose=3)"
      ]
     },
     "execution_count": 26,
     "metadata": {},
     "output_type": "execute_result"
    }
   ],
   "source": [
    "from sklearn.ensemble import RandomForestClassifier\n",
    "param_grid = {'n_estimators':[50, 100, 200, 500]}\n",
    "grid = GridSearchCV(RandomForestClassifier(), param_grid, verbose=3)\n",
    "grid.fit(X_train, y_train)"
   ]
  },
  {
   "cell_type": "code",
   "execution_count": 27,
   "metadata": {},
   "outputs": [
    {
     "data": {
      "text/plain": [
       "{'n_estimators': 200}"
      ]
     },
     "execution_count": 27,
     "metadata": {},
     "output_type": "execute_result"
    }
   ],
   "source": [
    "grid.best_params_"
   ]
  },
  {
   "cell_type": "code",
   "execution_count": 28,
   "metadata": {},
   "outputs": [],
   "source": [
    "grid_predictions = grid.best_estimator_.predict(X_test)"
   ]
  },
  {
   "cell_type": "code",
   "execution_count": 29,
   "metadata": {},
   "outputs": [
    {
     "name": "stdout",
     "output_type": "stream",
     "text": [
      "Confusion Matrix:\n",
      " [[ 6  6]\n",
      " [ 1 30]]\n"
     ]
    }
   ],
   "source": [
    "from sklearn.metrics import confusion_matrix\n",
    "confusion_matrix = confusion_matrix(y_test, grid_predictions)\n",
    "print(\"Confusion Matrix:\\n\", confusion_matrix)"
   ]
  },
  {
   "cell_type": "code",
   "execution_count": 30,
   "metadata": {},
   "outputs": [
    {
     "name": "stdout",
     "output_type": "stream",
     "text": [
      "Classification Report:\n",
      "               precision    recall  f1-score   support\n",
      "\n",
      "  Not Placed       0.86      0.50      0.63        12\n",
      "      Placed       0.83      0.97      0.90        31\n",
      "\n",
      "    accuracy                           0.84        43\n",
      "   macro avg       0.85      0.73      0.76        43\n",
      "weighted avg       0.84      0.84      0.82        43\n",
      "\n"
     ]
    }
   ],
   "source": [
    "from sklearn.metrics import classification_report\n",
    "print(\"Classification Report:\\n\",classification_report(y_test, grid_predictions))"
   ]
  },
  {
   "cell_type": "markdown",
   "metadata": {},
   "source": [
    "### Model 5\n",
    "Let's use SVM to classify our data"
   ]
  },
  {
   "cell_type": "code",
   "execution_count": 31,
   "metadata": {},
   "outputs": [
    {
     "name": "stdout",
     "output_type": "stream",
     "text": [
      "Fitting 5 folds for each of 20 candidates, totalling 100 fits\n",
      "[CV 1/5] END ..C=0.1, gamma=auto, kernel=linear;, score=0.771 total time=   0.0s\n",
      "[CV 2/5] END ..C=0.1, gamma=auto, kernel=linear;, score=0.886 total time=   0.0s\n",
      "[CV 3/5] END ..C=0.1, gamma=auto, kernel=linear;, score=0.853 total time=   0.0s\n",
      "[CV 4/5] END ..C=0.1, gamma=auto, kernel=linear;, score=0.912 total time=   0.0s\n",
      "[CV 5/5] END ..C=0.1, gamma=auto, kernel=linear;, score=0.853 total time=   0.0s\n",
      "[CV 1/5] END .....C=0.1, gamma=auto, kernel=rbf;, score=0.686 total time=   0.0s\n",
      "[CV 2/5] END .....C=0.1, gamma=auto, kernel=rbf;, score=0.686 total time=   0.0s\n",
      "[CV 3/5] END .....C=0.1, gamma=auto, kernel=rbf;, score=0.676 total time=   0.0s\n",
      "[CV 4/5] END .....C=0.1, gamma=auto, kernel=rbf;, score=0.676 total time=   0.0s\n",
      "[CV 5/5] END .....C=0.1, gamma=auto, kernel=rbf;, score=0.676 total time=   0.0s\n",
      "[CV 1/5] END .C=0.1, gamma=scale, kernel=linear;, score=0.771 total time=   0.0s\n",
      "[CV 2/5] END .C=0.1, gamma=scale, kernel=linear;, score=0.886 total time=   0.0s\n",
      "[CV 3/5] END .C=0.1, gamma=scale, kernel=linear;, score=0.853 total time=   0.0s\n",
      "[CV 4/5] END .C=0.1, gamma=scale, kernel=linear;, score=0.912 total time=   0.0s\n",
      "[CV 5/5] END .C=0.1, gamma=scale, kernel=linear;, score=0.853 total time=   0.0s\n",
      "[CV 1/5] END ....C=0.1, gamma=scale, kernel=rbf;, score=0.686 total time=   0.0s\n",
      "[CV 2/5] END ....C=0.1, gamma=scale, kernel=rbf;, score=0.686 total time=   0.0s\n",
      "[CV 3/5] END ....C=0.1, gamma=scale, kernel=rbf;, score=0.676 total time=   0.0s\n",
      "[CV 4/5] END ....C=0.1, gamma=scale, kernel=rbf;, score=0.676 total time=   0.0s\n",
      "[CV 5/5] END ....C=0.1, gamma=scale, kernel=rbf;, score=0.676 total time=   0.0s\n",
      "[CV 1/5] END ....C=1, gamma=auto, kernel=linear;, score=0.800 total time=   0.0s\n",
      "[CV 2/5] END ....C=1, gamma=auto, kernel=linear;, score=0.857 total time=   0.0s\n",
      "[CV 3/5] END ....C=1, gamma=auto, kernel=linear;, score=0.912 total time=   0.0s\n",
      "[CV 4/5] END ....C=1, gamma=auto, kernel=linear;, score=0.882 total time=   0.0s\n",
      "[CV 5/5] END ....C=1, gamma=auto, kernel=linear;, score=0.882 total time=   0.0s\n",
      "[CV 1/5] END .......C=1, gamma=auto, kernel=rbf;, score=0.686 total time=   0.0s\n",
      "[CV 2/5] END .......C=1, gamma=auto, kernel=rbf;, score=0.686 total time=   0.0s\n",
      "[CV 3/5] END .......C=1, gamma=auto, kernel=rbf;, score=0.676 total time=   0.0s\n",
      "[CV 4/5] END .......C=1, gamma=auto, kernel=rbf;, score=0.676 total time=   0.0s\n",
      "[CV 5/5] END .......C=1, gamma=auto, kernel=rbf;, score=0.676 total time=   0.0s\n",
      "[CV 1/5] END ...C=1, gamma=scale, kernel=linear;, score=0.800 total time=   0.0s\n",
      "[CV 2/5] END ...C=1, gamma=scale, kernel=linear;, score=0.857 total time=   0.0s\n",
      "[CV 3/5] END ...C=1, gamma=scale, kernel=linear;, score=0.912 total time=   0.0s\n",
      "[CV 4/5] END ...C=1, gamma=scale, kernel=linear;, score=0.882 total time=   0.0s\n",
      "[CV 5/5] END ...C=1, gamma=scale, kernel=linear;, score=0.882 total time=   0.0s\n",
      "[CV 1/5] END ......C=1, gamma=scale, kernel=rbf;, score=0.829 total time=   0.0s\n",
      "[CV 2/5] END ......C=1, gamma=scale, kernel=rbf;, score=0.857 total time=   0.0s\n",
      "[CV 3/5] END ......C=1, gamma=scale, kernel=rbf;, score=0.882 total time=   0.0s\n",
      "[CV 4/5] END ......C=1, gamma=scale, kernel=rbf;, score=0.824 total time=   0.0s\n",
      "[CV 5/5] END ......C=1, gamma=scale, kernel=rbf;, score=0.882 total time=   0.0s\n",
      "[CV 1/5] END ...C=10, gamma=auto, kernel=linear;, score=0.800 total time=   0.0s\n",
      "[CV 2/5] END ...C=10, gamma=auto, kernel=linear;, score=0.857 total time=   0.0s\n",
      "[CV 3/5] END ...C=10, gamma=auto, kernel=linear;, score=0.912 total time=   0.1s\n",
      "[CV 4/5] END ...C=10, gamma=auto, kernel=linear;, score=0.882 total time=   0.0s\n",
      "[CV 5/5] END ...C=10, gamma=auto, kernel=linear;, score=0.882 total time=   0.1s\n",
      "[CV 1/5] END ......C=10, gamma=auto, kernel=rbf;, score=0.686 total time=   0.0s\n",
      "[CV 2/5] END ......C=10, gamma=auto, kernel=rbf;, score=0.686 total time=   0.0s\n",
      "[CV 3/5] END ......C=10, gamma=auto, kernel=rbf;, score=0.676 total time=   0.0s\n",
      "[CV 4/5] END ......C=10, gamma=auto, kernel=rbf;, score=0.676 total time=   0.0s\n",
      "[CV 5/5] END ......C=10, gamma=auto, kernel=rbf;, score=0.647 total time=   0.0s\n",
      "[CV 1/5] END ..C=10, gamma=scale, kernel=linear;, score=0.800 total time=   0.0s\n",
      "[CV 2/5] END ..C=10, gamma=scale, kernel=linear;, score=0.857 total time=   0.0s\n",
      "[CV 3/5] END ..C=10, gamma=scale, kernel=linear;, score=0.912 total time=   0.1s\n",
      "[CV 4/5] END ..C=10, gamma=scale, kernel=linear;, score=0.882 total time=   0.0s\n",
      "[CV 5/5] END ..C=10, gamma=scale, kernel=linear;, score=0.882 total time=   0.1s\n",
      "[CV 1/5] END .....C=10, gamma=scale, kernel=rbf;, score=0.800 total time=   0.0s\n",
      "[CV 2/5] END .....C=10, gamma=scale, kernel=rbf;, score=0.857 total time=   0.0s\n",
      "[CV 3/5] END .....C=10, gamma=scale, kernel=rbf;, score=0.882 total time=   0.0s\n",
      "[CV 4/5] END .....C=10, gamma=scale, kernel=rbf;, score=0.853 total time=   0.0s\n",
      "[CV 5/5] END .....C=10, gamma=scale, kernel=rbf;, score=0.882 total time=   0.0s\n",
      "[CV 1/5] END ..C=100, gamma=auto, kernel=linear;, score=0.829 total time=   0.2s\n",
      "[CV 2/5] END ..C=100, gamma=auto, kernel=linear;, score=0.886 total time=   0.5s\n",
      "[CV 3/5] END ..C=100, gamma=auto, kernel=linear;, score=0.912 total time=   0.3s\n",
      "[CV 4/5] END ..C=100, gamma=auto, kernel=linear;, score=0.882 total time=   0.5s\n",
      "[CV 5/5] END ..C=100, gamma=auto, kernel=linear;, score=0.882 total time=   0.3s\n",
      "[CV 1/5] END .....C=100, gamma=auto, kernel=rbf;, score=0.686 total time=   0.0s\n",
      "[CV 2/5] END .....C=100, gamma=auto, kernel=rbf;, score=0.686 total time=   0.0s\n",
      "[CV 3/5] END .....C=100, gamma=auto, kernel=rbf;, score=0.676 total time=   0.0s\n",
      "[CV 4/5] END .....C=100, gamma=auto, kernel=rbf;, score=0.676 total time=   0.0s\n",
      "[CV 5/5] END .....C=100, gamma=auto, kernel=rbf;, score=0.647 total time=   0.0s\n",
      "[CV 1/5] END .C=100, gamma=scale, kernel=linear;, score=0.829 total time=   0.2s\n",
      "[CV 2/5] END .C=100, gamma=scale, kernel=linear;, score=0.886 total time=   0.5s\n",
      "[CV 3/5] END .C=100, gamma=scale, kernel=linear;, score=0.912 total time=   0.4s\n",
      "[CV 4/5] END .C=100, gamma=scale, kernel=linear;, score=0.882 total time=   0.5s\n",
      "[CV 5/5] END .C=100, gamma=scale, kernel=linear;, score=0.882 total time=   0.3s\n",
      "[CV 1/5] END ....C=100, gamma=scale, kernel=rbf;, score=0.800 total time=   0.0s\n",
      "[CV 2/5] END ....C=100, gamma=scale, kernel=rbf;, score=0.857 total time=   0.0s\n",
      "[CV 3/5] END ....C=100, gamma=scale, kernel=rbf;, score=0.912 total time=   0.0s\n",
      "[CV 4/5] END ....C=100, gamma=scale, kernel=rbf;, score=0.824 total time=   0.0s\n",
      "[CV 5/5] END ....C=100, gamma=scale, kernel=rbf;, score=0.853 total time=   0.0s\n",
      "[CV 1/5] END .C=1000, gamma=auto, kernel=linear;, score=0.857 total time=   0.7s\n",
      "[CV 2/5] END .C=1000, gamma=auto, kernel=linear;, score=0.886 total time=   0.7s\n",
      "[CV 3/5] END .C=1000, gamma=auto, kernel=linear;, score=0.912 total time=   1.8s\n",
      "[CV 4/5] END .C=1000, gamma=auto, kernel=linear;, score=0.882 total time=   1.7s\n",
      "[CV 5/5] END .C=1000, gamma=auto, kernel=linear;, score=0.794 total time=   0.7s\n",
      "[CV 1/5] END ....C=1000, gamma=auto, kernel=rbf;, score=0.686 total time=   0.0s\n",
      "[CV 2/5] END ....C=1000, gamma=auto, kernel=rbf;, score=0.686 total time=   0.0s\n",
      "[CV 3/5] END ....C=1000, gamma=auto, kernel=rbf;, score=0.676 total time=   0.0s\n",
      "[CV 4/5] END ....C=1000, gamma=auto, kernel=rbf;, score=0.676 total time=   0.0s\n",
      "[CV 5/5] END ....C=1000, gamma=auto, kernel=rbf;, score=0.647 total time=   0.0s\n",
      "[CV 1/5] END C=1000, gamma=scale, kernel=linear;, score=0.857 total time=   0.7s\n",
      "[CV 2/5] END C=1000, gamma=scale, kernel=linear;, score=0.886 total time=   0.7s\n",
      "[CV 3/5] END C=1000, gamma=scale, kernel=linear;, score=0.912 total time=   1.8s\n",
      "[CV 4/5] END C=1000, gamma=scale, kernel=linear;, score=0.882 total time=   1.6s\n",
      "[CV 5/5] END C=1000, gamma=scale, kernel=linear;, score=0.794 total time=   0.7s\n",
      "[CV 1/5] END ...C=1000, gamma=scale, kernel=rbf;, score=0.800 total time=   0.0s\n",
      "[CV 2/5] END ...C=1000, gamma=scale, kernel=rbf;, score=0.886 total time=   0.0s\n",
      "[CV 3/5] END ...C=1000, gamma=scale, kernel=rbf;, score=0.912 total time=   0.0s\n",
      "[CV 4/5] END ...C=1000, gamma=scale, kernel=rbf;, score=0.824 total time=   0.0s\n",
      "[CV 5/5] END ...C=1000, gamma=scale, kernel=rbf;, score=0.853 total time=   0.0s\n"
     ]
    },
    {
     "data": {
      "text/plain": [
       "GridSearchCV(estimator=SVC(),\n",
       "             param_grid={'C': [0.1, 1, 10, 100, 1000],\n",
       "                         'gamma': ['auto', 'scale'],\n",
       "                         'kernel': ['linear', 'rbf']},\n",
       "             verbose=3)"
      ]
     },
     "execution_count": 31,
     "metadata": {},
     "output_type": "execute_result"
    }
   ],
   "source": [
    "from sklearn.svm import SVC\n",
    "\n",
    "param_grid = {'C': [0.1,1, 10, 100, 1000], 'gamma': [\"auto\",\"scale\"],'kernel': ['linear','rbf']} \n",
    "grid = GridSearchCV(SVC(), param_grid, verbose=3)\n",
    "grid.fit(X_train, y_train)"
   ]
  },
  {
   "cell_type": "code",
   "execution_count": 32,
   "metadata": {},
   "outputs": [
    {
     "data": {
      "text/plain": [
       "{'C': 100, 'gamma': 'auto', 'kernel': 'linear'}"
      ]
     },
     "execution_count": 32,
     "metadata": {},
     "output_type": "execute_result"
    }
   ],
   "source": [
    "grid.best_params_"
   ]
  },
  {
   "cell_type": "code",
   "execution_count": 33,
   "metadata": {},
   "outputs": [],
   "source": [
    "grid_predictions = grid.best_estimator_.predict(X_test)"
   ]
  },
  {
   "cell_type": "code",
   "execution_count": 34,
   "metadata": {},
   "outputs": [
    {
     "name": "stdout",
     "output_type": "stream",
     "text": [
      "Confusion Matrix:\n",
      " [[ 8  4]\n",
      " [ 2 29]]\n"
     ]
    }
   ],
   "source": [
    "from sklearn.metrics import confusion_matrix\n",
    "confusion_matrix = confusion_matrix(y_test, grid_predictions)\n",
    "print(\"Confusion Matrix:\\n\", confusion_matrix)"
   ]
  },
  {
   "cell_type": "code",
   "execution_count": 35,
   "metadata": {},
   "outputs": [
    {
     "name": "stdout",
     "output_type": "stream",
     "text": [
      "Classification Report:\n",
      "               precision    recall  f1-score   support\n",
      "\n",
      "  Not Placed       0.80      0.67      0.73        12\n",
      "      Placed       0.88      0.94      0.91        31\n",
      "\n",
      "    accuracy                           0.86        43\n",
      "   macro avg       0.84      0.80      0.82        43\n",
      "weighted avg       0.86      0.86      0.86        43\n",
      "\n"
     ]
    }
   ],
   "source": [
    "from sklearn.metrics import classification_report\n",
    "print(\"Classification Report:\\n\",classification_report(y_test, grid_predictions))"
   ]
  },
  {
   "cell_type": "markdown",
   "metadata": {},
   "source": [
    "Summary:\n",
    "    \n",
    "- Model1 KNN: Accuracy 79%\n",
    "- Model2 Logistic Regression: Accuracy 88%\n",
    "- Model3 Decision Tree: Accuracy 81%\n",
    "- Model4 Random Forest: Accuracy 84%\n",
    "- Model5 SVC: Accuracy 86%"
   ]
  },
  {
   "cell_type": "code",
   "execution_count": null,
   "metadata": {},
   "outputs": [],
   "source": []
  }
 ],
 "metadata": {
  "kernelspec": {
   "display_name": "Python 3 (ipykernel)",
   "language": "python",
   "name": "python3"
  },
  "language_info": {
   "codemirror_mode": {
    "name": "ipython",
    "version": 3
   },
   "file_extension": ".py",
   "mimetype": "text/x-python",
   "name": "python",
   "nbconvert_exporter": "python",
   "pygments_lexer": "ipython3",
   "version": "3.10.9"
  }
 },
 "nbformat": 4,
 "nbformat_minor": 4
}
