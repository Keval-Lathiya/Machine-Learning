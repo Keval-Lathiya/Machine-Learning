{
 "cells": [
  {
   "cell_type": "markdown",
   "metadata": {},
   "source": [
    "# KNN Python - BigMart Sales\n",
    "BigMart have collected sales data for 1559 products across 10 stores in different cities. Also, certain\n",
    "attributes of each product and store have been collected. The aim is to build a predictive model and find out the sales of each product at a particular store.\n",
    "\n",
    "* 'Item_Idenfier': Unique product ID\n",
    "* 'Item_Weight': Weight of product\n",
    "* 'Item_Fat_Content': Whether the product is low fat or not\n",
    "* 'Item_Visibility': The % of total display area of all products in a store allocated to the particular product\n",
    "* 'Item_Type': The category to which the product belongs\n",
    "* 'Item_MRP': Maximum Retail Price (list price) of the product\n",
    "* 'Outlet_Idenfier': Unique store ID\n",
    "* 'Outlet_Establishment_Year': The year in which store was established\n",
    "* 'Outlet_Size': The size of the store in terms of ground area\n",
    "* 'Outlet_Location_Type': The type of city in which the store is located\n",
    "* 'Outlet_Type': Whether the outlet is just a grocery store or some sort of supermarket\n",
    "* 'Item_Outlet_Sales': Sales of the product in the particular store. This is the outcome variable to be predicted."
   ]
  },
  {
   "cell_type": "markdown",
   "metadata": {},
   "source": [
    "## Data PreProcessing"
   ]
  },
  {
   "cell_type": "code",
   "execution_count": 1,
   "metadata": {},
   "outputs": [],
   "source": [
    "import pandas as pd\n",
    "import numpy as np\n",
    "import matplotlib.pyplot as plt\n",
    "import seaborn as sns"
   ]
  },
  {
   "cell_type": "code",
   "execution_count": 2,
   "metadata": {},
   "outputs": [],
   "source": [
    "df = pd.read_csv('bigmart_sales.csv')"
   ]
  },
  {
   "cell_type": "code",
   "execution_count": 3,
   "metadata": {},
   "outputs": [
    {
     "data": {
      "text/html": [
       "<div>\n",
       "<style scoped>\n",
       "    .dataframe tbody tr th:only-of-type {\n",
       "        vertical-align: middle;\n",
       "    }\n",
       "\n",
       "    .dataframe tbody tr th {\n",
       "        vertical-align: top;\n",
       "    }\n",
       "\n",
       "    .dataframe thead th {\n",
       "        text-align: right;\n",
       "    }\n",
       "</style>\n",
       "<table border=\"1\" class=\"dataframe\">\n",
       "  <thead>\n",
       "    <tr style=\"text-align: right;\">\n",
       "      <th></th>\n",
       "      <th>Item_Identifier</th>\n",
       "      <th>Item_Weight</th>\n",
       "      <th>Item_Fat_Content</th>\n",
       "      <th>Item_Visibility</th>\n",
       "      <th>Item_Type</th>\n",
       "      <th>Item_MRP</th>\n",
       "      <th>Outlet_Identifier</th>\n",
       "      <th>Outlet_Establishment_Year</th>\n",
       "      <th>Outlet_Size</th>\n",
       "      <th>Outlet_Location_Type</th>\n",
       "      <th>Outlet_Type</th>\n",
       "      <th>Item_Outlet_Sales</th>\n",
       "    </tr>\n",
       "  </thead>\n",
       "  <tbody>\n",
       "    <tr>\n",
       "      <th>0</th>\n",
       "      <td>NCR42</td>\n",
       "      <td>9.105</td>\n",
       "      <td>Low Fat</td>\n",
       "      <td>0.0</td>\n",
       "      <td>Household</td>\n",
       "      <td>33.3900</td>\n",
       "      <td>OUT010</td>\n",
       "      <td>1998</td>\n",
       "      <td>Small</td>\n",
       "      <td>Tier 3</td>\n",
       "      <td>Grocery Store</td>\n",
       "      <td>33.2900</td>\n",
       "    </tr>\n",
       "    <tr>\n",
       "      <th>1</th>\n",
       "      <td>DRK12</td>\n",
       "      <td>9.500</td>\n",
       "      <td>Low Fat</td>\n",
       "      <td>0.0</td>\n",
       "      <td>Household</td>\n",
       "      <td>32.8900</td>\n",
       "      <td>OUT010</td>\n",
       "      <td>1998</td>\n",
       "      <td>Small</td>\n",
       "      <td>Tier 3</td>\n",
       "      <td>Grocery Store</td>\n",
       "      <td>33.2900</td>\n",
       "    </tr>\n",
       "    <tr>\n",
       "      <th>2</th>\n",
       "      <td>FDU21</td>\n",
       "      <td>NaN</td>\n",
       "      <td>Low Fat</td>\n",
       "      <td>0.0</td>\n",
       "      <td>Household</td>\n",
       "      <td>35.0558</td>\n",
       "      <td>OUT019</td>\n",
       "      <td>1998</td>\n",
       "      <td>Small</td>\n",
       "      <td>Tier 3</td>\n",
       "      <td>Grocery Store</td>\n",
       "      <td>33.9558</td>\n",
       "    </tr>\n",
       "    <tr>\n",
       "      <th>3</th>\n",
       "      <td>NCL41</td>\n",
       "      <td>NaN</td>\n",
       "      <td>Low Fat</td>\n",
       "      <td>0.0</td>\n",
       "      <td>Household</td>\n",
       "      <td>34.3216</td>\n",
       "      <td>OUT019</td>\n",
       "      <td>1998</td>\n",
       "      <td>Small</td>\n",
       "      <td>Tier 3</td>\n",
       "      <td>Grocery Store</td>\n",
       "      <td>34.6216</td>\n",
       "    </tr>\n",
       "    <tr>\n",
       "      <th>4</th>\n",
       "      <td>FDQ47</td>\n",
       "      <td>7.155</td>\n",
       "      <td>Low Fat</td>\n",
       "      <td>0.0</td>\n",
       "      <td>Household</td>\n",
       "      <td>33.8874</td>\n",
       "      <td>OUT010</td>\n",
       "      <td>1998</td>\n",
       "      <td>Small</td>\n",
       "      <td>Tier 3</td>\n",
       "      <td>Grocery Store</td>\n",
       "      <td>35.2874</td>\n",
       "    </tr>\n",
       "  </tbody>\n",
       "</table>\n",
       "</div>"
      ],
      "text/plain": [
       "  Item_Identifier  Item_Weight Item_Fat_Content  Item_Visibility  Item_Type  \\\n",
       "0           NCR42        9.105          Low Fat              0.0  Household   \n",
       "1           DRK12        9.500          Low Fat              0.0  Household   \n",
       "2           FDU21          NaN          Low Fat              0.0  Household   \n",
       "3           NCL41          NaN          Low Fat              0.0  Household   \n",
       "4           FDQ47        7.155          Low Fat              0.0  Household   \n",
       "\n",
       "   Item_MRP Outlet_Identifier  Outlet_Establishment_Year Outlet_Size  \\\n",
       "0   33.3900            OUT010                       1998       Small   \n",
       "1   32.8900            OUT010                       1998       Small   \n",
       "2   35.0558            OUT019                       1998       Small   \n",
       "3   34.3216            OUT019                       1998       Small   \n",
       "4   33.8874            OUT010                       1998       Small   \n",
       "\n",
       "  Outlet_Location_Type    Outlet_Type  Item_Outlet_Sales  \n",
       "0               Tier 3  Grocery Store            33.2900  \n",
       "1               Tier 3  Grocery Store            33.2900  \n",
       "2               Tier 3  Grocery Store            33.9558  \n",
       "3               Tier 3  Grocery Store            34.6216  \n",
       "4               Tier 3  Grocery Store            35.2874  "
      ]
     },
     "execution_count": 3,
     "metadata": {},
     "output_type": "execute_result"
    }
   ],
   "source": [
    "df.head()"
   ]
  },
  {
   "cell_type": "code",
   "execution_count": 4,
   "metadata": {},
   "outputs": [
    {
     "name": "stdout",
     "output_type": "stream",
     "text": [
      "<class 'pandas.core.frame.DataFrame'>\n",
      "RangeIndex: 8523 entries, 0 to 8522\n",
      "Data columns (total 12 columns):\n",
      " #   Column                     Non-Null Count  Dtype  \n",
      "---  ------                     --------------  -----  \n",
      " 0   Item_Identifier            8523 non-null   object \n",
      " 1   Item_Weight                7060 non-null   float64\n",
      " 2   Item_Fat_Content           8523 non-null   object \n",
      " 3   Item_Visibility            8523 non-null   float64\n",
      " 4   Item_Type                  8523 non-null   object \n",
      " 5   Item_MRP                   8523 non-null   float64\n",
      " 6   Outlet_Identifier          8523 non-null   object \n",
      " 7   Outlet_Establishment_Year  8523 non-null   int64  \n",
      " 8   Outlet_Size                6655 non-null   object \n",
      " 9   Outlet_Location_Type       8523 non-null   object \n",
      " 10  Outlet_Type                8523 non-null   object \n",
      " 11  Item_Outlet_Sales          8523 non-null   float64\n",
      "dtypes: float64(4), int64(1), object(7)\n",
      "memory usage: 799.2+ KB\n"
     ]
    }
   ],
   "source": [
    "df.info()"
   ]
  },
  {
   "cell_type": "code",
   "execution_count": 5,
   "metadata": {},
   "outputs": [
    {
     "data": {
      "text/html": [
       "<div>\n",
       "<style scoped>\n",
       "    .dataframe tbody tr th:only-of-type {\n",
       "        vertical-align: middle;\n",
       "    }\n",
       "\n",
       "    .dataframe tbody tr th {\n",
       "        vertical-align: top;\n",
       "    }\n",
       "\n",
       "    .dataframe thead th {\n",
       "        text-align: right;\n",
       "    }\n",
       "</style>\n",
       "<table border=\"1\" class=\"dataframe\">\n",
       "  <thead>\n",
       "    <tr style=\"text-align: right;\">\n",
       "      <th></th>\n",
       "      <th>Item_Weight</th>\n",
       "      <th>Item_Visibility</th>\n",
       "      <th>Item_MRP</th>\n",
       "      <th>Outlet_Establishment_Year</th>\n",
       "      <th>Item_Outlet_Sales</th>\n",
       "    </tr>\n",
       "  </thead>\n",
       "  <tbody>\n",
       "    <tr>\n",
       "      <th>count</th>\n",
       "      <td>7060.000000</td>\n",
       "      <td>8523.000000</td>\n",
       "      <td>8523.000000</td>\n",
       "      <td>8523.000000</td>\n",
       "      <td>8523.000000</td>\n",
       "    </tr>\n",
       "    <tr>\n",
       "      <th>mean</th>\n",
       "      <td>12.857645</td>\n",
       "      <td>0.058896</td>\n",
       "      <td>140.992782</td>\n",
       "      <td>1998.136806</td>\n",
       "      <td>2203.997242</td>\n",
       "    </tr>\n",
       "    <tr>\n",
       "      <th>std</th>\n",
       "      <td>4.643456</td>\n",
       "      <td>0.049820</td>\n",
       "      <td>62.275067</td>\n",
       "      <td>8.104664</td>\n",
       "      <td>1692.026496</td>\n",
       "    </tr>\n",
       "    <tr>\n",
       "      <th>min</th>\n",
       "      <td>4.555000</td>\n",
       "      <td>0.000000</td>\n",
       "      <td>31.290000</td>\n",
       "      <td>1985.000000</td>\n",
       "      <td>33.290000</td>\n",
       "    </tr>\n",
       "    <tr>\n",
       "      <th>25%</th>\n",
       "      <td>8.773750</td>\n",
       "      <td>0.021236</td>\n",
       "      <td>93.826500</td>\n",
       "      <td>1987.000000</td>\n",
       "      <td>889.175900</td>\n",
       "    </tr>\n",
       "    <tr>\n",
       "      <th>50%</th>\n",
       "      <td>12.600000</td>\n",
       "      <td>0.046747</td>\n",
       "      <td>143.012800</td>\n",
       "      <td>1999.000000</td>\n",
       "      <td>1821.628800</td>\n",
       "    </tr>\n",
       "    <tr>\n",
       "      <th>75%</th>\n",
       "      <td>16.850000</td>\n",
       "      <td>0.087414</td>\n",
       "      <td>185.643700</td>\n",
       "      <td>2004.000000</td>\n",
       "      <td>3101.296400</td>\n",
       "    </tr>\n",
       "    <tr>\n",
       "      <th>max</th>\n",
       "      <td>21.350000</td>\n",
       "      <td>0.328391</td>\n",
       "      <td>266.888400</td>\n",
       "      <td>2009.000000</td>\n",
       "      <td>13086.964800</td>\n",
       "    </tr>\n",
       "  </tbody>\n",
       "</table>\n",
       "</div>"
      ],
      "text/plain": [
       "       Item_Weight  Item_Visibility     Item_MRP  Outlet_Establishment_Year  \\\n",
       "count  7060.000000      8523.000000  8523.000000                8523.000000   \n",
       "mean     12.857645         0.058896   140.992782                1998.136806   \n",
       "std       4.643456         0.049820    62.275067                   8.104664   \n",
       "min       4.555000         0.000000    31.290000                1985.000000   \n",
       "25%       8.773750         0.021236    93.826500                1987.000000   \n",
       "50%      12.600000         0.046747   143.012800                1999.000000   \n",
       "75%      16.850000         0.087414   185.643700                2004.000000   \n",
       "max      21.350000         0.328391   266.888400                2009.000000   \n",
       "\n",
       "       Item_Outlet_Sales  \n",
       "count        8523.000000  \n",
       "mean         2203.997242  \n",
       "std          1692.026496  \n",
       "min            33.290000  \n",
       "25%           889.175900  \n",
       "50%          1821.628800  \n",
       "75%          3101.296400  \n",
       "max         13086.964800  "
      ]
     },
     "execution_count": 5,
     "metadata": {},
     "output_type": "execute_result"
    }
   ],
   "source": [
    "df.describe()"
   ]
  },
  {
   "cell_type": "markdown",
   "metadata": {},
   "source": [
    "## Data Cleaning"
   ]
  },
  {
   "cell_type": "code",
   "execution_count": 6,
   "metadata": {},
   "outputs": [
    {
     "data": {
      "text/plain": [
       "Item_Identifier                 0\n",
       "Item_Weight                  1463\n",
       "Item_Fat_Content                0\n",
       "Item_Visibility                 0\n",
       "Item_Type                       0\n",
       "Item_MRP                        0\n",
       "Outlet_Identifier               0\n",
       "Outlet_Establishment_Year       0\n",
       "Outlet_Size                  1868\n",
       "Outlet_Location_Type            0\n",
       "Outlet_Type                     0\n",
       "Item_Outlet_Sales               0\n",
       "dtype: int64"
      ]
     },
     "execution_count": 6,
     "metadata": {},
     "output_type": "execute_result"
    }
   ],
   "source": [
    "df.isna().sum()"
   ]
  },
  {
   "cell_type": "markdown",
   "metadata": {},
   "source": [
    "Missing values in Item_weight and Outlet_size needs to be imputed. Since Item Weight is continous, we can impute it with mean value. Outlet_Size is discrete, thus, we need to use mode."
   ]
  },
  {
   "cell_type": "code",
   "execution_count": 7,
   "metadata": {},
   "outputs": [],
   "source": [
    "mean_weight = df[\"Item_Weight\"].mean()\n",
    "df[\"Item_Weight\"].fillna(mean_weight, inplace=True)"
   ]
  },
  {
   "cell_type": "code",
   "execution_count": 8,
   "metadata": {},
   "outputs": [],
   "source": [
    "most_common_outlet_size = df['Outlet_Size'].mode()"
   ]
  },
  {
   "cell_type": "code",
   "execution_count": 9,
   "metadata": {},
   "outputs": [
    {
     "data": {
      "text/plain": [
       "'Small'"
      ]
     },
     "execution_count": 9,
     "metadata": {},
     "output_type": "execute_result"
    }
   ],
   "source": [
    "most_common_outlet_size[0]"
   ]
  },
  {
   "cell_type": "code",
   "execution_count": 10,
   "metadata": {},
   "outputs": [],
   "source": [
    "df['Outlet_Size'].fillna(most_common_outlet_size[0], inplace=True)"
   ]
  },
  {
   "cell_type": "code",
   "execution_count": 11,
   "metadata": {},
   "outputs": [
    {
     "data": {
      "text/plain": [
       "Item_Identifier              0\n",
       "Item_Weight                  0\n",
       "Item_Fat_Content             0\n",
       "Item_Visibility              0\n",
       "Item_Type                    0\n",
       "Item_MRP                     0\n",
       "Outlet_Identifier            0\n",
       "Outlet_Establishment_Year    0\n",
       "Outlet_Size                  0\n",
       "Outlet_Location_Type         0\n",
       "Outlet_Type                  0\n",
       "Item_Outlet_Sales            0\n",
       "dtype: int64"
      ]
     },
     "execution_count": 11,
     "metadata": {},
     "output_type": "execute_result"
    }
   ],
   "source": [
    "df.isna().sum()"
   ]
  },
  {
   "cell_type": "markdown",
   "metadata": {},
   "source": [
    "### Exploratory Data Analysis"
   ]
  },
  {
   "cell_type": "code",
   "execution_count": 12,
   "metadata": {},
   "outputs": [
    {
     "data": {
      "text/plain": [
       "1559"
      ]
     },
     "execution_count": 12,
     "metadata": {},
     "output_type": "execute_result"
    }
   ],
   "source": [
    "df[\"Item_Identifier\"].nunique()"
   ]
  },
  {
   "cell_type": "code",
   "execution_count": 13,
   "metadata": {},
   "outputs": [
    {
     "data": {
      "image/png": "[encoded data removed]",
      "text/plain": [
       "<Figure size 432x288 with 1 Axes>"
      ]
     },
     "metadata": {
      "needs_background": "light"
     },
     "output_type": "display_data"
    }
   ],
   "source": [
    "sns.barplot(data=df, x=\"Item_Fat_Content\", y=\"Item_Outlet_Sales\")\n",
    "plt.title(\"Average Sales of Items by Fat Content\")\n",
    "plt.show()"
   ]
  },
  {
   "cell_type": "code",
   "execution_count": 14,
   "metadata": {},
   "outputs": [
    {
     "data": {
      "image/png": "[encoded data removed]",
      "text/plain": [
       "<Figure size 432x288 with 1 Axes>"
      ]
     },
     "metadata": {
      "needs_background": "light"
     },
     "output_type": "display_data"
    }
   ],
   "source": [
    "sns.barplot(data=df, y=\"Item_Type\", x=\"Item_Outlet_Sales\")\n",
    "plt.title(\"Average Sales of Items by Item Type\")\n",
    "plt.show()"
   ]
  },
  {
   "cell_type": "code",
   "execution_count": 15,
   "metadata": {},
   "outputs": [
    {
     "data": {
      "text/plain": [
       "array(['OUT010', 'OUT019', 'OUT013', 'OUT045', 'OUT018', 'OUT046',\n",
       "       'OUT035', 'OUT017', 'OUT049', 'OUT027'], dtype=object)"
      ]
     },
     "execution_count": 15,
     "metadata": {},
     "output_type": "execute_result"
    }
   ],
   "source": [
    "df[\"Outlet_Identifier\"].unique()"
   ]
  },
  {
   "cell_type": "code",
   "execution_count": 16,
   "metadata": {},
   "outputs": [
    {
     "data": {
      "image/png": "[encoded data removed]",
      "text/plain": [
       "<Figure size 432x288 with 1 Axes>"
      ]
     },
     "metadata": {
      "needs_background": "light"
     },
     "output_type": "display_data"
    }
   ],
   "source": [
    "sns.boxplot(data=df, x=\"Outlet_Size\", y =\"Item_Outlet_Sales\" )\n",
    "plt.title(\"Item Outlet Sales across outlet sizes\")\n",
    "plt.show()"
   ]
  },
  {
   "cell_type": "code",
   "execution_count": 17,
   "metadata": {},
   "outputs": [
    {
     "data": {
      "text/plain": [
       "array(['Tier 3', 'Tier 1', 'Tier 2'], dtype=object)"
      ]
     },
     "execution_count": 17,
     "metadata": {},
     "output_type": "execute_result"
    }
   ],
   "source": [
    "df[\"Outlet_Location_Type\"].unique()"
   ]
  },
  {
   "cell_type": "code",
   "execution_count": 18,
   "metadata": {},
   "outputs": [
    {
     "data": {
      "text/plain": [
       "array(['Grocery Store', 'Supermarket Type1', 'Supermarket Type2',\n",
       "       'Supermarket Type3'], dtype=object)"
      ]
     },
     "execution_count": 18,
     "metadata": {},
     "output_type": "execute_result"
    }
   ],
   "source": [
    "df[\"Outlet_Type\"].unique()"
   ]
  },
  {
   "cell_type": "code",
   "execution_count": 19,
   "metadata": {},
   "outputs": [
    {
     "data": {
      "image/png": "[encoded data removed]",
      "text/plain": [
       "<Figure size 432x288 with 1 Axes>"
      ]
     },
     "metadata": {
      "needs_background": "light"
     },
     "output_type": "display_data"
    }
   ],
   "source": [
    "ax = sns.boxplot(data=df, x=\"Outlet_Type\", y =\"Item_Outlet_Sales\" )\n",
    "ax.set_xticklabels(ax.get_xticklabels(),rotation=30)\n",
    "plt.title(\"Item Outlet Sales across outlet types\")\n",
    "plt.show()"
   ]
  },
  {
   "cell_type": "markdown",
   "metadata": {},
   "source": [
    "We are dropping the ID Fields and creating dummy variables for the other categorical variables"
   ]
  },
  {
   "cell_type": "code",
   "execution_count": 20,
   "metadata": {},
   "outputs": [],
   "source": [
    "df.drop(['Item_Identifier'], axis=1, inplace=True)"
   ]
  },
  {
   "cell_type": "code",
   "execution_count": 21,
   "metadata": {},
   "outputs": [],
   "source": [
    "df=pd.get_dummies(df)"
   ]
  },
  {
   "cell_type": "code",
   "execution_count": 22,
   "metadata": {
    "scrolled": true
   },
   "outputs": [
    {
     "data": {
      "text/html": [
       "<div>\n",
       "<style scoped>\n",
       "    .dataframe tbody tr th:only-of-type {\n",
       "        vertical-align: middle;\n",
       "    }\n",
       "\n",
       "    .dataframe tbody tr th {\n",
       "        vertical-align: top;\n",
       "    }\n",
       "\n",
       "    .dataframe thead th {\n",
       "        text-align: right;\n",
       "    }\n",
       "</style>\n",
       "<table border=\"1\" class=\"dataframe\">\n",
       "  <thead>\n",
       "    <tr style=\"text-align: right;\">\n",
       "      <th></th>\n",
       "      <th>Item_Weight</th>\n",
       "      <th>Item_Visibility</th>\n",
       "      <th>Item_MRP</th>\n",
       "      <th>Outlet_Establishment_Year</th>\n",
       "      <th>Item_Outlet_Sales</th>\n",
       "      <th>Item_Fat_Content_Low Fat</th>\n",
       "      <th>Item_Fat_Content_Regular</th>\n",
       "      <th>Item_Type_Baking Goods</th>\n",
       "      <th>Item_Type_Breads</th>\n",
       "      <th>Item_Type_Breakfast</th>\n",
       "      <th>...</th>\n",
       "      <th>Outlet_Size_High</th>\n",
       "      <th>Outlet_Size_Medium</th>\n",
       "      <th>Outlet_Size_Small</th>\n",
       "      <th>Outlet_Location_Type_Tier 1</th>\n",
       "      <th>Outlet_Location_Type_Tier 2</th>\n",
       "      <th>Outlet_Location_Type_Tier 3</th>\n",
       "      <th>Outlet_Type_Grocery Store</th>\n",
       "      <th>Outlet_Type_Supermarket Type1</th>\n",
       "      <th>Outlet_Type_Supermarket Type2</th>\n",
       "      <th>Outlet_Type_Supermarket Type3</th>\n",
       "    </tr>\n",
       "  </thead>\n",
       "  <tbody>\n",
       "    <tr>\n",
       "      <th>0</th>\n",
       "      <td>9.105000</td>\n",
       "      <td>0.0</td>\n",
       "      <td>33.3900</td>\n",
       "      <td>1998</td>\n",
       "      <td>33.2900</td>\n",
       "      <td>1</td>\n",
       "      <td>0</td>\n",
       "      <td>0</td>\n",
       "      <td>0</td>\n",
       "      <td>0</td>\n",
       "      <td>...</td>\n",
       "      <td>0</td>\n",
       "      <td>0</td>\n",
       "      <td>1</td>\n",
       "      <td>0</td>\n",
       "      <td>0</td>\n",
       "      <td>1</td>\n",
       "      <td>1</td>\n",
       "      <td>0</td>\n",
       "      <td>0</td>\n",
       "      <td>0</td>\n",
       "    </tr>\n",
       "    <tr>\n",
       "      <th>1</th>\n",
       "      <td>9.500000</td>\n",
       "      <td>0.0</td>\n",
       "      <td>32.8900</td>\n",
       "      <td>1998</td>\n",
       "      <td>33.2900</td>\n",
       "      <td>1</td>\n",
       "      <td>0</td>\n",
       "      <td>0</td>\n",
       "      <td>0</td>\n",
       "      <td>0</td>\n",
       "      <td>...</td>\n",
       "      <td>0</td>\n",
       "      <td>0</td>\n",
       "      <td>1</td>\n",
       "      <td>0</td>\n",
       "      <td>0</td>\n",
       "      <td>1</td>\n",
       "      <td>1</td>\n",
       "      <td>0</td>\n",
       "      <td>0</td>\n",
       "      <td>0</td>\n",
       "    </tr>\n",
       "    <tr>\n",
       "      <th>2</th>\n",
       "      <td>12.857645</td>\n",
       "      <td>0.0</td>\n",
       "      <td>35.0558</td>\n",
       "      <td>1998</td>\n",
       "      <td>33.9558</td>\n",
       "      <td>1</td>\n",
       "      <td>0</td>\n",
       "      <td>0</td>\n",
       "      <td>0</td>\n",
       "      <td>0</td>\n",
       "      <td>...</td>\n",
       "      <td>0</td>\n",
       "      <td>0</td>\n",
       "      <td>1</td>\n",
       "      <td>0</td>\n",
       "      <td>0</td>\n",
       "      <td>1</td>\n",
       "      <td>1</td>\n",
       "      <td>0</td>\n",
       "      <td>0</td>\n",
       "      <td>0</td>\n",
       "    </tr>\n",
       "    <tr>\n",
       "      <th>3</th>\n",
       "      <td>12.857645</td>\n",
       "      <td>0.0</td>\n",
       "      <td>34.3216</td>\n",
       "      <td>1998</td>\n",
       "      <td>34.6216</td>\n",
       "      <td>1</td>\n",
       "      <td>0</td>\n",
       "      <td>0</td>\n",
       "      <td>0</td>\n",
       "      <td>0</td>\n",
       "      <td>...</td>\n",
       "      <td>0</td>\n",
       "      <td>0</td>\n",
       "      <td>1</td>\n",
       "      <td>0</td>\n",
       "      <td>0</td>\n",
       "      <td>1</td>\n",
       "      <td>1</td>\n",
       "      <td>0</td>\n",
       "      <td>0</td>\n",
       "      <td>0</td>\n",
       "    </tr>\n",
       "    <tr>\n",
       "      <th>4</th>\n",
       "      <td>7.155000</td>\n",
       "      <td>0.0</td>\n",
       "      <td>33.8874</td>\n",
       "      <td>1998</td>\n",
       "      <td>35.2874</td>\n",
       "      <td>1</td>\n",
       "      <td>0</td>\n",
       "      <td>0</td>\n",
       "      <td>0</td>\n",
       "      <td>0</td>\n",
       "      <td>...</td>\n",
       "      <td>0</td>\n",
       "      <td>0</td>\n",
       "      <td>1</td>\n",
       "      <td>0</td>\n",
       "      <td>0</td>\n",
       "      <td>1</td>\n",
       "      <td>1</td>\n",
       "      <td>0</td>\n",
       "      <td>0</td>\n",
       "      <td>0</td>\n",
       "    </tr>\n",
       "  </tbody>\n",
       "</table>\n",
       "<p>5 rows × 43 columns</p>\n",
       "</div>"
      ],
      "text/plain": [
       "   Item_Weight  Item_Visibility  Item_MRP  Outlet_Establishment_Year  \\\n",
       "0     9.105000              0.0   33.3900                       1998   \n",
       "1     9.500000              0.0   32.8900                       1998   \n",
       "2    12.857645              0.0   35.0558                       1998   \n",
       "3    12.857645              0.0   34.3216                       1998   \n",
       "4     7.155000              0.0   33.8874                       1998   \n",
       "\n",
       "   Item_Outlet_Sales  Item_Fat_Content_Low Fat  Item_Fat_Content_Regular  \\\n",
       "0            33.2900                         1                         0   \n",
       "1            33.2900                         1                         0   \n",
       "2            33.9558                         1                         0   \n",
       "3            34.6216                         1                         0   \n",
       "4            35.2874                         1                         0   \n",
       "\n",
       "   Item_Type_Baking Goods  Item_Type_Breads  Item_Type_Breakfast  ...  \\\n",
       "0                       0                 0                    0  ...   \n",
       "1                       0                 0                    0  ...   \n",
       "2                       0                 0                    0  ...   \n",
       "3                       0                 0                    0  ...   \n",
       "4                       0                 0                    0  ...   \n",
       "\n",
       "   Outlet_Size_High  Outlet_Size_Medium  Outlet_Size_Small  \\\n",
       "0                 0                   0                  1   \n",
       "1                 0                   0                  1   \n",
       "2                 0                   0                  1   \n",
       "3                 0                   0                  1   \n",
       "4                 0                   0                  1   \n",
       "\n",
       "   Outlet_Location_Type_Tier 1  Outlet_Location_Type_Tier 2  \\\n",
       "0                            0                            0   \n",
       "1                            0                            0   \n",
       "2                            0                            0   \n",
       "3                            0                            0   \n",
       "4                            0                            0   \n",
       "\n",
       "   Outlet_Location_Type_Tier 3  Outlet_Type_Grocery Store  \\\n",
       "0                            1                          1   \n",
       "1                            1                          1   \n",
       "2                            1                          1   \n",
       "3                            1                          1   \n",
       "4                            1                          1   \n",
       "\n",
       "   Outlet_Type_Supermarket Type1  Outlet_Type_Supermarket Type2  \\\n",
       "0                              0                              0   \n",
       "1                              0                              0   \n",
       "2                              0                              0   \n",
       "3                              0                              0   \n",
       "4                              0                              0   \n",
       "\n",
       "   Outlet_Type_Supermarket Type3  \n",
       "0                              0  \n",
       "1                              0  \n",
       "2                              0  \n",
       "3                              0  \n",
       "4                              0  \n",
       "\n",
       "[5 rows x 43 columns]"
      ]
     },
     "execution_count": 22,
     "metadata": {},
     "output_type": "execute_result"
    }
   ],
   "source": [
    "df.head()"
   ]
  },
  {
   "cell_type": "markdown",
   "metadata": {},
   "source": [
    "## Train/Test Split"
   ]
  },
  {
   "cell_type": "code",
   "execution_count": 23,
   "metadata": {},
   "outputs": [],
   "source": [
    "X = df.drop([\"Item_Outlet_Sales\"], axis=1)\n",
    "y = df[\"Item_Outlet_Sales\"]"
   ]
  },
  {
   "cell_type": "code",
   "execution_count": 24,
   "metadata": {},
   "outputs": [],
   "source": [
    "from sklearn.model_selection import train_test_split\n",
    "X_train, X_test, y_train, y_test = train_test_split(X, y, test_size = 0.2, random_state = 0)"
   ]
  },
  {
   "cell_type": "markdown",
   "metadata": {},
   "source": [
    "### Data Scaling"
   ]
  },
  {
   "cell_type": "code",
   "execution_count": 25,
   "metadata": {},
   "outputs": [],
   "source": [
    "from sklearn.preprocessing import StandardScaler\n",
    "sc = StandardScaler()"
   ]
  },
  {
   "cell_type": "code",
   "execution_count": 26,
   "metadata": {},
   "outputs": [],
   "source": [
    "X_train = sc.fit_transform(X_train)\n",
    "X_test = sc.transform(X_test)"
   ]
  },
  {
   "cell_type": "markdown",
   "metadata": {},
   "source": [
    "## Algorithm Setup"
   ]
  },
  {
   "cell_type": "code",
   "execution_count": 27,
   "metadata": {},
   "outputs": [],
   "source": [
    "from sklearn.neighbors import KNeighborsRegressor\n",
    "knn = KNeighborsRegressor(n_neighbors = 2)"
   ]
  },
  {
   "cell_type": "markdown",
   "metadata": {},
   "source": [
    "## Model Training"
   ]
  },
  {
   "cell_type": "code",
   "execution_count": 28,
   "metadata": {},
   "outputs": [
    {
     "data": {
      "text/plain": [
       "KNeighborsRegressor(n_neighbors=2)"
      ]
     },
     "execution_count": 28,
     "metadata": {},
     "output_type": "execute_result"
    }
   ],
   "source": [
    "knn.fit(X_train,y_train)"
   ]
  },
  {
   "cell_type": "markdown",
   "metadata": {},
   "source": [
    "## Model Testing"
   ]
  },
  {
   "cell_type": "code",
   "execution_count": 29,
   "metadata": {},
   "outputs": [],
   "source": [
    "predictions = knn.predict(X_test)"
   ]
  },
  {
   "cell_type": "markdown",
   "metadata": {},
   "source": [
    "## Model Evaluation"
   ]
  },
  {
   "cell_type": "code",
   "execution_count": 30,
   "metadata": {},
   "outputs": [
    {
     "name": "stdout",
     "output_type": "stream",
     "text": [
      "MAE 800.3619072140763\n",
      "MSE 1327698.2730166935\n",
      "RMSE 1152.2579021281188\n"
     ]
    }
   ],
   "source": [
    "\n",
    "\n",
    "from sklearn import metrics\n",
    "\n",
    "print(\"MAE\", metrics.mean_absolute_error(y_test,predictions))\n",
    "print(\"MSE\", metrics.mean_squared_error(y_test,predictions)) \n",
    "print(\"RMSE\", np.sqrt(metrics.mean_squared_error(y_test,predictions)))"
   ]
  },
  {
   "cell_type": "markdown",
   "metadata": {},
   "source": [
    "### Grid Search"
   ]
  },
  {
   "cell_type": "code",
   "execution_count": 31,
   "metadata": {},
   "outputs": [],
   "source": [
    "from sklearn.model_selection import GridSearchCV\n",
    "param_grid = {'n_neighbors': list(range(1,31)), 'metric': [\"euclidean\", \"manhattan\"]}"
   ]
  },
  {
   "cell_type": "code",
   "execution_count": 32,
   "metadata": {
    "scrolled": true
   },
   "outputs": [
    {
     "name": "stdout",
     "output_type": "stream",
     "text": [
      "Fitting 5 folds for each of 60 candidates, totalling 300 fits\n",
      "[CV 1/5] END ...metric=euclidean, n_neighbors=1;, score=0.423 total time=   0.1s\n",
      "[CV 2/5] END ...metric=euclidean, n_neighbors=1;, score=0.394 total time=   0.1s\n",
      "[CV 3/5] END ...metric=euclidean, n_neighbors=1;, score=0.360 total time=   0.1s\n",
      "[CV 4/5] END ...metric=euclidean, n_neighbors=1;, score=0.426 total time=   0.1s\n",
      "[CV 5/5] END ...metric=euclidean, n_neighbors=1;, score=0.361 total time=   0.1s\n",
      "[CV 1/5] END ...metric=euclidean, n_neighbors=2;, score=0.536 total time=   0.1s\n",
      "[CV 2/5] END ...metric=euclidean, n_neighbors=2;, score=0.537 total time=   0.1s\n",
      "[CV 3/5] END ...metric=euclidean, n_neighbors=2;, score=0.529 total time=   0.1s\n",
      "[CV 4/5] END ...metric=euclidean, n_neighbors=2;, score=0.554 total time=   0.1s\n",
      "[CV 5/5] END ...metric=euclidean, n_neighbors=2;, score=0.509 total time=   0.1s\n",
      "[CV 1/5] END ...metric=euclidean, n_neighbors=3;, score=0.586 total time=   0.1s\n",
      "[CV 2/5] END ...metric=euclidean, n_neighbors=3;, score=0.578 total time=   0.1s\n",
      "[CV 3/5] END ...metric=euclidean, n_neighbors=3;, score=0.558 total time=   0.1s\n",
      "[CV 4/5] END ...metric=euclidean, n_neighbors=3;, score=0.592 total time=   0.1s\n",
      "[CV 5/5] END ...metric=euclidean, n_neighbors=3;, score=0.563 total time=   0.1s\n",
      "[CV 1/5] END ...metric=euclidean, n_neighbors=4;, score=0.593 total time=   0.1s\n",
      "[CV 2/5] END ...metric=euclidean, n_neighbors=4;, score=0.590 total time=   0.1s\n",
      "[CV 3/5] END ...metric=euclidean, n_neighbors=4;, score=0.579 total time=   0.1s\n",
      "[CV 4/5] END ...metric=euclidean, n_neighbors=4;, score=0.607 total time=   0.1s\n",
      "[CV 5/5] END ...metric=euclidean, n_neighbors=4;, score=0.585 total time=   0.1s\n",
      "[CV 1/5] END ...metric=euclidean, n_neighbors=5;, score=0.596 total time=   0.1s\n",
      "[CV 2/5] END ...metric=euclidean, n_neighbors=5;, score=0.601 total time=   0.1s\n",
      "[CV 3/5] END ...metric=euclidean, n_neighbors=5;, score=0.580 total time=   0.1s\n",
      "[CV 4/5] END ...metric=euclidean, n_neighbors=5;, score=0.615 total time=   0.1s\n",
      "[CV 5/5] END ...metric=euclidean, n_neighbors=5;, score=0.589 total time=   0.1s\n",
      "[CV 1/5] END ...metric=euclidean, n_neighbors=6;, score=0.596 total time=   0.1s\n",
      "[CV 2/5] END ...metric=euclidean, n_neighbors=6;, score=0.602 total time=   0.1s\n",
      "[CV 3/5] END ...metric=euclidean, n_neighbors=6;, score=0.576 total time=   0.1s\n",
      "[CV 4/5] END ...metric=euclidean, n_neighbors=6;, score=0.618 total time=   0.1s\n",
      "[CV 5/5] END ...metric=euclidean, n_neighbors=6;, score=0.591 total time=   0.1s\n",
      "[CV 1/5] END ...metric=euclidean, n_neighbors=7;, score=0.592 total time=   0.1s\n",
      "[CV 2/5] END ...metric=euclidean, n_neighbors=7;, score=0.603 total time=   0.1s\n",
      "[CV 3/5] END ...metric=euclidean, n_neighbors=7;, score=0.571 total time=   0.1s\n",
      "[CV 4/5] END ...metric=euclidean, n_neighbors=7;, score=0.617 total time=   0.1s\n",
      "[CV 5/5] END ...metric=euclidean, n_neighbors=7;, score=0.583 total time=   0.1s\n",
      "[CV 1/5] END ...metric=euclidean, n_neighbors=8;, score=0.585 total time=   0.1s\n",
      "[CV 2/5] END ...metric=euclidean, n_neighbors=8;, score=0.601 total time=   0.1s\n",
      "[CV 3/5] END ...metric=euclidean, n_neighbors=8;, score=0.567 total time=   0.1s\n",
      "[CV 4/5] END ...metric=euclidean, n_neighbors=8;, score=0.610 total time=   0.1s\n",
      "[CV 5/5] END ...metric=euclidean, n_neighbors=8;, score=0.580 total time=   0.1s\n",
      "[CV 1/5] END ...metric=euclidean, n_neighbors=9;, score=0.578 total time=   0.1s\n",
      "[CV 2/5] END ...metric=euclidean, n_neighbors=9;, score=0.594 total time=   0.1s\n",
      "[CV 3/5] END ...metric=euclidean, n_neighbors=9;, score=0.564 total time=   0.1s\n",
      "[CV 4/5] END ...metric=euclidean, n_neighbors=9;, score=0.608 total time=   0.1s\n",
      "[CV 5/5] END ...metric=euclidean, n_neighbors=9;, score=0.571 total time=   0.1s\n",
      "[CV 1/5] END ..metric=euclidean, n_neighbors=10;, score=0.570 total time=   0.1s\n",
      "[CV 2/5] END ..metric=euclidean, n_neighbors=10;, score=0.591 total time=   0.1s\n",
      "[CV 3/5] END ..metric=euclidean, n_neighbors=10;, score=0.560 total time=   0.1s\n",
      "[CV 4/5] END ..metric=euclidean, n_neighbors=10;, score=0.603 total time=   0.1s\n",
      "[CV 5/5] END ..metric=euclidean, n_neighbors=10;, score=0.560 total time=   0.1s\n",
      "[CV 1/5] END ..metric=euclidean, n_neighbors=11;, score=0.555 total time=   0.1s\n",
      "[CV 2/5] END ..metric=euclidean, n_neighbors=11;, score=0.586 total time=   0.1s\n",
      "[CV 3/5] END ..metric=euclidean, n_neighbors=11;, score=0.558 total time=   0.1s\n",
      "[CV 4/5] END ..metric=euclidean, n_neighbors=11;, score=0.599 total time=   0.1s\n",
      "[CV 5/5] END ..metric=euclidean, n_neighbors=11;, score=0.552 total time=   0.1s\n",
      "[CV 1/5] END ..metric=euclidean, n_neighbors=12;, score=0.551 total time=   0.1s\n",
      "[CV 2/5] END ..metric=euclidean, n_neighbors=12;, score=0.582 total time=   0.1s\n",
      "[CV 3/5] END ..metric=euclidean, n_neighbors=12;, score=0.557 total time=   0.1s\n",
      "[CV 4/5] END ..metric=euclidean, n_neighbors=12;, score=0.592 total time=   0.1s\n",
      "[CV 5/5] END ..metric=euclidean, n_neighbors=12;, score=0.547 total time=   0.1s\n",
      "[CV 1/5] END ..metric=euclidean, n_neighbors=13;, score=0.546 total time=   0.1s\n",
      "[CV 2/5] END ..metric=euclidean, n_neighbors=13;, score=0.576 total time=   0.1s\n",
      "[CV 3/5] END ..metric=euclidean, n_neighbors=13;, score=0.551 total time=   0.1s\n",
      "[CV 4/5] END ..metric=euclidean, n_neighbors=13;, score=0.589 total time=   0.1s\n",
      "[CV 5/5] END ..metric=euclidean, n_neighbors=13;, score=0.539 total time=   0.1s\n",
      "[CV 1/5] END ..metric=euclidean, n_neighbors=14;, score=0.540 total time=   0.1s\n",
      "[CV 2/5] END ..metric=euclidean, n_neighbors=14;, score=0.571 total time=   0.1s\n",
      "[CV 3/5] END ..metric=euclidean, n_neighbors=14;, score=0.546 total time=   0.1s\n",
      "[CV 4/5] END ..metric=euclidean, n_neighbors=14;, score=0.586 total time=   0.1s\n",
      "[CV 5/5] END ..metric=euclidean, n_neighbors=14;, score=0.536 total time=   0.1s\n",
      "[CV 1/5] END ..metric=euclidean, n_neighbors=15;, score=0.538 total time=   0.1s\n",
      "[CV 2/5] END ..metric=euclidean, n_neighbors=15;, score=0.562 total time=   0.1s\n",
      "[CV 3/5] END ..metric=euclidean, n_neighbors=15;, score=0.543 total time=   0.1s\n",
      "[CV 4/5] END ..metric=euclidean, n_neighbors=15;, score=0.579 total time=   0.1s\n",
      "[CV 5/5] END ..metric=euclidean, n_neighbors=15;, score=0.531 total time=   0.1s\n",
      "[CV 1/5] END ..metric=euclidean, n_neighbors=16;, score=0.534 total time=   0.1s\n",
      "[CV 2/5] END ..metric=euclidean, n_neighbors=16;, score=0.557 total time=   0.1s\n",
      "[CV 3/5] END ..metric=euclidean, n_neighbors=16;, score=0.536 total time=   0.1s\n",
      "[CV 4/5] END ..metric=euclidean, n_neighbors=16;, score=0.582 total time=   0.1s\n",
      "[CV 5/5] END ..metric=euclidean, n_neighbors=16;, score=0.527 total time=   0.1s\n",
      "[CV 1/5] END ..metric=euclidean, n_neighbors=17;, score=0.527 total time=   0.1s\n",
      "[CV 2/5] END ..metric=euclidean, n_neighbors=17;, score=0.550 total time=   0.1s\n",
      "[CV 3/5] END ..metric=euclidean, n_neighbors=17;, score=0.534 total time=   0.1s\n",
      "[CV 4/5] END ..metric=euclidean, n_neighbors=17;, score=0.576 total time=   0.1s\n",
      "[CV 5/5] END ..metric=euclidean, n_neighbors=17;, score=0.522 total time=   0.1s\n",
      "[CV 1/5] END ..metric=euclidean, n_neighbors=18;, score=0.523 total time=   0.1s\n",
      "[CV 2/5] END ..metric=euclidean, n_neighbors=18;, score=0.546 total time=   0.1s\n",
      "[CV 3/5] END ..metric=euclidean, n_neighbors=18;, score=0.530 total time=   0.1s\n",
      "[CV 4/5] END ..metric=euclidean, n_neighbors=18;, score=0.570 total time=   0.1s\n",
      "[CV 5/5] END ..metric=euclidean, n_neighbors=18;, score=0.521 total time=   0.1s\n",
      "[CV 1/5] END ..metric=euclidean, n_neighbors=19;, score=0.513 total time=   0.1s\n",
      "[CV 2/5] END ..metric=euclidean, n_neighbors=19;, score=0.542 total time=   0.1s\n",
      "[CV 3/5] END ..metric=euclidean, n_neighbors=19;, score=0.527 total time=   0.1s\n",
      "[CV 4/5] END ..metric=euclidean, n_neighbors=19;, score=0.565 total time=   0.1s\n",
      "[CV 5/5] END ..metric=euclidean, n_neighbors=19;, score=0.515 total time=   0.1s\n",
      "[CV 1/5] END ..metric=euclidean, n_neighbors=20;, score=0.506 total time=   0.1s\n",
      "[CV 2/5] END ..metric=euclidean, n_neighbors=20;, score=0.535 total time=   0.1s\n",
      "[CV 3/5] END ..metric=euclidean, n_neighbors=20;, score=0.523 total time=   0.1s\n",
      "[CV 4/5] END ..metric=euclidean, n_neighbors=20;, score=0.560 total time=   0.1s\n",
      "[CV 5/5] END ..metric=euclidean, n_neighbors=20;, score=0.514 total time=   0.1s\n",
      "[CV 1/5] END ..metric=euclidean, n_neighbors=21;, score=0.505 total time=   0.1s\n",
      "[CV 2/5] END ..metric=euclidean, n_neighbors=21;, score=0.527 total time=   0.1s\n",
      "[CV 3/5] END ..metric=euclidean, n_neighbors=21;, score=0.520 total time=   0.1s\n",
      "[CV 4/5] END ..metric=euclidean, n_neighbors=21;, score=0.554 total time=   0.1s\n",
      "[CV 5/5] END ..metric=euclidean, n_neighbors=21;, score=0.509 total time=   0.1s\n",
      "[CV 1/5] END ..metric=euclidean, n_neighbors=22;, score=0.496 total time=   0.1s\n",
      "[CV 2/5] END ..metric=euclidean, n_neighbors=22;, score=0.523 total time=   0.1s\n",
      "[CV 3/5] END ..metric=euclidean, n_neighbors=22;, score=0.514 total time=   0.1s\n",
      "[CV 4/5] END ..metric=euclidean, n_neighbors=22;, score=0.548 total time=   0.1s\n",
      "[CV 5/5] END ..metric=euclidean, n_neighbors=22;, score=0.505 total time=   0.1s\n",
      "[CV 1/5] END ..metric=euclidean, n_neighbors=23;, score=0.490 total time=   0.1s\n",
      "[CV 2/5] END ..metric=euclidean, n_neighbors=23;, score=0.517 total time=   0.1s\n",
      "[CV 3/5] END ..metric=euclidean, n_neighbors=23;, score=0.511 total time=   0.1s\n",
      "[CV 4/5] END ..metric=euclidean, n_neighbors=23;, score=0.544 total time=   0.1s\n",
      "[CV 5/5] END ..metric=euclidean, n_neighbors=23;, score=0.499 total time=   0.1s\n",
      "[CV 1/5] END ..metric=euclidean, n_neighbors=24;, score=0.485 total time=   0.1s\n",
      "[CV 2/5] END ..metric=euclidean, n_neighbors=24;, score=0.511 total time=   0.1s\n",
      "[CV 3/5] END ..metric=euclidean, n_neighbors=24;, score=0.510 total time=   0.1s\n",
      "[CV 4/5] END ..metric=euclidean, n_neighbors=24;, score=0.540 total time=   0.1s\n",
      "[CV 5/5] END ..metric=euclidean, n_neighbors=24;, score=0.496 total time=   0.1s\n",
      "[CV 1/5] END ..metric=euclidean, n_neighbors=25;, score=0.481 total time=   0.1s\n",
      "[CV 2/5] END ..metric=euclidean, n_neighbors=25;, score=0.508 total time=   0.1s\n",
      "[CV 3/5] END ..metric=euclidean, n_neighbors=25;, score=0.509 total time=   0.1s\n",
      "[CV 4/5] END ..metric=euclidean, n_neighbors=25;, score=0.534 total time=   0.1s\n",
      "[CV 5/5] END ..metric=euclidean, n_neighbors=25;, score=0.491 total time=   0.1s\n",
      "[CV 1/5] END ..metric=euclidean, n_neighbors=26;, score=0.478 total time=   0.1s\n",
      "[CV 2/5] END ..metric=euclidean, n_neighbors=26;, score=0.502 total time=   0.1s\n",
      "[CV 3/5] END ..metric=euclidean, n_neighbors=26;, score=0.507 total time=   0.1s\n",
      "[CV 4/5] END ..metric=euclidean, n_neighbors=26;, score=0.532 total time=   0.1s\n",
      "[CV 5/5] END ..metric=euclidean, n_neighbors=26;, score=0.488 total time=   0.1s\n",
      "[CV 1/5] END ..metric=euclidean, n_neighbors=27;, score=0.473 total time=   0.1s\n",
      "[CV 2/5] END ..metric=euclidean, n_neighbors=27;, score=0.497 total time=   0.1s\n",
      "[CV 3/5] END ..metric=euclidean, n_neighbors=27;, score=0.505 total time=   0.1s\n",
      "[CV 4/5] END ..metric=euclidean, n_neighbors=27;, score=0.530 total time=   0.1s\n",
      "[CV 5/5] END ..metric=euclidean, n_neighbors=27;, score=0.485 total time=   0.1s\n",
      "[CV 1/5] END ..metric=euclidean, n_neighbors=28;, score=0.467 total time=   0.1s\n",
      "[CV 2/5] END ..metric=euclidean, n_neighbors=28;, score=0.494 total time=   0.1s\n",
      "[CV 3/5] END ..metric=euclidean, n_neighbors=28;, score=0.504 total time=   0.1s\n",
      "[CV 4/5] END ..metric=euclidean, n_neighbors=28;, score=0.528 total time=   0.1s\n",
      "[CV 5/5] END ..metric=euclidean, n_neighbors=28;, score=0.480 total time=   0.1s\n",
      "[CV 1/5] END ..metric=euclidean, n_neighbors=29;, score=0.462 total time=   0.1s\n",
      "[CV 2/5] END ..metric=euclidean, n_neighbors=29;, score=0.492 total time=   0.1s\n",
      "[CV 3/5] END ..metric=euclidean, n_neighbors=29;, score=0.504 total time=   0.1s\n",
      "[CV 4/5] END ..metric=euclidean, n_neighbors=29;, score=0.526 total time=   0.1s\n",
      "[CV 5/5] END ..metric=euclidean, n_neighbors=29;, score=0.477 total time=   0.1s\n",
      "[CV 1/5] END ..metric=euclidean, n_neighbors=30;, score=0.458 total time=   0.1s\n",
      "[CV 2/5] END ..metric=euclidean, n_neighbors=30;, score=0.490 total time=   0.1s\n",
      "[CV 3/5] END ..metric=euclidean, n_neighbors=30;, score=0.501 total time=   0.1s\n",
      "[CV 4/5] END ..metric=euclidean, n_neighbors=30;, score=0.522 total time=   0.1s\n",
      "[CV 5/5] END ..metric=euclidean, n_neighbors=30;, score=0.475 total time=   0.1s\n",
      "[CV 1/5] END ...metric=manhattan, n_neighbors=1;, score=0.407 total time=   0.2s\n",
      "[CV 2/5] END ...metric=manhattan, n_neighbors=1;, score=0.394 total time=   0.2s\n",
      "[CV 3/5] END ...metric=manhattan, n_neighbors=1;, score=0.357 total time=   0.2s\n",
      "[CV 4/5] END ...metric=manhattan, n_neighbors=1;, score=0.423 total time=   0.2s\n",
      "[CV 5/5] END ...metric=manhattan, n_neighbors=1;, score=0.356 total time=   0.2s\n",
      "[CV 1/5] END ...metric=manhattan, n_neighbors=2;, score=0.564 total time=   0.2s\n",
      "[CV 2/5] END ...metric=manhattan, n_neighbors=2;, score=0.544 total time=   0.2s\n",
      "[CV 3/5] END ...metric=manhattan, n_neighbors=2;, score=0.520 total time=   0.2s\n",
      "[CV 4/5] END ...metric=manhattan, n_neighbors=2;, score=0.569 total time=   0.2s\n",
      "[CV 5/5] END ...metric=manhattan, n_neighbors=2;, score=0.497 total time=   0.2s\n",
      "[CV 1/5] END ...metric=manhattan, n_neighbors=3;, score=0.587 total time=   0.2s\n",
      "[CV 2/5] END ...metric=manhattan, n_neighbors=3;, score=0.572 total time=   0.2s\n",
      "[CV 3/5] END ...metric=manhattan, n_neighbors=3;, score=0.568 total time=   0.2s\n",
      "[CV 4/5] END ...metric=manhattan, n_neighbors=3;, score=0.608 total time=   0.2s\n",
      "[CV 5/5] END ...metric=manhattan, n_neighbors=3;, score=0.571 total time=   0.2s\n",
      "[CV 1/5] END ...metric=manhattan, n_neighbors=4;, score=0.596 total time=   0.3s\n",
      "[CV 2/5] END ...metric=manhattan, n_neighbors=4;, score=0.593 total time=   0.2s\n",
      "[CV 3/5] END ...metric=manhattan, n_neighbors=4;, score=0.581 total time=   0.2s\n",
      "[CV 4/5] END ...metric=manhattan, n_neighbors=4;, score=0.618 total time=   0.2s\n",
      "[CV 5/5] END ...metric=manhattan, n_neighbors=4;, score=0.584 total time=   0.2s\n",
      "[CV 1/5] END ...metric=manhattan, n_neighbors=5;, score=0.603 total time=   0.3s\n",
      "[CV 2/5] END ...metric=manhattan, n_neighbors=5;, score=0.595 total time=   0.2s\n",
      "[CV 3/5] END ...metric=manhattan, n_neighbors=5;, score=0.578 total time=   0.3s\n",
      "[CV 4/5] END ...metric=manhattan, n_neighbors=5;, score=0.620 total time=   0.2s\n",
      "[CV 5/5] END ...metric=manhattan, n_neighbors=5;, score=0.595 total time=   0.3s\n",
      "[CV 1/5] END ...metric=manhattan, n_neighbors=6;, score=0.601 total time=   0.2s\n",
      "[CV 2/5] END ...metric=manhattan, n_neighbors=6;, score=0.601 total time=   0.3s\n",
      "[CV 3/5] END ...metric=manhattan, n_neighbors=6;, score=0.580 total time=   0.3s\n",
      "[CV 4/5] END ...metric=manhattan, n_neighbors=6;, score=0.619 total time=   0.3s\n",
      "[CV 5/5] END ...metric=manhattan, n_neighbors=6;, score=0.597 total time=   0.3s\n",
      "[CV 1/5] END ...metric=manhattan, n_neighbors=7;, score=0.595 total time=   0.3s\n",
      "[CV 2/5] END ...metric=manhattan, n_neighbors=7;, score=0.600 total time=   0.3s\n",
      "[CV 3/5] END ...metric=manhattan, n_neighbors=7;, score=0.583 total time=   0.2s\n",
      "[CV 4/5] END ...metric=manhattan, n_neighbors=7;, score=0.618 total time=   0.2s\n",
      "[CV 5/5] END ...metric=manhattan, n_neighbors=7;, score=0.596 total time=   0.2s\n",
      "[CV 1/5] END ...metric=manhattan, n_neighbors=8;, score=0.593 total time=   0.3s\n",
      "[CV 2/5] END ...metric=manhattan, n_neighbors=8;, score=0.604 total time=   0.2s\n",
      "[CV 3/5] END ...metric=manhattan, n_neighbors=8;, score=0.578 total time=   0.2s\n",
      "[CV 4/5] END ...metric=manhattan, n_neighbors=8;, score=0.617 total time=   0.2s\n",
      "[CV 5/5] END ...metric=manhattan, n_neighbors=8;, score=0.592 total time=   0.2s\n",
      "[CV 1/5] END ...metric=manhattan, n_neighbors=9;, score=0.586 total time=   0.3s\n",
      "[CV 2/5] END ...metric=manhattan, n_neighbors=9;, score=0.605 total time=   0.3s\n",
      "[CV 3/5] END ...metric=manhattan, n_neighbors=9;, score=0.578 total time=   0.2s\n",
      "[CV 4/5] END ...metric=manhattan, n_neighbors=9;, score=0.617 total time=   0.2s\n",
      "[CV 5/5] END ...metric=manhattan, n_neighbors=9;, score=0.586 total time=   0.2s\n",
      "[CV 1/5] END ..metric=manhattan, n_neighbors=10;, score=0.579 total time=   0.3s\n",
      "[CV 2/5] END ..metric=manhattan, n_neighbors=10;, score=0.600 total time=   0.3s\n",
      "[CV 3/5] END ..metric=manhattan, n_neighbors=10;, score=0.568 total time=   0.2s\n",
      "[CV 4/5] END ..metric=manhattan, n_neighbors=10;, score=0.613 total time=   0.2s\n",
      "[CV 5/5] END ..metric=manhattan, n_neighbors=10;, score=0.581 total time=   0.2s\n",
      "[CV 1/5] END ..metric=manhattan, n_neighbors=11;, score=0.572 total time=   0.3s\n",
      "[CV 2/5] END ..metric=manhattan, n_neighbors=11;, score=0.598 total time=   0.3s\n",
      "[CV 3/5] END ..metric=manhattan, n_neighbors=11;, score=0.564 total time=   0.3s\n",
      "[CV 4/5] END ..metric=manhattan, n_neighbors=11;, score=0.609 total time=   0.2s\n",
      "[CV 5/5] END ..metric=manhattan, n_neighbors=11;, score=0.575 total time=   0.2s\n",
      "[CV 1/5] END ..metric=manhattan, n_neighbors=12;, score=0.568 total time=   0.3s\n",
      "[CV 2/5] END ..metric=manhattan, n_neighbors=12;, score=0.595 total time=   0.2s\n",
      "[CV 3/5] END ..metric=manhattan, n_neighbors=12;, score=0.561 total time=   0.2s\n",
      "[CV 4/5] END ..metric=manhattan, n_neighbors=12;, score=0.605 total time=   0.2s\n",
      "[CV 5/5] END ..metric=manhattan, n_neighbors=12;, score=0.571 total time=   0.3s\n",
      "[CV 1/5] END ..metric=manhattan, n_neighbors=13;, score=0.566 total time=   0.3s\n",
      "[CV 2/5] END ..metric=manhattan, n_neighbors=13;, score=0.590 total time=   0.3s\n",
      "[CV 3/5] END ..metric=manhattan, n_neighbors=13;, score=0.561 total time=   0.2s\n",
      "[CV 4/5] END ..metric=manhattan, n_neighbors=13;, score=0.601 total time=   0.2s\n",
      "[CV 5/5] END ..metric=manhattan, n_neighbors=13;, score=0.566 total time=   0.2s\n",
      "[CV 1/5] END ..metric=manhattan, n_neighbors=14;, score=0.561 total time=   0.3s\n",
      "[CV 2/5] END ..metric=manhattan, n_neighbors=14;, score=0.587 total time=   0.2s\n",
      "[CV 3/5] END ..metric=manhattan, n_neighbors=14;, score=0.556 total time=   0.3s\n",
      "[CV 4/5] END ..metric=manhattan, n_neighbors=14;, score=0.596 total time=   0.2s\n",
      "[CV 5/5] END ..metric=manhattan, n_neighbors=14;, score=0.564 total time=   0.2s\n",
      "[CV 1/5] END ..metric=manhattan, n_neighbors=15;, score=0.552 total time=   0.3s\n",
      "[CV 2/5] END ..metric=manhattan, n_neighbors=15;, score=0.579 total time=   0.2s\n",
      "[CV 3/5] END ..metric=manhattan, n_neighbors=15;, score=0.553 total time=   0.2s\n",
      "[CV 4/5] END ..metric=manhattan, n_neighbors=15;, score=0.591 total time=   0.2s\n",
      "[CV 5/5] END ..metric=manhattan, n_neighbors=15;, score=0.560 total time=   0.2s\n",
      "[CV 1/5] END ..metric=manhattan, n_neighbors=16;, score=0.547 total time=   0.3s\n",
      "[CV 2/5] END ..metric=manhattan, n_neighbors=16;, score=0.573 total time=   0.2s\n",
      "[CV 3/5] END ..metric=manhattan, n_neighbors=16;, score=0.550 total time=   0.2s\n",
      "[CV 4/5] END ..metric=manhattan, n_neighbors=16;, score=0.589 total time=   0.2s\n",
      "[CV 5/5] END ..metric=manhattan, n_neighbors=16;, score=0.555 total time=   0.2s\n",
      "[CV 1/5] END ..metric=manhattan, n_neighbors=17;, score=0.538 total time=   0.3s\n",
      "[CV 2/5] END ..metric=manhattan, n_neighbors=17;, score=0.570 total time=   0.2s\n",
      "[CV 3/5] END ..metric=manhattan, n_neighbors=17;, score=0.553 total time=   0.2s\n",
      "[CV 4/5] END ..metric=manhattan, n_neighbors=17;, score=0.587 total time=   0.3s\n",
      "[CV 5/5] END ..metric=manhattan, n_neighbors=17;, score=0.549 total time=   0.2s\n",
      "[CV 1/5] END ..metric=manhattan, n_neighbors=18;, score=0.531 total time=   0.3s\n",
      "[CV 2/5] END ..metric=manhattan, n_neighbors=18;, score=0.564 total time=   0.2s\n",
      "[CV 3/5] END ..metric=manhattan, n_neighbors=18;, score=0.550 total time=   0.2s\n",
      "[CV 4/5] END ..metric=manhattan, n_neighbors=18;, score=0.584 total time=   0.2s\n",
      "[CV 5/5] END ..metric=manhattan, n_neighbors=18;, score=0.550 total time=   0.2s\n",
      "[CV 1/5] END ..metric=manhattan, n_neighbors=19;, score=0.526 total time=   0.3s\n",
      "[CV 2/5] END ..metric=manhattan, n_neighbors=19;, score=0.559 total time=   0.3s\n",
      "[CV 3/5] END ..metric=manhattan, n_neighbors=19;, score=0.549 total time=   0.2s\n",
      "[CV 4/5] END ..metric=manhattan, n_neighbors=19;, score=0.581 total time=   0.2s\n",
      "[CV 5/5] END ..metric=manhattan, n_neighbors=19;, score=0.546 total time=   0.2s\n",
      "[CV 1/5] END ..metric=manhattan, n_neighbors=20;, score=0.523 total time=   0.3s\n",
      "[CV 2/5] END ..metric=manhattan, n_neighbors=20;, score=0.552 total time=   0.3s\n",
      "[CV 3/5] END ..metric=manhattan, n_neighbors=20;, score=0.547 total time=   0.3s\n",
      "[CV 4/5] END ..metric=manhattan, n_neighbors=20;, score=0.577 total time=   0.2s\n",
      "[CV 5/5] END ..metric=manhattan, n_neighbors=20;, score=0.542 total time=   0.2s\n",
      "[CV 1/5] END ..metric=manhattan, n_neighbors=21;, score=0.521 total time=   0.3s\n",
      "[CV 2/5] END ..metric=manhattan, n_neighbors=21;, score=0.548 total time=   0.3s\n",
      "[CV 3/5] END ..metric=manhattan, n_neighbors=21;, score=0.545 total time=   0.2s\n",
      "[CV 4/5] END ..metric=manhattan, n_neighbors=21;, score=0.575 total time=   0.2s\n",
      "[CV 5/5] END ..metric=manhattan, n_neighbors=21;, score=0.538 total time=   0.2s\n",
      "[CV 1/5] END ..metric=manhattan, n_neighbors=22;, score=0.517 total time=   0.3s\n",
      "[CV 2/5] END ..metric=manhattan, n_neighbors=22;, score=0.543 total time=   0.3s\n",
      "[CV 3/5] END ..metric=manhattan, n_neighbors=22;, score=0.541 total time=   0.3s\n",
      "[CV 4/5] END ..metric=manhattan, n_neighbors=22;, score=0.573 total time=   0.2s\n",
      "[CV 5/5] END ..metric=manhattan, n_neighbors=22;, score=0.537 total time=   0.2s\n",
      "[CV 1/5] END ..metric=manhattan, n_neighbors=23;, score=0.512 total time=   0.3s\n",
      "[CV 2/5] END ..metric=manhattan, n_neighbors=23;, score=0.542 total time=   0.2s\n",
      "[CV 3/5] END ..metric=manhattan, n_neighbors=23;, score=0.540 total time=   0.3s\n",
      "[CV 4/5] END ..metric=manhattan, n_neighbors=23;, score=0.570 total time=   0.2s\n",
      "[CV 5/5] END ..metric=manhattan, n_neighbors=23;, score=0.534 total time=   0.2s\n",
      "[CV 1/5] END ..metric=manhattan, n_neighbors=24;, score=0.508 total time=   0.3s\n",
      "[CV 2/5] END ..metric=manhattan, n_neighbors=24;, score=0.539 total time=   0.2s\n",
      "[CV 3/5] END ..metric=manhattan, n_neighbors=24;, score=0.537 total time=   0.2s\n",
      "[CV 4/5] END ..metric=manhattan, n_neighbors=24;, score=0.567 total time=   0.2s\n",
      "[CV 5/5] END ..metric=manhattan, n_neighbors=24;, score=0.532 total time=   0.3s\n",
      "[CV 1/5] END ..metric=manhattan, n_neighbors=25;, score=0.503 total time=   0.3s\n",
      "[CV 2/5] END ..metric=manhattan, n_neighbors=25;, score=0.536 total time=   0.3s\n",
      "[CV 3/5] END ..metric=manhattan, n_neighbors=25;, score=0.537 total time=   0.2s\n",
      "[CV 4/5] END ..metric=manhattan, n_neighbors=25;, score=0.566 total time=   0.2s\n",
      "[CV 5/5] END ..metric=manhattan, n_neighbors=25;, score=0.530 total time=   0.3s\n",
      "[CV 1/5] END ..metric=manhattan, n_neighbors=26;, score=0.497 total time=   0.3s\n",
      "[CV 2/5] END ..metric=manhattan, n_neighbors=26;, score=0.531 total time=   0.2s\n",
      "[CV 3/5] END ..metric=manhattan, n_neighbors=26;, score=0.537 total time=   0.2s\n",
      "[CV 4/5] END ..metric=manhattan, n_neighbors=26;, score=0.562 total time=   0.2s\n",
      "[CV 5/5] END ..metric=manhattan, n_neighbors=26;, score=0.527 total time=   0.2s\n",
      "[CV 1/5] END ..metric=manhattan, n_neighbors=27;, score=0.496 total time=   0.3s\n",
      "[CV 2/5] END ..metric=manhattan, n_neighbors=27;, score=0.529 total time=   0.3s\n",
      "[CV 3/5] END ..metric=manhattan, n_neighbors=27;, score=0.540 total time=   0.2s\n",
      "[CV 4/5] END ..metric=manhattan, n_neighbors=27;, score=0.559 total time=   0.2s\n",
      "[CV 5/5] END ..metric=manhattan, n_neighbors=27;, score=0.524 total time=   0.2s\n",
      "[CV 1/5] END ..metric=manhattan, n_neighbors=28;, score=0.494 total time=   0.3s\n",
      "[CV 2/5] END ..metric=manhattan, n_neighbors=28;, score=0.526 total time=   0.3s\n",
      "[CV 3/5] END ..metric=manhattan, n_neighbors=28;, score=0.541 total time=   0.3s\n",
      "[CV 4/5] END ..metric=manhattan, n_neighbors=28;, score=0.557 total time=   0.3s\n",
      "[CV 5/5] END ..metric=manhattan, n_neighbors=28;, score=0.522 total time=   0.2s\n",
      "[CV 1/5] END ..metric=manhattan, n_neighbors=29;, score=0.493 total time=   0.3s\n",
      "[CV 2/5] END ..metric=manhattan, n_neighbors=29;, score=0.524 total time=   0.3s\n",
      "[CV 3/5] END ..metric=manhattan, n_neighbors=29;, score=0.540 total time=   0.2s\n",
      "[CV 4/5] END ..metric=manhattan, n_neighbors=29;, score=0.554 total time=   0.2s\n",
      "[CV 5/5] END ..metric=manhattan, n_neighbors=29;, score=0.521 total time=   0.2s\n",
      "[CV 1/5] END ..metric=manhattan, n_neighbors=30;, score=0.490 total time=   0.3s\n",
      "[CV 2/5] END ..metric=manhattan, n_neighbors=30;, score=0.525 total time=   0.2s\n",
      "[CV 3/5] END ..metric=manhattan, n_neighbors=30;, score=0.540 total time=   0.2s\n",
      "[CV 4/5] END ..metric=manhattan, n_neighbors=30;, score=0.555 total time=   0.2s\n",
      "[CV 5/5] END ..metric=manhattan, n_neighbors=30;, score=0.521 total time=   0.3s\n"
     ]
    },
    {
     "data": {
      "text/plain": [
       "GridSearchCV(estimator=KNeighborsRegressor(),\n",
       "             param_grid={'metric': ['euclidean', 'manhattan'],\n",
       "                         'n_neighbors': [1, 2, 3, 4, 5, 6, 7, 8, 9, 10, 11, 12,\n",
       "                                         13, 14, 15, 16, 17, 18, 19, 20, 21, 22,\n",
       "                                         23, 24, 25, 26, 27, 28, 29, 30]},\n",
       "             verbose=3)"
      ]
     },
     "execution_count": 32,
     "metadata": {},
     "output_type": "execute_result"
    }
   ],
   "source": [
    "grid = GridSearchCV(KNeighborsRegressor(), param_grid, verbose =3)\n",
    "grid.fit(X_train,y_train)"
   ]
  },
  {
   "cell_type": "code",
   "execution_count": 33,
   "metadata": {},
   "outputs": [
    {
     "data": {
      "text/plain": [
       "{'metric': 'manhattan', 'n_neighbors': 6}"
      ]
     },
     "execution_count": 33,
     "metadata": {},
     "output_type": "execute_result"
    }
   ],
   "source": [
    "grid.best_params_"
   ]
  },
  {
   "cell_type": "code",
   "execution_count": 34,
   "metadata": {},
   "outputs": [],
   "source": [
    "grid_predictions = grid.best_estimator_.predict(X_test)"
   ]
  },
  {
   "cell_type": "code",
   "execution_count": 35,
   "metadata": {},
   "outputs": [
    {
     "name": "stdout",
     "output_type": "stream",
     "text": [
      "MAE 778.049631202346\n",
      "MSE 1178089.3757455533\n",
      "RMSE 1085.3982567452158\n"
     ]
    }
   ],
   "source": [
    "print(\"MAE\", metrics.mean_absolute_error(y_test,grid_predictions))\n",
    "print(\"MSE\", metrics.mean_squared_error(y_test,grid_predictions)) \n",
    "print(\"RMSE\", np.sqrt(metrics.mean_squared_error(y_test,grid_predictions)))"
   ]
  },
  {
   "cell_type": "code",
   "execution_count": null,
   "metadata": {},
   "outputs": [],
   "source": []
  }
 ],
 "metadata": {
  "kernelspec": {
   "display_name": "Python 3 (ipykernel)",
   "language": "python",
   "name": "python3"
  },
  "language_info": {
   "codemirror_mode": {
    "name": "ipython",
    "version": 3
   },
   "file_extension": ".py",
   "mimetype": "text/x-python",
   "name": "python",
   "nbconvert_exporter": "python",
   "pygments_lexer": "ipython3",
   "version": "3.10.9"
  }
 },
 "nbformat": 4,
 "nbformat_minor": 4
}
