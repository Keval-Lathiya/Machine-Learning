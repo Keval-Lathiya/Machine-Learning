{
 "cells": [
  {
   "cell_type": "markdown",
   "id": "b4b2a277",
   "metadata": {},
   "source": [
    "## Support Vector Machine Regression\n",
    "\n",
    "\n",
    "This dataset contains job postings from Glassdoor.com. We will use it to predict the salaries based on the given job characteristics.\n",
    "\n",
    "\n",
    "- job_id:\tThe unique identifier for the job posting (Numeric)\n",
    "- job_title_simple: The simplied version of the job title\n",
    "- Job Description: The posted job description on GlassDoor\n",
    "- CompanyRating: The rating the company received on GlassDoor\n",
    "- CompanyName: The name of the company that's hiring\n",
    "- Type of Ownership: The type of the company (e.g., Private, Public, Government)\n",
    "- job_state:\tThe state where the job is located (String)\n",
    "- python:\tA binary indicator of whether Python is a skill required for the job\n",
    "- r:\tA binary indicator of whether R is a skill required for the job\n",
    "- aws:\tA binary indicator of whether AWS (Amazon Web Services) is a skill required for the job\n",
    "- excel:\tA binary indicator of whether Excel is a skill required for the job\n"
   ]
  },
  {
   "cell_type": "code",
   "execution_count": 29,
   "id": "2a2a1222",
   "metadata": {},
   "outputs": [],
   "source": [
    "import pandas as pd\n",
    "import numpy as np\n",
    "import matplotlib.pyplot as plt\n",
    "import seaborn as sns\n",
    "%matplotlib inline"
   ]
  },
  {
   "cell_type": "code",
   "execution_count": 2,
   "id": "65865b4b",
   "metadata": {},
   "outputs": [],
   "source": [
    "data = pd.read_csv(\"salary.csv\")"
   ]
  },
  {
   "cell_type": "code",
   "execution_count": 3,
   "id": "4dbcf3ae",
   "metadata": {},
   "outputs": [
    {
     "data": {
      "text/html": [
       "<div>\n",
       "<style scoped>\n",
       "    .dataframe tbody tr th:only-of-type {\n",
       "        vertical-align: middle;\n",
       "    }\n",
       "\n",
       "    .dataframe tbody tr th {\n",
       "        vertical-align: top;\n",
       "    }\n",
       "\n",
       "    .dataframe thead th {\n",
       "        text-align: right;\n",
       "    }\n",
       "</style>\n",
       "<table border=\"1\" class=\"dataframe\">\n",
       "  <thead>\n",
       "    <tr style=\"text-align: right;\">\n",
       "      <th></th>\n",
       "      <th>ID</th>\n",
       "      <th>job_title_simple</th>\n",
       "      <th>Job Description</th>\n",
       "      <th>CompanyRating</th>\n",
       "      <th>Company Name</th>\n",
       "      <th>Type of ownership</th>\n",
       "      <th>job_state</th>\n",
       "      <th>python</th>\n",
       "      <th>r</th>\n",
       "      <th>aws</th>\n",
       "      <th>excel</th>\n",
       "      <th>salary</th>\n",
       "    </tr>\n",
       "  </thead>\n",
       "  <tbody>\n",
       "    <tr>\n",
       "      <th>0</th>\n",
       "      <td>0.0</td>\n",
       "      <td>data scientist</td>\n",
       "      <td>Data Scientist\\nLocation: Albuquerque, NM\\nEdu...</td>\n",
       "      <td>3.8</td>\n",
       "      <td>Tecolote Research\\n3.8</td>\n",
       "      <td>Company - Private</td>\n",
       "      <td>NM</td>\n",
       "      <td>1.0</td>\n",
       "      <td>0.0</td>\n",
       "      <td>0.0</td>\n",
       "      <td>1.0</td>\n",
       "      <td>72000.0</td>\n",
       "    </tr>\n",
       "    <tr>\n",
       "      <th>1</th>\n",
       "      <td>1.0</td>\n",
       "      <td>data scientist</td>\n",
       "      <td>What You Will Do:\\n\\nI. General Summary\\n\\nThe...</td>\n",
       "      <td>3.4</td>\n",
       "      <td>University of Maryland Medical System\\n3.4</td>\n",
       "      <td>Other Organization</td>\n",
       "      <td>MD</td>\n",
       "      <td>1.0</td>\n",
       "      <td>0.0</td>\n",
       "      <td>0.0</td>\n",
       "      <td>0.0</td>\n",
       "      <td>87500.0</td>\n",
       "    </tr>\n",
       "    <tr>\n",
       "      <th>2</th>\n",
       "      <td>2.0</td>\n",
       "      <td>data scientist</td>\n",
       "      <td>KnowBe4, Inc. is a high growth information sec...</td>\n",
       "      <td>4.8</td>\n",
       "      <td>KnowBe4\\n4.8</td>\n",
       "      <td>Company - Private</td>\n",
       "      <td>FL</td>\n",
       "      <td>1.0</td>\n",
       "      <td>0.0</td>\n",
       "      <td>0.0</td>\n",
       "      <td>1.0</td>\n",
       "      <td>85000.0</td>\n",
       "    </tr>\n",
       "    <tr>\n",
       "      <th>3</th>\n",
       "      <td>3.0</td>\n",
       "      <td>data scientist</td>\n",
       "      <td>*Organization and Job ID**\\nJob ID: 310709\\n\\n...</td>\n",
       "      <td>3.8</td>\n",
       "      <td>PNNL\\n3.8</td>\n",
       "      <td>Government</td>\n",
       "      <td>WA</td>\n",
       "      <td>1.0</td>\n",
       "      <td>0.0</td>\n",
       "      <td>0.0</td>\n",
       "      <td>0.0</td>\n",
       "      <td>76500.0</td>\n",
       "    </tr>\n",
       "    <tr>\n",
       "      <th>4</th>\n",
       "      <td>4.0</td>\n",
       "      <td>data scientist</td>\n",
       "      <td>Data Scientist\\nAffinity Solutions / Marketing...</td>\n",
       "      <td>2.9</td>\n",
       "      <td>Affinity Solutions\\n2.9</td>\n",
       "      <td>Company - Private</td>\n",
       "      <td>NY</td>\n",
       "      <td>1.0</td>\n",
       "      <td>0.0</td>\n",
       "      <td>0.0</td>\n",
       "      <td>1.0</td>\n",
       "      <td>114500.0</td>\n",
       "    </tr>\n",
       "  </tbody>\n",
       "</table>\n",
       "</div>"
      ],
      "text/plain": [
       "    ID job_title_simple                                    Job Description  \\\n",
       "0  0.0   data scientist  Data Scientist\\nLocation: Albuquerque, NM\\nEdu...   \n",
       "1  1.0   data scientist  What You Will Do:\\n\\nI. General Summary\\n\\nThe...   \n",
       "2  2.0   data scientist  KnowBe4, Inc. is a high growth information sec...   \n",
       "3  3.0   data scientist  *Organization and Job ID**\\nJob ID: 310709\\n\\n...   \n",
       "4  4.0   data scientist  Data Scientist\\nAffinity Solutions / Marketing...   \n",
       "\n",
       "   CompanyRating                                Company Name  \\\n",
       "0            3.8                      Tecolote Research\\n3.8   \n",
       "1            3.4  University of Maryland Medical System\\n3.4   \n",
       "2            4.8                                KnowBe4\\n4.8   \n",
       "3            3.8                                   PNNL\\n3.8   \n",
       "4            2.9                     Affinity Solutions\\n2.9   \n",
       "\n",
       "    Type of ownership job_state  python    r  aws  excel    salary  \n",
       "0   Company - Private        NM     1.0  0.0  0.0    1.0   72000.0  \n",
       "1  Other Organization        MD     1.0  0.0  0.0    0.0   87500.0  \n",
       "2   Company - Private        FL     1.0  0.0  0.0    1.0   85000.0  \n",
       "3          Government        WA     1.0  0.0  0.0    0.0   76500.0  \n",
       "4   Company - Private        NY     1.0  0.0  0.0    1.0  114500.0  "
      ]
     },
     "execution_count": 3,
     "metadata": {},
     "output_type": "execute_result"
    }
   ],
   "source": [
    "data.head()"
   ]
  },
  {
   "cell_type": "code",
   "execution_count": 4,
   "id": "e4457469",
   "metadata": {},
   "outputs": [
    {
     "name": "stdout",
     "output_type": "stream",
     "text": [
      "<class 'pandas.core.frame.DataFrame'>\n",
      "RangeIndex: 743 entries, 0 to 742\n",
      "Data columns (total 12 columns):\n",
      " #   Column             Non-Null Count  Dtype  \n",
      "---  ------             --------------  -----  \n",
      " 0   ID                 738 non-null    float64\n",
      " 1   job_title_simple   738 non-null    object \n",
      " 2   Job Description    738 non-null    object \n",
      " 3   CompanyRating      738 non-null    float64\n",
      " 4   Company Name       738 non-null    object \n",
      " 5   Type of ownership  738 non-null    object \n",
      " 6   job_state          738 non-null    object \n",
      " 7   python             738 non-null    float64\n",
      " 8   r                  738 non-null    float64\n",
      " 9   aws                738 non-null    float64\n",
      " 10  excel              738 non-null    float64\n",
      " 11  salary             370 non-null    float64\n",
      "dtypes: float64(7), object(5)\n",
      "memory usage: 69.8+ KB\n"
     ]
    }
   ],
   "source": [
    "data.info()"
   ]
  },
  {
   "cell_type": "markdown",
   "id": "1afaa5ce",
   "metadata": {},
   "source": [
    "Salary is missing a lot values, since this is the column we will predict, it would be best to drop the null values, instead of imputing."
   ]
  },
  {
   "cell_type": "code",
   "execution_count": 5,
   "id": "af9d4235",
   "metadata": {},
   "outputs": [],
   "source": [
    "data.dropna(inplace=True)"
   ]
  },
  {
   "cell_type": "code",
   "execution_count": 6,
   "id": "51a855c0",
   "metadata": {},
   "outputs": [
    {
     "name": "stdout",
     "output_type": "stream",
     "text": [
      "<class 'pandas.core.frame.DataFrame'>\n",
      "Int64Index: 370 entries, 0 to 369\n",
      "Data columns (total 12 columns):\n",
      " #   Column             Non-Null Count  Dtype  \n",
      "---  ------             --------------  -----  \n",
      " 0   ID                 370 non-null    float64\n",
      " 1   job_title_simple   370 non-null    object \n",
      " 2   Job Description    370 non-null    object \n",
      " 3   CompanyRating      370 non-null    float64\n",
      " 4   Company Name       370 non-null    object \n",
      " 5   Type of ownership  370 non-null    object \n",
      " 6   job_state          370 non-null    object \n",
      " 7   python             370 non-null    float64\n",
      " 8   r                  370 non-null    float64\n",
      " 9   aws                370 non-null    float64\n",
      " 10  excel              370 non-null    float64\n",
      " 11  salary             370 non-null    float64\n",
      "dtypes: float64(7), object(5)\n",
      "memory usage: 37.6+ KB\n"
     ]
    }
   ],
   "source": [
    "data.info()"
   ]
  },
  {
   "cell_type": "markdown",
   "id": "47540485",
   "metadata": {},
   "source": [
    "After dropping we are left with 370 jobs."
   ]
  },
  {
   "cell_type": "code",
   "execution_count": 7,
   "id": "c29a8546",
   "metadata": {},
   "outputs": [
    {
     "data": {
      "text/html": [
       "<div>\n",
       "<style scoped>\n",
       "    .dataframe tbody tr th:only-of-type {\n",
       "        vertical-align: middle;\n",
       "    }\n",
       "\n",
       "    .dataframe tbody tr th {\n",
       "        vertical-align: top;\n",
       "    }\n",
       "\n",
       "    .dataframe thead th {\n",
       "        text-align: right;\n",
       "    }\n",
       "</style>\n",
       "<table border=\"1\" class=\"dataframe\">\n",
       "  <thead>\n",
       "    <tr style=\"text-align: right;\">\n",
       "      <th></th>\n",
       "      <th>ID</th>\n",
       "      <th>CompanyRating</th>\n",
       "      <th>python</th>\n",
       "      <th>r</th>\n",
       "      <th>aws</th>\n",
       "      <th>excel</th>\n",
       "      <th>salary</th>\n",
       "    </tr>\n",
       "  </thead>\n",
       "  <tbody>\n",
       "    <tr>\n",
       "      <th>count</th>\n",
       "      <td>370.00000</td>\n",
       "      <td>370.000000</td>\n",
       "      <td>370.000000</td>\n",
       "      <td>370.000000</td>\n",
       "      <td>370.000000</td>\n",
       "      <td>370.000000</td>\n",
       "      <td>370.000000</td>\n",
       "    </tr>\n",
       "    <tr>\n",
       "      <th>mean</th>\n",
       "      <td>184.50000</td>\n",
       "      <td>3.741081</td>\n",
       "      <td>0.556757</td>\n",
       "      <td>0.005405</td>\n",
       "      <td>0.224324</td>\n",
       "      <td>0.529730</td>\n",
       "      <td>101029.729730</td>\n",
       "    </tr>\n",
       "    <tr>\n",
       "      <th>std</th>\n",
       "      <td>106.95404</td>\n",
       "      <td>0.567062</td>\n",
       "      <td>0.497441</td>\n",
       "      <td>0.073422</td>\n",
       "      <td>0.417701</td>\n",
       "      <td>0.499791</td>\n",
       "      <td>38352.829011</td>\n",
       "    </tr>\n",
       "    <tr>\n",
       "      <th>min</th>\n",
       "      <td>0.00000</td>\n",
       "      <td>1.900000</td>\n",
       "      <td>0.000000</td>\n",
       "      <td>0.000000</td>\n",
       "      <td>0.000000</td>\n",
       "      <td>0.000000</td>\n",
       "      <td>15500.000000</td>\n",
       "    </tr>\n",
       "    <tr>\n",
       "      <th>25%</th>\n",
       "      <td>92.25000</td>\n",
       "      <td>3.400000</td>\n",
       "      <td>0.000000</td>\n",
       "      <td>0.000000</td>\n",
       "      <td>0.000000</td>\n",
       "      <td>0.000000</td>\n",
       "      <td>76500.000000</td>\n",
       "    </tr>\n",
       "    <tr>\n",
       "      <th>50%</th>\n",
       "      <td>184.50000</td>\n",
       "      <td>3.800000</td>\n",
       "      <td>1.000000</td>\n",
       "      <td>0.000000</td>\n",
       "      <td>0.000000</td>\n",
       "      <td>1.000000</td>\n",
       "      <td>97750.000000</td>\n",
       "    </tr>\n",
       "    <tr>\n",
       "      <th>75%</th>\n",
       "      <td>276.75000</td>\n",
       "      <td>4.100000</td>\n",
       "      <td>1.000000</td>\n",
       "      <td>0.000000</td>\n",
       "      <td>0.000000</td>\n",
       "      <td>1.000000</td>\n",
       "      <td>124000.000000</td>\n",
       "    </tr>\n",
       "    <tr>\n",
       "      <th>max</th>\n",
       "      <td>369.00000</td>\n",
       "      <td>5.000000</td>\n",
       "      <td>1.000000</td>\n",
       "      <td>1.000000</td>\n",
       "      <td>1.000000</td>\n",
       "      <td>1.000000</td>\n",
       "      <td>254000.000000</td>\n",
       "    </tr>\n",
       "  </tbody>\n",
       "</table>\n",
       "</div>"
      ],
      "text/plain": [
       "              ID  CompanyRating      python           r         aws  \\\n",
       "count  370.00000     370.000000  370.000000  370.000000  370.000000   \n",
       "mean   184.50000       3.741081    0.556757    0.005405    0.224324   \n",
       "std    106.95404       0.567062    0.497441    0.073422    0.417701   \n",
       "min      0.00000       1.900000    0.000000    0.000000    0.000000   \n",
       "25%     92.25000       3.400000    0.000000    0.000000    0.000000   \n",
       "50%    184.50000       3.800000    1.000000    0.000000    0.000000   \n",
       "75%    276.75000       4.100000    1.000000    0.000000    0.000000   \n",
       "max    369.00000       5.000000    1.000000    1.000000    1.000000   \n",
       "\n",
       "            excel         salary  \n",
       "count  370.000000     370.000000  \n",
       "mean     0.529730  101029.729730  \n",
       "std      0.499791   38352.829011  \n",
       "min      0.000000   15500.000000  \n",
       "25%      0.000000   76500.000000  \n",
       "50%      1.000000   97750.000000  \n",
       "75%      1.000000  124000.000000  \n",
       "max      1.000000  254000.000000  "
      ]
     },
     "execution_count": 7,
     "metadata": {},
     "output_type": "execute_result"
    }
   ],
   "source": [
    "data.describe()"
   ]
  },
  {
   "cell_type": "markdown",
   "id": "9c98053d",
   "metadata": {},
   "source": [
    "Let's see which categorical columns we can work with."
   ]
  },
  {
   "cell_type": "code",
   "execution_count": 8,
   "id": "e6cc9546",
   "metadata": {},
   "outputs": [
    {
     "data": {
      "text/plain": [
       "array(['data scientist', 'na', 'analyst', 'data engineer', 'director',\n",
       "       'manager', 'mle'], dtype=object)"
      ]
     },
     "execution_count": 8,
     "metadata": {},
     "output_type": "execute_result"
    }
   ],
   "source": [
    "data[\"job_title_simple\"].unique()"
   ]
  },
  {
   "cell_type": "code",
   "execution_count": 9,
   "id": "15af374e",
   "metadata": {},
   "outputs": [
    {
     "data": {
      "text/plain": [
       "<AxesSubplot:xlabel='job_title_simple', ylabel='salary'>"
      ]
     },
     "execution_count": 9,
     "metadata": {},
     "output_type": "execute_result"
    },
    {
     "data": {
      "image/png": "[encoded data removed]",
      "text/plain": [
       "<Figure size 640x480 with 1 Axes>"
      ]
     },
     "metadata": {},
     "output_type": "display_data"
    }
   ],
   "source": [
    "plt.figure(figsize=(8, 6), dpi=80)\n",
    "sns.boxplot(x=\"job_title_simple\",y=\"salary\",data=data)"
   ]
  },
  {
   "cell_type": "markdown",
   "id": "1bb68321",
   "metadata": {},
   "source": [
    "job title 7 unique values, we can convert that into dummy columns"
   ]
  },
  {
   "cell_type": "code",
   "execution_count": 10,
   "id": "40b53570",
   "metadata": {},
   "outputs": [
    {
     "data": {
      "text/plain": [
       "234"
      ]
     },
     "execution_count": 10,
     "metadata": {},
     "output_type": "execute_result"
    }
   ],
   "source": [
    "data[\"Company Name\"].nunique() # Too many companies"
   ]
  },
  {
   "cell_type": "markdown",
   "id": "ea06d25a",
   "metadata": {},
   "source": [
    "The number of unique companies is too many in a dataset that only has 370 rows. It means not most companies don't even have 2 jobs in this dataset. So we will drop this column!"
   ]
  },
  {
   "cell_type": "code",
   "execution_count": 11,
   "id": "7b85274c",
   "metadata": {},
   "outputs": [
    {
     "data": {
      "text/plain": [
       "9"
      ]
     },
     "execution_count": 11,
     "metadata": {},
     "output_type": "execute_result"
    }
   ],
   "source": [
    "data[\"Type of ownership\"].nunique()"
   ]
  },
  {
   "cell_type": "markdown",
   "id": "206cc0d7",
   "metadata": {},
   "source": [
    "9 unique values we can work with. Let's convert Type ownership into dummy variables as well"
   ]
  },
  {
   "cell_type": "code",
   "execution_count": 12,
   "id": "fbe731f4",
   "metadata": {},
   "outputs": [
    {
     "data": {
      "text/plain": [
       "37"
      ]
     },
     "execution_count": 12,
     "metadata": {},
     "output_type": "execute_result"
    }
   ],
   "source": [
    "data[\"job_state\"].nunique()"
   ]
  },
  {
   "cell_type": "markdown",
   "id": "4766fc86",
   "metadata": {},
   "source": [
    "Generating 37 dummy columns again is a bit much for this dataset. However, it is not as bad as the Company Name column and state might have important clues about the salary. So let's convert the job_state column by assigning each state a number.\n",
    "\n",
    "Label encoding converts the categorical data into numerical ones, but it assigns a unique number(starting from 0) to each class of data. This may lead to the generation of priority issues during model training of data sets. A label with a high value may be considered to have high priority than a label having a lower value."
   ]
  },
  {
   "cell_type": "code",
   "execution_count": 13,
   "id": "9a74f8c8",
   "metadata": {},
   "outputs": [],
   "source": [
    "from sklearn import preprocessing \n",
    "label_encoder = preprocessing.LabelEncoder() \n",
    "  \n",
    "# Encode states in column 'job_state'. \n",
    "data['job_state']= label_encoder.fit_transform(data['job_state']) "
   ]
  },
  {
   "cell_type": "markdown",
   "id": "44716ff9",
   "metadata": {},
   "source": [
    "Let's convert the other two categorigal columns into dummy variables"
   ]
  },
  {
   "cell_type": "code",
   "execution_count": 14,
   "id": "e31c1fd1",
   "metadata": {},
   "outputs": [],
   "source": [
    "data = pd.get_dummies(data, columns =[\"job_title_simple\", \"Type of ownership\"])"
   ]
  },
  {
   "cell_type": "code",
   "execution_count": 15,
   "id": "1b4be904",
   "metadata": {},
   "outputs": [
    {
     "name": "stdout",
     "output_type": "stream",
     "text": [
      "<class 'pandas.core.frame.DataFrame'>\n",
      "Int64Index: 370 entries, 0 to 369\n",
      "Data columns (total 26 columns):\n",
      " #   Column                                            Non-Null Count  Dtype  \n",
      "---  ------                                            --------------  -----  \n",
      " 0   ID                                                370 non-null    float64\n",
      " 1   Job Description                                   370 non-null    object \n",
      " 2   CompanyRating                                     370 non-null    float64\n",
      " 3   Company Name                                      370 non-null    object \n",
      " 4   job_state                                         370 non-null    int64  \n",
      " 5   python                                            370 non-null    float64\n",
      " 6   r                                                 370 non-null    float64\n",
      " 7   aws                                               370 non-null    float64\n",
      " 8   excel                                             370 non-null    float64\n",
      " 9   salary                                            370 non-null    float64\n",
      " 10  job_title_simple_analyst                          370 non-null    uint8  \n",
      " 11  job_title_simple_data engineer                    370 non-null    uint8  \n",
      " 12  job_title_simple_data scientist                   370 non-null    uint8  \n",
      " 13  job_title_simple_director                         370 non-null    uint8  \n",
      " 14  job_title_simple_manager                          370 non-null    uint8  \n",
      " 15  job_title_simple_mle                              370 non-null    uint8  \n",
      " 16  job_title_simple_na                               370 non-null    uint8  \n",
      " 17  Type of ownership_College / University            370 non-null    uint8  \n",
      " 18  Type of ownership_Company - Private               370 non-null    uint8  \n",
      " 19  Type of ownership_Company - Public                370 non-null    uint8  \n",
      " 20  Type of ownership_Government                      370 non-null    uint8  \n",
      " 21  Type of ownership_Hospital                        370 non-null    uint8  \n",
      " 22  Type of ownership_Nonprofit Organization          370 non-null    uint8  \n",
      " 23  Type of ownership_Other Organization              370 non-null    uint8  \n",
      " 24  Type of ownership_Subsidiary or Business Segment  370 non-null    uint8  \n",
      " 25  Type of ownership_Unknown                         370 non-null    uint8  \n",
      "dtypes: float64(7), int64(1), object(2), uint8(16)\n",
      "memory usage: 37.6+ KB\n"
     ]
    }
   ],
   "source": [
    "data.info()"
   ]
  },
  {
   "cell_type": "markdown",
   "id": "c2c762b3",
   "metadata": {},
   "source": [
    "## Train Test Split"
   ]
  },
  {
   "cell_type": "code",
   "execution_count": 16,
   "id": "9609f248",
   "metadata": {},
   "outputs": [],
   "source": [
    "X = data.drop([\"ID\", \"Job Description\", \"Company Name\", \"salary\"], axis=1)\n",
    "y= data[\"salary\"]"
   ]
  },
  {
   "cell_type": "code",
   "execution_count": 17,
   "id": "50acc75b",
   "metadata": {},
   "outputs": [],
   "source": [
    "from sklearn.model_selection import train_test_split\n",
    "X_train, X_test, y_train, y_test = train_test_split(X, y, test_size=0.2, random_state=1)"
   ]
  },
  {
   "cell_type": "markdown",
   "id": "20104e75",
   "metadata": {},
   "source": [
    "### Data Scaling"
   ]
  },
  {
   "cell_type": "code",
   "execution_count": 18,
   "id": "01050845",
   "metadata": {},
   "outputs": [],
   "source": [
    "from sklearn.preprocessing import StandardScaler\n",
    "scaler = StandardScaler()\n",
    "X_train = scaler.fit_transform(X_train)\n",
    "X_test = scaler.transform(X_test)"
   ]
  },
  {
   "cell_type": "markdown",
   "id": "64ba1f0e",
   "metadata": {},
   "source": [
    "## Algorithm Setup and Training"
   ]
  },
  {
   "cell_type": "code",
   "execution_count": 19,
   "id": "de291b4d",
   "metadata": {},
   "outputs": [
    {
     "data": {
      "text/html": [
       "<style>#sk-container-id-1 {color: black;background-color: white;}#sk-container-id-1 pre{padding: 0;}#sk-container-id-1 div.sk-toggleable {background-color: white;}#sk-container-id-1 label.sk-toggleable__label {cursor: pointer;display: block;width: 100%;margin-bottom: 0;padding: 0.3em;box-sizing: border-box;text-align: center;}#sk-container-id-1 label.sk-toggleable__label-arrow:before {content: \"▸\";float: left;margin-right: 0.25em;color: #696969;}#sk-container-id-1 label.sk-toggleable__label-arrow:hover:before {color: black;}#sk-container-id-1 div.sk-estimator:hover label.sk-toggleable__label-arrow:before {color: black;}#sk-container-id-1 div.sk-toggleable__content {max-height: 0;max-width: 0;overflow: hidden;text-align: left;background-color: #f0f8ff;}#sk-container-id-1 div.sk-toggleable__content pre {margin: 0.2em;color: black;border-radius: 0.25em;background-color: #f0f8ff;}#sk-container-id-1 input.sk-toggleable__control:checked~div.sk-toggleable__content {max-height: 200px;max-width: 100%;overflow: auto;}#sk-container-id-1 input.sk-toggleable__control:checked~label.sk-toggleable__label-arrow:before {content: \"▾\";}#sk-container-id-1 div.sk-estimator input.sk-toggleable__control:checked~label.sk-toggleable__label {background-color: #d4ebff;}#sk-container-id-1 div.sk-label input.sk-toggleable__control:checked~label.sk-toggleable__label {background-color: #d4ebff;}#sk-container-id-1 input.sk-hidden--visually {border: 0;clip: rect(1px 1px 1px 1px);clip: rect(1px, 1px, 1px, 1px);height: 1px;margin: -1px;overflow: hidden;padding: 0;position: absolute;width: 1px;}#sk-container-id-1 div.sk-estimator {font-family: monospace;background-color: #f0f8ff;border: 1px dotted black;border-radius: 0.25em;box-sizing: border-box;margin-bottom: 0.5em;}#sk-container-id-1 div.sk-estimator:hover {background-color: #d4ebff;}#sk-container-id-1 div.sk-parallel-item::after {content: \"\";width: 100%;border-bottom: 1px solid gray;flex-grow: 1;}#sk-container-id-1 div.sk-label:hover label.sk-toggleable__label {background-color: #d4ebff;}#sk-container-id-1 div.sk-serial::before {content: \"\";position: absolute;border-left: 1px solid gray;box-sizing: border-box;top: 0;bottom: 0;left: 50%;z-index: 0;}#sk-container-id-1 div.sk-serial {display: flex;flex-direction: column;align-items: center;background-color: white;padding-right: 0.2em;padding-left: 0.2em;position: relative;}#sk-container-id-1 div.sk-item {position: relative;z-index: 1;}#sk-container-id-1 div.sk-parallel {display: flex;align-items: stretch;justify-content: center;background-color: white;position: relative;}#sk-container-id-1 div.sk-item::before, #sk-container-id-1 div.sk-parallel-item::before {content: \"\";position: absolute;border-left: 1px solid gray;box-sizing: border-box;top: 0;bottom: 0;left: 50%;z-index: -1;}#sk-container-id-1 div.sk-parallel-item {display: flex;flex-direction: column;z-index: 1;position: relative;background-color: white;}#sk-container-id-1 div.sk-parallel-item:first-child::after {align-self: flex-end;width: 50%;}#sk-container-id-1 div.sk-parallel-item:last-child::after {align-self: flex-start;width: 50%;}#sk-container-id-1 div.sk-parallel-item:only-child::after {width: 0;}#sk-container-id-1 div.sk-dashed-wrapped {border: 1px dashed gray;margin: 0 0.4em 0.5em 0.4em;box-sizing: border-box;padding-bottom: 0.4em;background-color: white;}#sk-container-id-1 div.sk-label label {font-family: monospace;font-weight: bold;display: inline-block;line-height: 1.2em;}#sk-container-id-1 div.sk-label-container {text-align: center;}#sk-container-id-1 div.sk-container {/* jupyter's `normalize.less` sets `[hidden] { display: none; }` but bootstrap.min.css set `[hidden] { display: none !important; }` so we also need the `!important` here to be able to override the default hidden behavior on the sphinx rendered scikit-learn.org. See: https://github.com/scikit-learn/scikit-learn/issues/21755 */display: inline-block !important;position: relative;}#sk-container-id-1 div.sk-text-repr-fallback {display: none;}</style><div id=\"sk-container-id-1\" class=\"sk-top-container\"><div class=\"sk-text-repr-fallback\"><pre>SVR()</pre><b>In a Jupyter environment, please rerun this cell to show the HTML representation or trust the notebook. <br />On GitHub, the HTML representation is unable to render, please try loading this page with nbviewer.org.</b></div><div class=\"sk-container\" hidden><div class=\"sk-item\"><div class=\"sk-estimator sk-toggleable\"><input class=\"sk-toggleable__control sk-hidden--visually\" id=\"sk-estimator-id-1\" type=\"checkbox\" checked><label for=\"sk-estimator-id-1\" class=\"sk-toggleable__label sk-toggleable__label-arrow\">SVR</label><div class=\"sk-toggleable__content\"><pre>SVR()</pre></div></div></div></div></div>"
      ],
      "text/plain": [
       "SVR()"
      ]
     },
     "execution_count": 19,
     "metadata": {},
     "output_type": "execute_result"
    }
   ],
   "source": [
    "from sklearn.svm import SVR\n",
    "model = SVR()\n",
    "model.fit(X_train,y_train)"
   ]
  },
  {
   "cell_type": "markdown",
   "id": "49b48a33",
   "metadata": {},
   "source": [
    "## Model Testing and Evaluation"
   ]
  },
  {
   "cell_type": "code",
   "execution_count": 20,
   "id": "a365c783",
   "metadata": {},
   "outputs": [],
   "source": [
    "predictions = model.predict(X_test)"
   ]
  },
  {
   "cell_type": "code",
   "execution_count": 21,
   "id": "594f9585",
   "metadata": {},
   "outputs": [
    {
     "name": "stdout",
     "output_type": "stream",
     "text": [
      "Mean Absolute Error: 29887.184116696397\n",
      "Mean Squared Error: 1245025814.2079716\n",
      "Root Mean Squared Error: 35284.92332722252\n"
     ]
    }
   ],
   "source": [
    "from sklearn import metrics\n",
    "\n",
    "print('Mean Absolute Error:', metrics.mean_absolute_error(y_test, predictions))\n",
    "print('Mean Squared Error:', metrics.mean_squared_error(y_test, predictions))\n",
    "print('Root Mean Squared Error:', np.sqrt(metrics.mean_squared_error(y_test, predictions)))"
   ]
  },
  {
   "cell_type": "markdown",
   "id": "2543e7e7",
   "metadata": {},
   "source": [
    "Not the best model. RMSE is very close to the standard deviation of the salary column. This means our model works as well as if we were to use the average salary value as the prediction for any new job.\n",
    "\n",
    "Let's see if we were able to improve with Grid Search!"
   ]
  },
  {
   "cell_type": "code",
   "execution_count": 22,
   "id": "543840ad",
   "metadata": {},
   "outputs": [],
   "source": [
    "from sklearn.model_selection import GridSearchCV\n",
    "param_grid = {'C': [0.1,1, 10, 100, 1000,  5000, 10000, 20000], 'gamma': [\"auto\",\"scale\"],'kernel': ['linear','rbf']} "
   ]
  },
  {
   "cell_type": "markdown",
   "id": "26b1ea5a",
   "metadata": {},
   "source": [
    "In SVR, C controls the trade-off between the flatness of the regression function and the amount tolerated for deviations larger than the epsilon margin.\n",
    "\n",
    "Small C value: A small C value allows for a larger margin of tolerance for deviations from the predicted values (i.e., larger ε-insensitive zone). This can lead to a simpler regression function that may generalize better to new data but might underfit the training data.\n",
    "\n",
    "Large C value: A large C value imposes a higher penalty on deviations outside the ε-insensitive zone, leading to a smaller margin of tolerance. This can result in a more complex regression function that fits the training data well but might overfit and perform poorly on new data.\n",
    "\n",
    "In SVR, the C parameter helps to balance the trade-off between the complexity of the regression function (fitting the training data well) and its generalization ability (performing well on new data). "
   ]
  },
  {
   "cell_type": "code",
   "execution_count": 23,
   "id": "5c994e1c",
   "metadata": {},
   "outputs": [],
   "source": [
    "grid = GridSearchCV(SVR(),param_grid,verbose=3)"
   ]
  },
  {
   "cell_type": "code",
   "execution_count": 24,
   "id": "686fcc21",
   "metadata": {},
   "outputs": [
    {
     "name": "stdout",
     "output_type": "stream",
     "text": [
      "Fitting 5 folds for each of 32 candidates, totalling 160 fits\n",
      "[CV 1/5] END .C=0.1, gamma=auto, kernel=linear;, score=-0.026 total time=   0.0s\n",
      "[CV 2/5] END .C=0.1, gamma=auto, kernel=linear;, score=-0.007 total time=   0.0s\n",
      "[CV 3/5] END .C=0.1, gamma=auto, kernel=linear;, score=-0.042 total time=   0.0s\n",
      "[CV 4/5] END .C=0.1, gamma=auto, kernel=linear;, score=-0.036 total time=   0.0s\n",
      "[CV 5/5] END .C=0.1, gamma=auto, kernel=linear;, score=-0.059 total time=   0.0s\n",
      "[CV 1/5] END ....C=0.1, gamma=auto, kernel=rbf;, score=-0.027 total time=   0.0s\n",
      "[CV 2/5] END ....C=0.1, gamma=auto, kernel=rbf;, score=-0.008 total time=   0.0s\n",
      "[CV 3/5] END ....C=0.1, gamma=auto, kernel=rbf;, score=-0.043 total time=   0.0s\n",
      "[CV 4/5] END ....C=0.1, gamma=auto, kernel=rbf;, score=-0.037 total time=   0.0s\n",
      "[CV 5/5] END ....C=0.1, gamma=auto, kernel=rbf;, score=-0.060 total time=   0.0s\n",
      "[CV 1/5] END C=0.1, gamma=scale, kernel=linear;, score=-0.026 total time=   0.0s\n",
      "[CV 2/5] END C=0.1, gamma=scale, kernel=linear;, score=-0.007 total time=   0.0s\n",
      "[CV 3/5] END C=0.1, gamma=scale, kernel=linear;, score=-0.042 total time=   0.0s\n",
      "[CV 4/5] END C=0.1, gamma=scale, kernel=linear;, score=-0.036 total time=   0.0s\n",
      "[CV 5/5] END C=0.1, gamma=scale, kernel=linear;, score=-0.059 total time=   0.0s\n",
      "[CV 1/5] END ...C=0.1, gamma=scale, kernel=rbf;, score=-0.027 total time=   0.0s\n",
      "[CV 2/5] END ...C=0.1, gamma=scale, kernel=rbf;, score=-0.008 total time=   0.0s\n",
      "[CV 3/5] END ...C=0.1, gamma=scale, kernel=rbf;, score=-0.043 total time=   0.0s\n",
      "[CV 4/5] END ...C=0.1, gamma=scale, kernel=rbf;, score=-0.037 total time=   0.0s\n",
      "[CV 5/5] END ...C=0.1, gamma=scale, kernel=rbf;, score=-0.060 total time=   0.0s\n",
      "[CV 1/5] END ...C=1, gamma=auto, kernel=linear;, score=-0.018 total time=   0.0s\n",
      "[CV 2/5] END ....C=1, gamma=auto, kernel=linear;, score=0.001 total time=   0.0s\n",
      "[CV 3/5] END ...C=1, gamma=auto, kernel=linear;, score=-0.038 total time=   0.0s\n",
      "[CV 4/5] END ...C=1, gamma=auto, kernel=linear;, score=-0.030 total time=   0.0s\n",
      "[CV 5/5] END ...C=1, gamma=auto, kernel=linear;, score=-0.054 total time=   0.0s\n",
      "[CV 1/5] END ......C=1, gamma=auto, kernel=rbf;, score=-0.027 total time=   0.0s\n",
      "[CV 2/5] END ......C=1, gamma=auto, kernel=rbf;, score=-0.007 total time=   0.0s\n",
      "[CV 3/5] END ......C=1, gamma=auto, kernel=rbf;, score=-0.043 total time=   0.0s\n",
      "[CV 4/5] END ......C=1, gamma=auto, kernel=rbf;, score=-0.036 total time=   0.0s\n",
      "[CV 5/5] END ......C=1, gamma=auto, kernel=rbf;, score=-0.060 total time=   0.0s\n",
      "[CV 1/5] END ..C=1, gamma=scale, kernel=linear;, score=-0.018 total time=   0.0s\n",
      "[CV 2/5] END ...C=1, gamma=scale, kernel=linear;, score=0.001 total time=   0.0s\n",
      "[CV 3/5] END ..C=1, gamma=scale, kernel=linear;, score=-0.038 total time=   0.0s\n",
      "[CV 4/5] END ..C=1, gamma=scale, kernel=linear;, score=-0.030 total time=   0.0s\n",
      "[CV 5/5] END ..C=1, gamma=scale, kernel=linear;, score=-0.054 total time=   0.0s\n",
      "[CV 1/5] END .....C=1, gamma=scale, kernel=rbf;, score=-0.027 total time=   0.0s\n",
      "[CV 2/5] END .....C=1, gamma=scale, kernel=rbf;, score=-0.007 total time=   0.0s\n",
      "[CV 3/5] END .....C=1, gamma=scale, kernel=rbf;, score=-0.043 total time=   0.0s\n",
      "[CV 4/5] END .....C=1, gamma=scale, kernel=rbf;, score=-0.036 total time=   0.0s\n",
      "[CV 5/5] END .....C=1, gamma=scale, kernel=rbf;, score=-0.060 total time=   0.0s\n",
      "[CV 1/5] END ...C=10, gamma=auto, kernel=linear;, score=0.051 total time=   0.0s\n",
      "[CV 2/5] END ...C=10, gamma=auto, kernel=linear;, score=0.069 total time=   0.0s\n",
      "[CV 3/5] END ...C=10, gamma=auto, kernel=linear;, score=0.003 total time=   0.0s\n",
      "[CV 4/5] END ...C=10, gamma=auto, kernel=linear;, score=0.013 total time=   0.0s\n",
      "[CV 5/5] END ..C=10, gamma=auto, kernel=linear;, score=-0.008 total time=   0.0s\n",
      "[CV 1/5] END .....C=10, gamma=auto, kernel=rbf;, score=-0.024 total time=   0.0s\n",
      "[CV 2/5] END .....C=10, gamma=auto, kernel=rbf;, score=-0.005 total time=   0.0s\n",
      "[CV 3/5] END .....C=10, gamma=auto, kernel=rbf;, score=-0.042 total time=   0.0s\n",
      "[CV 4/5] END .....C=10, gamma=auto, kernel=rbf;, score=-0.035 total time=   0.0s\n",
      "[CV 5/5] END .....C=10, gamma=auto, kernel=rbf;, score=-0.058 total time=   0.0s\n",
      "[CV 1/5] END ..C=10, gamma=scale, kernel=linear;, score=0.051 total time=   0.0s\n",
      "[CV 2/5] END ..C=10, gamma=scale, kernel=linear;, score=0.069 total time=   0.0s\n",
      "[CV 3/5] END ..C=10, gamma=scale, kernel=linear;, score=0.003 total time=   0.0s\n",
      "[CV 4/5] END ..C=10, gamma=scale, kernel=linear;, score=0.013 total time=   0.0s\n",
      "[CV 5/5] END .C=10, gamma=scale, kernel=linear;, score=-0.008 total time=   0.0s\n",
      "[CV 1/5] END ....C=10, gamma=scale, kernel=rbf;, score=-0.024 total time=   0.0s\n",
      "[CV 2/5] END ....C=10, gamma=scale, kernel=rbf;, score=-0.005 total time=   0.0s\n",
      "[CV 3/5] END ....C=10, gamma=scale, kernel=rbf;, score=-0.042 total time=   0.0s\n",
      "[CV 4/5] END ....C=10, gamma=scale, kernel=rbf;, score=-0.035 total time=   0.0s\n",
      "[CV 5/5] END ....C=10, gamma=scale, kernel=rbf;, score=-0.058 total time=   0.0s\n",
      "[CV 1/5] END ..C=100, gamma=auto, kernel=linear;, score=0.290 total time=   0.0s\n",
      "[CV 2/5] END ..C=100, gamma=auto, kernel=linear;, score=0.303 total time=   0.0s\n",
      "[CV 3/5] END ..C=100, gamma=auto, kernel=linear;, score=0.178 total time=   0.0s\n",
      "[CV 4/5] END ..C=100, gamma=auto, kernel=linear;, score=0.158 total time=   0.0s\n",
      "[CV 5/5] END ..C=100, gamma=auto, kernel=linear;, score=0.141 total time=   0.0s\n",
      "[CV 1/5] END .....C=100, gamma=auto, kernel=rbf;, score=0.003 total time=   0.0s\n",
      "[CV 2/5] END .....C=100, gamma=auto, kernel=rbf;, score=0.019 total time=   0.0s\n",
      "[CV 3/5] END ....C=100, gamma=auto, kernel=rbf;, score=-0.037 total time=   0.0s\n",
      "[CV 4/5] END ....C=100, gamma=auto, kernel=rbf;, score=-0.017 total time=   0.0s\n",
      "[CV 5/5] END ....C=100, gamma=auto, kernel=rbf;, score=-0.038 total time=   0.0s\n",
      "[CV 1/5] END .C=100, gamma=scale, kernel=linear;, score=0.290 total time=   0.0s\n",
      "[CV 2/5] END .C=100, gamma=scale, kernel=linear;, score=0.303 total time=   0.0s\n",
      "[CV 3/5] END .C=100, gamma=scale, kernel=linear;, score=0.178 total time=   0.0s\n",
      "[CV 4/5] END .C=100, gamma=scale, kernel=linear;, score=0.158 total time=   0.0s\n",
      "[CV 5/5] END .C=100, gamma=scale, kernel=linear;, score=0.141 total time=   0.0s\n",
      "[CV 1/5] END ....C=100, gamma=scale, kernel=rbf;, score=0.003 total time=   0.0s\n",
      "[CV 2/5] END ....C=100, gamma=scale, kernel=rbf;, score=0.018 total time=   0.0s\n",
      "[CV 3/5] END ...C=100, gamma=scale, kernel=rbf;, score=-0.037 total time=   0.0s\n",
      "[CV 4/5] END ...C=100, gamma=scale, kernel=rbf;, score=-0.017 total time=   0.0s\n",
      "[CV 5/5] END ...C=100, gamma=scale, kernel=rbf;, score=-0.038 total time=   0.0s\n",
      "[CV 1/5] END .C=1000, gamma=auto, kernel=linear;, score=0.215 total time=   0.0s\n",
      "[CV 2/5] END .C=1000, gamma=auto, kernel=linear;, score=0.345 total time=   0.0s\n",
      "[CV 3/5] END .C=1000, gamma=auto, kernel=linear;, score=0.206 total time=   0.0s\n",
      "[CV 4/5] END .C=1000, gamma=auto, kernel=linear;, score=0.183 total time=   0.0s\n",
      "[CV 5/5] END .C=1000, gamma=auto, kernel=linear;, score=0.146 total time=   0.0s\n",
      "[CV 1/5] END ....C=1000, gamma=auto, kernel=rbf;, score=0.173 total time=   0.0s\n",
      "[CV 2/5] END ....C=1000, gamma=auto, kernel=rbf;, score=0.162 total time=   0.0s\n",
      "[CV 3/5] END ....C=1000, gamma=auto, kernel=rbf;, score=0.039 total time=   0.0s\n",
      "[CV 4/5] END ....C=1000, gamma=auto, kernel=rbf;, score=0.061 total time=   0.0s\n",
      "[CV 5/5] END ....C=1000, gamma=auto, kernel=rbf;, score=0.033 total time=   0.0s\n",
      "[CV 1/5] END C=1000, gamma=scale, kernel=linear;, score=0.215 total time=   0.0s\n",
      "[CV 2/5] END C=1000, gamma=scale, kernel=linear;, score=0.345 total time=   0.0s\n",
      "[CV 3/5] END C=1000, gamma=scale, kernel=linear;, score=0.206 total time=   0.0s\n",
      "[CV 4/5] END C=1000, gamma=scale, kernel=linear;, score=0.183 total time=   0.0s\n",
      "[CV 5/5] END C=1000, gamma=scale, kernel=linear;, score=0.146 total time=   0.0s\n",
      "[CV 1/5] END ...C=1000, gamma=scale, kernel=rbf;, score=0.173 total time=   0.0s\n",
      "[CV 2/5] END ...C=1000, gamma=scale, kernel=rbf;, score=0.162 total time=   0.0s\n",
      "[CV 3/5] END ...C=1000, gamma=scale, kernel=rbf;, score=0.040 total time=   0.0s\n",
      "[CV 4/5] END ...C=1000, gamma=scale, kernel=rbf;, score=0.061 total time=   0.0s\n",
      "[CV 5/5] END ...C=1000, gamma=scale, kernel=rbf;, score=0.032 total time=   0.0s\n",
      "[CV 1/5] END .C=5000, gamma=auto, kernel=linear;, score=0.214 total time=   0.0s\n",
      "[CV 2/5] END .C=5000, gamma=auto, kernel=linear;, score=0.351 total time=   0.0s\n",
      "[CV 3/5] END .C=5000, gamma=auto, kernel=linear;, score=0.202 total time=   0.0s\n",
      "[CV 4/5] END .C=5000, gamma=auto, kernel=linear;, score=0.202 total time=   0.0s\n",
      "[CV 5/5] END .C=5000, gamma=auto, kernel=linear;, score=0.151 total time=   0.0s\n",
      "[CV 1/5] END ....C=5000, gamma=auto, kernel=rbf;, score=0.323 total time=   0.0s\n",
      "[CV 2/5] END ....C=5000, gamma=auto, kernel=rbf;, score=0.329 total time=   0.0s\n",
      "[CV 3/5] END ....C=5000, gamma=auto, kernel=rbf;, score=0.161 total time=   0.0s\n",
      "[CV 4/5] END ....C=5000, gamma=auto, kernel=rbf;, score=0.174 total time=   0.0s\n",
      "[CV 5/5] END ....C=5000, gamma=auto, kernel=rbf;, score=0.149 total time=   0.0s\n",
      "[CV 1/5] END C=5000, gamma=scale, kernel=linear;, score=0.214 total time=   0.0s\n",
      "[CV 2/5] END C=5000, gamma=scale, kernel=linear;, score=0.351 total time=   0.0s\n",
      "[CV 3/5] END C=5000, gamma=scale, kernel=linear;, score=0.202 total time=   0.0s\n",
      "[CV 4/5] END C=5000, gamma=scale, kernel=linear;, score=0.202 total time=   0.0s\n",
      "[CV 5/5] END C=5000, gamma=scale, kernel=linear;, score=0.151 total time=   0.0s\n",
      "[CV 1/5] END ...C=5000, gamma=scale, kernel=rbf;, score=0.323 total time=   0.0s\n",
      "[CV 2/5] END ...C=5000, gamma=scale, kernel=rbf;, score=0.328 total time=   0.0s\n",
      "[CV 3/5] END ...C=5000, gamma=scale, kernel=rbf;, score=0.161 total time=   0.0s\n",
      "[CV 4/5] END ...C=5000, gamma=scale, kernel=rbf;, score=0.174 total time=   0.0s\n",
      "[CV 5/5] END ...C=5000, gamma=scale, kernel=rbf;, score=0.148 total time=   0.0s\n",
      "[CV 1/5] END C=10000, gamma=auto, kernel=linear;, score=0.213 total time=   0.0s\n",
      "[CV 2/5] END C=10000, gamma=auto, kernel=linear;, score=0.351 total time=   0.0s\n",
      "[CV 3/5] END C=10000, gamma=auto, kernel=linear;, score=0.202 total time=   0.0s\n",
      "[CV 4/5] END C=10000, gamma=auto, kernel=linear;, score=0.204 total time=   0.0s\n",
      "[CV 5/5] END C=10000, gamma=auto, kernel=linear;, score=0.153 total time=   0.0s\n",
      "[CV 1/5] END ...C=10000, gamma=auto, kernel=rbf;, score=0.374 total time=   0.0s\n",
      "[CV 2/5] END ...C=10000, gamma=auto, kernel=rbf;, score=0.380 total time=   0.0s\n",
      "[CV 3/5] END ...C=10000, gamma=auto, kernel=rbf;, score=0.201 total time=   0.0s\n",
      "[CV 4/5] END ...C=10000, gamma=auto, kernel=rbf;, score=0.207 total time=   0.0s\n",
      "[CV 5/5] END ...C=10000, gamma=auto, kernel=rbf;, score=0.181 total time=   0.0s\n",
      "[CV 1/5] END C=10000, gamma=scale, kernel=linear;, score=0.213 total time=   0.0s\n",
      "[CV 2/5] END C=10000, gamma=scale, kernel=linear;, score=0.351 total time=   0.0s\n",
      "[CV 3/5] END C=10000, gamma=scale, kernel=linear;, score=0.202 total time=   0.0s\n",
      "[CV 4/5] END C=10000, gamma=scale, kernel=linear;, score=0.204 total time=   0.0s\n",
      "[CV 5/5] END C=10000, gamma=scale, kernel=linear;, score=0.153 total time=   0.0s\n",
      "[CV 1/5] END ..C=10000, gamma=scale, kernel=rbf;, score=0.374 total time=   0.0s\n",
      "[CV 2/5] END ..C=10000, gamma=scale, kernel=rbf;, score=0.378 total time=   0.0s\n",
      "[CV 3/5] END ..C=10000, gamma=scale, kernel=rbf;, score=0.201 total time=   0.0s\n",
      "[CV 4/5] END ..C=10000, gamma=scale, kernel=rbf;, score=0.207 total time=   0.0s\n",
      "[CV 5/5] END ..C=10000, gamma=scale, kernel=rbf;, score=0.182 total time=   0.0s\n",
      "[CV 1/5] END C=20000, gamma=auto, kernel=linear;, score=0.213 total time=   0.0s\n",
      "[CV 2/5] END C=20000, gamma=auto, kernel=linear;, score=0.351 total time=   0.0s\n",
      "[CV 3/5] END C=20000, gamma=auto, kernel=linear;, score=0.200 total time=   0.0s\n",
      "[CV 4/5] END C=20000, gamma=auto, kernel=linear;, score=0.203 total time=   0.0s\n",
      "[CV 5/5] END C=20000, gamma=auto, kernel=linear;, score=0.153 total time=   0.0s\n",
      "[CV 1/5] END ...C=20000, gamma=auto, kernel=rbf;, score=0.401 total time=   0.0s\n",
      "[CV 2/5] END ...C=20000, gamma=auto, kernel=rbf;, score=0.433 total time=   0.0s\n",
      "[CV 3/5] END ...C=20000, gamma=auto, kernel=rbf;, score=0.192 total time=   0.0s\n",
      "[CV 4/5] END ...C=20000, gamma=auto, kernel=rbf;, score=0.255 total time=   0.0s\n",
      "[CV 5/5] END ...C=20000, gamma=auto, kernel=rbf;, score=0.176 total time=   0.0s\n",
      "[CV 1/5] END C=20000, gamma=scale, kernel=linear;, score=0.213 total time=   0.0s\n",
      "[CV 2/5] END C=20000, gamma=scale, kernel=linear;, score=0.351 total time=   0.0s\n",
      "[CV 3/5] END C=20000, gamma=scale, kernel=linear;, score=0.200 total time=   0.0s\n",
      "[CV 4/5] END C=20000, gamma=scale, kernel=linear;, score=0.203 total time=   0.0s\n",
      "[CV 5/5] END C=20000, gamma=scale, kernel=linear;, score=0.153 total time=   0.0s\n",
      "[CV 1/5] END ..C=20000, gamma=scale, kernel=rbf;, score=0.401 total time=   0.0s\n",
      "[CV 2/5] END ..C=20000, gamma=scale, kernel=rbf;, score=0.430 total time=   0.0s\n",
      "[CV 3/5] END ..C=20000, gamma=scale, kernel=rbf;, score=0.193 total time=   0.0s\n",
      "[CV 4/5] END ..C=20000, gamma=scale, kernel=rbf;, score=0.254 total time=   0.0s\n",
      "[CV 5/5] END ..C=20000, gamma=scale, kernel=rbf;, score=0.171 total time=   0.0s\n"
     ]
    },
    {
     "data": {
      "text/html": [
       "<style>#sk-container-id-2 {color: black;background-color: white;}#sk-container-id-2 pre{padding: 0;}#sk-container-id-2 div.sk-toggleable {background-color: white;}#sk-container-id-2 label.sk-toggleable__label {cursor: pointer;display: block;width: 100%;margin-bottom: 0;padding: 0.3em;box-sizing: border-box;text-align: center;}#sk-container-id-2 label.sk-toggleable__label-arrow:before {content: \"▸\";float: left;margin-right: 0.25em;color: #696969;}#sk-container-id-2 label.sk-toggleable__label-arrow:hover:before {color: black;}#sk-container-id-2 div.sk-estimator:hover label.sk-toggleable__label-arrow:before {color: black;}#sk-container-id-2 div.sk-toggleable__content {max-height: 0;max-width: 0;overflow: hidden;text-align: left;background-color: #f0f8ff;}#sk-container-id-2 div.sk-toggleable__content pre {margin: 0.2em;color: black;border-radius: 0.25em;background-color: #f0f8ff;}#sk-container-id-2 input.sk-toggleable__control:checked~div.sk-toggleable__content {max-height: 200px;max-width: 100%;overflow: auto;}#sk-container-id-2 input.sk-toggleable__control:checked~label.sk-toggleable__label-arrow:before {content: \"▾\";}#sk-container-id-2 div.sk-estimator input.sk-toggleable__control:checked~label.sk-toggleable__label {background-color: #d4ebff;}#sk-container-id-2 div.sk-label input.sk-toggleable__control:checked~label.sk-toggleable__label {background-color: #d4ebff;}#sk-container-id-2 input.sk-hidden--visually {border: 0;clip: rect(1px 1px 1px 1px);clip: rect(1px, 1px, 1px, 1px);height: 1px;margin: -1px;overflow: hidden;padding: 0;position: absolute;width: 1px;}#sk-container-id-2 div.sk-estimator {font-family: monospace;background-color: #f0f8ff;border: 1px dotted black;border-radius: 0.25em;box-sizing: border-box;margin-bottom: 0.5em;}#sk-container-id-2 div.sk-estimator:hover {background-color: #d4ebff;}#sk-container-id-2 div.sk-parallel-item::after {content: \"\";width: 100%;border-bottom: 1px solid gray;flex-grow: 1;}#sk-container-id-2 div.sk-label:hover label.sk-toggleable__label {background-color: #d4ebff;}#sk-container-id-2 div.sk-serial::before {content: \"\";position: absolute;border-left: 1px solid gray;box-sizing: border-box;top: 0;bottom: 0;left: 50%;z-index: 0;}#sk-container-id-2 div.sk-serial {display: flex;flex-direction: column;align-items: center;background-color: white;padding-right: 0.2em;padding-left: 0.2em;position: relative;}#sk-container-id-2 div.sk-item {position: relative;z-index: 1;}#sk-container-id-2 div.sk-parallel {display: flex;align-items: stretch;justify-content: center;background-color: white;position: relative;}#sk-container-id-2 div.sk-item::before, #sk-container-id-2 div.sk-parallel-item::before {content: \"\";position: absolute;border-left: 1px solid gray;box-sizing: border-box;top: 0;bottom: 0;left: 50%;z-index: -1;}#sk-container-id-2 div.sk-parallel-item {display: flex;flex-direction: column;z-index: 1;position: relative;background-color: white;}#sk-container-id-2 div.sk-parallel-item:first-child::after {align-self: flex-end;width: 50%;}#sk-container-id-2 div.sk-parallel-item:last-child::after {align-self: flex-start;width: 50%;}#sk-container-id-2 div.sk-parallel-item:only-child::after {width: 0;}#sk-container-id-2 div.sk-dashed-wrapped {border: 1px dashed gray;margin: 0 0.4em 0.5em 0.4em;box-sizing: border-box;padding-bottom: 0.4em;background-color: white;}#sk-container-id-2 div.sk-label label {font-family: monospace;font-weight: bold;display: inline-block;line-height: 1.2em;}#sk-container-id-2 div.sk-label-container {text-align: center;}#sk-container-id-2 div.sk-container {/* jupyter's `normalize.less` sets `[hidden] { display: none; }` but bootstrap.min.css set `[hidden] { display: none !important; }` so we also need the `!important` here to be able to override the default hidden behavior on the sphinx rendered scikit-learn.org. See: https://github.com/scikit-learn/scikit-learn/issues/21755 */display: inline-block !important;position: relative;}#sk-container-id-2 div.sk-text-repr-fallback {display: none;}</style><div id=\"sk-container-id-2\" class=\"sk-top-container\"><div class=\"sk-text-repr-fallback\"><pre>GridSearchCV(estimator=SVR(),\n",
       "             param_grid={&#x27;C&#x27;: [0.1, 1, 10, 100, 1000, 5000, 10000, 20000],\n",
       "                         &#x27;gamma&#x27;: [&#x27;auto&#x27;, &#x27;scale&#x27;],\n",
       "                         &#x27;kernel&#x27;: [&#x27;linear&#x27;, &#x27;rbf&#x27;]},\n",
       "             verbose=3)</pre><b>In a Jupyter environment, please rerun this cell to show the HTML representation or trust the notebook. <br />On GitHub, the HTML representation is unable to render, please try loading this page with nbviewer.org.</b></div><div class=\"sk-container\" hidden><div class=\"sk-item sk-dashed-wrapped\"><div class=\"sk-label-container\"><div class=\"sk-label sk-toggleable\"><input class=\"sk-toggleable__control sk-hidden--visually\" id=\"sk-estimator-id-2\" type=\"checkbox\" ><label for=\"sk-estimator-id-2\" class=\"sk-toggleable__label sk-toggleable__label-arrow\">GridSearchCV</label><div class=\"sk-toggleable__content\"><pre>GridSearchCV(estimator=SVR(),\n",
       "             param_grid={&#x27;C&#x27;: [0.1, 1, 10, 100, 1000, 5000, 10000, 20000],\n",
       "                         &#x27;gamma&#x27;: [&#x27;auto&#x27;, &#x27;scale&#x27;],\n",
       "                         &#x27;kernel&#x27;: [&#x27;linear&#x27;, &#x27;rbf&#x27;]},\n",
       "             verbose=3)</pre></div></div></div><div class=\"sk-parallel\"><div class=\"sk-parallel-item\"><div class=\"sk-item\"><div class=\"sk-label-container\"><div class=\"sk-label sk-toggleable\"><input class=\"sk-toggleable__control sk-hidden--visually\" id=\"sk-estimator-id-3\" type=\"checkbox\" ><label for=\"sk-estimator-id-3\" class=\"sk-toggleable__label sk-toggleable__label-arrow\">estimator: SVR</label><div class=\"sk-toggleable__content\"><pre>SVR()</pre></div></div></div><div class=\"sk-serial\"><div class=\"sk-item\"><div class=\"sk-estimator sk-toggleable\"><input class=\"sk-toggleable__control sk-hidden--visually\" id=\"sk-estimator-id-4\" type=\"checkbox\" ><label for=\"sk-estimator-id-4\" class=\"sk-toggleable__label sk-toggleable__label-arrow\">SVR</label><div class=\"sk-toggleable__content\"><pre>SVR()</pre></div></div></div></div></div></div></div></div></div></div>"
      ],
      "text/plain": [
       "GridSearchCV(estimator=SVR(),\n",
       "             param_grid={'C': [0.1, 1, 10, 100, 1000, 5000, 10000, 20000],\n",
       "                         'gamma': ['auto', 'scale'],\n",
       "                         'kernel': ['linear', 'rbf']},\n",
       "             verbose=3)"
      ]
     },
     "execution_count": 24,
     "metadata": {},
     "output_type": "execute_result"
    }
   ],
   "source": [
    "grid.fit(X_train,y_train)"
   ]
  },
  {
   "cell_type": "code",
   "execution_count": 25,
   "id": "964fcc19",
   "metadata": {},
   "outputs": [
    {
     "data": {
      "text/plain": [
       "{'C': 20000, 'gamma': 'auto', 'kernel': 'rbf'}"
      ]
     },
     "execution_count": 25,
     "metadata": {},
     "output_type": "execute_result"
    }
   ],
   "source": [
    "grid.best_params_"
   ]
  },
  {
   "cell_type": "code",
   "execution_count": 26,
   "id": "0c91357e",
   "metadata": {},
   "outputs": [
    {
     "data": {
      "text/html": [
       "<style>#sk-container-id-3 {color: black;background-color: white;}#sk-container-id-3 pre{padding: 0;}#sk-container-id-3 div.sk-toggleable {background-color: white;}#sk-container-id-3 label.sk-toggleable__label {cursor: pointer;display: block;width: 100%;margin-bottom: 0;padding: 0.3em;box-sizing: border-box;text-align: center;}#sk-container-id-3 label.sk-toggleable__label-arrow:before {content: \"▸\";float: left;margin-right: 0.25em;color: #696969;}#sk-container-id-3 label.sk-toggleable__label-arrow:hover:before {color: black;}#sk-container-id-3 div.sk-estimator:hover label.sk-toggleable__label-arrow:before {color: black;}#sk-container-id-3 div.sk-toggleable__content {max-height: 0;max-width: 0;overflow: hidden;text-align: left;background-color: #f0f8ff;}#sk-container-id-3 div.sk-toggleable__content pre {margin: 0.2em;color: black;border-radius: 0.25em;background-color: #f0f8ff;}#sk-container-id-3 input.sk-toggleable__control:checked~div.sk-toggleable__content {max-height: 200px;max-width: 100%;overflow: auto;}#sk-container-id-3 input.sk-toggleable__control:checked~label.sk-toggleable__label-arrow:before {content: \"▾\";}#sk-container-id-3 div.sk-estimator input.sk-toggleable__control:checked~label.sk-toggleable__label {background-color: #d4ebff;}#sk-container-id-3 div.sk-label input.sk-toggleable__control:checked~label.sk-toggleable__label {background-color: #d4ebff;}#sk-container-id-3 input.sk-hidden--visually {border: 0;clip: rect(1px 1px 1px 1px);clip: rect(1px, 1px, 1px, 1px);height: 1px;margin: -1px;overflow: hidden;padding: 0;position: absolute;width: 1px;}#sk-container-id-3 div.sk-estimator {font-family: monospace;background-color: #f0f8ff;border: 1px dotted black;border-radius: 0.25em;box-sizing: border-box;margin-bottom: 0.5em;}#sk-container-id-3 div.sk-estimator:hover {background-color: #d4ebff;}#sk-container-id-3 div.sk-parallel-item::after {content: \"\";width: 100%;border-bottom: 1px solid gray;flex-grow: 1;}#sk-container-id-3 div.sk-label:hover label.sk-toggleable__label {background-color: #d4ebff;}#sk-container-id-3 div.sk-serial::before {content: \"\";position: absolute;border-left: 1px solid gray;box-sizing: border-box;top: 0;bottom: 0;left: 50%;z-index: 0;}#sk-container-id-3 div.sk-serial {display: flex;flex-direction: column;align-items: center;background-color: white;padding-right: 0.2em;padding-left: 0.2em;position: relative;}#sk-container-id-3 div.sk-item {position: relative;z-index: 1;}#sk-container-id-3 div.sk-parallel {display: flex;align-items: stretch;justify-content: center;background-color: white;position: relative;}#sk-container-id-3 div.sk-item::before, #sk-container-id-3 div.sk-parallel-item::before {content: \"\";position: absolute;border-left: 1px solid gray;box-sizing: border-box;top: 0;bottom: 0;left: 50%;z-index: -1;}#sk-container-id-3 div.sk-parallel-item {display: flex;flex-direction: column;z-index: 1;position: relative;background-color: white;}#sk-container-id-3 div.sk-parallel-item:first-child::after {align-self: flex-end;width: 50%;}#sk-container-id-3 div.sk-parallel-item:last-child::after {align-self: flex-start;width: 50%;}#sk-container-id-3 div.sk-parallel-item:only-child::after {width: 0;}#sk-container-id-3 div.sk-dashed-wrapped {border: 1px dashed gray;margin: 0 0.4em 0.5em 0.4em;box-sizing: border-box;padding-bottom: 0.4em;background-color: white;}#sk-container-id-3 div.sk-label label {font-family: monospace;font-weight: bold;display: inline-block;line-height: 1.2em;}#sk-container-id-3 div.sk-label-container {text-align: center;}#sk-container-id-3 div.sk-container {/* jupyter's `normalize.less` sets `[hidden] { display: none; }` but bootstrap.min.css set `[hidden] { display: none !important; }` so we also need the `!important` here to be able to override the default hidden behavior on the sphinx rendered scikit-learn.org. See: https://github.com/scikit-learn/scikit-learn/issues/21755 */display: inline-block !important;position: relative;}#sk-container-id-3 div.sk-text-repr-fallback {display: none;}</style><div id=\"sk-container-id-3\" class=\"sk-top-container\"><div class=\"sk-text-repr-fallback\"><pre>SVR(C=20000, gamma=&#x27;auto&#x27;)</pre><b>In a Jupyter environment, please rerun this cell to show the HTML representation or trust the notebook. <br />On GitHub, the HTML representation is unable to render, please try loading this page with nbviewer.org.</b></div><div class=\"sk-container\" hidden><div class=\"sk-item\"><div class=\"sk-estimator sk-toggleable\"><input class=\"sk-toggleable__control sk-hidden--visually\" id=\"sk-estimator-id-5\" type=\"checkbox\" checked><label for=\"sk-estimator-id-5\" class=\"sk-toggleable__label sk-toggleable__label-arrow\">SVR</label><div class=\"sk-toggleable__content\"><pre>SVR(C=20000, gamma=&#x27;auto&#x27;)</pre></div></div></div></div></div>"
      ],
      "text/plain": [
       "SVR(C=20000, gamma='auto')"
      ]
     },
     "execution_count": 26,
     "metadata": {},
     "output_type": "execute_result"
    }
   ],
   "source": [
    "grid.best_estimator_"
   ]
  },
  {
   "cell_type": "code",
   "execution_count": 27,
   "id": "feb08020",
   "metadata": {},
   "outputs": [],
   "source": [
    "grid_predictions = grid.predict(X_test)"
   ]
  },
  {
   "cell_type": "code",
   "execution_count": 28,
   "id": "0e7ca840",
   "metadata": {},
   "outputs": [
    {
     "name": "stdout",
     "output_type": "stream",
     "text": [
      "Mean Absolute Error: 20544.322007435196\n",
      "Mean Squared Error: 653225493.735693\n",
      "Root Mean Squared Error: 25558.276423415038\n"
     ]
    }
   ],
   "source": [
    "from sklearn import metrics\n",
    "\n",
    "print('Mean Absolute Error:', metrics.mean_absolute_error(y_test, grid_predictions))\n",
    "print('Mean Squared Error:', metrics.mean_squared_error(y_test, grid_predictions))\n",
    "print('Root Mean Squared Error:', np.sqrt(metrics.mean_squared_error(y_test, grid_predictions)))"
   ]
  },
  {
   "cell_type": "markdown",
   "id": "ebcd912d",
   "metadata": {},
   "source": [
    "The error reduced a bit but still not the best model out there!"
   ]
  },
  {
   "cell_type": "code",
   "execution_count": null,
   "id": "4d660531",
   "metadata": {},
   "outputs": [],
   "source": []
  }
 ],
 "metadata": {
  "kernelspec": {
   "display_name": "Python 3 (ipykernel)",
   "language": "python",
   "name": "python3"
  },
  "language_info": {
   "codemirror_mode": {
    "name": "ipython",
    "version": 3
   },
   "file_extension": ".py",
   "mimetype": "text/x-python",
   "name": "python",
   "nbconvert_exporter": "python",
   "pygments_lexer": "ipython3",
   "version": "3.10.9"
  }
 },
 "nbformat": 4,
 "nbformat_minor": 5
}
