{
 "cells": [
  {
   "cell_type": "markdown",
   "metadata": {},
   "source": [
    "# K Nearest Neighbors with Python - Purchase Behavior\n",
    "In this project we will be analyzing an purchasing data set, indicating whether or not a particular customer purchased a product.\n",
    "\n",
    "This data set contains the following features:\n",
    "\n",
    "* 'User ID': internal ID given to the customer\n",
    "* 'Gender': customer gender (Male or Female)\n",
    "* 'Age': customer age\n",
    "* 'EstimatedSalary': Estimated Salary of the customer in dollars\n",
    "* 'Purchased': 0 or 1 indicating purchasing behavior"
   ]
  },
  {
   "cell_type": "code",
   "execution_count": 1,
   "metadata": {},
   "outputs": [],
   "source": [
    "import pandas as pd\n",
    "import numpy as np\n",
    "import matplotlib.pyplot as plt\n",
    "import seaborn as sns"
   ]
  },
  {
   "cell_type": "code",
   "execution_count": 2,
   "metadata": {},
   "outputs": [],
   "source": [
    "dataset = pd.read_csv('purchase.csv')"
   ]
  },
  {
   "cell_type": "code",
   "execution_count": 3,
   "metadata": {},
   "outputs": [
    {
     "data": {
      "text/html": [
       "<div>\n",
       "<style scoped>\n",
       "    .dataframe tbody tr th:only-of-type {\n",
       "        vertical-align: middle;\n",
       "    }\n",
       "\n",
       "    .dataframe tbody tr th {\n",
       "        vertical-align: top;\n",
       "    }\n",
       "\n",
       "    .dataframe thead th {\n",
       "        text-align: right;\n",
       "    }\n",
       "</style>\n",
       "<table border=\"1\" class=\"dataframe\">\n",
       "  <thead>\n",
       "    <tr style=\"text-align: right;\">\n",
       "      <th></th>\n",
       "      <th>User ID</th>\n",
       "      <th>Gender</th>\n",
       "      <th>Age</th>\n",
       "      <th>EstimatedSalary</th>\n",
       "      <th>Purchased</th>\n",
       "    </tr>\n",
       "  </thead>\n",
       "  <tbody>\n",
       "    <tr>\n",
       "      <th>0</th>\n",
       "      <td>15624510</td>\n",
       "      <td>Male</td>\n",
       "      <td>19</td>\n",
       "      <td>19000</td>\n",
       "      <td>0</td>\n",
       "    </tr>\n",
       "    <tr>\n",
       "      <th>1</th>\n",
       "      <td>15810944</td>\n",
       "      <td>Male</td>\n",
       "      <td>35</td>\n",
       "      <td>20000</td>\n",
       "      <td>0</td>\n",
       "    </tr>\n",
       "    <tr>\n",
       "      <th>2</th>\n",
       "      <td>15668575</td>\n",
       "      <td>Female</td>\n",
       "      <td>26</td>\n",
       "      <td>43000</td>\n",
       "      <td>0</td>\n",
       "    </tr>\n",
       "    <tr>\n",
       "      <th>3</th>\n",
       "      <td>15603246</td>\n",
       "      <td>Female</td>\n",
       "      <td>27</td>\n",
       "      <td>57000</td>\n",
       "      <td>0</td>\n",
       "    </tr>\n",
       "  </tbody>\n",
       "</table>\n",
       "</div>"
      ],
      "text/plain": [
       "    User ID  Gender  Age  EstimatedSalary  Purchased\n",
       "0  15624510    Male   19            19000          0\n",
       "1  15810944    Male   35            20000          0\n",
       "2  15668575  Female   26            43000          0\n",
       "3  15603246  Female   27            57000          0"
      ]
     },
     "execution_count": 3,
     "metadata": {},
     "output_type": "execute_result"
    }
   ],
   "source": [
    "dataset.head(4)"
   ]
  },
  {
   "cell_type": "markdown",
   "metadata": {},
   "source": [
    "# Explaratory Data Analysis"
   ]
  },
  {
   "cell_type": "markdown",
   "metadata": {},
   "source": [
    "## Check missing values"
   ]
  },
  {
   "cell_type": "code",
   "execution_count": 4,
   "metadata": {},
   "outputs": [
    {
     "data": {
      "text/plain": [
       "User ID            0\n",
       "Gender             0\n",
       "Age                0\n",
       "EstimatedSalary    0\n",
       "Purchased          0\n",
       "dtype: int64"
      ]
     },
     "execution_count": 4,
     "metadata": {},
     "output_type": "execute_result"
    }
   ],
   "source": [
    "dataset.isna().sum()"
   ]
  },
  {
   "cell_type": "markdown",
   "metadata": {},
   "source": [
    "There are no missing values in the purchase dataset"
   ]
  },
  {
   "cell_type": "code",
   "execution_count": 5,
   "metadata": {},
   "outputs": [],
   "source": [
    "gender=pd.get_dummies(dataset[\"Gender\"], drop_first=True)\n",
    "dataset = pd.concat([dataset,gender],axis=1)"
   ]
  },
  {
   "cell_type": "code",
   "execution_count": 6,
   "metadata": {},
   "outputs": [
    {
     "data": {
      "text/html": [
       "<div>\n",
       "<style scoped>\n",
       "    .dataframe tbody tr th:only-of-type {\n",
       "        vertical-align: middle;\n",
       "    }\n",
       "\n",
       "    .dataframe tbody tr th {\n",
       "        vertical-align: top;\n",
       "    }\n",
       "\n",
       "    .dataframe thead th {\n",
       "        text-align: right;\n",
       "    }\n",
       "</style>\n",
       "<table border=\"1\" class=\"dataframe\">\n",
       "  <thead>\n",
       "    <tr style=\"text-align: right;\">\n",
       "      <th></th>\n",
       "      <th>Age</th>\n",
       "      <th>EstimatedSalary</th>\n",
       "      <th>Purchased</th>\n",
       "      <th>Male</th>\n",
       "    </tr>\n",
       "  </thead>\n",
       "  <tbody>\n",
       "    <tr>\n",
       "      <th>0</th>\n",
       "      <td>19</td>\n",
       "      <td>19000</td>\n",
       "      <td>0</td>\n",
       "      <td>1</td>\n",
       "    </tr>\n",
       "    <tr>\n",
       "      <th>1</th>\n",
       "      <td>35</td>\n",
       "      <td>20000</td>\n",
       "      <td>0</td>\n",
       "      <td>1</td>\n",
       "    </tr>\n",
       "    <tr>\n",
       "      <th>2</th>\n",
       "      <td>26</td>\n",
       "      <td>43000</td>\n",
       "      <td>0</td>\n",
       "      <td>0</td>\n",
       "    </tr>\n",
       "    <tr>\n",
       "      <th>3</th>\n",
       "      <td>27</td>\n",
       "      <td>57000</td>\n",
       "      <td>0</td>\n",
       "      <td>0</td>\n",
       "    </tr>\n",
       "  </tbody>\n",
       "</table>\n",
       "</div>"
      ],
      "text/plain": [
       "   Age  EstimatedSalary  Purchased  Male\n",
       "0   19            19000          0     1\n",
       "1   35            20000          0     1\n",
       "2   26            43000          0     0\n",
       "3   27            57000          0     0"
      ]
     },
     "execution_count": 6,
     "metadata": {},
     "output_type": "execute_result"
    }
   ],
   "source": [
    "dataset=dataset.drop([\"User ID\",\"Gender\"],axis=1)\n",
    "dataset.head(4)"
   ]
  },
  {
   "cell_type": "code",
   "execution_count": 7,
   "metadata": {},
   "outputs": [
    {
     "data": {
      "text/plain": [
       "<seaborn.axisgrid.PairGrid at 0x7fcef0973550>"
      ]
     },
     "execution_count": 7,
     "metadata": {},
     "output_type": "execute_result"
    },
    {
     "data": {
      "image/png": "[encoded data removed]",
      "text/plain": [
       "<Figure size 419.875x360 with 6 Axes>"
      ]
     },
     "metadata": {
      "needs_background": "light"
     },
     "output_type": "display_data"
    }
   ],
   "source": [
    "sns.pairplot(data=dataset,vars=[\"EstimatedSalary\",\"Age\"],hue=\"Purchased\")"
   ]
  },
  {
   "cell_type": "code",
   "execution_count": 8,
   "metadata": {},
   "outputs": [
    {
     "data": {
      "text/plain": [
       "<AxesSubplot:xlabel='Purchased', ylabel='count'>"
      ]
     },
     "execution_count": 8,
     "metadata": {},
     "output_type": "execute_result"
    },
    {
     "data": {
      "image/png": "[encoded data removed]",
      "text/plain": [
       "<Figure size 432x288 with 1 Axes>"
      ]
     },
     "metadata": {
      "needs_background": "light"
     },
     "output_type": "display_data"
    }
   ],
   "source": [
    "sns.countplot(x='Purchased',hue='Male',data=dataset)"
   ]
  },
  {
   "cell_type": "markdown",
   "metadata": {},
   "source": [
    "## Train Test Split"
   ]
  },
  {
   "cell_type": "code",
   "execution_count": 9,
   "metadata": {},
   "outputs": [],
   "source": [
    "X=dataset.drop(\"Purchased\",axis=1)\n",
    "y=dataset['Purchased']"
   ]
  },
  {
   "cell_type": "code",
   "execution_count": 10,
   "metadata": {},
   "outputs": [],
   "source": [
    "# Splitting the dataset into the Training set and Test set\n",
    "from sklearn.model_selection import train_test_split\n",
    "X_train, X_test, y_train, y_test = train_test_split(X, y, test_size = 0.25, random_state = 0)"
   ]
  },
  {
   "cell_type": "markdown",
   "metadata": {},
   "source": [
    "### Standardize the Variables\n",
    "\n",
    "Because the KNN classifier predicts the class of a given test observation by identifying the observations that are nearest to it, the scale of the variables matters. Any variables that are on a large scale will have a much larger effect on the distance between the observations, and hence on the KNN classifier, than variables that are on a small scale."
   ]
  },
  {
   "cell_type": "code",
   "execution_count": 11,
   "metadata": {},
   "outputs": [],
   "source": [
    "from sklearn.preprocessing import StandardScaler\n",
    "sc = StandardScaler()\n",
    "X_train = sc.fit_transform(X_train)\n",
    "X_test = sc.transform(X_test)"
   ]
  },
  {
   "cell_type": "markdown",
   "metadata": {},
   "source": [
    "## Training and Predicting"
   ]
  },
  {
   "cell_type": "code",
   "execution_count": 12,
   "metadata": {},
   "outputs": [
    {
     "data": {
      "text/plain": [
       "KNeighborsClassifier(n_neighbors=1)"
      ]
     },
     "execution_count": 12,
     "metadata": {},
     "output_type": "execute_result"
    }
   ],
   "source": [
    "from sklearn.neighbors import KNeighborsClassifier\n",
    "knn = KNeighborsClassifier(n_neighbors = 1)\n",
    "knn.fit(X_train, y_train)"
   ]
  },
  {
   "cell_type": "code",
   "execution_count": 13,
   "metadata": {},
   "outputs": [],
   "source": [
    "pred = knn.predict(X_test)"
   ]
  },
  {
   "cell_type": "markdown",
   "metadata": {},
   "source": [
    "## Evaluation"
   ]
  },
  {
   "cell_type": "code",
   "execution_count": 14,
   "metadata": {},
   "outputs": [],
   "source": [
    "from sklearn.metrics import classification_report,confusion_matrix"
   ]
  },
  {
   "cell_type": "code",
   "execution_count": 15,
   "metadata": {},
   "outputs": [
    {
     "name": "stdout",
     "output_type": "stream",
     "text": [
      "[[64  4]\n",
      " [ 4 28]]\n"
     ]
    }
   ],
   "source": [
    "print(confusion_matrix(y_test,pred))"
   ]
  },
  {
   "cell_type": "markdown",
   "metadata": {},
   "source": [
    "- True Positives (TP): The number of instances where the model correctly predicted that the customer purchased a product. In this case, this is represented by the number 28.\n",
    "\n",
    "- True Negatives (TN): The number of instances where the model correctly predicted that the customer did not purchase a product. In this case, this is represented by the number 64.\n",
    "\n",
    "- False Positives (FP): The number of instances where the model incorrectly predicted that the customer purchased a product when they actually did not. This is also known as a \"Type I error.\" In this case, this is represented by the number 4.\n",
    "\n",
    "- False Negatives (FN): The number of instances where the model incorrectly predicted that the customer did not purchase a product when they actually did. This is also known as a \"Type II error.\" In this case, this is represented by the number 4."
   ]
  },
  {
   "cell_type": "code",
   "execution_count": 16,
   "metadata": {},
   "outputs": [
    {
     "name": "stdout",
     "output_type": "stream",
     "text": [
      "              precision    recall  f1-score   support\n",
      "\n",
      "           0       0.94      0.94      0.94        68\n",
      "           1       0.88      0.88      0.88        32\n",
      "\n",
      "    accuracy                           0.92       100\n",
      "   macro avg       0.91      0.91      0.91       100\n",
      "weighted avg       0.92      0.92      0.92       100\n",
      "\n"
     ]
    }
   ],
   "source": [
    "print(classification_report(y_test,pred))"
   ]
  },
  {
   "cell_type": "markdown",
   "metadata": {},
   "source": [
    "## GridSearch for best k"
   ]
  },
  {
   "cell_type": "code",
   "execution_count": 17,
   "metadata": {},
   "outputs": [
    {
     "name": "stdout",
     "output_type": "stream",
     "text": [
      "Fitting 5 folds for each of 49 candidates, totalling 245 fits\n",
      "[CV 1/5] END .....................n_neighbors=1;, score=0.883 total time=   0.0s\n",
      "[CV 2/5] END .....................n_neighbors=1;, score=0.833 total time=   0.0s\n",
      "[CV 3/5] END .....................n_neighbors=1;, score=0.833 total time=   0.0s\n",
      "[CV 4/5] END .....................n_neighbors=1;, score=0.817 total time=   0.0s\n",
      "[CV 5/5] END .....................n_neighbors=1;, score=0.917 total time=   0.0s\n",
      "[CV 1/5] END .....................n_neighbors=2;, score=0.867 total time=   0.0s\n",
      "[CV 2/5] END .....................n_neighbors=2;, score=0.833 total time=   0.0s\n",
      "[CV 3/5] END .....................n_neighbors=2;, score=0.817 total time=   0.0s\n",
      "[CV 4/5] END .....................n_neighbors=2;, score=0.850 total time=   0.0s\n",
      "[CV 5/5] END .....................n_neighbors=2;, score=0.883 total time=   0.0s\n",
      "[CV 1/5] END .....................n_neighbors=3;, score=0.917 total time=   0.0s\n",
      "[CV 2/5] END .....................n_neighbors=3;, score=0.850 total time=   0.0s\n",
      "[CV 3/5] END .....................n_neighbors=3;, score=0.817 total time=   0.0s\n",
      "[CV 4/5] END .....................n_neighbors=3;, score=0.900 total time=   0.0s\n",
      "[CV 5/5] END .....................n_neighbors=3;, score=0.950 total time=   0.0s\n",
      "[CV 1/5] END .....................n_neighbors=4;, score=0.883 total time=   0.0s\n",
      "[CV 2/5] END .....................n_neighbors=4;, score=0.833 total time=   0.0s\n",
      "[CV 3/5] END .....................n_neighbors=4;, score=0.833 total time=   0.0s\n",
      "[CV 4/5] END .....................n_neighbors=4;, score=0.917 total time=   0.0s\n",
      "[CV 5/5] END .....................n_neighbors=4;, score=0.967 total time=   0.0s\n",
      "[CV 1/5] END .....................n_neighbors=5;, score=0.883 total time=   0.0s\n",
      "[CV 2/5] END .....................n_neighbors=5;, score=0.883 total time=   0.0s\n",
      "[CV 3/5] END .....................n_neighbors=5;, score=0.850 total time=   0.0s\n",
      "[CV 4/5] END .....................n_neighbors=5;, score=0.917 total time=   0.0s\n",
      "[CV 5/5] END .....................n_neighbors=5;, score=0.967 total time=   0.0s\n",
      "[CV 1/5] END .....................n_neighbors=6;, score=0.883 total time=   0.0s\n",
      "[CV 2/5] END .....................n_neighbors=6;, score=0.850 total time=   0.0s\n",
      "[CV 3/5] END .....................n_neighbors=6;, score=0.867 total time=   0.0s\n",
      "[CV 4/5] END .....................n_neighbors=6;, score=0.900 total time=   0.0s\n",
      "[CV 5/5] END .....................n_neighbors=6;, score=0.950 total time=   0.0s\n",
      "[CV 1/5] END .....................n_neighbors=7;, score=0.883 total time=   0.0s\n",
      "[CV 2/5] END .....................n_neighbors=7;, score=0.867 total time=   0.0s\n",
      "[CV 3/5] END .....................n_neighbors=7;, score=0.867 total time=   0.0s\n",
      "[CV 4/5] END .....................n_neighbors=7;, score=0.917 total time=   0.0s\n",
      "[CV 5/5] END .....................n_neighbors=7;, score=0.950 total time=   0.0s\n",
      "[CV 1/5] END .....................n_neighbors=8;, score=0.883 total time=   0.0s\n",
      "[CV 2/5] END .....................n_neighbors=8;, score=0.867 total time=   0.0s\n",
      "[CV 3/5] END .....................n_neighbors=8;, score=0.867 total time=   0.0s\n",
      "[CV 4/5] END .....................n_neighbors=8;, score=0.917 total time=   0.0s\n",
      "[CV 5/5] END .....................n_neighbors=8;, score=0.950 total time=   0.0s\n",
      "[CV 1/5] END .....................n_neighbors=9;, score=0.883 total time=   0.0s\n",
      "[CV 2/5] END .....................n_neighbors=9;, score=0.867 total time=   0.0s\n",
      "[CV 3/5] END .....................n_neighbors=9;, score=0.850 total time=   0.0s\n",
      "[CV 4/5] END .....................n_neighbors=9;, score=0.917 total time=   0.0s\n",
      "[CV 5/5] END .....................n_neighbors=9;, score=0.983 total time=   0.0s\n",
      "[CV 1/5] END ....................n_neighbors=10;, score=0.883 total time=   0.0s\n",
      "[CV 2/5] END ....................n_neighbors=10;, score=0.850 total time=   0.0s\n",
      "[CV 3/5] END ....................n_neighbors=10;, score=0.850 total time=   0.0s\n",
      "[CV 4/5] END ....................n_neighbors=10;, score=0.933 total time=   0.0s\n",
      "[CV 5/5] END ....................n_neighbors=10;, score=0.983 total time=   0.0s\n",
      "[CV 1/5] END ....................n_neighbors=11;, score=0.883 total time=   0.0s\n",
      "[CV 2/5] END ....................n_neighbors=11;, score=0.850 total time=   0.0s\n",
      "[CV 3/5] END ....................n_neighbors=11;, score=0.850 total time=   0.0s\n",
      "[CV 4/5] END ....................n_neighbors=11;, score=0.933 total time=   0.0s\n",
      "[CV 5/5] END ....................n_neighbors=11;, score=0.983 total time=   0.0s\n",
      "[CV 1/5] END ....................n_neighbors=12;, score=0.883 total time=   0.0s\n",
      "[CV 2/5] END ....................n_neighbors=12;, score=0.850 total time=   0.0s\n",
      "[CV 3/5] END ....................n_neighbors=12;, score=0.833 total time=   0.0s\n",
      "[CV 4/5] END ....................n_neighbors=12;, score=0.933 total time=   0.0s\n",
      "[CV 5/5] END ....................n_neighbors=12;, score=0.983 total time=   0.0s\n",
      "[CV 1/5] END ....................n_neighbors=13;, score=0.883 total time=   0.0s\n",
      "[CV 2/5] END ....................n_neighbors=13;, score=0.850 total time=   0.0s\n",
      "[CV 3/5] END ....................n_neighbors=13;, score=0.867 total time=   0.0s\n",
      "[CV 4/5] END ....................n_neighbors=13;, score=0.917 total time=   0.0s\n",
      "[CV 5/5] END ....................n_neighbors=13;, score=0.983 total time=   0.0s\n",
      "[CV 1/5] END ....................n_neighbors=14;, score=0.883 total time=   0.0s\n",
      "[CV 2/5] END ....................n_neighbors=14;, score=0.850 total time=   0.0s\n",
      "[CV 3/5] END ....................n_neighbors=14;, score=0.783 total time=   0.0s\n",
      "[CV 4/5] END ....................n_neighbors=14;, score=0.933 total time=   0.0s\n",
      "[CV 5/5] END ....................n_neighbors=14;, score=0.983 total time=   0.0s\n",
      "[CV 1/5] END ....................n_neighbors=15;, score=0.883 total time=   0.0s\n",
      "[CV 2/5] END ....................n_neighbors=15;, score=0.850 total time=   0.0s\n",
      "[CV 3/5] END ....................n_neighbors=15;, score=0.800 total time=   0.0s\n",
      "[CV 4/5] END ....................n_neighbors=15;, score=0.917 total time=   0.0s\n",
      "[CV 5/5] END ....................n_neighbors=15;, score=0.983 total time=   0.0s\n",
      "[CV 1/5] END ....................n_neighbors=16;, score=0.900 total time=   0.0s\n",
      "[CV 2/5] END ....................n_neighbors=16;, score=0.850 total time=   0.0s\n",
      "[CV 3/5] END ....................n_neighbors=16;, score=0.783 total time=   0.0s\n",
      "[CV 4/5] END ....................n_neighbors=16;, score=0.917 total time=   0.0s\n",
      "[CV 5/5] END ....................n_neighbors=16;, score=0.983 total time=   0.0s\n",
      "[CV 1/5] END ....................n_neighbors=17;, score=0.883 total time=   0.0s\n",
      "[CV 2/5] END ....................n_neighbors=17;, score=0.850 total time=   0.0s\n",
      "[CV 3/5] END ....................n_neighbors=17;, score=0.800 total time=   0.0s\n",
      "[CV 4/5] END ....................n_neighbors=17;, score=0.917 total time=   0.0s\n",
      "[CV 5/5] END ....................n_neighbors=17;, score=0.983 total time=   0.0s\n",
      "[CV 1/5] END ....................n_neighbors=18;, score=0.900 total time=   0.0s\n",
      "[CV 2/5] END ....................n_neighbors=18;, score=0.817 total time=   0.0s\n",
      "[CV 3/5] END ....................n_neighbors=18;, score=0.767 total time=   0.0s\n",
      "[CV 4/5] END ....................n_neighbors=18;, score=0.917 total time=   0.0s\n",
      "[CV 5/5] END ....................n_neighbors=18;, score=0.917 total time=   0.0s\n",
      "[CV 1/5] END ....................n_neighbors=19;, score=0.883 total time=   0.0s\n",
      "[CV 2/5] END ....................n_neighbors=19;, score=0.817 total time=   0.0s\n",
      "[CV 3/5] END ....................n_neighbors=19;, score=0.767 total time=   0.0s\n",
      "[CV 4/5] END ....................n_neighbors=19;, score=0.917 total time=   0.0s\n",
      "[CV 5/5] END ....................n_neighbors=19;, score=0.933 total time=   0.0s\n",
      "[CV 1/5] END ....................n_neighbors=20;, score=0.867 total time=   0.0s\n",
      "[CV 2/5] END ....................n_neighbors=20;, score=0.817 total time=   0.0s\n",
      "[CV 3/5] END ....................n_neighbors=20;, score=0.767 total time=   0.0s\n",
      "[CV 4/5] END ....................n_neighbors=20;, score=0.917 total time=   0.0s\n",
      "[CV 5/5] END ....................n_neighbors=20;, score=0.900 total time=   0.0s\n",
      "[CV 1/5] END ....................n_neighbors=21;, score=0.867 total time=   0.0s\n",
      "[CV 2/5] END ....................n_neighbors=21;, score=0.817 total time=   0.0s\n",
      "[CV 3/5] END ....................n_neighbors=21;, score=0.767 total time=   0.0s\n",
      "[CV 4/5] END ....................n_neighbors=21;, score=0.917 total time=   0.0s\n",
      "[CV 5/5] END ....................n_neighbors=21;, score=0.950 total time=   0.0s\n",
      "[CV 1/5] END ....................n_neighbors=22;, score=0.867 total time=   0.0s\n",
      "[CV 2/5] END ....................n_neighbors=22;, score=0.817 total time=   0.0s\n",
      "[CV 3/5] END ....................n_neighbors=22;, score=0.783 total time=   0.0s\n",
      "[CV 4/5] END ....................n_neighbors=22;, score=0.917 total time=   0.0s\n",
      "[CV 5/5] END ....................n_neighbors=22;, score=0.917 total time=   0.0s\n",
      "[CV 1/5] END ....................n_neighbors=23;, score=0.867 total time=   0.0s\n",
      "[CV 2/5] END ....................n_neighbors=23;, score=0.817 total time=   0.0s\n",
      "[CV 3/5] END ....................n_neighbors=23;, score=0.783 total time=   0.0s\n",
      "[CV 4/5] END ....................n_neighbors=23;, score=0.917 total time=   0.0s\n",
      "[CV 5/5] END ....................n_neighbors=23;, score=0.950 total time=   0.0s\n",
      "[CV 1/5] END ....................n_neighbors=24;, score=0.867 total time=   0.0s\n",
      "[CV 2/5] END ....................n_neighbors=24;, score=0.817 total time=   0.0s\n",
      "[CV 3/5] END ....................n_neighbors=24;, score=0.750 total time=   0.0s\n",
      "[CV 4/5] END ....................n_neighbors=24;, score=0.933 total time=   0.0s\n",
      "[CV 5/5] END ....................n_neighbors=24;, score=0.933 total time=   0.0s\n",
      "[CV 1/5] END ....................n_neighbors=25;, score=0.867 total time=   0.0s\n",
      "[CV 2/5] END ....................n_neighbors=25;, score=0.817 total time=   0.0s\n",
      "[CV 3/5] END ....................n_neighbors=25;, score=0.767 total time=   0.0s\n",
      "[CV 4/5] END ....................n_neighbors=25;, score=0.933 total time=   0.0s\n",
      "[CV 5/5] END ....................n_neighbors=25;, score=0.933 total time=   0.0s\n",
      "[CV 1/5] END ....................n_neighbors=26;, score=0.867 total time=   0.0s\n",
      "[CV 2/5] END ....................n_neighbors=26;, score=0.800 total time=   0.0s\n",
      "[CV 3/5] END ....................n_neighbors=26;, score=0.750 total time=   0.0s\n",
      "[CV 4/5] END ....................n_neighbors=26;, score=0.917 total time=   0.0s\n",
      "[CV 5/5] END ....................n_neighbors=26;, score=0.933 total time=   0.0s\n",
      "[CV 1/5] END ....................n_neighbors=27;, score=0.867 total time=   0.0s\n",
      "[CV 2/5] END ....................n_neighbors=27;, score=0.800 total time=   0.0s\n",
      "[CV 3/5] END ....................n_neighbors=27;, score=0.750 total time=   0.0s\n",
      "[CV 4/5] END ....................n_neighbors=27;, score=0.933 total time=   0.0s\n",
      "[CV 5/5] END ....................n_neighbors=27;, score=0.933 total time=   0.0s\n",
      "[CV 1/5] END ....................n_neighbors=28;, score=0.850 total time=   0.0s\n",
      "[CV 2/5] END ....................n_neighbors=28;, score=0.783 total time=   0.0s\n",
      "[CV 3/5] END ....................n_neighbors=28;, score=0.750 total time=   0.0s\n",
      "[CV 4/5] END ....................n_neighbors=28;, score=0.917 total time=   0.0s\n",
      "[CV 5/5] END ....................n_neighbors=28;, score=0.867 total time=   0.0s\n",
      "[CV 1/5] END ....................n_neighbors=29;, score=0.867 total time=   0.0s\n",
      "[CV 2/5] END ....................n_neighbors=29;, score=0.783 total time=   0.0s\n",
      "[CV 3/5] END ....................n_neighbors=29;, score=0.750 total time=   0.0s\n",
      "[CV 4/5] END ....................n_neighbors=29;, score=0.917 total time=   0.0s\n",
      "[CV 5/5] END ....................n_neighbors=29;, score=0.883 total time=   0.0s\n",
      "[CV 1/5] END ....................n_neighbors=30;, score=0.850 total time=   0.0s\n",
      "[CV 2/5] END ....................n_neighbors=30;, score=0.767 total time=   0.0s\n",
      "[CV 3/5] END ....................n_neighbors=30;, score=0.750 total time=   0.0s\n",
      "[CV 4/5] END ....................n_neighbors=30;, score=0.917 total time=   0.0s\n",
      "[CV 5/5] END ....................n_neighbors=30;, score=0.883 total time=   0.0s\n",
      "[CV 1/5] END ....................n_neighbors=31;, score=0.850 total time=   0.0s\n",
      "[CV 2/5] END ....................n_neighbors=31;, score=0.767 total time=   0.0s\n",
      "[CV 3/5] END ....................n_neighbors=31;, score=0.750 total time=   0.0s\n",
      "[CV 4/5] END ....................n_neighbors=31;, score=0.917 total time=   0.0s\n",
      "[CV 5/5] END ....................n_neighbors=31;, score=0.883 total time=   0.0s\n",
      "[CV 1/5] END ....................n_neighbors=32;, score=0.850 total time=   0.0s\n",
      "[CV 2/5] END ....................n_neighbors=32;, score=0.767 total time=   0.0s\n",
      "[CV 3/5] END ....................n_neighbors=32;, score=0.717 total time=   0.0s\n",
      "[CV 4/5] END ....................n_neighbors=32;, score=0.900 total time=   0.0s\n",
      "[CV 5/5] END ....................n_neighbors=32;, score=0.833 total time=   0.0s\n",
      "[CV 1/5] END ....................n_neighbors=33;, score=0.850 total time=   0.0s\n",
      "[CV 2/5] END ....................n_neighbors=33;, score=0.767 total time=   0.0s\n",
      "[CV 3/5] END ....................n_neighbors=33;, score=0.717 total time=   0.0s\n",
      "[CV 4/5] END ....................n_neighbors=33;, score=0.900 total time=   0.0s\n",
      "[CV 5/5] END ....................n_neighbors=33;, score=0.850 total time=   0.0s\n",
      "[CV 1/5] END ....................n_neighbors=34;, score=0.850 total time=   0.0s\n",
      "[CV 2/5] END ....................n_neighbors=34;, score=0.767 total time=   0.0s\n",
      "[CV 3/5] END ....................n_neighbors=34;, score=0.717 total time=   0.0s\n",
      "[CV 4/5] END ....................n_neighbors=34;, score=0.850 total time=   0.0s\n",
      "[CV 5/5] END ....................n_neighbors=34;, score=0.833 total time=   0.0s\n",
      "[CV 1/5] END ....................n_neighbors=35;, score=0.850 total time=   0.0s\n",
      "[CV 2/5] END ....................n_neighbors=35;, score=0.767 total time=   0.0s\n",
      "[CV 3/5] END ....................n_neighbors=35;, score=0.717 total time=   0.0s\n",
      "[CV 4/5] END ....................n_neighbors=35;, score=0.850 total time=   0.0s\n",
      "[CV 5/5] END ....................n_neighbors=35;, score=0.850 total time=   0.0s\n",
      "[CV 1/5] END ....................n_neighbors=36;, score=0.850 total time=   0.0s\n",
      "[CV 2/5] END ....................n_neighbors=36;, score=0.767 total time=   0.0s\n",
      "[CV 3/5] END ....................n_neighbors=36;, score=0.717 total time=   0.0s\n",
      "[CV 4/5] END ....................n_neighbors=36;, score=0.833 total time=   0.0s\n",
      "[CV 5/5] END ....................n_neighbors=36;, score=0.817 total time=   0.0s\n",
      "[CV 1/5] END ....................n_neighbors=37;, score=0.867 total time=   0.0s\n",
      "[CV 2/5] END ....................n_neighbors=37;, score=0.767 total time=   0.0s\n",
      "[CV 3/5] END ....................n_neighbors=37;, score=0.717 total time=   0.0s\n",
      "[CV 4/5] END ....................n_neighbors=37;, score=0.850 total time=   0.0s\n",
      "[CV 5/5] END ....................n_neighbors=37;, score=0.817 total time=   0.0s\n",
      "[CV 1/5] END ....................n_neighbors=38;, score=0.817 total time=   0.0s\n",
      "[CV 2/5] END ....................n_neighbors=38;, score=0.750 total time=   0.0s\n",
      "[CV 3/5] END ....................n_neighbors=38;, score=0.717 total time=   0.0s\n",
      "[CV 4/5] END ....................n_neighbors=38;, score=0.833 total time=   0.0s\n",
      "[CV 5/5] END ....................n_neighbors=38;, score=0.800 total time=   0.0s\n",
      "[CV 1/5] END ....................n_neighbors=39;, score=0.817 total time=   0.0s\n",
      "[CV 2/5] END ....................n_neighbors=39;, score=0.767 total time=   0.0s\n",
      "[CV 3/5] END ....................n_neighbors=39;, score=0.717 total time=   0.0s\n",
      "[CV 4/5] END ....................n_neighbors=39;, score=0.850 total time=   0.0s\n",
      "[CV 5/5] END ....................n_neighbors=39;, score=0.817 total time=   0.0s\n",
      "[CV 1/5] END ....................n_neighbors=40;, score=0.800 total time=   0.0s\n",
      "[CV 2/5] END ....................n_neighbors=40;, score=0.750 total time=   0.0s\n",
      "[CV 3/5] END ....................n_neighbors=40;, score=0.700 total time=   0.0s\n",
      "[CV 4/5] END ....................n_neighbors=40;, score=0.817 total time=   0.0s\n",
      "[CV 5/5] END ....................n_neighbors=40;, score=0.783 total time=   0.0s\n",
      "[CV 1/5] END ....................n_neighbors=41;, score=0.800 total time=   0.0s\n",
      "[CV 2/5] END ....................n_neighbors=41;, score=0.750 total time=   0.0s\n",
      "[CV 3/5] END ....................n_neighbors=41;, score=0.700 total time=   0.0s\n",
      "[CV 4/5] END ....................n_neighbors=41;, score=0.817 total time=   0.0s\n",
      "[CV 5/5] END ....................n_neighbors=41;, score=0.783 total time=   0.0s\n",
      "[CV 1/5] END ....................n_neighbors=42;, score=0.800 total time=   0.0s\n",
      "[CV 2/5] END ....................n_neighbors=42;, score=0.750 total time=   0.0s\n",
      "[CV 3/5] END ....................n_neighbors=42;, score=0.700 total time=   0.0s\n",
      "[CV 4/5] END ....................n_neighbors=42;, score=0.800 total time=   0.0s\n",
      "[CV 5/5] END ....................n_neighbors=42;, score=0.783 total time=   0.0s\n",
      "[CV 1/5] END ....................n_neighbors=43;, score=0.800 total time=   0.0s\n",
      "[CV 2/5] END ....................n_neighbors=43;, score=0.750 total time=   0.0s\n",
      "[CV 3/5] END ....................n_neighbors=43;, score=0.700 total time=   0.0s\n",
      "[CV 4/5] END ....................n_neighbors=43;, score=0.800 total time=   0.0s\n",
      "[CV 5/5] END ....................n_neighbors=43;, score=0.783 total time=   0.0s\n",
      "[CV 1/5] END ....................n_neighbors=44;, score=0.800 total time=   0.0s\n",
      "[CV 2/5] END ....................n_neighbors=44;, score=0.750 total time=   0.0s\n",
      "[CV 3/5] END ....................n_neighbors=44;, score=0.700 total time=   0.0s\n",
      "[CV 4/5] END ....................n_neighbors=44;, score=0.800 total time=   0.0s\n",
      "[CV 5/5] END ....................n_neighbors=44;, score=0.783 total time=   0.0s\n",
      "[CV 1/5] END ....................n_neighbors=45;, score=0.783 total time=   0.0s\n",
      "[CV 2/5] END ....................n_neighbors=45;, score=0.750 total time=   0.0s\n",
      "[CV 3/5] END ....................n_neighbors=45;, score=0.700 total time=   0.0s\n",
      "[CV 4/5] END ....................n_neighbors=45;, score=0.817 total time=   0.0s\n",
      "[CV 5/5] END ....................n_neighbors=45;, score=0.783 total time=   0.0s\n",
      "[CV 1/5] END ....................n_neighbors=46;, score=0.783 total time=   0.0s\n",
      "[CV 2/5] END ....................n_neighbors=46;, score=0.733 total time=   0.0s\n",
      "[CV 3/5] END ....................n_neighbors=46;, score=0.700 total time=   0.0s\n",
      "[CV 4/5] END ....................n_neighbors=46;, score=0.817 total time=   0.0s\n",
      "[CV 5/5] END ....................n_neighbors=46;, score=0.783 total time=   0.0s\n",
      "[CV 1/5] END ....................n_neighbors=47;, score=0.783 total time=   0.0s\n",
      "[CV 2/5] END ....................n_neighbors=47;, score=0.750 total time=   0.0s\n",
      "[CV 3/5] END ....................n_neighbors=47;, score=0.700 total time=   0.0s\n",
      "[CV 4/5] END ....................n_neighbors=47;, score=0.817 total time=   0.0s\n",
      "[CV 5/5] END ....................n_neighbors=47;, score=0.783 total time=   0.0s\n",
      "[CV 1/5] END ....................n_neighbors=48;, score=0.783 total time=   0.0s\n",
      "[CV 2/5] END ....................n_neighbors=48;, score=0.733 total time=   0.0s\n",
      "[CV 3/5] END ....................n_neighbors=48;, score=0.700 total time=   0.0s\n",
      "[CV 4/5] END ....................n_neighbors=48;, score=0.800 total time=   0.0s\n",
      "[CV 5/5] END ....................n_neighbors=48;, score=0.750 total time=   0.0s\n",
      "[CV 1/5] END ....................n_neighbors=49;, score=0.767 total time=   0.0s\n",
      "[CV 2/5] END ....................n_neighbors=49;, score=0.733 total time=   0.0s\n",
      "[CV 3/5] END ....................n_neighbors=49;, score=0.700 total time=   0.0s\n",
      "[CV 4/5] END ....................n_neighbors=49;, score=0.800 total time=   0.0s\n",
      "[CV 5/5] END ....................n_neighbors=49;, score=0.783 total time=   0.0s\n"
     ]
    },
    {
     "data": {
      "text/plain": [
       "GridSearchCV(estimator=KNeighborsClassifier(),\n",
       "             param_grid={'n_neighbors': [1, 2, 3, 4, 5, 6, 7, 8, 9, 10, 11, 12,\n",
       "                                         13, 14, 15, 16, 17, 18, 19, 20, 21, 22,\n",
       "                                         23, 24, 25, 26, 27, 28, 29, 30, ...]},\n",
       "             verbose=3)"
      ]
     },
     "execution_count": 17,
     "metadata": {},
     "output_type": "execute_result"
    }
   ],
   "source": [
    "from sklearn.model_selection import GridSearchCV\n",
    "param_grid = {'n_neighbors':list(range(1,50))}\n",
    "grid = GridSearchCV(KNeighborsClassifier(), param_grid, verbose=3)\n",
    "grid.fit(X_train, y_train)"
   ]
  },
  {
   "cell_type": "code",
   "execution_count": 18,
   "metadata": {},
   "outputs": [
    {
     "data": {
      "text/plain": [
       "{'n_neighbors': 5}"
      ]
     },
     "execution_count": 18,
     "metadata": {},
     "output_type": "execute_result"
    }
   ],
   "source": [
    "grid.best_params_"
   ]
  },
  {
   "cell_type": "code",
   "execution_count": 19,
   "metadata": {},
   "outputs": [],
   "source": [
    "grid_predictions = grid.best_estimator_.predict(X_test)"
   ]
  },
  {
   "cell_type": "code",
   "execution_count": 20,
   "metadata": {},
   "outputs": [
    {
     "name": "stdout",
     "output_type": "stream",
     "text": [
      "[[64  4]\n",
      " [ 3 29]]\n",
      "\n",
      "\n",
      "              precision    recall  f1-score   support\n",
      "\n",
      "           0       0.96      0.94      0.95        68\n",
      "           1       0.88      0.91      0.89        32\n",
      "\n",
      "    accuracy                           0.93       100\n",
      "   macro avg       0.92      0.92      0.92       100\n",
      "weighted avg       0.93      0.93      0.93       100\n",
      "\n"
     ]
    }
   ],
   "source": [
    "print(confusion_matrix(y_test,grid_predictions))\n",
    "print('\\n')\n",
    "print(classification_report(y_test,grid_predictions))"
   ]
  },
  {
   "cell_type": "markdown",
   "metadata": {},
   "source": [
    "- True Positives (TP): 29 (customers correctly predicted to have purchased a product)\n",
    "- True Negatives (TN): 64 (customers correctly predicted to have not purchased a product)\n",
    "- False Positives (FP): 4 (customers incorrectly predicted to have purchased a product)\n",
    "- False Negatives (FN): 3 (customers incorrectly predicted to have not purchased a product)"
   ]
  }
 ],
 "metadata": {
  "kernelspec": {
   "display_name": "Python 3 (ipykernel)",
   "language": "python",
   "name": "python3"
  },
  "language_info": {
   "codemirror_mode": {
    "name": "ipython",
    "version": 3
   },
   "file_extension": ".py",
   "mimetype": "text/x-python",
   "name": "python",
   "nbconvert_exporter": "python",
   "pygments_lexer": "ipython3",
   "version": "3.10.9"
  }
 },
 "nbformat": 4,
 "nbformat_minor": 4
}
