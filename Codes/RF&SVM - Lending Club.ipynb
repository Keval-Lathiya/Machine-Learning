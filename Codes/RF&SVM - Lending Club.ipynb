{
 "cells": [
  {
   "cell_type": "markdown",
   "metadata": {},
   "source": [
    "# Lending Club\n",
    "\n",
    "Lending Club is a peer-to-peer online lending platform. It is the world’s largest marketplace connecting borrowers and investors, where consumers and small business owners lower the cost of their credit and enjoy a better experience than traditional bank lending, and investors earn attractive risk-adjusted returns.Essentially, borrowers apply for loans and are assigned an interest rate by LendingClub. Individual investors are able to choose loans to fund or invest in, raising capital for a loan in a similar way to a crowd-sourcing campaign. As an investor, your returns vary based on the loans you choose (both the interest and default rates). Therefore, if you can better predict which borrowers will pay back their loans, you can expect better investment returns.\n",
    "\n",
    "In this assignment, you will be analyzing data from LendingClub (<a href = \"https://www.lendingclub.com/\">www.lendingclub.com</a>). Using the lending data from 2007-2010, you need to create models that predict whether or not borrowers paid back their loan in full. The final model should minimize the number of borrowers who actually did not pay back their load in full but predicted as they did (this is our model selection criteria).\n",
    "\n",
    "\n",
    "You need to create a Random Forest model and a Support Vector model using the same training/testing data. For both models, you need to optimize the parameters using a Grid Search. \n",
    "- For random forest, test the following number of trees in the forest: 10, 50, 100, 200, 300, 500, 800\n",
    "- For svm, test the following:\n",
    "    - C values: 0.1,1,10\n",
    "    - gamma values: \"auto\",\"scale\",\n",
    "    - kernel: \"poly\",'linear','rbf'\n",
    "    \n",
    "Do not drop any of the features and make sure to scale them using StandardScaler (otherwise GridSearch for SVM will take a very very long time)\n",
    "\n",
    "At the very bottom of your notebook, please explain how your models have performed and which model performed the best given the criteria.\n",
    "\n",
    "Here are what the columns in the data represent:\n",
    "* credit.policy: 1 if the customer meets the credit underwriting criteria of LendingClub.com, and 0 otherwise.\n",
    "* purpose: The purpose of the loan (takes values \"credit_card\", \"debt_consolidation\", \"educational\", \"major_purchase\", \"small_business\", and \"all_other\").\n",
    "* int.rate: The interest rate of the loan, as a proportion. Borrowers judged by LendingClub.com to be more risky are assigned higher interest rates.\n",
    "* installment: The monthly installments owed by the borrower if the loan is funded.\n",
    "* log.annual.inc: The natural log of the self-reported annual income of the borrower.\n",
    "* dti: The debt-to-income ratio of the borrower (amount of debt divided by annual income).\n",
    "* fico: The FICO credit score of the borrower.\n",
    "* days.with.cr.line: The number of days the borrower has had a credit line.\n",
    "* revol.bal: The borrower's revolving balance (amount unpaid at the end of the credit card billing cycle).\n",
    "* revol.util: The borrower's revolving line utilization rate (the amount of the credit line used relative to total credit available).\n",
    "* inq.last.6mths: The borrower's number of inquiries by creditors in the last 6 months.\n",
    "* delinq.2yrs: The number of times the borrower had been 30+ days past due on a payment in the past 2 years.\n",
    "* pub.rec: The borrower's number of derogatory public records (bankruptcy filings, tax liens, or judgments).\n",
    "* not.fully.paid: 1 if the borrower did not pay back their loan in full, 0 if they paid back their loan in full.\n",
    "\n",
    "\n"
   ]
  },
  {
   "cell_type": "markdown",
   "metadata": {},
   "source": [
    "# Import Libraries\n"
   ]
  },
  {
   "cell_type": "code",
   "execution_count": 1,
   "metadata": {},
   "outputs": [],
   "source": [
    "import pandas as pd\n",
    "import numpy as np\n",
    "import seaborn as sns"
   ]
  },
  {
   "cell_type": "code",
   "execution_count": 2,
   "metadata": {},
   "outputs": [],
   "source": [
    "import sklearn\n",
    "from sklearn.model_selection import train_test_split\n",
    "from sklearn.preprocessing import StandardScaler\n",
    "from sklearn.ensemble import RandomForestClassifier\n",
    "from sklearn.model_selection import GridSearchCV"
   ]
  },
  {
   "cell_type": "code",
   "execution_count": 3,
   "metadata": {},
   "outputs": [],
   "source": [
    "from sklearn.svm import SVC"
   ]
  },
  {
   "cell_type": "markdown",
   "metadata": {},
   "source": [
    "# Get the Data\n",
    "\n"
   ]
  },
  {
   "cell_type": "code",
   "execution_count": 4,
   "metadata": {},
   "outputs": [],
   "source": [
    "data = pd.read_csv(\"lending_club.csv\")"
   ]
  },
  {
   "cell_type": "markdown",
   "metadata": {},
   "source": [
    "# Exploratory Data Analysis"
   ]
  },
  {
   "cell_type": "code",
   "execution_count": 5,
   "metadata": {},
   "outputs": [
    {
     "data": {
      "text/html": [
       "<div>\n",
       "<style scoped>\n",
       "    .dataframe tbody tr th:only-of-type {\n",
       "        vertical-align: middle;\n",
       "    }\n",
       "\n",
       "    .dataframe tbody tr th {\n",
       "        vertical-align: top;\n",
       "    }\n",
       "\n",
       "    .dataframe thead th {\n",
       "        text-align: right;\n",
       "    }\n",
       "</style>\n",
       "<table border=\"1\" class=\"dataframe\">\n",
       "  <thead>\n",
       "    <tr style=\"text-align: right;\">\n",
       "      <th></th>\n",
       "      <th>credit.policy</th>\n",
       "      <th>purpose</th>\n",
       "      <th>int.rate</th>\n",
       "      <th>installment</th>\n",
       "      <th>log.annual.inc</th>\n",
       "      <th>dti</th>\n",
       "      <th>fico</th>\n",
       "      <th>days.with.cr.line</th>\n",
       "      <th>revol.bal</th>\n",
       "      <th>revol.util</th>\n",
       "      <th>inq.last.6mths</th>\n",
       "      <th>delinq.2yrs</th>\n",
       "      <th>pub.rec</th>\n",
       "      <th>not.fully.paid</th>\n",
       "    </tr>\n",
       "  </thead>\n",
       "  <tbody>\n",
       "    <tr>\n",
       "      <th>0</th>\n",
       "      <td>1</td>\n",
       "      <td>debt_consolidation</td>\n",
       "      <td>0.1670</td>\n",
       "      <td>674.53</td>\n",
       "      <td>10.887437</td>\n",
       "      <td>19.87</td>\n",
       "      <td>667</td>\n",
       "      <td>3904.958333</td>\n",
       "      <td>17176</td>\n",
       "      <td>73.4</td>\n",
       "      <td>1</td>\n",
       "      <td>0</td>\n",
       "      <td>0</td>\n",
       "      <td>1</td>\n",
       "    </tr>\n",
       "    <tr>\n",
       "      <th>1</th>\n",
       "      <td>1</td>\n",
       "      <td>all_other</td>\n",
       "      <td>0.0740</td>\n",
       "      <td>82.31</td>\n",
       "      <td>9.210340</td>\n",
       "      <td>1.20</td>\n",
       "      <td>807</td>\n",
       "      <td>3899.958333</td>\n",
       "      <td>82</td>\n",
       "      <td>2.3</td>\n",
       "      <td>0</td>\n",
       "      <td>0</td>\n",
       "      <td>0</td>\n",
       "      <td>1</td>\n",
       "    </tr>\n",
       "    <tr>\n",
       "      <th>2</th>\n",
       "      <td>1</td>\n",
       "      <td>all_other</td>\n",
       "      <td>0.1218</td>\n",
       "      <td>166.50</td>\n",
       "      <td>10.915088</td>\n",
       "      <td>22.45</td>\n",
       "      <td>702</td>\n",
       "      <td>1800.000000</td>\n",
       "      <td>16957</td>\n",
       "      <td>67.0</td>\n",
       "      <td>3</td>\n",
       "      <td>0</td>\n",
       "      <td>0</td>\n",
       "      <td>1</td>\n",
       "    </tr>\n",
       "    <tr>\n",
       "      <th>3</th>\n",
       "      <td>1</td>\n",
       "      <td>debt_consolidation</td>\n",
       "      <td>0.1287</td>\n",
       "      <td>420.42</td>\n",
       "      <td>10.545341</td>\n",
       "      <td>10.39</td>\n",
       "      <td>707</td>\n",
       "      <td>3119.958333</td>\n",
       "      <td>12343</td>\n",
       "      <td>67.8</td>\n",
       "      <td>0</td>\n",
       "      <td>0</td>\n",
       "      <td>0</td>\n",
       "      <td>1</td>\n",
       "    </tr>\n",
       "    <tr>\n",
       "      <th>4</th>\n",
       "      <td>1</td>\n",
       "      <td>debt_consolidation</td>\n",
       "      <td>0.1114</td>\n",
       "      <td>82.01</td>\n",
       "      <td>11.156251</td>\n",
       "      <td>18.09</td>\n",
       "      <td>712</td>\n",
       "      <td>8130.000000</td>\n",
       "      <td>14482</td>\n",
       "      <td>84.2</td>\n",
       "      <td>0</td>\n",
       "      <td>0</td>\n",
       "      <td>0</td>\n",
       "      <td>1</td>\n",
       "    </tr>\n",
       "  </tbody>\n",
       "</table>\n",
       "</div>"
      ],
      "text/plain": [
       "   credit.policy             purpose  int.rate  installment  log.annual.inc  \\\n",
       "0              1  debt_consolidation    0.1670       674.53       10.887437   \n",
       "1              1           all_other    0.0740        82.31        9.210340   \n",
       "2              1           all_other    0.1218       166.50       10.915088   \n",
       "3              1  debt_consolidation    0.1287       420.42       10.545341   \n",
       "4              1  debt_consolidation    0.1114        82.01       11.156251   \n",
       "\n",
       "     dti  fico  days.with.cr.line  revol.bal  revol.util  inq.last.6mths  \\\n",
       "0  19.87   667        3904.958333      17176        73.4               1   \n",
       "1   1.20   807        3899.958333         82         2.3               0   \n",
       "2  22.45   702        1800.000000      16957        67.0               3   \n",
       "3  10.39   707        3119.958333      12343        67.8               0   \n",
       "4  18.09   712        8130.000000      14482        84.2               0   \n",
       "\n",
       "   delinq.2yrs  pub.rec  not.fully.paid  \n",
       "0            0        0               1  \n",
       "1            0        0               1  \n",
       "2            0        0               1  \n",
       "3            0        0               1  \n",
       "4            0        0               1  "
      ]
     },
     "execution_count": 5,
     "metadata": {},
     "output_type": "execute_result"
    }
   ],
   "source": [
    "data.head()"
   ]
  },
  {
   "cell_type": "code",
   "execution_count": 6,
   "metadata": {},
   "outputs": [
    {
     "name": "stdout",
     "output_type": "stream",
     "text": [
      "<class 'pandas.core.frame.DataFrame'>\n",
      "RangeIndex: 9578 entries, 0 to 9577\n",
      "Data columns (total 14 columns):\n",
      " #   Column             Non-Null Count  Dtype  \n",
      "---  ------             --------------  -----  \n",
      " 0   credit.policy      9578 non-null   int64  \n",
      " 1   purpose            9578 non-null   object \n",
      " 2   int.rate           9578 non-null   float64\n",
      " 3   installment        9578 non-null   float64\n",
      " 4   log.annual.inc     9578 non-null   float64\n",
      " 5   dti                9578 non-null   float64\n",
      " 6   fico               9578 non-null   int64  \n",
      " 7   days.with.cr.line  9578 non-null   float64\n",
      " 8   revol.bal          9578 non-null   int64  \n",
      " 9   revol.util         9578 non-null   float64\n",
      " 10  inq.last.6mths     9578 non-null   int64  \n",
      " 11  delinq.2yrs        9578 non-null   int64  \n",
      " 12  pub.rec            9578 non-null   int64  \n",
      " 13  not.fully.paid     9578 non-null   int64  \n",
      "dtypes: float64(6), int64(7), object(1)\n",
      "memory usage: 1.0+ MB\n"
     ]
    }
   ],
   "source": [
    "data.info()"
   ]
  },
  {
   "cell_type": "code",
   "execution_count": 7,
   "metadata": {},
   "outputs": [
    {
     "data": {
      "text/html": [
       "<div>\n",
       "<style scoped>\n",
       "    .dataframe tbody tr th:only-of-type {\n",
       "        vertical-align: middle;\n",
       "    }\n",
       "\n",
       "    .dataframe tbody tr th {\n",
       "        vertical-align: top;\n",
       "    }\n",
       "\n",
       "    .dataframe thead th {\n",
       "        text-align: right;\n",
       "    }\n",
       "</style>\n",
       "<table border=\"1\" class=\"dataframe\">\n",
       "  <thead>\n",
       "    <tr style=\"text-align: right;\">\n",
       "      <th></th>\n",
       "      <th>credit.policy</th>\n",
       "      <th>int.rate</th>\n",
       "      <th>installment</th>\n",
       "      <th>log.annual.inc</th>\n",
       "      <th>dti</th>\n",
       "      <th>fico</th>\n",
       "      <th>days.with.cr.line</th>\n",
       "      <th>revol.bal</th>\n",
       "      <th>revol.util</th>\n",
       "      <th>inq.last.6mths</th>\n",
       "      <th>delinq.2yrs</th>\n",
       "      <th>pub.rec</th>\n",
       "      <th>not.fully.paid</th>\n",
       "    </tr>\n",
       "  </thead>\n",
       "  <tbody>\n",
       "    <tr>\n",
       "      <th>count</th>\n",
       "      <td>9578.000000</td>\n",
       "      <td>9578.000000</td>\n",
       "      <td>9578.000000</td>\n",
       "      <td>9578.000000</td>\n",
       "      <td>9578.000000</td>\n",
       "      <td>9578.000000</td>\n",
       "      <td>9578.000000</td>\n",
       "      <td>9.578000e+03</td>\n",
       "      <td>9578.000000</td>\n",
       "      <td>9578.000000</td>\n",
       "      <td>9578.000000</td>\n",
       "      <td>9578.000000</td>\n",
       "      <td>9578.000000</td>\n",
       "    </tr>\n",
       "    <tr>\n",
       "      <th>mean</th>\n",
       "      <td>0.750783</td>\n",
       "      <td>0.125528</td>\n",
       "      <td>322.757966</td>\n",
       "      <td>10.928091</td>\n",
       "      <td>12.805928</td>\n",
       "      <td>708.647004</td>\n",
       "      <td>4531.012359</td>\n",
       "      <td>1.790938e+04</td>\n",
       "      <td>47.812683</td>\n",
       "      <td>1.779808</td>\n",
       "      <td>0.164022</td>\n",
       "      <td>0.063688</td>\n",
       "      <td>0.248486</td>\n",
       "    </tr>\n",
       "    <tr>\n",
       "      <th>std</th>\n",
       "      <td>0.432582</td>\n",
       "      <td>0.027050</td>\n",
       "      <td>210.603178</td>\n",
       "      <td>0.626615</td>\n",
       "      <td>6.926247</td>\n",
       "      <td>37.836367</td>\n",
       "      <td>2507.372905</td>\n",
       "      <td>3.855329e+04</td>\n",
       "      <td>29.131930</td>\n",
       "      <td>2.447285</td>\n",
       "      <td>0.545643</td>\n",
       "      <td>0.265119</td>\n",
       "      <td>0.432158</td>\n",
       "    </tr>\n",
       "    <tr>\n",
       "      <th>min</th>\n",
       "      <td>0.000000</td>\n",
       "      <td>0.060000</td>\n",
       "      <td>15.670000</td>\n",
       "      <td>7.547502</td>\n",
       "      <td>0.000000</td>\n",
       "      <td>612.000000</td>\n",
       "      <td>178.958333</td>\n",
       "      <td>0.000000e+00</td>\n",
       "      <td>0.000000</td>\n",
       "      <td>0.000000</td>\n",
       "      <td>0.000000</td>\n",
       "      <td>0.000000</td>\n",
       "      <td>0.000000</td>\n",
       "    </tr>\n",
       "    <tr>\n",
       "      <th>25%</th>\n",
       "      <td>1.000000</td>\n",
       "      <td>0.109900</td>\n",
       "      <td>164.562500</td>\n",
       "      <td>10.545447</td>\n",
       "      <td>7.382500</td>\n",
       "      <td>682.000000</td>\n",
       "      <td>2791.291667</td>\n",
       "      <td>3.140500e+03</td>\n",
       "      <td>23.700000</td>\n",
       "      <td>0.000000</td>\n",
       "      <td>0.000000</td>\n",
       "      <td>0.000000</td>\n",
       "      <td>0.000000</td>\n",
       "    </tr>\n",
       "    <tr>\n",
       "      <th>50%</th>\n",
       "      <td>1.000000</td>\n",
       "      <td>0.125300</td>\n",
       "      <td>270.410000</td>\n",
       "      <td>10.915088</td>\n",
       "      <td>12.900000</td>\n",
       "      <td>702.000000</td>\n",
       "      <td>4110.000000</td>\n",
       "      <td>8.593000e+03</td>\n",
       "      <td>47.800000</td>\n",
       "      <td>1.000000</td>\n",
       "      <td>0.000000</td>\n",
       "      <td>0.000000</td>\n",
       "      <td>0.000000</td>\n",
       "    </tr>\n",
       "    <tr>\n",
       "      <th>75%</th>\n",
       "      <td>1.000000</td>\n",
       "      <td>0.142600</td>\n",
       "      <td>444.560000</td>\n",
       "      <td>11.289832</td>\n",
       "      <td>18.180000</td>\n",
       "      <td>732.000000</td>\n",
       "      <td>5707.781250</td>\n",
       "      <td>1.849325e+04</td>\n",
       "      <td>72.100000</td>\n",
       "      <td>3.000000</td>\n",
       "      <td>0.000000</td>\n",
       "      <td>0.000000</td>\n",
       "      <td>0.000000</td>\n",
       "    </tr>\n",
       "    <tr>\n",
       "      <th>max</th>\n",
       "      <td>1.000000</td>\n",
       "      <td>0.216400</td>\n",
       "      <td>940.140000</td>\n",
       "      <td>14.180154</td>\n",
       "      <td>29.960000</td>\n",
       "      <td>827.000000</td>\n",
       "      <td>17639.958330</td>\n",
       "      <td>1.207359e+06</td>\n",
       "      <td>119.000000</td>\n",
       "      <td>33.000000</td>\n",
       "      <td>13.000000</td>\n",
       "      <td>5.000000</td>\n",
       "      <td>1.000000</td>\n",
       "    </tr>\n",
       "  </tbody>\n",
       "</table>\n",
       "</div>"
      ],
      "text/plain": [
       "       credit.policy     int.rate  installment  log.annual.inc          dti  \\\n",
       "count    9578.000000  9578.000000  9578.000000     9578.000000  9578.000000   \n",
       "mean        0.750783     0.125528   322.757966       10.928091    12.805928   \n",
       "std         0.432582     0.027050   210.603178        0.626615     6.926247   \n",
       "min         0.000000     0.060000    15.670000        7.547502     0.000000   \n",
       "25%         1.000000     0.109900   164.562500       10.545447     7.382500   \n",
       "50%         1.000000     0.125300   270.410000       10.915088    12.900000   \n",
       "75%         1.000000     0.142600   444.560000       11.289832    18.180000   \n",
       "max         1.000000     0.216400   940.140000       14.180154    29.960000   \n",
       "\n",
       "              fico  days.with.cr.line     revol.bal   revol.util  \\\n",
       "count  9578.000000        9578.000000  9.578000e+03  9578.000000   \n",
       "mean    708.647004        4531.012359  1.790938e+04    47.812683   \n",
       "std      37.836367        2507.372905  3.855329e+04    29.131930   \n",
       "min     612.000000         178.958333  0.000000e+00     0.000000   \n",
       "25%     682.000000        2791.291667  3.140500e+03    23.700000   \n",
       "50%     702.000000        4110.000000  8.593000e+03    47.800000   \n",
       "75%     732.000000        5707.781250  1.849325e+04    72.100000   \n",
       "max     827.000000       17639.958330  1.207359e+06   119.000000   \n",
       "\n",
       "       inq.last.6mths  delinq.2yrs      pub.rec  not.fully.paid  \n",
       "count     9578.000000  9578.000000  9578.000000     9578.000000  \n",
       "mean         1.779808     0.164022     0.063688        0.248486  \n",
       "std          2.447285     0.545643     0.265119        0.432158  \n",
       "min          0.000000     0.000000     0.000000        0.000000  \n",
       "25%          0.000000     0.000000     0.000000        0.000000  \n",
       "50%          1.000000     0.000000     0.000000        0.000000  \n",
       "75%          3.000000     0.000000     0.000000        0.000000  \n",
       "max         33.000000    13.000000     5.000000        1.000000  "
      ]
     },
     "execution_count": 7,
     "metadata": {},
     "output_type": "execute_result"
    }
   ],
   "source": [
    "data.describe()"
   ]
  },
  {
   "cell_type": "code",
   "execution_count": 8,
   "metadata": {},
   "outputs": [
    {
     "data": {
      "text/plain": [
       "credit.policy        0\n",
       "purpose              0\n",
       "int.rate             0\n",
       "installment          0\n",
       "log.annual.inc       0\n",
       "dti                  0\n",
       "fico                 0\n",
       "days.with.cr.line    0\n",
       "revol.bal            0\n",
       "revol.util           0\n",
       "inq.last.6mths       0\n",
       "delinq.2yrs          0\n",
       "pub.rec              0\n",
       "not.fully.paid       0\n",
       "dtype: int64"
      ]
     },
     "execution_count": 8,
     "metadata": {},
     "output_type": "execute_result"
    }
   ],
   "source": [
    "data.isna().sum()"
   ]
  },
  {
   "cell_type": "markdown",
   "metadata": {},
   "source": [
    "# Data Cleaning"
   ]
  },
  {
   "cell_type": "code",
   "execution_count": 9,
   "metadata": {},
   "outputs": [],
   "source": [
    "data = pd.get_dummies(data, \"purpose\", drop_first = True)"
   ]
  },
  {
   "cell_type": "code",
   "execution_count": 10,
   "metadata": {},
   "outputs": [
    {
     "data": {
      "text/html": [
       "<div>\n",
       "<style scoped>\n",
       "    .dataframe tbody tr th:only-of-type {\n",
       "        vertical-align: middle;\n",
       "    }\n",
       "\n",
       "    .dataframe tbody tr th {\n",
       "        vertical-align: top;\n",
       "    }\n",
       "\n",
       "    .dataframe thead th {\n",
       "        text-align: right;\n",
       "    }\n",
       "</style>\n",
       "<table border=\"1\" class=\"dataframe\">\n",
       "  <thead>\n",
       "    <tr style=\"text-align: right;\">\n",
       "      <th></th>\n",
       "      <th>credit.policy</th>\n",
       "      <th>int.rate</th>\n",
       "      <th>installment</th>\n",
       "      <th>log.annual.inc</th>\n",
       "      <th>dti</th>\n",
       "      <th>fico</th>\n",
       "      <th>days.with.cr.line</th>\n",
       "      <th>revol.bal</th>\n",
       "      <th>revol.util</th>\n",
       "      <th>inq.last.6mths</th>\n",
       "      <th>delinq.2yrs</th>\n",
       "      <th>pub.rec</th>\n",
       "      <th>not.fully.paid</th>\n",
       "      <th>purpose_credit_card</th>\n",
       "      <th>purpose_debt_consolidation</th>\n",
       "      <th>purpose_educational</th>\n",
       "      <th>purpose_home_improvement</th>\n",
       "      <th>purpose_major_purchase</th>\n",
       "      <th>purpose_small_business</th>\n",
       "    </tr>\n",
       "  </thead>\n",
       "  <tbody>\n",
       "    <tr>\n",
       "      <th>0</th>\n",
       "      <td>1</td>\n",
       "      <td>0.1670</td>\n",
       "      <td>674.53</td>\n",
       "      <td>10.887437</td>\n",
       "      <td>19.87</td>\n",
       "      <td>667</td>\n",
       "      <td>3904.958333</td>\n",
       "      <td>17176</td>\n",
       "      <td>73.4</td>\n",
       "      <td>1</td>\n",
       "      <td>0</td>\n",
       "      <td>0</td>\n",
       "      <td>1</td>\n",
       "      <td>0</td>\n",
       "      <td>1</td>\n",
       "      <td>0</td>\n",
       "      <td>0</td>\n",
       "      <td>0</td>\n",
       "      <td>0</td>\n",
       "    </tr>\n",
       "    <tr>\n",
       "      <th>1</th>\n",
       "      <td>1</td>\n",
       "      <td>0.0740</td>\n",
       "      <td>82.31</td>\n",
       "      <td>9.210340</td>\n",
       "      <td>1.20</td>\n",
       "      <td>807</td>\n",
       "      <td>3899.958333</td>\n",
       "      <td>82</td>\n",
       "      <td>2.3</td>\n",
       "      <td>0</td>\n",
       "      <td>0</td>\n",
       "      <td>0</td>\n",
       "      <td>1</td>\n",
       "      <td>0</td>\n",
       "      <td>0</td>\n",
       "      <td>0</td>\n",
       "      <td>0</td>\n",
       "      <td>0</td>\n",
       "      <td>0</td>\n",
       "    </tr>\n",
       "    <tr>\n",
       "      <th>2</th>\n",
       "      <td>1</td>\n",
       "      <td>0.1218</td>\n",
       "      <td>166.50</td>\n",
       "      <td>10.915088</td>\n",
       "      <td>22.45</td>\n",
       "      <td>702</td>\n",
       "      <td>1800.000000</td>\n",
       "      <td>16957</td>\n",
       "      <td>67.0</td>\n",
       "      <td>3</td>\n",
       "      <td>0</td>\n",
       "      <td>0</td>\n",
       "      <td>1</td>\n",
       "      <td>0</td>\n",
       "      <td>0</td>\n",
       "      <td>0</td>\n",
       "      <td>0</td>\n",
       "      <td>0</td>\n",
       "      <td>0</td>\n",
       "    </tr>\n",
       "    <tr>\n",
       "      <th>3</th>\n",
       "      <td>1</td>\n",
       "      <td>0.1287</td>\n",
       "      <td>420.42</td>\n",
       "      <td>10.545341</td>\n",
       "      <td>10.39</td>\n",
       "      <td>707</td>\n",
       "      <td>3119.958333</td>\n",
       "      <td>12343</td>\n",
       "      <td>67.8</td>\n",
       "      <td>0</td>\n",
       "      <td>0</td>\n",
       "      <td>0</td>\n",
       "      <td>1</td>\n",
       "      <td>0</td>\n",
       "      <td>1</td>\n",
       "      <td>0</td>\n",
       "      <td>0</td>\n",
       "      <td>0</td>\n",
       "      <td>0</td>\n",
       "    </tr>\n",
       "    <tr>\n",
       "      <th>4</th>\n",
       "      <td>1</td>\n",
       "      <td>0.1114</td>\n",
       "      <td>82.01</td>\n",
       "      <td>11.156251</td>\n",
       "      <td>18.09</td>\n",
       "      <td>712</td>\n",
       "      <td>8130.000000</td>\n",
       "      <td>14482</td>\n",
       "      <td>84.2</td>\n",
       "      <td>0</td>\n",
       "      <td>0</td>\n",
       "      <td>0</td>\n",
       "      <td>1</td>\n",
       "      <td>0</td>\n",
       "      <td>1</td>\n",
       "      <td>0</td>\n",
       "      <td>0</td>\n",
       "      <td>0</td>\n",
       "      <td>0</td>\n",
       "    </tr>\n",
       "  </tbody>\n",
       "</table>\n",
       "</div>"
      ],
      "text/plain": [
       "   credit.policy  int.rate  installment  log.annual.inc    dti  fico  \\\n",
       "0              1    0.1670       674.53       10.887437  19.87   667   \n",
       "1              1    0.0740        82.31        9.210340   1.20   807   \n",
       "2              1    0.1218       166.50       10.915088  22.45   702   \n",
       "3              1    0.1287       420.42       10.545341  10.39   707   \n",
       "4              1    0.1114        82.01       11.156251  18.09   712   \n",
       "\n",
       "   days.with.cr.line  revol.bal  revol.util  inq.last.6mths  delinq.2yrs  \\\n",
       "0        3904.958333      17176        73.4               1            0   \n",
       "1        3899.958333         82         2.3               0            0   \n",
       "2        1800.000000      16957        67.0               3            0   \n",
       "3        3119.958333      12343        67.8               0            0   \n",
       "4        8130.000000      14482        84.2               0            0   \n",
       "\n",
       "   pub.rec  not.fully.paid  purpose_credit_card  purpose_debt_consolidation  \\\n",
       "0        0               1                    0                           1   \n",
       "1        0               1                    0                           0   \n",
       "2        0               1                    0                           0   \n",
       "3        0               1                    0                           1   \n",
       "4        0               1                    0                           1   \n",
       "\n",
       "   purpose_educational  purpose_home_improvement  purpose_major_purchase  \\\n",
       "0                    0                         0                       0   \n",
       "1                    0                         0                       0   \n",
       "2                    0                         0                       0   \n",
       "3                    0                         0                       0   \n",
       "4                    0                         0                       0   \n",
       "\n",
       "   purpose_small_business  \n",
       "0                       0  \n",
       "1                       0  \n",
       "2                       0  \n",
       "3                       0  \n",
       "4                       0  "
      ]
     },
     "execution_count": 10,
     "metadata": {},
     "output_type": "execute_result"
    }
   ],
   "source": [
    "data.head()"
   ]
  },
  {
   "cell_type": "code",
   "execution_count": 11,
   "metadata": {},
   "outputs": [],
   "source": [
    "X = data.drop(\"not.fully.paid\", axis =1)\n",
    "y = data[\"not.fully.paid\"]"
   ]
  },
  {
   "cell_type": "markdown",
   "metadata": {},
   "source": [
    "# Train Test Split\n"
   ]
  },
  {
   "cell_type": "code",
   "execution_count": 12,
   "metadata": {},
   "outputs": [],
   "source": [
    "X_train, X_test, y_train, y_test = train_test_split(X, y, test_size = 0.2)"
   ]
  },
  {
   "cell_type": "code",
   "execution_count": 13,
   "metadata": {},
   "outputs": [],
   "source": [
    "scaler =  StandardScaler()"
   ]
  },
  {
   "cell_type": "code",
   "execution_count": 14,
   "metadata": {},
   "outputs": [],
   "source": [
    "X_train = scaler.fit_transform(X_train)\n",
    "X_test = scaler.transform(X_test)"
   ]
  },
  {
   "cell_type": "markdown",
   "metadata": {},
   "source": [
    "# Training 1st  model\n"
   ]
  },
  {
   "cell_type": "code",
   "execution_count": 15,
   "metadata": {},
   "outputs": [],
   "source": [
    "rf_param_grid = {'n_estimators': [10, 50, 100, 200, 300, 500, 800]} "
   ]
  },
  {
   "cell_type": "code",
   "execution_count": 16,
   "metadata": {},
   "outputs": [],
   "source": [
    "rf_grid = GridSearchCV(RandomForestClassifier(),rf_param_grid,scoring='recall',verbose=3)"
   ]
  },
  {
   "cell_type": "code",
   "execution_count": null,
   "metadata": {},
   "outputs": [],
   "source": []
  },
  {
   "cell_type": "code",
   "execution_count": 17,
   "metadata": {},
   "outputs": [
    {
     "name": "stdout",
     "output_type": "stream",
     "text": [
      "Fitting 5 folds for each of 7 candidates, totalling 35 fits\n",
      "[CV 1/5] END ...................n_estimators=10;, score=0.473 total time=   0.0s\n",
      "[CV 2/5] END ...................n_estimators=10;, score=0.490 total time=   0.0s\n",
      "[CV 3/5] END ...................n_estimators=10;, score=0.532 total time=   0.0s\n",
      "[CV 4/5] END ...................n_estimators=10;, score=0.447 total time=   0.0s\n",
      "[CV 5/5] END ...................n_estimators=10;, score=0.455 total time=   0.0s\n",
      "[CV 1/5] END ...................n_estimators=50;, score=0.499 total time=   0.5s\n",
      "[CV 2/5] END ...................n_estimators=50;, score=0.503 total time=   0.5s\n",
      "[CV 3/5] END ...................n_estimators=50;, score=0.542 total time=   0.5s\n",
      "[CV 4/5] END ...................n_estimators=50;, score=0.491 total time=   0.5s\n",
      "[CV 5/5] END ...................n_estimators=50;, score=0.488 total time=   0.8s\n",
      "[CV 1/5] END ..................n_estimators=100;, score=0.506 total time=   2.4s\n",
      "[CV 2/5] END ..................n_estimators=100;, score=0.508 total time=   2.4s\n",
      "[CV 3/5] END ..................n_estimators=100;, score=0.545 total time=   2.4s\n",
      "[CV 4/5] END ..................n_estimators=100;, score=0.491 total time=   2.3s\n",
      "[CV 5/5] END ..................n_estimators=100;, score=0.501 total time=   2.4s\n",
      "[CV 1/5] END ..................n_estimators=200;, score=0.491 total time=   4.8s\n",
      "[CV 2/5] END ..................n_estimators=200;, score=0.518 total time=   4.8s\n",
      "[CV 3/5] END ..................n_estimators=200;, score=0.542 total time=   4.7s\n",
      "[CV 4/5] END ..................n_estimators=200;, score=0.496 total time=   4.9s\n",
      "[CV 5/5] END ..................n_estimators=200;, score=0.476 total time=   4.8s\n",
      "[CV 1/5] END ..................n_estimators=300;, score=0.504 total time=   7.2s\n",
      "[CV 2/5] END ..................n_estimators=300;, score=0.513 total time=   7.4s\n",
      "[CV 3/5] END ..................n_estimators=300;, score=0.550 total time=   7.3s\n",
      "[CV 4/5] END ..................n_estimators=300;, score=0.496 total time=   7.6s\n",
      "[CV 5/5] END ..................n_estimators=300;, score=0.486 total time=   7.4s\n",
      "[CV 1/5] END ..................n_estimators=500;, score=0.509 total time=  12.3s\n",
      "[CV 2/5] END ..................n_estimators=500;, score=0.518 total time=  12.4s\n",
      "[CV 3/5] END ..................n_estimators=500;, score=0.540 total time=  12.4s\n",
      "[CV 4/5] END ..................n_estimators=500;, score=0.494 total time=  12.5s\n",
      "[CV 5/5] END ..................n_estimators=500;, score=0.488 total time=  12.5s\n",
      "[CV 1/5] END ..................n_estimators=800;, score=0.509 total time=  20.0s\n",
      "[CV 2/5] END ..................n_estimators=800;, score=0.518 total time=  20.4s\n",
      "[CV 3/5] END ..................n_estimators=800;, score=0.542 total time=  20.0s\n",
      "[CV 4/5] END ..................n_estimators=800;, score=0.501 total time=  20.0s\n",
      "[CV 5/5] END ..................n_estimators=800;, score=0.494 total time=  20.0s\n"
     ]
    },
    {
     "data": {
      "text/html": [
       "<style>#sk-container-id-1 {color: black;background-color: white;}#sk-container-id-1 pre{padding: 0;}#sk-container-id-1 div.sk-toggleable {background-color: white;}#sk-container-id-1 label.sk-toggleable__label {cursor: pointer;display: block;width: 100%;margin-bottom: 0;padding: 0.3em;box-sizing: border-box;text-align: center;}#sk-container-id-1 label.sk-toggleable__label-arrow:before {content: \"▸\";float: left;margin-right: 0.25em;color: #696969;}#sk-container-id-1 label.sk-toggleable__label-arrow:hover:before {color: black;}#sk-container-id-1 div.sk-estimator:hover label.sk-toggleable__label-arrow:before {color: black;}#sk-container-id-1 div.sk-toggleable__content {max-height: 0;max-width: 0;overflow: hidden;text-align: left;background-color: #f0f8ff;}#sk-container-id-1 div.sk-toggleable__content pre {margin: 0.2em;color: black;border-radius: 0.25em;background-color: #f0f8ff;}#sk-container-id-1 input.sk-toggleable__control:checked~div.sk-toggleable__content {max-height: 200px;max-width: 100%;overflow: auto;}#sk-container-id-1 input.sk-toggleable__control:checked~label.sk-toggleable__label-arrow:before {content: \"▾\";}#sk-container-id-1 div.sk-estimator input.sk-toggleable__control:checked~label.sk-toggleable__label {background-color: #d4ebff;}#sk-container-id-1 div.sk-label input.sk-toggleable__control:checked~label.sk-toggleable__label {background-color: #d4ebff;}#sk-container-id-1 input.sk-hidden--visually {border: 0;clip: rect(1px 1px 1px 1px);clip: rect(1px, 1px, 1px, 1px);height: 1px;margin: -1px;overflow: hidden;padding: 0;position: absolute;width: 1px;}#sk-container-id-1 div.sk-estimator {font-family: monospace;background-color: #f0f8ff;border: 1px dotted black;border-radius: 0.25em;box-sizing: border-box;margin-bottom: 0.5em;}#sk-container-id-1 div.sk-estimator:hover {background-color: #d4ebff;}#sk-container-id-1 div.sk-parallel-item::after {content: \"\";width: 100%;border-bottom: 1px solid gray;flex-grow: 1;}#sk-container-id-1 div.sk-label:hover label.sk-toggleable__label {background-color: #d4ebff;}#sk-container-id-1 div.sk-serial::before {content: \"\";position: absolute;border-left: 1px solid gray;box-sizing: border-box;top: 0;bottom: 0;left: 50%;z-index: 0;}#sk-container-id-1 div.sk-serial {display: flex;flex-direction: column;align-items: center;background-color: white;padding-right: 0.2em;padding-left: 0.2em;position: relative;}#sk-container-id-1 div.sk-item {position: relative;z-index: 1;}#sk-container-id-1 div.sk-parallel {display: flex;align-items: stretch;justify-content: center;background-color: white;position: relative;}#sk-container-id-1 div.sk-item::before, #sk-container-id-1 div.sk-parallel-item::before {content: \"\";position: absolute;border-left: 1px solid gray;box-sizing: border-box;top: 0;bottom: 0;left: 50%;z-index: -1;}#sk-container-id-1 div.sk-parallel-item {display: flex;flex-direction: column;z-index: 1;position: relative;background-color: white;}#sk-container-id-1 div.sk-parallel-item:first-child::after {align-self: flex-end;width: 50%;}#sk-container-id-1 div.sk-parallel-item:last-child::after {align-self: flex-start;width: 50%;}#sk-container-id-1 div.sk-parallel-item:only-child::after {width: 0;}#sk-container-id-1 div.sk-dashed-wrapped {border: 1px dashed gray;margin: 0 0.4em 0.5em 0.4em;box-sizing: border-box;padding-bottom: 0.4em;background-color: white;}#sk-container-id-1 div.sk-label label {font-family: monospace;font-weight: bold;display: inline-block;line-height: 1.2em;}#sk-container-id-1 div.sk-label-container {text-align: center;}#sk-container-id-1 div.sk-container {/* jupyter's `normalize.less` sets `[hidden] { display: none; }` but bootstrap.min.css set `[hidden] { display: none !important; }` so we also need the `!important` here to be able to override the default hidden behavior on the sphinx rendered scikit-learn.org. See: https://github.com/scikit-learn/scikit-learn/issues/21755 */display: inline-block !important;position: relative;}#sk-container-id-1 div.sk-text-repr-fallback {display: none;}</style><div id=\"sk-container-id-1\" class=\"sk-top-container\"><div class=\"sk-text-repr-fallback\"><pre>GridSearchCV(estimator=RandomForestClassifier(),\n",
       "             param_grid={&#x27;n_estimators&#x27;: [10, 50, 100, 200, 300, 500, 800]},\n",
       "             scoring=&#x27;recall&#x27;, verbose=3)</pre><b>In a Jupyter environment, please rerun this cell to show the HTML representation or trust the notebook. <br />On GitHub, the HTML representation is unable to render, please try loading this page with nbviewer.org.</b></div><div class=\"sk-container\" hidden><div class=\"sk-item sk-dashed-wrapped\"><div class=\"sk-label-container\"><div class=\"sk-label sk-toggleable\"><input class=\"sk-toggleable__control sk-hidden--visually\" id=\"sk-estimator-id-1\" type=\"checkbox\" ><label for=\"sk-estimator-id-1\" class=\"sk-toggleable__label sk-toggleable__label-arrow\">GridSearchCV</label><div class=\"sk-toggleable__content\"><pre>GridSearchCV(estimator=RandomForestClassifier(),\n",
       "             param_grid={&#x27;n_estimators&#x27;: [10, 50, 100, 200, 300, 500, 800]},\n",
       "             scoring=&#x27;recall&#x27;, verbose=3)</pre></div></div></div><div class=\"sk-parallel\"><div class=\"sk-parallel-item\"><div class=\"sk-item\"><div class=\"sk-label-container\"><div class=\"sk-label sk-toggleable\"><input class=\"sk-toggleable__control sk-hidden--visually\" id=\"sk-estimator-id-2\" type=\"checkbox\" ><label for=\"sk-estimator-id-2\" class=\"sk-toggleable__label sk-toggleable__label-arrow\">estimator: RandomForestClassifier</label><div class=\"sk-toggleable__content\"><pre>RandomForestClassifier()</pre></div></div></div><div class=\"sk-serial\"><div class=\"sk-item\"><div class=\"sk-estimator sk-toggleable\"><input class=\"sk-toggleable__control sk-hidden--visually\" id=\"sk-estimator-id-3\" type=\"checkbox\" ><label for=\"sk-estimator-id-3\" class=\"sk-toggleable__label sk-toggleable__label-arrow\">RandomForestClassifier</label><div class=\"sk-toggleable__content\"><pre>RandomForestClassifier()</pre></div></div></div></div></div></div></div></div></div></div>"
      ],
      "text/plain": [
       "GridSearchCV(estimator=RandomForestClassifier(),\n",
       "             param_grid={'n_estimators': [10, 50, 100, 200, 300, 500, 800]},\n",
       "             scoring='recall', verbose=3)"
      ]
     },
     "execution_count": 17,
     "metadata": {},
     "output_type": "execute_result"
    }
   ],
   "source": [
    "rf_grid.fit(X_train, y_train)"
   ]
  },
  {
   "cell_type": "code",
   "execution_count": 18,
   "metadata": {},
   "outputs": [],
   "source": [
    "rf_model = RandomForestClassifier()"
   ]
  },
  {
   "cell_type": "markdown",
   "metadata": {},
   "source": [
    "# Predictions and Evaluation of 1st model\n"
   ]
  },
  {
   "cell_type": "code",
   "execution_count": 19,
   "metadata": {},
   "outputs": [],
   "source": [
    "rf_predictions = rf_grid.predict(X_test)"
   ]
  },
  {
   "cell_type": "code",
   "execution_count": 20,
   "metadata": {},
   "outputs": [
    {
     "data": {
      "text/plain": [
       "{'n_estimators': 800}"
      ]
     },
     "execution_count": 20,
     "metadata": {},
     "output_type": "execute_result"
    }
   ],
   "source": [
    "rf_grid.best_params_"
   ]
  },
  {
   "cell_type": "code",
   "execution_count": 21,
   "metadata": {},
   "outputs": [],
   "source": [
    "rf_grid_predictions = rf_grid.predict(X_test)"
   ]
  },
  {
   "cell_type": "code",
   "execution_count": 22,
   "metadata": {},
   "outputs": [],
   "source": [
    "from sklearn.metrics import classification_report, confusion_matrix"
   ]
  },
  {
   "cell_type": "code",
   "execution_count": 23,
   "metadata": {},
   "outputs": [
    {
     "name": "stdout",
     "output_type": "stream",
     "text": [
      "[[1458  175]\n",
      " [  24  259]]\n"
     ]
    }
   ],
   "source": [
    "print(confusion_matrix(rf_grid_predictions, y_test)) # 1416  201  28  271"
   ]
  },
  {
   "cell_type": "code",
   "execution_count": 24,
   "metadata": {},
   "outputs": [
    {
     "name": "stdout",
     "output_type": "stream",
     "text": [
      "              precision    recall  f1-score   support\n",
      "\n",
      "           0       0.98      0.89      0.94      1633\n",
      "           1       0.60      0.92      0.72       283\n",
      "\n",
      "    accuracy                           0.90      1916\n",
      "   macro avg       0.79      0.90      0.83      1916\n",
      "weighted avg       0.93      0.90      0.90      1916\n",
      "\n"
     ]
    }
   ],
   "source": [
    "print(classification_report(rf_grid_predictions, y_test))"
   ]
  },
  {
   "cell_type": "markdown",
   "metadata": {},
   "source": [
    "# Training 2nd model"
   ]
  },
  {
   "cell_type": "code",
   "execution_count": 25,
   "metadata": {},
   "outputs": [],
   "source": [
    "svc_param_grid = { \"C\": [0.1,1,10],\n",
    "\"gamma\": [\"auto\",\"scale\"],\n",
    "\"kernel\": [\"poly\",'linear','rbf'] }"
   ]
  },
  {
   "cell_type": "code",
   "execution_count": 26,
   "metadata": {},
   "outputs": [],
   "source": [
    "svc_grid = GridSearchCV(SVC(),svc_param_grid, scoring= 'recall',  verbose=3)"
   ]
  },
  {
   "cell_type": "code",
   "execution_count": 27,
   "metadata": {},
   "outputs": [
    {
     "name": "stdout",
     "output_type": "stream",
     "text": [
      "Fitting 5 folds for each of 18 candidates, totalling 90 fits\n",
      "[CV 1/5] END ....C=0.1, gamma=auto, kernel=poly;, score=0.059 total time=   1.9s\n",
      "[CV 2/5] END ....C=0.1, gamma=auto, kernel=poly;, score=0.082 total time=   2.0s\n",
      "[CV 3/5] END ....C=0.1, gamma=auto, kernel=poly;, score=0.080 total time=   1.8s\n",
      "[CV 4/5] END ....C=0.1, gamma=auto, kernel=poly;, score=0.059 total time=   2.0s\n",
      "[CV 5/5] END ....C=0.1, gamma=auto, kernel=poly;, score=0.069 total time=   2.0s\n",
      "[CV 1/5] END ..C=0.1, gamma=auto, kernel=linear;, score=0.000 total time=   1.3s\n",
      "[CV 2/5] END ..C=0.1, gamma=auto, kernel=linear;, score=0.000 total time=   1.2s\n",
      "[CV 3/5] END ..C=0.1, gamma=auto, kernel=linear;, score=0.000 total time=   1.3s\n",
      "[CV 4/5] END ..C=0.1, gamma=auto, kernel=linear;, score=0.000 total time=   1.2s\n",
      "[CV 5/5] END ..C=0.1, gamma=auto, kernel=linear;, score=0.000 total time=   1.3s\n",
      "[CV 1/5] END .....C=0.1, gamma=auto, kernel=rbf;, score=0.000 total time=   2.8s\n",
      "[CV 2/5] END .....C=0.1, gamma=auto, kernel=rbf;, score=0.000 total time=   2.8s\n",
      "[CV 3/5] END .....C=0.1, gamma=auto, kernel=rbf;, score=0.000 total time=   2.8s\n",
      "[CV 4/5] END .....C=0.1, gamma=auto, kernel=rbf;, score=0.000 total time=   2.8s\n",
      "[CV 5/5] END .....C=0.1, gamma=auto, kernel=rbf;, score=0.000 total time=   2.7s\n",
      "[CV 1/5] END ...C=0.1, gamma=scale, kernel=poly;, score=0.059 total time=   1.9s\n",
      "[CV 2/5] END ...C=0.1, gamma=scale, kernel=poly;, score=0.082 total time=   1.9s\n",
      "[CV 3/5] END ...C=0.1, gamma=scale, kernel=poly;, score=0.080 total time=   1.9s\n",
      "[CV 4/5] END ...C=0.1, gamma=scale, kernel=poly;, score=0.059 total time=   2.0s\n",
      "[CV 5/5] END ...C=0.1, gamma=scale, kernel=poly;, score=0.069 total time=   1.8s\n",
      "[CV 1/5] END .C=0.1, gamma=scale, kernel=linear;, score=0.000 total time=   1.2s\n",
      "[CV 2/5] END .C=0.1, gamma=scale, kernel=linear;, score=0.000 total time=   1.2s\n",
      "[CV 3/5] END .C=0.1, gamma=scale, kernel=linear;, score=0.000 total time=   1.2s\n",
      "[CV 4/5] END .C=0.1, gamma=scale, kernel=linear;, score=0.000 total time=   1.2s\n",
      "[CV 5/5] END .C=0.1, gamma=scale, kernel=linear;, score=0.000 total time=   1.2s\n",
      "[CV 1/5] END ....C=0.1, gamma=scale, kernel=rbf;, score=0.000 total time=   2.8s\n",
      "[CV 2/5] END ....C=0.1, gamma=scale, kernel=rbf;, score=0.000 total time=   2.8s\n",
      "[CV 3/5] END ....C=0.1, gamma=scale, kernel=rbf;, score=0.000 total time=   2.8s\n",
      "[CV 4/5] END ....C=0.1, gamma=scale, kernel=rbf;, score=0.000 total time=   2.7s\n",
      "[CV 5/5] END ....C=0.1, gamma=scale, kernel=rbf;, score=0.000 total time=   2.8s\n",
      "[CV 1/5] END ......C=1, gamma=auto, kernel=poly;, score=0.126 total time=   2.3s\n",
      "[CV 2/5] END ......C=1, gamma=auto, kernel=poly;, score=0.154 total time=   2.3s\n",
      "[CV 3/5] END ......C=1, gamma=auto, kernel=poly;, score=0.190 total time=   2.3s\n",
      "[CV 4/5] END ......C=1, gamma=auto, kernel=poly;, score=0.141 total time=   2.5s\n",
      "[CV 5/5] END ......C=1, gamma=auto, kernel=poly;, score=0.190 total time=   2.4s\n",
      "[CV 1/5] END ....C=1, gamma=auto, kernel=linear;, score=0.000 total time=   2.1s\n",
      "[CV 2/5] END ....C=1, gamma=auto, kernel=linear;, score=0.000 total time=   2.0s\n",
      "[CV 3/5] END ....C=1, gamma=auto, kernel=linear;, score=0.000 total time=   2.1s\n",
      "[CV 4/5] END ....C=1, gamma=auto, kernel=linear;, score=0.000 total time=   2.2s\n",
      "[CV 5/5] END ....C=1, gamma=auto, kernel=linear;, score=0.000 total time=   2.0s\n",
      "[CV 1/5] END .......C=1, gamma=auto, kernel=rbf;, score=0.149 total time=   2.9s\n",
      "[CV 2/5] END .......C=1, gamma=auto, kernel=rbf;, score=0.177 total time=   2.9s\n",
      "[CV 3/5] END .......C=1, gamma=auto, kernel=rbf;, score=0.165 total time=   3.0s\n",
      "[CV 4/5] END .......C=1, gamma=auto, kernel=rbf;, score=0.147 total time=   2.9s\n",
      "[CV 5/5] END .......C=1, gamma=auto, kernel=rbf;, score=0.193 total time=   2.8s\n",
      "[CV 1/5] END .....C=1, gamma=scale, kernel=poly;, score=0.126 total time=   2.3s\n",
      "[CV 2/5] END .....C=1, gamma=scale, kernel=poly;, score=0.154 total time=   2.2s\n",
      "[CV 3/5] END .....C=1, gamma=scale, kernel=poly;, score=0.190 total time=   2.3s\n",
      "[CV 4/5] END .....C=1, gamma=scale, kernel=poly;, score=0.139 total time=   2.3s\n",
      "[CV 5/5] END .....C=1, gamma=scale, kernel=poly;, score=0.198 total time=   2.5s\n",
      "[CV 1/5] END ...C=1, gamma=scale, kernel=linear;, score=0.000 total time=   2.1s\n",
      "[CV 2/5] END ...C=1, gamma=scale, kernel=linear;, score=0.000 total time=   2.1s\n",
      "[CV 3/5] END ...C=1, gamma=scale, kernel=linear;, score=0.000 total time=   2.1s\n",
      "[CV 4/5] END ...C=1, gamma=scale, kernel=linear;, score=0.000 total time=   2.1s\n",
      "[CV 5/5] END ...C=1, gamma=scale, kernel=linear;, score=0.000 total time=   2.0s\n",
      "[CV 1/5] END ......C=1, gamma=scale, kernel=rbf;, score=0.149 total time=   3.4s\n",
      "[CV 2/5] END ......C=1, gamma=scale, kernel=rbf;, score=0.177 total time=   3.3s\n",
      "[CV 3/5] END ......C=1, gamma=scale, kernel=rbf;, score=0.165 total time=   3.2s\n",
      "[CV 4/5] END ......C=1, gamma=scale, kernel=rbf;, score=0.147 total time=   3.2s\n",
      "[CV 5/5] END ......C=1, gamma=scale, kernel=rbf;, score=0.190 total time=   2.9s\n",
      "[CV 1/5] END .....C=10, gamma=auto, kernel=poly;, score=0.247 total time=   7.7s\n",
      "[CV 2/5] END .....C=10, gamma=auto, kernel=poly;, score=0.274 total time=   6.2s\n",
      "[CV 3/5] END .....C=10, gamma=auto, kernel=poly;, score=0.332 total time=   6.5s\n",
      "[CV 4/5] END .....C=10, gamma=auto, kernel=poly;, score=0.244 total time=   6.7s\n",
      "[CV 5/5] END .....C=10, gamma=auto, kernel=poly;, score=0.296 total time=   7.9s\n",
      "[CV 1/5] END ...C=10, gamma=auto, kernel=linear;, score=0.000 total time=   9.9s\n",
      "[CV 2/5] END ...C=10, gamma=auto, kernel=linear;, score=0.000 total time=   9.0s\n",
      "[CV 3/5] END ...C=10, gamma=auto, kernel=linear;, score=0.000 total time=  10.2s\n",
      "[CV 4/5] END ...C=10, gamma=auto, kernel=linear;, score=0.000 total time=  10.2s\n",
      "[CV 5/5] END ...C=10, gamma=auto, kernel=linear;, score=0.000 total time=   9.6s\n",
      "[CV 1/5] END ......C=10, gamma=auto, kernel=rbf;, score=0.272 total time=   3.6s\n",
      "[CV 2/5] END ......C=10, gamma=auto, kernel=rbf;, score=0.285 total time=   3.8s\n",
      "[CV 3/5] END ......C=10, gamma=auto, kernel=rbf;, score=0.357 total time=   4.1s\n",
      "[CV 4/5] END ......C=10, gamma=auto, kernel=rbf;, score=0.270 total time=   3.9s\n",
      "[CV 5/5] END ......C=10, gamma=auto, kernel=rbf;, score=0.314 total time=   3.8s\n",
      "[CV 1/5] END ....C=10, gamma=scale, kernel=poly;, score=0.247 total time=   6.7s\n",
      "[CV 2/5] END ....C=10, gamma=scale, kernel=poly;, score=0.274 total time=   7.8s\n",
      "[CV 3/5] END ....C=10, gamma=scale, kernel=poly;, score=0.332 total time=   6.3s\n",
      "[CV 4/5] END ....C=10, gamma=scale, kernel=poly;, score=0.244 total time=   7.6s\n",
      "[CV 5/5] END ....C=10, gamma=scale, kernel=poly;, score=0.293 total time=   7.2s\n",
      "[CV 1/5] END ..C=10, gamma=scale, kernel=linear;, score=0.000 total time=  10.5s\n",
      "[CV 2/5] END ..C=10, gamma=scale, kernel=linear;, score=0.000 total time=   9.0s\n",
      "[CV 3/5] END ..C=10, gamma=scale, kernel=linear;, score=0.000 total time=  10.1s\n",
      "[CV 4/5] END ..C=10, gamma=scale, kernel=linear;, score=0.000 total time=  10.7s\n",
      "[CV 5/5] END ..C=10, gamma=scale, kernel=linear;, score=0.000 total time=   9.2s\n",
      "[CV 1/5] END .....C=10, gamma=scale, kernel=rbf;, score=0.272 total time=   4.1s\n",
      "[CV 2/5] END .....C=10, gamma=scale, kernel=rbf;, score=0.285 total time=   3.9s\n",
      "[CV 3/5] END .....C=10, gamma=scale, kernel=rbf;, score=0.355 total time=   3.3s\n",
      "[CV 4/5] END .....C=10, gamma=scale, kernel=rbf;, score=0.267 total time=   4.1s\n",
      "[CV 5/5] END .....C=10, gamma=scale, kernel=rbf;, score=0.314 total time=   4.2s\n"
     ]
    },
    {
     "data": {
      "text/html": [
       "<style>#sk-container-id-2 {color: black;background-color: white;}#sk-container-id-2 pre{padding: 0;}#sk-container-id-2 div.sk-toggleable {background-color: white;}#sk-container-id-2 label.sk-toggleable__label {cursor: pointer;display: block;width: 100%;margin-bottom: 0;padding: 0.3em;box-sizing: border-box;text-align: center;}#sk-container-id-2 label.sk-toggleable__label-arrow:before {content: \"▸\";float: left;margin-right: 0.25em;color: #696969;}#sk-container-id-2 label.sk-toggleable__label-arrow:hover:before {color: black;}#sk-container-id-2 div.sk-estimator:hover label.sk-toggleable__label-arrow:before {color: black;}#sk-container-id-2 div.sk-toggleable__content {max-height: 0;max-width: 0;overflow: hidden;text-align: left;background-color: #f0f8ff;}#sk-container-id-2 div.sk-toggleable__content pre {margin: 0.2em;color: black;border-radius: 0.25em;background-color: #f0f8ff;}#sk-container-id-2 input.sk-toggleable__control:checked~div.sk-toggleable__content {max-height: 200px;max-width: 100%;overflow: auto;}#sk-container-id-2 input.sk-toggleable__control:checked~label.sk-toggleable__label-arrow:before {content: \"▾\";}#sk-container-id-2 div.sk-estimator input.sk-toggleable__control:checked~label.sk-toggleable__label {background-color: #d4ebff;}#sk-container-id-2 div.sk-label input.sk-toggleable__control:checked~label.sk-toggleable__label {background-color: #d4ebff;}#sk-container-id-2 input.sk-hidden--visually {border: 0;clip: rect(1px 1px 1px 1px);clip: rect(1px, 1px, 1px, 1px);height: 1px;margin: -1px;overflow: hidden;padding: 0;position: absolute;width: 1px;}#sk-container-id-2 div.sk-estimator {font-family: monospace;background-color: #f0f8ff;border: 1px dotted black;border-radius: 0.25em;box-sizing: border-box;margin-bottom: 0.5em;}#sk-container-id-2 div.sk-estimator:hover {background-color: #d4ebff;}#sk-container-id-2 div.sk-parallel-item::after {content: \"\";width: 100%;border-bottom: 1px solid gray;flex-grow: 1;}#sk-container-id-2 div.sk-label:hover label.sk-toggleable__label {background-color: #d4ebff;}#sk-container-id-2 div.sk-serial::before {content: \"\";position: absolute;border-left: 1px solid gray;box-sizing: border-box;top: 0;bottom: 0;left: 50%;z-index: 0;}#sk-container-id-2 div.sk-serial {display: flex;flex-direction: column;align-items: center;background-color: white;padding-right: 0.2em;padding-left: 0.2em;position: relative;}#sk-container-id-2 div.sk-item {position: relative;z-index: 1;}#sk-container-id-2 div.sk-parallel {display: flex;align-items: stretch;justify-content: center;background-color: white;position: relative;}#sk-container-id-2 div.sk-item::before, #sk-container-id-2 div.sk-parallel-item::before {content: \"\";position: absolute;border-left: 1px solid gray;box-sizing: border-box;top: 0;bottom: 0;left: 50%;z-index: -1;}#sk-container-id-2 div.sk-parallel-item {display: flex;flex-direction: column;z-index: 1;position: relative;background-color: white;}#sk-container-id-2 div.sk-parallel-item:first-child::after {align-self: flex-end;width: 50%;}#sk-container-id-2 div.sk-parallel-item:last-child::after {align-self: flex-start;width: 50%;}#sk-container-id-2 div.sk-parallel-item:only-child::after {width: 0;}#sk-container-id-2 div.sk-dashed-wrapped {border: 1px dashed gray;margin: 0 0.4em 0.5em 0.4em;box-sizing: border-box;padding-bottom: 0.4em;background-color: white;}#sk-container-id-2 div.sk-label label {font-family: monospace;font-weight: bold;display: inline-block;line-height: 1.2em;}#sk-container-id-2 div.sk-label-container {text-align: center;}#sk-container-id-2 div.sk-container {/* jupyter's `normalize.less` sets `[hidden] { display: none; }` but bootstrap.min.css set `[hidden] { display: none !important; }` so we also need the `!important` here to be able to override the default hidden behavior on the sphinx rendered scikit-learn.org. See: https://github.com/scikit-learn/scikit-learn/issues/21755 */display: inline-block !important;position: relative;}#sk-container-id-2 div.sk-text-repr-fallback {display: none;}</style><div id=\"sk-container-id-2\" class=\"sk-top-container\"><div class=\"sk-text-repr-fallback\"><pre>GridSearchCV(estimator=SVC(),\n",
       "             param_grid={&#x27;C&#x27;: [0.1, 1, 10], &#x27;gamma&#x27;: [&#x27;auto&#x27;, &#x27;scale&#x27;],\n",
       "                         &#x27;kernel&#x27;: [&#x27;poly&#x27;, &#x27;linear&#x27;, &#x27;rbf&#x27;]},\n",
       "             scoring=&#x27;recall&#x27;, verbose=3)</pre><b>In a Jupyter environment, please rerun this cell to show the HTML representation or trust the notebook. <br />On GitHub, the HTML representation is unable to render, please try loading this page with nbviewer.org.</b></div><div class=\"sk-container\" hidden><div class=\"sk-item sk-dashed-wrapped\"><div class=\"sk-label-container\"><div class=\"sk-label sk-toggleable\"><input class=\"sk-toggleable__control sk-hidden--visually\" id=\"sk-estimator-id-4\" type=\"checkbox\" ><label for=\"sk-estimator-id-4\" class=\"sk-toggleable__label sk-toggleable__label-arrow\">GridSearchCV</label><div class=\"sk-toggleable__content\"><pre>GridSearchCV(estimator=SVC(),\n",
       "             param_grid={&#x27;C&#x27;: [0.1, 1, 10], &#x27;gamma&#x27;: [&#x27;auto&#x27;, &#x27;scale&#x27;],\n",
       "                         &#x27;kernel&#x27;: [&#x27;poly&#x27;, &#x27;linear&#x27;, &#x27;rbf&#x27;]},\n",
       "             scoring=&#x27;recall&#x27;, verbose=3)</pre></div></div></div><div class=\"sk-parallel\"><div class=\"sk-parallel-item\"><div class=\"sk-item\"><div class=\"sk-label-container\"><div class=\"sk-label sk-toggleable\"><input class=\"sk-toggleable__control sk-hidden--visually\" id=\"sk-estimator-id-5\" type=\"checkbox\" ><label for=\"sk-estimator-id-5\" class=\"sk-toggleable__label sk-toggleable__label-arrow\">estimator: SVC</label><div class=\"sk-toggleable__content\"><pre>SVC()</pre></div></div></div><div class=\"sk-serial\"><div class=\"sk-item\"><div class=\"sk-estimator sk-toggleable\"><input class=\"sk-toggleable__control sk-hidden--visually\" id=\"sk-estimator-id-6\" type=\"checkbox\" ><label for=\"sk-estimator-id-6\" class=\"sk-toggleable__label sk-toggleable__label-arrow\">SVC</label><div class=\"sk-toggleable__content\"><pre>SVC()</pre></div></div></div></div></div></div></div></div></div></div>"
      ],
      "text/plain": [
       "GridSearchCV(estimator=SVC(),\n",
       "             param_grid={'C': [0.1, 1, 10], 'gamma': ['auto', 'scale'],\n",
       "                         'kernel': ['poly', 'linear', 'rbf']},\n",
       "             scoring='recall', verbose=3)"
      ]
     },
     "execution_count": 27,
     "metadata": {},
     "output_type": "execute_result"
    }
   ],
   "source": [
    "svc_grid.fit(X_train, y_train)"
   ]
  },
  {
   "cell_type": "markdown",
   "metadata": {},
   "source": [
    "# Predictions and Evaluation of 2nd model"
   ]
  },
  {
   "cell_type": "code",
   "execution_count": 28,
   "metadata": {},
   "outputs": [
    {
     "data": {
      "text/plain": [
       "{'C': 10, 'gamma': 'auto', 'kernel': 'rbf'}"
      ]
     },
     "execution_count": 28,
     "metadata": {},
     "output_type": "execute_result"
    }
   ],
   "source": [
    "svc_grid.best_params_"
   ]
  },
  {
   "cell_type": "code",
   "execution_count": 29,
   "metadata": {},
   "outputs": [],
   "source": [
    "svc_grid_predictions = svc_grid.predict(X_test)"
   ]
  },
  {
   "cell_type": "code",
   "execution_count": 30,
   "metadata": {},
   "outputs": [
    {
     "name": "stdout",
     "output_type": "stream",
     "text": [
      "[[1400  316]\n",
      " [  82  118]]\n"
     ]
    }
   ],
   "source": [
    "print(confusion_matrix(svc_grid_predictions, y_test))"
   ]
  },
  {
   "cell_type": "code",
   "execution_count": 31,
   "metadata": {},
   "outputs": [
    {
     "name": "stdout",
     "output_type": "stream",
     "text": [
      "              precision    recall  f1-score   support\n",
      "\n",
      "           0       0.94      0.82      0.88      1716\n",
      "           1       0.27      0.59      0.37       200\n",
      "\n",
      "    accuracy                           0.79      1916\n",
      "   macro avg       0.61      0.70      0.62      1916\n",
      "weighted avg       0.87      0.79      0.82      1916\n",
      "\n"
     ]
    }
   ],
   "source": [
    "print(classification_report(svc_grid_predictions, y_test))"
   ]
  }
 ],
 "metadata": {
  "kernelspec": {
   "display_name": "Python 3 (ipykernel)",
   "language": "python",
   "name": "python3"
  },
  "language_info": {
   "codemirror_mode": {
    "name": "ipython",
    "version": 3
   },
   "file_extension": ".py",
   "mimetype": "text/x-python",
   "name": "python",
   "nbconvert_exporter": "python",
   "pygments_lexer": "ipython3",
   "version": "3.10.9"
  }
 },
 "nbformat": 4,
 "nbformat_minor": 4
}
