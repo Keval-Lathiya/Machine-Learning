{
 "cells": [
  {
   "cell_type": "markdown",
   "metadata": {},
   "source": [
    "# Cancer Dataset with PCA & SVM\n",
    "\n",
    "In this exercise, we are again analyzing ultrasound data of breast cancer tumors. Several characteristics of the tumor are given in the dataset. First, we will be reducing the number of dimensions with PCA, then we will create a model that will predict whether or not a patient has a positive breast cancer diagnosis based off of the tumor characteristics.\n",
    "\n",
    "## Import Libraries"
   ]
  },
  {
   "cell_type": "code",
   "execution_count": 2,
   "metadata": {},
   "outputs": [],
   "source": [
    "import pandas as pd\n",
    "import numpy as np\n",
    "import matplotlib.pyplot as plt\n",
    "import seaborn as sns\n",
    "%matplotlib inline"
   ]
  },
  {
   "cell_type": "markdown",
   "metadata": {},
   "source": [
    "## Get the Data\n",
    "\n",
    "We'll use the built in breast cancer dataset from Scikit Learn. We can get with the load function:"
   ]
  },
  {
   "cell_type": "code",
   "execution_count": 3,
   "metadata": {},
   "outputs": [],
   "source": [
    "from sklearn.datasets import load_breast_cancer"
   ]
  },
  {
   "cell_type": "code",
   "execution_count": 4,
   "metadata": {},
   "outputs": [],
   "source": [
    "cancer = load_breast_cancer()"
   ]
  },
  {
   "cell_type": "markdown",
   "metadata": {},
   "source": [
    "The data set is presented in a dictionary form:"
   ]
  },
  {
   "cell_type": "code",
   "execution_count": 5,
   "metadata": {},
   "outputs": [
    {
     "data": {
      "text/plain": [
       "dict_keys(['data', 'target', 'frame', 'target_names', 'DESCR', 'feature_names', 'filename', 'data_module'])"
      ]
     },
     "execution_count": 5,
     "metadata": {},
     "output_type": "execute_result"
    }
   ],
   "source": [
    "cancer.keys()"
   ]
  },
  {
   "cell_type": "markdown",
   "metadata": {},
   "source": [
    "We can grab information and arrays out of this dictionary to set up our data frame and understanding of the features:"
   ]
  },
  {
   "cell_type": "code",
   "execution_count": 6,
   "metadata": {},
   "outputs": [
    {
     "name": "stdout",
     "output_type": "stream",
     "text": [
      ".. _breast_cancer_dataset:\n",
      "\n",
      "Breast cancer wisconsin (diagnostic) dataset\n",
      "--------------------------------------------\n",
      "\n",
      "**Data Set Characteristics:**\n",
      "\n",
      "    :Number of Instances: 569\n",
      "\n",
      "    :Number of Attributes: 30 numeric, predictive attributes and the class\n",
      "\n",
      "    :Attribute Information:\n",
      "        - radius (mean of distances from center to points on the perimeter)\n",
      "        - texture (standard deviation of gray-scale values)\n",
      "        - perimeter\n",
      "        - area\n",
      "        - smoothness (local variation in radius lengths)\n",
      "        - compactness (perimeter^2 / area - 1.0)\n",
      "        - concavity (severity of concave portions of the contour)\n",
      "        - concave points (number of concave portions of the contour)\n",
      "        - symmetry\n",
      "        - fractal dimension (\"coastline approximation\" - 1)\n",
      "\n",
      "        The mean, standard error, and \"worst\" or largest (mean of the three\n",
      "        worst/largest values) of these features were computed for each image,\n",
      "        resulting in 30 features.  For instance, field 0 is Mean Radius, field\n",
      "        10 is Radius SE, field 20 is Worst Radius.\n",
      "\n",
      "        - class:\n",
      "                - WDBC-Malignant\n",
      "                - WDBC-Benign\n",
      "\n",
      "    :Summary Statistics:\n",
      "\n",
      "    ===================================== ====== ======\n",
      "                                           Min    Max\n",
      "    ===================================== ====== ======\n",
      "    radius (mean):                        6.981  28.11\n",
      "    texture (mean):                       9.71   39.28\n",
      "    perimeter (mean):                     43.79  188.5\n",
      "    area (mean):                          143.5  2501.0\n",
      "    smoothness (mean):                    0.053  0.163\n",
      "    compactness (mean):                   0.019  0.345\n",
      "    concavity (mean):                     0.0    0.427\n",
      "    concave points (mean):                0.0    0.201\n",
      "    symmetry (mean):                      0.106  0.304\n",
      "    fractal dimension (mean):             0.05   0.097\n",
      "    radius (standard error):              0.112  2.873\n",
      "    texture (standard error):             0.36   4.885\n",
      "    perimeter (standard error):           0.757  21.98\n",
      "    area (standard error):                6.802  542.2\n",
      "    smoothness (standard error):          0.002  0.031\n",
      "    compactness (standard error):         0.002  0.135\n",
      "    concavity (standard error):           0.0    0.396\n",
      "    concave points (standard error):      0.0    0.053\n",
      "    symmetry (standard error):            0.008  0.079\n",
      "    fractal dimension (standard error):   0.001  0.03\n",
      "    radius (worst):                       7.93   36.04\n",
      "    texture (worst):                      12.02  49.54\n",
      "    perimeter (worst):                    50.41  251.2\n",
      "    area (worst):                         185.2  4254.0\n",
      "    smoothness (worst):                   0.071  0.223\n",
      "    compactness (worst):                  0.027  1.058\n",
      "    concavity (worst):                    0.0    1.252\n",
      "    concave points (worst):               0.0    0.291\n",
      "    symmetry (worst):                     0.156  0.664\n",
      "    fractal dimension (worst):            0.055  0.208\n",
      "    ===================================== ====== ======\n",
      "\n",
      "    :Missing Attribute Values: None\n",
      "\n",
      "    :Class Distribution: 212 - Malignant, 357 - Benign\n",
      "\n",
      "    :Creator:  Dr. William H. Wolberg, W. Nick Street, Olvi L. Mangasarian\n",
      "\n",
      "    :Donor: Nick Street\n",
      "\n",
      "    :Date: November, 1995\n",
      "\n",
      "This is a copy of UCI ML Breast Cancer Wisconsin (Diagnostic) datasets.\n",
      "https://goo.gl/U2Uwz2\n",
      "\n",
      "Features are computed from a digitized image of a fine needle\n",
      "aspirate (FNA) of a breast mass.  They describe\n",
      "characteristics of the cell nuclei present in the image.\n",
      "\n",
      "Separating plane described above was obtained using\n",
      "Multisurface Method-Tree (MSM-T) [K. P. Bennett, \"Decision Tree\n",
      "Construction Via Linear Programming.\" Proceedings of the 4th\n",
      "Midwest Artificial Intelligence and Cognitive Science Society,\n",
      "pp. 97-101, 1992], a classification method which uses linear\n",
      "programming to construct a decision tree.  Relevant features\n",
      "were selected using an exhaustive search in the space of 1-4\n",
      "features and 1-3 separating planes.\n",
      "\n",
      "The actual linear program used to obtain the separating plane\n",
      "in the 3-dimensional space is that described in:\n",
      "[K. P. Bennett and O. L. Mangasarian: \"Robust Linear\n",
      "Programming Discrimination of Two Linearly Inseparable Sets\",\n",
      "Optimization Methods and Software 1, 1992, 23-34].\n",
      "\n",
      "This database is also available through the UW CS ftp server:\n",
      "\n",
      "ftp ftp.cs.wisc.edu\n",
      "cd math-prog/cpo-dataset/machine-learn/WDBC/\n",
      "\n",
      ".. topic:: References\n",
      "\n",
      "   - W.N. Street, W.H. Wolberg and O.L. Mangasarian. Nuclear feature extraction \n",
      "     for breast tumor diagnosis. IS&T/SPIE 1993 International Symposium on \n",
      "     Electronic Imaging: Science and Technology, volume 1905, pages 861-870,\n",
      "     San Jose, CA, 1993.\n",
      "   - O.L. Mangasarian, W.N. Street and W.H. Wolberg. Breast cancer diagnosis and \n",
      "     prognosis via linear programming. Operations Research, 43(4), pages 570-577, \n",
      "     July-August 1995.\n",
      "   - W.H. Wolberg, W.N. Street, and O.L. Mangasarian. Machine learning techniques\n",
      "     to diagnose breast cancer from fine-needle aspirates. Cancer Letters 77 (1994) \n",
      "     163-171.\n"
     ]
    }
   ],
   "source": [
    "print(cancer['DESCR'])"
   ]
  },
  {
   "cell_type": "code",
   "execution_count": 7,
   "metadata": {},
   "outputs": [
    {
     "data": {
      "text/plain": [
       "array(['mean radius', 'mean texture', 'mean perimeter', 'mean area',\n",
       "       'mean smoothness', 'mean compactness', 'mean concavity',\n",
       "       'mean concave points', 'mean symmetry', 'mean fractal dimension',\n",
       "       'radius error', 'texture error', 'perimeter error', 'area error',\n",
       "       'smoothness error', 'compactness error', 'concavity error',\n",
       "       'concave points error', 'symmetry error',\n",
       "       'fractal dimension error', 'worst radius', 'worst texture',\n",
       "       'worst perimeter', 'worst area', 'worst smoothness',\n",
       "       'worst compactness', 'worst concavity', 'worst concave points',\n",
       "       'worst symmetry', 'worst fractal dimension'], dtype='<U23')"
      ]
     },
     "execution_count": 7,
     "metadata": {},
     "output_type": "execute_result"
    }
   ],
   "source": [
    "cancer['feature_names']"
   ]
  },
  {
   "cell_type": "markdown",
   "metadata": {},
   "source": [
    "## Set up DataFrame"
   ]
  },
  {
   "cell_type": "code",
   "execution_count": 8,
   "metadata": {},
   "outputs": [
    {
     "name": "stdout",
     "output_type": "stream",
     "text": [
      "<class 'pandas.core.frame.DataFrame'>\n",
      "RangeIndex: 569 entries, 0 to 568\n",
      "Data columns (total 30 columns):\n",
      " #   Column                   Non-Null Count  Dtype  \n",
      "---  ------                   --------------  -----  \n",
      " 0   mean radius              569 non-null    float64\n",
      " 1   mean texture             569 non-null    float64\n",
      " 2   mean perimeter           569 non-null    float64\n",
      " 3   mean area                569 non-null    float64\n",
      " 4   mean smoothness          569 non-null    float64\n",
      " 5   mean compactness         569 non-null    float64\n",
      " 6   mean concavity           569 non-null    float64\n",
      " 7   mean concave points      569 non-null    float64\n",
      " 8   mean symmetry            569 non-null    float64\n",
      " 9   mean fractal dimension   569 non-null    float64\n",
      " 10  radius error             569 non-null    float64\n",
      " 11  texture error            569 non-null    float64\n",
      " 12  perimeter error          569 non-null    float64\n",
      " 13  area error               569 non-null    float64\n",
      " 14  smoothness error         569 non-null    float64\n",
      " 15  compactness error        569 non-null    float64\n",
      " 16  concavity error          569 non-null    float64\n",
      " 17  concave points error     569 non-null    float64\n",
      " 18  symmetry error           569 non-null    float64\n",
      " 19  fractal dimension error  569 non-null    float64\n",
      " 20  worst radius             569 non-null    float64\n",
      " 21  worst texture            569 non-null    float64\n",
      " 22  worst perimeter          569 non-null    float64\n",
      " 23  worst area               569 non-null    float64\n",
      " 24  worst smoothness         569 non-null    float64\n",
      " 25  worst compactness        569 non-null    float64\n",
      " 26  worst concavity          569 non-null    float64\n",
      " 27  worst concave points     569 non-null    float64\n",
      " 28  worst symmetry           569 non-null    float64\n",
      " 29  worst fractal dimension  569 non-null    float64\n",
      "dtypes: float64(30)\n",
      "memory usage: 133.5 KB\n"
     ]
    }
   ],
   "source": [
    "df_feat = pd.DataFrame(cancer['data'],columns=cancer['feature_names'])\n",
    "df_feat.info()"
   ]
  },
  {
   "cell_type": "code",
   "execution_count": 9,
   "metadata": {},
   "outputs": [
    {
     "data": {
      "text/plain": [
       "array([0, 0, 0, 0, 0, 0, 0, 0, 0, 0, 0, 0, 0, 0, 0, 0, 0, 0, 0, 1, 1, 1,\n",
       "       0, 0, 0, 0, 0, 0, 0, 0, 0, 0, 0, 0, 0, 0, 0, 1, 0, 0, 0, 0, 0, 0,\n",
       "       0, 0, 1, 0, 1, 1, 1, 1, 1, 0, 0, 1, 0, 0, 1, 1, 1, 1, 0, 1, 0, 0,\n",
       "       1, 1, 1, 1, 0, 1, 0, 0, 1, 0, 1, 0, 0, 1, 1, 1, 0, 0, 1, 0, 0, 0,\n",
       "       1, 1, 1, 0, 1, 1, 0, 0, 1, 1, 1, 0, 0, 1, 1, 1, 1, 0, 1, 1, 0, 1,\n",
       "       1, 1, 1, 1, 1, 1, 1, 0, 0, 0, 1, 0, 0, 1, 1, 1, 0, 0, 1, 0, 1, 0,\n",
       "       0, 1, 0, 0, 1, 1, 0, 1, 1, 0, 1, 1, 1, 1, 0, 1, 1, 1, 1, 1, 1, 1,\n",
       "       1, 1, 0, 1, 1, 1, 1, 0, 0, 1, 0, 1, 1, 0, 0, 1, 1, 0, 0, 1, 1, 1,\n",
       "       1, 0, 1, 1, 0, 0, 0, 1, 0, 1, 0, 1, 1, 1, 0, 1, 1, 0, 0, 1, 0, 0,\n",
       "       0, 0, 1, 0, 0, 0, 1, 0, 1, 0, 1, 1, 0, 1, 0, 0, 0, 0, 1, 1, 0, 0,\n",
       "       1, 1, 1, 0, 1, 1, 1, 1, 1, 0, 0, 1, 1, 0, 1, 1, 0, 0, 1, 0, 1, 1,\n",
       "       1, 1, 0, 1, 1, 1, 1, 1, 0, 1, 0, 0, 0, 0, 0, 0, 0, 0, 0, 0, 0, 0,\n",
       "       0, 0, 1, 1, 1, 1, 1, 1, 0, 1, 0, 1, 1, 0, 1, 1, 0, 1, 0, 0, 1, 1,\n",
       "       1, 1, 1, 1, 1, 1, 1, 1, 1, 1, 1, 0, 1, 1, 0, 1, 0, 1, 1, 1, 1, 1,\n",
       "       1, 1, 1, 1, 1, 1, 1, 1, 1, 0, 1, 1, 1, 0, 1, 0, 1, 1, 1, 1, 0, 0,\n",
       "       0, 1, 1, 1, 1, 0, 1, 0, 1, 0, 1, 1, 1, 0, 1, 1, 1, 1, 1, 1, 1, 0,\n",
       "       0, 0, 1, 1, 1, 1, 1, 1, 1, 1, 1, 1, 1, 0, 0, 1, 0, 0, 0, 1, 0, 0,\n",
       "       1, 1, 1, 1, 1, 0, 1, 1, 1, 1, 1, 0, 1, 1, 1, 0, 1, 1, 0, 0, 1, 1,\n",
       "       1, 1, 1, 1, 0, 1, 1, 1, 1, 1, 1, 1, 0, 1, 1, 1, 1, 1, 0, 1, 1, 0,\n",
       "       1, 1, 1, 1, 1, 1, 1, 1, 1, 1, 1, 1, 0, 1, 0, 0, 1, 0, 1, 1, 1, 1,\n",
       "       1, 0, 1, 1, 0, 1, 0, 1, 1, 0, 1, 0, 1, 1, 1, 1, 1, 1, 1, 1, 0, 0,\n",
       "       1, 1, 1, 1, 1, 1, 0, 1, 1, 1, 1, 1, 1, 1, 1, 1, 1, 0, 1, 1, 1, 1,\n",
       "       1, 1, 1, 0, 1, 0, 1, 1, 0, 1, 1, 1, 1, 1, 0, 0, 1, 0, 1, 0, 1, 1,\n",
       "       1, 1, 1, 0, 1, 1, 0, 1, 0, 1, 0, 0, 1, 1, 1, 0, 1, 1, 1, 1, 1, 1,\n",
       "       1, 1, 1, 1, 1, 0, 1, 0, 0, 1, 1, 1, 1, 1, 1, 1, 1, 1, 1, 1, 1, 1,\n",
       "       1, 1, 1, 1, 1, 1, 1, 1, 1, 1, 1, 1, 0, 0, 0, 0, 0, 0, 1])"
      ]
     },
     "execution_count": 9,
     "metadata": {},
     "output_type": "execute_result"
    }
   ],
   "source": [
    "cancer['target']"
   ]
  },
  {
   "cell_type": "markdown",
   "metadata": {},
   "source": [
    "# Exploratory Data Analysis\n",
    "\n"
   ]
  },
  {
   "cell_type": "markdown",
   "metadata": {},
   "source": [
    "We'll skip the Data Viz part for this lecture since we already have looked at the data."
   ]
  },
  {
   "cell_type": "code",
   "execution_count": 10,
   "metadata": {},
   "outputs": [],
   "source": [
    "X = pd.DataFrame(cancer['data'],columns=cancer['feature_names'])\n",
    "\n",
    "y= cancer[\"target\"]"
   ]
  },
  {
   "cell_type": "markdown",
   "metadata": {},
   "source": [
    "## Train Test Split"
   ]
  },
  {
   "cell_type": "code",
   "execution_count": 11,
   "metadata": {},
   "outputs": [],
   "source": [
    "from sklearn.model_selection import train_test_split"
   ]
  },
  {
   "cell_type": "code",
   "execution_count": 12,
   "metadata": {},
   "outputs": [],
   "source": [
    "X_train, X_test, y_train, y_test = train_test_split(X, y, test_size=0.30, random_state=101)"
   ]
  },
  {
   "cell_type": "markdown",
   "metadata": {},
   "source": [
    "## Creating a Pipeline"
   ]
  },
  {
   "cell_type": "code",
   "execution_count": 13,
   "metadata": {},
   "outputs": [],
   "source": [
    "from sklearn.preprocessing import StandardScaler\n",
    "from sklearn.decomposition import PCA\n",
    "from sklearn.svm import SVC\n",
    "from sklearn.model_selection import GridSearchCV\n",
    "from sklearn.pipeline import Pipeline"
   ]
  },
  {
   "cell_type": "code",
   "execution_count": 14,
   "metadata": {},
   "outputs": [],
   "source": [
    "pipe = Pipeline([('scaler', StandardScaler()),\n",
    "                ('pca', PCA()),\n",
    "                ('svm', SVC(random_state=123))])"
   ]
  },
  {
   "cell_type": "markdown",
   "metadata": {},
   "source": [
    "We define param grid for Grid Search"
   ]
  },
  {
   "cell_type": "code",
   "execution_count": 15,
   "metadata": {},
   "outputs": [],
   "source": [
    "param_grid = {'pca__n_components':[2,3,4,5], # choose the number of pca components\n",
    "        'svm__kernel': ['linear', 'rbf'],\n",
    "         'svm__C': [0.1,1, 10, 100, 1000],\n",
    "         'svm__gamma': [\"auto\",\"scale\"]}"
   ]
  },
  {
   "cell_type": "code",
   "execution_count": 16,
   "metadata": {},
   "outputs": [],
   "source": [
    "grid = GridSearchCV(estimator=pipe,param_grid=param_grid,verbose=3)"
   ]
  },
  {
   "cell_type": "code",
   "execution_count": 17,
   "metadata": {},
   "outputs": [
    {
     "name": "stdout",
     "output_type": "stream",
     "text": [
      "Fitting 5 folds for each of 80 candidates, totalling 400 fits\n",
      "[CV 1/5] END pca__n_components=2, svm__C=0.1, svm__gamma=auto, svm__kernel=linear;, score=0.925 total time=   0.0s\n",
      "[CV 2/5] END pca__n_components=2, svm__C=0.1, svm__gamma=auto, svm__kernel=linear;, score=0.938 total time=   0.0s\n",
      "[CV 3/5] END pca__n_components=2, svm__C=0.1, svm__gamma=auto, svm__kernel=linear;, score=0.975 total time=   0.0s\n",
      "[CV 4/5] END pca__n_components=2, svm__C=0.1, svm__gamma=auto, svm__kernel=linear;, score=0.949 total time=   0.0s\n",
      "[CV 5/5] END pca__n_components=2, svm__C=0.1, svm__gamma=auto, svm__kernel=linear;, score=0.962 total time=   0.0s\n",
      "[CV 1/5] END pca__n_components=2, svm__C=0.1, svm__gamma=auto, svm__kernel=rbf;, score=0.900 total time=   0.0s\n",
      "[CV 2/5] END pca__n_components=2, svm__C=0.1, svm__gamma=auto, svm__kernel=rbf;, score=0.925 total time=   0.0s\n",
      "[CV 3/5] END pca__n_components=2, svm__C=0.1, svm__gamma=auto, svm__kernel=rbf;, score=0.950 total time=   0.0s\n",
      "[CV 4/5] END pca__n_components=2, svm__C=0.1, svm__gamma=auto, svm__kernel=rbf;, score=0.937 total time=   0.0s\n",
      "[CV 5/5] END pca__n_components=2, svm__C=0.1, svm__gamma=auto, svm__kernel=rbf;, score=0.962 total time=   0.0s\n",
      "[CV 1/5] END pca__n_components=2, svm__C=0.1, svm__gamma=scale, svm__kernel=linear;, score=0.925 total time=   0.0s\n",
      "[CV 2/5] END pca__n_components=2, svm__C=0.1, svm__gamma=scale, svm__kernel=linear;, score=0.938 total time=   0.0s\n",
      "[CV 3/5] END pca__n_components=2, svm__C=0.1, svm__gamma=scale, svm__kernel=linear;, score=0.975 total time=   0.0s\n",
      "[CV 4/5] END pca__n_components=2, svm__C=0.1, svm__gamma=scale, svm__kernel=linear;, score=0.949 total time=   0.0s\n",
      "[CV 5/5] END pca__n_components=2, svm__C=0.1, svm__gamma=scale, svm__kernel=linear;, score=0.962 total time=   0.0s\n",
      "[CV 1/5] END pca__n_components=2, svm__C=0.1, svm__gamma=scale, svm__kernel=rbf;, score=0.925 total time=   0.0s\n",
      "[CV 2/5] END pca__n_components=2, svm__C=0.1, svm__gamma=scale, svm__kernel=rbf;, score=0.925 total time=   0.0s\n",
      "[CV 3/5] END pca__n_components=2, svm__C=0.1, svm__gamma=scale, svm__kernel=rbf;, score=0.975 total time=   0.0s\n",
      "[CV 4/5] END pca__n_components=2, svm__C=0.1, svm__gamma=scale, svm__kernel=rbf;, score=0.937 total time=   0.0s\n",
      "[CV 5/5] END pca__n_components=2, svm__C=0.1, svm__gamma=scale, svm__kernel=rbf;, score=0.962 total time=   0.0s\n",
      "[CV 1/5] END pca__n_components=2, svm__C=1, svm__gamma=auto, svm__kernel=linear;, score=0.938 total time=   0.0s\n",
      "[CV 2/5] END pca__n_components=2, svm__C=1, svm__gamma=auto, svm__kernel=linear;, score=0.938 total time=   0.0s\n",
      "[CV 3/5] END pca__n_components=2, svm__C=1, svm__gamma=auto, svm__kernel=linear;, score=0.988 total time=   0.0s\n",
      "[CV 4/5] END pca__n_components=2, svm__C=1, svm__gamma=auto, svm__kernel=linear;, score=0.962 total time=   0.0s\n",
      "[CV 5/5] END pca__n_components=2, svm__C=1, svm__gamma=auto, svm__kernel=linear;, score=0.987 total time=   0.0s\n",
      "[CV 1/5] END pca__n_components=2, svm__C=1, svm__gamma=auto, svm__kernel=rbf;, score=0.925 total time=   0.0s\n",
      "[CV 2/5] END pca__n_components=2, svm__C=1, svm__gamma=auto, svm__kernel=rbf;, score=0.950 total time=   0.0s\n",
      "[CV 3/5] END pca__n_components=2, svm__C=1, svm__gamma=auto, svm__kernel=rbf;, score=0.975 total time=   0.0s\n",
      "[CV 4/5] END pca__n_components=2, svm__C=1, svm__gamma=auto, svm__kernel=rbf;, score=0.937 total time=   0.0s\n",
      "[CV 5/5] END pca__n_components=2, svm__C=1, svm__gamma=auto, svm__kernel=rbf;, score=0.987 total time=   0.0s\n",
      "[CV 1/5] END pca__n_components=2, svm__C=1, svm__gamma=scale, svm__kernel=linear;, score=0.938 total time=   0.0s\n",
      "[CV 2/5] END pca__n_components=2, svm__C=1, svm__gamma=scale, svm__kernel=linear;, score=0.938 total time=   0.0s\n",
      "[CV 3/5] END pca__n_components=2, svm__C=1, svm__gamma=scale, svm__kernel=linear;, score=0.988 total time=   0.0s\n",
      "[CV 4/5] END pca__n_components=2, svm__C=1, svm__gamma=scale, svm__kernel=linear;, score=0.962 total time=   0.0s\n",
      "[CV 5/5] END pca__n_components=2, svm__C=1, svm__gamma=scale, svm__kernel=linear;, score=0.987 total time=   0.0s\n",
      "[CV 1/5] END pca__n_components=2, svm__C=1, svm__gamma=scale, svm__kernel=rbf;, score=0.925 total time=   0.0s\n",
      "[CV 2/5] END pca__n_components=2, svm__C=1, svm__gamma=scale, svm__kernel=rbf;, score=0.938 total time=   0.0s\n",
      "[CV 3/5] END pca__n_components=2, svm__C=1, svm__gamma=scale, svm__kernel=rbf;, score=0.975 total time=   0.0s\n",
      "[CV 4/5] END pca__n_components=2, svm__C=1, svm__gamma=scale, svm__kernel=rbf;, score=0.924 total time=   0.0s\n",
      "[CV 5/5] END pca__n_components=2, svm__C=1, svm__gamma=scale, svm__kernel=rbf;, score=0.962 total time=   0.0s\n",
      "[CV 1/5] END pca__n_components=2, svm__C=10, svm__gamma=auto, svm__kernel=linear;, score=0.938 total time=   0.0s\n",
      "[CV 2/5] END pca__n_components=2, svm__C=10, svm__gamma=auto, svm__kernel=linear;, score=0.938 total time=   0.0s\n",
      "[CV 3/5] END pca__n_components=2, svm__C=10, svm__gamma=auto, svm__kernel=linear;, score=0.988 total time=   0.0s\n",
      "[CV 4/5] END pca__n_components=2, svm__C=10, svm__gamma=auto, svm__kernel=linear;, score=0.962 total time=   0.0s\n",
      "[CV 5/5] END pca__n_components=2, svm__C=10, svm__gamma=auto, svm__kernel=linear;, score=0.975 total time=   0.0s\n",
      "[CV 1/5] END pca__n_components=2, svm__C=10, svm__gamma=auto, svm__kernel=rbf;, score=0.912 total time=   0.0s\n",
      "[CV 2/5] END pca__n_components=2, svm__C=10, svm__gamma=auto, svm__kernel=rbf;, score=0.938 total time=   0.0s\n",
      "[CV 3/5] END pca__n_components=2, svm__C=10, svm__gamma=auto, svm__kernel=rbf;, score=0.975 total time=   0.0s\n",
      "[CV 4/5] END pca__n_components=2, svm__C=10, svm__gamma=auto, svm__kernel=rbf;, score=0.937 total time=   0.0s\n",
      "[CV 5/5] END pca__n_components=2, svm__C=10, svm__gamma=auto, svm__kernel=rbf;, score=0.949 total time=   0.0s\n",
      "[CV 1/5] END pca__n_components=2, svm__C=10, svm__gamma=scale, svm__kernel=linear;, score=0.938 total time=   0.0s\n",
      "[CV 2/5] END pca__n_components=2, svm__C=10, svm__gamma=scale, svm__kernel=linear;, score=0.938 total time=   0.0s\n",
      "[CV 3/5] END pca__n_components=2, svm__C=10, svm__gamma=scale, svm__kernel=linear;, score=0.988 total time=   0.0s\n",
      "[CV 4/5] END pca__n_components=2, svm__C=10, svm__gamma=scale, svm__kernel=linear;, score=0.962 total time=   0.0s\n",
      "[CV 5/5] END pca__n_components=2, svm__C=10, svm__gamma=scale, svm__kernel=linear;, score=0.975 total time=   0.0s\n",
      "[CV 1/5] END pca__n_components=2, svm__C=10, svm__gamma=scale, svm__kernel=rbf;, score=0.912 total time=   0.0s\n",
      "[CV 2/5] END pca__n_components=2, svm__C=10, svm__gamma=scale, svm__kernel=rbf;, score=0.938 total time=   0.0s\n",
      "[CV 3/5] END pca__n_components=2, svm__C=10, svm__gamma=scale, svm__kernel=rbf;, score=0.975 total time=   0.0s\n",
      "[CV 4/5] END pca__n_components=2, svm__C=10, svm__gamma=scale, svm__kernel=rbf;, score=0.937 total time=   0.0s\n",
      "[CV 5/5] END pca__n_components=2, svm__C=10, svm__gamma=scale, svm__kernel=rbf;, score=0.962 total time=   0.0s\n",
      "[CV 1/5] END pca__n_components=2, svm__C=100, svm__gamma=auto, svm__kernel=linear;, score=0.938 total time=   0.0s\n",
      "[CV 2/5] END pca__n_components=2, svm__C=100, svm__gamma=auto, svm__kernel=linear;, score=0.938 total time=   0.0s\n",
      "[CV 3/5] END pca__n_components=2, svm__C=100, svm__gamma=auto, svm__kernel=linear;, score=0.988 total time=   0.0s\n",
      "[CV 4/5] END pca__n_components=2, svm__C=100, svm__gamma=auto, svm__kernel=linear;, score=0.962 total time=   0.0s\n",
      "[CV 5/5] END pca__n_components=2, svm__C=100, svm__gamma=auto, svm__kernel=linear;, score=0.975 total time=   0.0s\n",
      "[CV 1/5] END pca__n_components=2, svm__C=100, svm__gamma=auto, svm__kernel=rbf;, score=0.900 total time=   0.0s\n",
      "[CV 2/5] END pca__n_components=2, svm__C=100, svm__gamma=auto, svm__kernel=rbf;, score=0.925 total time=   0.0s\n",
      "[CV 3/5] END pca__n_components=2, svm__C=100, svm__gamma=auto, svm__kernel=rbf;, score=0.988 total time=   0.0s\n",
      "[CV 4/5] END pca__n_components=2, svm__C=100, svm__gamma=auto, svm__kernel=rbf;, score=0.937 total time=   0.0s\n",
      "[CV 5/5] END pca__n_components=2, svm__C=100, svm__gamma=auto, svm__kernel=rbf;, score=0.962 total time=   0.0s\n",
      "[CV 1/5] END pca__n_components=2, svm__C=100, svm__gamma=scale, svm__kernel=linear;, score=0.938 total time=   0.0s\n",
      "[CV 2/5] END pca__n_components=2, svm__C=100, svm__gamma=scale, svm__kernel=linear;, score=0.938 total time=   0.0s\n",
      "[CV 3/5] END pca__n_components=2, svm__C=100, svm__gamma=scale, svm__kernel=linear;, score=0.988 total time=   0.0s\n",
      "[CV 4/5] END pca__n_components=2, svm__C=100, svm__gamma=scale, svm__kernel=linear;, score=0.962 total time=   0.0s\n",
      "[CV 5/5] END pca__n_components=2, svm__C=100, svm__gamma=scale, svm__kernel=linear;, score=0.975 total time=   0.0s\n",
      "[CV 1/5] END pca__n_components=2, svm__C=100, svm__gamma=scale, svm__kernel=rbf;, score=0.912 total time=   0.0s\n",
      "[CV 2/5] END pca__n_components=2, svm__C=100, svm__gamma=scale, svm__kernel=rbf;, score=0.938 total time=   0.0s\n",
      "[CV 3/5] END pca__n_components=2, svm__C=100, svm__gamma=scale, svm__kernel=rbf;, score=0.988 total time=   0.0s\n",
      "[CV 4/5] END pca__n_components=2, svm__C=100, svm__gamma=scale, svm__kernel=rbf;, score=0.937 total time=   0.0s\n",
      "[CV 5/5] END pca__n_components=2, svm__C=100, svm__gamma=scale, svm__kernel=rbf;, score=0.975 total time=   0.0s\n",
      "[CV 1/5] END pca__n_components=2, svm__C=1000, svm__gamma=auto, svm__kernel=linear;, score=0.938 total time=   0.1s\n",
      "[CV 2/5] END pca__n_components=2, svm__C=1000, svm__gamma=auto, svm__kernel=linear;, score=0.938 total time=   0.0s\n",
      "[CV 3/5] END pca__n_components=2, svm__C=1000, svm__gamma=auto, svm__kernel=linear;, score=0.988 total time=   0.1s\n",
      "[CV 4/5] END pca__n_components=2, svm__C=1000, svm__gamma=auto, svm__kernel=linear;, score=0.962 total time=   0.1s\n",
      "[CV 5/5] END pca__n_components=2, svm__C=1000, svm__gamma=auto, svm__kernel=linear;, score=0.975 total time=   0.0s\n",
      "[CV 1/5] END pca__n_components=2, svm__C=1000, svm__gamma=auto, svm__kernel=rbf;, score=0.887 total time=   0.0s\n",
      "[CV 2/5] END pca__n_components=2, svm__C=1000, svm__gamma=auto, svm__kernel=rbf;, score=0.863 total time=   0.0s\n",
      "[CV 3/5] END pca__n_components=2, svm__C=1000, svm__gamma=auto, svm__kernel=rbf;, score=0.938 total time=   0.0s\n",
      "[CV 4/5] END pca__n_components=2, svm__C=1000, svm__gamma=auto, svm__kernel=rbf;, score=0.937 total time=   0.0s\n",
      "[CV 5/5] END pca__n_components=2, svm__C=1000, svm__gamma=auto, svm__kernel=rbf;, score=0.937 total time=   0.0s\n",
      "[CV 1/5] END pca__n_components=2, svm__C=1000, svm__gamma=scale, svm__kernel=linear;, score=0.938 total time=   0.1s\n",
      "[CV 2/5] END pca__n_components=2, svm__C=1000, svm__gamma=scale, svm__kernel=linear;, score=0.938 total time=   0.0s\n",
      "[CV 3/5] END pca__n_components=2, svm__C=1000, svm__gamma=scale, svm__kernel=linear;, score=0.988 total time=   0.1s\n",
      "[CV 4/5] END pca__n_components=2, svm__C=1000, svm__gamma=scale, svm__kernel=linear;, score=0.962 total time=   0.1s\n",
      "[CV 5/5] END pca__n_components=2, svm__C=1000, svm__gamma=scale, svm__kernel=linear;, score=0.975 total time=   0.0s\n",
      "[CV 1/5] END pca__n_components=2, svm__C=1000, svm__gamma=scale, svm__kernel=rbf;, score=0.938 total time=   0.0s\n",
      "[CV 2/5] END pca__n_components=2, svm__C=1000, svm__gamma=scale, svm__kernel=rbf;, score=0.925 total time=   0.0s\n",
      "[CV 3/5] END pca__n_components=2, svm__C=1000, svm__gamma=scale, svm__kernel=rbf;, score=0.963 total time=   0.0s\n",
      "[CV 4/5] END pca__n_components=2, svm__C=1000, svm__gamma=scale, svm__kernel=rbf;, score=0.937 total time=   0.0s\n",
      "[CV 5/5] END pca__n_components=2, svm__C=1000, svm__gamma=scale, svm__kernel=rbf;, score=0.962 total time=   0.0s\n",
      "[CV 1/5] END pca__n_components=3, svm__C=0.1, svm__gamma=auto, svm__kernel=linear;, score=0.912 total time=   0.0s\n",
      "[CV 2/5] END pca__n_components=3, svm__C=0.1, svm__gamma=auto, svm__kernel=linear;, score=0.925 total time=   0.0s\n",
      "[CV 3/5] END pca__n_components=3, svm__C=0.1, svm__gamma=auto, svm__kernel=linear;, score=0.975 total time=   0.0s\n",
      "[CV 4/5] END pca__n_components=3, svm__C=0.1, svm__gamma=auto, svm__kernel=linear;, score=0.962 total time=   0.0s\n",
      "[CV 5/5] END pca__n_components=3, svm__C=0.1, svm__gamma=auto, svm__kernel=linear;, score=0.962 total time=   0.0s\n",
      "[CV 1/5] END pca__n_components=3, svm__C=0.1, svm__gamma=auto, svm__kernel=rbf;, score=0.887 total time=   0.0s\n",
      "[CV 2/5] END pca__n_components=3, svm__C=0.1, svm__gamma=auto, svm__kernel=rbf;, score=0.938 total time=   0.0s\n",
      "[CV 3/5] END pca__n_components=3, svm__C=0.1, svm__gamma=auto, svm__kernel=rbf;, score=0.950 total time=   0.0s\n",
      "[CV 4/5] END pca__n_components=3, svm__C=0.1, svm__gamma=auto, svm__kernel=rbf;, score=0.937 total time=   0.0s\n",
      "[CV 5/5] END pca__n_components=3, svm__C=0.1, svm__gamma=auto, svm__kernel=rbf;, score=0.949 total time=   0.0s\n",
      "[CV 1/5] END pca__n_components=3, svm__C=0.1, svm__gamma=scale, svm__kernel=linear;, score=0.912 total time=   0.0s\n",
      "[CV 2/5] END pca__n_components=3, svm__C=0.1, svm__gamma=scale, svm__kernel=linear;, score=0.925 total time=   0.0s\n",
      "[CV 3/5] END pca__n_components=3, svm__C=0.1, svm__gamma=scale, svm__kernel=linear;, score=0.975 total time=   0.0s\n",
      "[CV 4/5] END pca__n_components=3, svm__C=0.1, svm__gamma=scale, svm__kernel=linear;, score=0.962 total time=   0.0s\n",
      "[CV 5/5] END pca__n_components=3, svm__C=0.1, svm__gamma=scale, svm__kernel=linear;, score=0.962 total time=   0.0s\n",
      "[CV 1/5] END pca__n_components=3, svm__C=0.1, svm__gamma=scale, svm__kernel=rbf;, score=0.900 total time=   0.0s\n",
      "[CV 2/5] END pca__n_components=3, svm__C=0.1, svm__gamma=scale, svm__kernel=rbf;, score=0.938 total time=   0.0s\n",
      "[CV 3/5] END pca__n_components=3, svm__C=0.1, svm__gamma=scale, svm__kernel=rbf;, score=0.975 total time=   0.0s\n",
      "[CV 4/5] END pca__n_components=3, svm__C=0.1, svm__gamma=scale, svm__kernel=rbf;, score=0.949 total time=   0.0s\n",
      "[CV 5/5] END pca__n_components=3, svm__C=0.1, svm__gamma=scale, svm__kernel=rbf;, score=0.962 total time=   0.0s\n",
      "[CV 1/5] END pca__n_components=3, svm__C=1, svm__gamma=auto, svm__kernel=linear;, score=0.925 total time=   0.0s\n",
      "[CV 2/5] END pca__n_components=3, svm__C=1, svm__gamma=auto, svm__kernel=linear;, score=0.925 total time=   0.0s\n",
      "[CV 3/5] END pca__n_components=3, svm__C=1, svm__gamma=auto, svm__kernel=linear;, score=0.975 total time=   0.0s\n",
      "[CV 4/5] END pca__n_components=3, svm__C=1, svm__gamma=auto, svm__kernel=linear;, score=0.949 total time=   0.0s\n",
      "[CV 5/5] END pca__n_components=3, svm__C=1, svm__gamma=auto, svm__kernel=linear;, score=0.962 total time=   0.0s\n",
      "[CV 1/5] END pca__n_components=3, svm__C=1, svm__gamma=auto, svm__kernel=rbf;, score=0.875 total time=   0.0s\n",
      "[CV 2/5] END pca__n_components=3, svm__C=1, svm__gamma=auto, svm__kernel=rbf;, score=0.925 total time=   0.0s\n",
      "[CV 3/5] END pca__n_components=3, svm__C=1, svm__gamma=auto, svm__kernel=rbf;, score=0.938 total time=   0.0s\n",
      "[CV 4/5] END pca__n_components=3, svm__C=1, svm__gamma=auto, svm__kernel=rbf;, score=0.924 total time=   0.0s\n",
      "[CV 5/5] END pca__n_components=3, svm__C=1, svm__gamma=auto, svm__kernel=rbf;, score=0.975 total time=   0.0s\n",
      "[CV 1/5] END pca__n_components=3, svm__C=1, svm__gamma=scale, svm__kernel=linear;, score=0.925 total time=   0.0s\n",
      "[CV 2/5] END pca__n_components=3, svm__C=1, svm__gamma=scale, svm__kernel=linear;, score=0.925 total time=   0.0s\n",
      "[CV 3/5] END pca__n_components=3, svm__C=1, svm__gamma=scale, svm__kernel=linear;, score=0.975 total time=   0.0s\n",
      "[CV 4/5] END pca__n_components=3, svm__C=1, svm__gamma=scale, svm__kernel=linear;, score=0.949 total time=   0.0s\n",
      "[CV 5/5] END pca__n_components=3, svm__C=1, svm__gamma=scale, svm__kernel=linear;, score=0.962 total time=   0.0s\n",
      "[CV 1/5] END pca__n_components=3, svm__C=1, svm__gamma=scale, svm__kernel=rbf;, score=0.925 total time=   0.0s\n",
      "[CV 2/5] END pca__n_components=3, svm__C=1, svm__gamma=scale, svm__kernel=rbf;, score=0.938 total time=   0.0s\n",
      "[CV 3/5] END pca__n_components=3, svm__C=1, svm__gamma=scale, svm__kernel=rbf;, score=0.975 total time=   0.0s\n",
      "[CV 4/5] END pca__n_components=3, svm__C=1, svm__gamma=scale, svm__kernel=rbf;, score=0.949 total time=   0.0s\n",
      "[CV 5/5] END pca__n_components=3, svm__C=1, svm__gamma=scale, svm__kernel=rbf;, score=0.962 total time=   0.0s\n",
      "[CV 1/5] END pca__n_components=3, svm__C=10, svm__gamma=auto, svm__kernel=linear;, score=0.925 total time=   0.0s\n",
      "[CV 2/5] END pca__n_components=3, svm__C=10, svm__gamma=auto, svm__kernel=linear;, score=0.938 total time=   0.0s\n",
      "[CV 3/5] END pca__n_components=3, svm__C=10, svm__gamma=auto, svm__kernel=linear;, score=0.975 total time=   0.0s\n",
      "[CV 4/5] END pca__n_components=3, svm__C=10, svm__gamma=auto, svm__kernel=linear;, score=0.949 total time=   0.0s\n",
      "[CV 5/5] END pca__n_components=3, svm__C=10, svm__gamma=auto, svm__kernel=linear;, score=0.962 total time=   0.0s\n",
      "[CV 1/5] END pca__n_components=3, svm__C=10, svm__gamma=auto, svm__kernel=rbf;, score=0.887 total time=   0.0s\n",
      "[CV 2/5] END pca__n_components=3, svm__C=10, svm__gamma=auto, svm__kernel=rbf;, score=0.925 total time=   0.0s\n",
      "[CV 3/5] END pca__n_components=3, svm__C=10, svm__gamma=auto, svm__kernel=rbf;, score=0.925 total time=   0.0s\n",
      "[CV 4/5] END pca__n_components=3, svm__C=10, svm__gamma=auto, svm__kernel=rbf;, score=0.924 total time=   0.0s\n",
      "[CV 5/5] END pca__n_components=3, svm__C=10, svm__gamma=auto, svm__kernel=rbf;, score=0.962 total time=   0.0s\n",
      "[CV 1/5] END pca__n_components=3, svm__C=10, svm__gamma=scale, svm__kernel=linear;, score=0.925 total time=   0.0s\n",
      "[CV 2/5] END pca__n_components=3, svm__C=10, svm__gamma=scale, svm__kernel=linear;, score=0.938 total time=   0.0s\n",
      "[CV 3/5] END pca__n_components=3, svm__C=10, svm__gamma=scale, svm__kernel=linear;, score=0.975 total time=   0.0s\n",
      "[CV 4/5] END pca__n_components=3, svm__C=10, svm__gamma=scale, svm__kernel=linear;, score=0.949 total time=   0.0s\n",
      "[CV 5/5] END pca__n_components=3, svm__C=10, svm__gamma=scale, svm__kernel=linear;, score=0.962 total time=   0.0s\n",
      "[CV 1/5] END pca__n_components=3, svm__C=10, svm__gamma=scale, svm__kernel=rbf;, score=0.900 total time=   0.0s\n",
      "[CV 2/5] END pca__n_components=3, svm__C=10, svm__gamma=scale, svm__kernel=rbf;, score=0.925 total time=   0.0s\n",
      "[CV 3/5] END pca__n_components=3, svm__C=10, svm__gamma=scale, svm__kernel=rbf;, score=0.963 total time=   0.0s\n",
      "[CV 4/5] END pca__n_components=3, svm__C=10, svm__gamma=scale, svm__kernel=rbf;, score=0.924 total time=   0.0s\n",
      "[CV 5/5] END pca__n_components=3, svm__C=10, svm__gamma=scale, svm__kernel=rbf;, score=0.962 total time=   0.0s\n",
      "[CV 1/5] END pca__n_components=3, svm__C=100, svm__gamma=auto, svm__kernel=linear;, score=0.925 total time=   0.0s\n",
      "[CV 2/5] END pca__n_components=3, svm__C=100, svm__gamma=auto, svm__kernel=linear;, score=0.938 total time=   0.0s\n",
      "[CV 3/5] END pca__n_components=3, svm__C=100, svm__gamma=auto, svm__kernel=linear;, score=0.975 total time=   0.0s\n",
      "[CV 4/5] END pca__n_components=3, svm__C=100, svm__gamma=auto, svm__kernel=linear;, score=0.949 total time=   0.0s\n",
      "[CV 5/5] END pca__n_components=3, svm__C=100, svm__gamma=auto, svm__kernel=linear;, score=0.962 total time=   0.0s\n",
      "[CV 1/5] END pca__n_components=3, svm__C=100, svm__gamma=auto, svm__kernel=rbf;, score=0.887 total time=   0.0s\n",
      "[CV 2/5] END pca__n_components=3, svm__C=100, svm__gamma=auto, svm__kernel=rbf;, score=0.925 total time=   0.0s\n",
      "[CV 3/5] END pca__n_components=3, svm__C=100, svm__gamma=auto, svm__kernel=rbf;, score=0.938 total time=   0.0s\n",
      "[CV 4/5] END pca__n_components=3, svm__C=100, svm__gamma=auto, svm__kernel=rbf;, score=0.873 total time=   0.0s\n",
      "[CV 5/5] END pca__n_components=3, svm__C=100, svm__gamma=auto, svm__kernel=rbf;, score=0.962 total time=   0.0s\n",
      "[CV 1/5] END pca__n_components=3, svm__C=100, svm__gamma=scale, svm__kernel=linear;, score=0.925 total time=   0.0s\n",
      "[CV 2/5] END pca__n_components=3, svm__C=100, svm__gamma=scale, svm__kernel=linear;, score=0.938 total time=   0.0s\n",
      "[CV 3/5] END pca__n_components=3, svm__C=100, svm__gamma=scale, svm__kernel=linear;, score=0.975 total time=   0.0s\n",
      "[CV 4/5] END pca__n_components=3, svm__C=100, svm__gamma=scale, svm__kernel=linear;, score=0.949 total time=   0.0s\n",
      "[CV 5/5] END pca__n_components=3, svm__C=100, svm__gamma=scale, svm__kernel=linear;, score=0.962 total time=   0.0s\n",
      "[CV 1/5] END pca__n_components=3, svm__C=100, svm__gamma=scale, svm__kernel=rbf;, score=0.925 total time=   0.0s\n",
      "[CV 2/5] END pca__n_components=3, svm__C=100, svm__gamma=scale, svm__kernel=rbf;, score=0.925 total time=   0.0s\n",
      "[CV 3/5] END pca__n_components=3, svm__C=100, svm__gamma=scale, svm__kernel=rbf;, score=0.963 total time=   0.0s\n",
      "[CV 4/5] END pca__n_components=3, svm__C=100, svm__gamma=scale, svm__kernel=rbf;, score=0.949 total time=   0.0s\n",
      "[CV 5/5] END pca__n_components=3, svm__C=100, svm__gamma=scale, svm__kernel=rbf;, score=0.975 total time=   0.0s\n",
      "[CV 1/5] END pca__n_components=3, svm__C=1000, svm__gamma=auto, svm__kernel=linear;, score=0.925 total time=   0.1s\n",
      "[CV 2/5] END pca__n_components=3, svm__C=1000, svm__gamma=auto, svm__kernel=linear;, score=0.938 total time=   0.0s\n",
      "[CV 3/5] END pca__n_components=3, svm__C=1000, svm__gamma=auto, svm__kernel=linear;, score=0.975 total time=   0.1s\n",
      "[CV 4/5] END pca__n_components=3, svm__C=1000, svm__gamma=auto, svm__kernel=linear;, score=0.949 total time=   0.0s\n",
      "[CV 5/5] END pca__n_components=3, svm__C=1000, svm__gamma=auto, svm__kernel=linear;, score=0.962 total time=   0.1s\n",
      "[CV 1/5] END pca__n_components=3, svm__C=1000, svm__gamma=auto, svm__kernel=rbf;, score=0.887 total time=   0.0s\n",
      "[CV 2/5] END pca__n_components=3, svm__C=1000, svm__gamma=auto, svm__kernel=rbf;, score=0.900 total time=   0.0s\n",
      "[CV 3/5] END pca__n_components=3, svm__C=1000, svm__gamma=auto, svm__kernel=rbf;, score=0.850 total time=   0.0s\n",
      "[CV 4/5] END pca__n_components=3, svm__C=1000, svm__gamma=auto, svm__kernel=rbf;, score=0.873 total time=   0.0s\n",
      "[CV 5/5] END pca__n_components=3, svm__C=1000, svm__gamma=auto, svm__kernel=rbf;, score=0.949 total time=   0.0s\n",
      "[CV 1/5] END pca__n_components=3, svm__C=1000, svm__gamma=scale, svm__kernel=linear;, score=0.925 total time=   0.1s\n",
      "[CV 2/5] END pca__n_components=3, svm__C=1000, svm__gamma=scale, svm__kernel=linear;, score=0.938 total time=   0.1s\n",
      "[CV 3/5] END pca__n_components=3, svm__C=1000, svm__gamma=scale, svm__kernel=linear;, score=0.975 total time=   0.1s\n",
      "[CV 4/5] END pca__n_components=3, svm__C=1000, svm__gamma=scale, svm__kernel=linear;, score=0.949 total time=   0.0s\n",
      "[CV 5/5] END pca__n_components=3, svm__C=1000, svm__gamma=scale, svm__kernel=linear;, score=0.962 total time=   0.1s\n",
      "[CV 1/5] END pca__n_components=3, svm__C=1000, svm__gamma=scale, svm__kernel=rbf;, score=0.900 total time=   0.0s\n",
      "[CV 2/5] END pca__n_components=3, svm__C=1000, svm__gamma=scale, svm__kernel=rbf;, score=0.925 total time=   0.0s\n",
      "[CV 3/5] END pca__n_components=3, svm__C=1000, svm__gamma=scale, svm__kernel=rbf;, score=0.938 total time=   0.0s\n",
      "[CV 4/5] END pca__n_components=3, svm__C=1000, svm__gamma=scale, svm__kernel=rbf;, score=0.924 total time=   0.0s\n",
      "[CV 5/5] END pca__n_components=3, svm__C=1000, svm__gamma=scale, svm__kernel=rbf;, score=0.949 total time=   0.0s\n",
      "[CV 1/5] END pca__n_components=4, svm__C=0.1, svm__gamma=auto, svm__kernel=linear;, score=0.938 total time=   0.0s\n",
      "[CV 2/5] END pca__n_components=4, svm__C=0.1, svm__gamma=auto, svm__kernel=linear;, score=0.950 total time=   0.0s\n",
      "[CV 3/5] END pca__n_components=4, svm__C=0.1, svm__gamma=auto, svm__kernel=linear;, score=0.988 total time=   0.0s\n",
      "[CV 4/5] END pca__n_components=4, svm__C=0.1, svm__gamma=auto, svm__kernel=linear;, score=0.975 total time=   0.0s\n",
      "[CV 5/5] END pca__n_components=4, svm__C=0.1, svm__gamma=auto, svm__kernel=linear;, score=0.987 total time=   0.0s\n",
      "[CV 1/5] END pca__n_components=4, svm__C=0.1, svm__gamma=auto, svm__kernel=rbf;, score=0.925 total time=   0.0s\n",
      "[CV 2/5] END pca__n_components=4, svm__C=0.1, svm__gamma=auto, svm__kernel=rbf;, score=0.900 total time=   0.0s\n",
      "[CV 3/5] END pca__n_components=4, svm__C=0.1, svm__gamma=auto, svm__kernel=rbf;, score=0.887 total time=   0.0s\n",
      "[CV 4/5] END pca__n_components=4, svm__C=0.1, svm__gamma=auto, svm__kernel=rbf;, score=0.962 total time=   0.0s\n",
      "[CV 5/5] END pca__n_components=4, svm__C=0.1, svm__gamma=auto, svm__kernel=rbf;, score=0.886 total time=   0.0s\n",
      "[CV 1/5] END pca__n_components=4, svm__C=0.1, svm__gamma=scale, svm__kernel=linear;, score=0.938 total time=   0.0s\n",
      "[CV 2/5] END pca__n_components=4, svm__C=0.1, svm__gamma=scale, svm__kernel=linear;, score=0.950 total time=   0.0s\n",
      "[CV 3/5] END pca__n_components=4, svm__C=0.1, svm__gamma=scale, svm__kernel=linear;, score=0.988 total time=   0.0s\n",
      "[CV 4/5] END pca__n_components=4, svm__C=0.1, svm__gamma=scale, svm__kernel=linear;, score=0.975 total time=   0.0s\n",
      "[CV 5/5] END pca__n_components=4, svm__C=0.1, svm__gamma=scale, svm__kernel=linear;, score=0.987 total time=   0.0s\n",
      "[CV 1/5] END pca__n_components=4, svm__C=0.1, svm__gamma=scale, svm__kernel=rbf;, score=0.900 total time=   0.0s\n",
      "[CV 2/5] END pca__n_components=4, svm__C=0.1, svm__gamma=scale, svm__kernel=rbf;, score=0.925 total time=   0.0s\n",
      "[CV 3/5] END pca__n_components=4, svm__C=0.1, svm__gamma=scale, svm__kernel=rbf;, score=0.963 total time=   0.0s\n",
      "[CV 4/5] END pca__n_components=4, svm__C=0.1, svm__gamma=scale, svm__kernel=rbf;, score=0.949 total time=   0.0s\n",
      "[CV 5/5] END pca__n_components=4, svm__C=0.1, svm__gamma=scale, svm__kernel=rbf;, score=0.962 total time=   0.0s\n",
      "[CV 1/5] END pca__n_components=4, svm__C=1, svm__gamma=auto, svm__kernel=linear;, score=0.938 total time=   0.0s\n",
      "[CV 2/5] END pca__n_components=4, svm__C=1, svm__gamma=auto, svm__kernel=linear;, score=0.950 total time=   0.0s\n",
      "[CV 3/5] END pca__n_components=4, svm__C=1, svm__gamma=auto, svm__kernel=linear;, score=0.988 total time=   0.0s\n",
      "[CV 4/5] END pca__n_components=4, svm__C=1, svm__gamma=auto, svm__kernel=linear;, score=0.975 total time=   0.0s\n",
      "[CV 5/5] END pca__n_components=4, svm__C=1, svm__gamma=auto, svm__kernel=linear;, score=0.987 total time=   0.0s\n",
      "[CV 1/5] END pca__n_components=4, svm__C=1, svm__gamma=auto, svm__kernel=rbf;, score=0.925 total time=   0.0s\n",
      "[CV 2/5] END pca__n_components=4, svm__C=1, svm__gamma=auto, svm__kernel=rbf;, score=0.938 total time=   0.0s\n",
      "[CV 3/5] END pca__n_components=4, svm__C=1, svm__gamma=auto, svm__kernel=rbf;, score=0.963 total time=   0.0s\n",
      "[CV 4/5] END pca__n_components=4, svm__C=1, svm__gamma=auto, svm__kernel=rbf;, score=0.937 total time=   0.0s\n",
      "[CV 5/5] END pca__n_components=4, svm__C=1, svm__gamma=auto, svm__kernel=rbf;, score=0.975 total time=   0.0s\n",
      "[CV 1/5] END pca__n_components=4, svm__C=1, svm__gamma=scale, svm__kernel=linear;, score=0.938 total time=   0.0s\n",
      "[CV 2/5] END pca__n_components=4, svm__C=1, svm__gamma=scale, svm__kernel=linear;, score=0.950 total time=   0.0s\n",
      "[CV 3/5] END pca__n_components=4, svm__C=1, svm__gamma=scale, svm__kernel=linear;, score=0.988 total time=   0.0s\n",
      "[CV 4/5] END pca__n_components=4, svm__C=1, svm__gamma=scale, svm__kernel=linear;, score=0.975 total time=   0.0s\n",
      "[CV 5/5] END pca__n_components=4, svm__C=1, svm__gamma=scale, svm__kernel=linear;, score=0.987 total time=   0.0s\n",
      "[CV 1/5] END pca__n_components=4, svm__C=1, svm__gamma=scale, svm__kernel=rbf;, score=0.925 total time=   0.0s\n",
      "[CV 2/5] END pca__n_components=4, svm__C=1, svm__gamma=scale, svm__kernel=rbf;, score=0.925 total time=   0.0s\n",
      "[CV 3/5] END pca__n_components=4, svm__C=1, svm__gamma=scale, svm__kernel=rbf;, score=0.975 total time=   0.0s\n",
      "[CV 4/5] END pca__n_components=4, svm__C=1, svm__gamma=scale, svm__kernel=rbf;, score=0.962 total time=   0.0s\n",
      "[CV 5/5] END pca__n_components=4, svm__C=1, svm__gamma=scale, svm__kernel=rbf;, score=0.987 total time=   0.0s\n",
      "[CV 1/5] END pca__n_components=4, svm__C=10, svm__gamma=auto, svm__kernel=linear;, score=0.925 total time=   0.0s\n",
      "[CV 2/5] END pca__n_components=4, svm__C=10, svm__gamma=auto, svm__kernel=linear;, score=0.950 total time=   0.0s\n",
      "[CV 3/5] END pca__n_components=4, svm__C=10, svm__gamma=auto, svm__kernel=linear;, score=0.988 total time=   0.0s\n",
      "[CV 4/5] END pca__n_components=4, svm__C=10, svm__gamma=auto, svm__kernel=linear;, score=0.975 total time=   0.0s\n",
      "[CV 5/5] END pca__n_components=4, svm__C=10, svm__gamma=auto, svm__kernel=linear;, score=0.987 total time=   0.0s\n",
      "[CV 1/5] END pca__n_components=4, svm__C=10, svm__gamma=auto, svm__kernel=rbf;, score=0.950 total time=   0.0s\n",
      "[CV 2/5] END pca__n_components=4, svm__C=10, svm__gamma=auto, svm__kernel=rbf;, score=0.912 total time=   0.0s\n",
      "[CV 3/5] END pca__n_components=4, svm__C=10, svm__gamma=auto, svm__kernel=rbf;, score=0.975 total time=   0.0s\n",
      "[CV 4/5] END pca__n_components=4, svm__C=10, svm__gamma=auto, svm__kernel=rbf;, score=0.924 total time=   0.0s\n",
      "[CV 5/5] END pca__n_components=4, svm__C=10, svm__gamma=auto, svm__kernel=rbf;, score=0.975 total time=   0.0s\n",
      "[CV 1/5] END pca__n_components=4, svm__C=10, svm__gamma=scale, svm__kernel=linear;, score=0.925 total time=   0.0s\n",
      "[CV 2/5] END pca__n_components=4, svm__C=10, svm__gamma=scale, svm__kernel=linear;, score=0.950 total time=   0.0s\n",
      "[CV 3/5] END pca__n_components=4, svm__C=10, svm__gamma=scale, svm__kernel=linear;, score=0.988 total time=   0.0s\n",
      "[CV 4/5] END pca__n_components=4, svm__C=10, svm__gamma=scale, svm__kernel=linear;, score=0.975 total time=   0.0s\n",
      "[CV 5/5] END pca__n_components=4, svm__C=10, svm__gamma=scale, svm__kernel=linear;, score=0.987 total time=   0.0s\n",
      "[CV 1/5] END pca__n_components=4, svm__C=10, svm__gamma=scale, svm__kernel=rbf;, score=0.925 total time=   0.0s\n",
      "[CV 2/5] END pca__n_components=4, svm__C=10, svm__gamma=scale, svm__kernel=rbf;, score=0.938 total time=   0.0s\n",
      "[CV 3/5] END pca__n_components=4, svm__C=10, svm__gamma=scale, svm__kernel=rbf;, score=0.975 total time=   0.0s\n",
      "[CV 4/5] END pca__n_components=4, svm__C=10, svm__gamma=scale, svm__kernel=rbf;, score=0.949 total time=   0.0s\n",
      "[CV 5/5] END pca__n_components=4, svm__C=10, svm__gamma=scale, svm__kernel=rbf;, score=0.987 total time=   0.0s\n",
      "[CV 1/5] END pca__n_components=4, svm__C=100, svm__gamma=auto, svm__kernel=linear;, score=0.925 total time=   0.0s\n",
      "[CV 2/5] END pca__n_components=4, svm__C=100, svm__gamma=auto, svm__kernel=linear;, score=0.950 total time=   0.0s\n",
      "[CV 3/5] END pca__n_components=4, svm__C=100, svm__gamma=auto, svm__kernel=linear;, score=0.988 total time=   0.0s\n",
      "[CV 4/5] END pca__n_components=4, svm__C=100, svm__gamma=auto, svm__kernel=linear;, score=0.975 total time=   0.0s\n",
      "[CV 5/5] END pca__n_components=4, svm__C=100, svm__gamma=auto, svm__kernel=linear;, score=0.987 total time=   0.0s\n",
      "[CV 1/5] END pca__n_components=4, svm__C=100, svm__gamma=auto, svm__kernel=rbf;, score=0.925 total time=   0.0s\n",
      "[CV 2/5] END pca__n_components=4, svm__C=100, svm__gamma=auto, svm__kernel=rbf;, score=0.912 total time=   0.0s\n",
      "[CV 3/5] END pca__n_components=4, svm__C=100, svm__gamma=auto, svm__kernel=rbf;, score=0.963 total time=   0.0s\n",
      "[CV 4/5] END pca__n_components=4, svm__C=100, svm__gamma=auto, svm__kernel=rbf;, score=0.924 total time=   0.0s\n",
      "[CV 5/5] END pca__n_components=4, svm__C=100, svm__gamma=auto, svm__kernel=rbf;, score=0.975 total time=   0.0s\n",
      "[CV 1/5] END pca__n_components=4, svm__C=100, svm__gamma=scale, svm__kernel=linear;, score=0.925 total time=   0.0s\n",
      "[CV 2/5] END pca__n_components=4, svm__C=100, svm__gamma=scale, svm__kernel=linear;, score=0.950 total time=   0.0s\n",
      "[CV 3/5] END pca__n_components=4, svm__C=100, svm__gamma=scale, svm__kernel=linear;, score=0.988 total time=   0.0s\n",
      "[CV 4/5] END pca__n_components=4, svm__C=100, svm__gamma=scale, svm__kernel=linear;, score=0.975 total time=   0.0s\n",
      "[CV 5/5] END pca__n_components=4, svm__C=100, svm__gamma=scale, svm__kernel=linear;, score=0.987 total time=   0.0s\n",
      "[CV 1/5] END pca__n_components=4, svm__C=100, svm__gamma=scale, svm__kernel=rbf;, score=0.963 total time=   0.0s\n",
      "[CV 2/5] END pca__n_components=4, svm__C=100, svm__gamma=scale, svm__kernel=rbf;, score=0.912 total time=   0.0s\n",
      "[CV 3/5] END pca__n_components=4, svm__C=100, svm__gamma=scale, svm__kernel=rbf;, score=0.975 total time=   0.0s\n",
      "[CV 4/5] END pca__n_components=4, svm__C=100, svm__gamma=scale, svm__kernel=rbf;, score=0.962 total time=   0.0s\n",
      "[CV 5/5] END pca__n_components=4, svm__C=100, svm__gamma=scale, svm__kernel=rbf;, score=0.975 total time=   0.0s\n",
      "[CV 1/5] END pca__n_components=4, svm__C=1000, svm__gamma=auto, svm__kernel=linear;, score=0.925 total time=   0.0s\n",
      "[CV 2/5] END pca__n_components=4, svm__C=1000, svm__gamma=auto, svm__kernel=linear;, score=0.950 total time=   0.1s\n",
      "[CV 3/5] END pca__n_components=4, svm__C=1000, svm__gamma=auto, svm__kernel=linear;, score=0.988 total time=   0.1s\n",
      "[CV 4/5] END pca__n_components=4, svm__C=1000, svm__gamma=auto, svm__kernel=linear;, score=0.975 total time=   0.1s\n",
      "[CV 5/5] END pca__n_components=4, svm__C=1000, svm__gamma=auto, svm__kernel=linear;, score=0.987 total time=   0.1s\n",
      "[CV 1/5] END pca__n_components=4, svm__C=1000, svm__gamma=auto, svm__kernel=rbf;, score=0.925 total time=   0.0s\n",
      "[CV 2/5] END pca__n_components=4, svm__C=1000, svm__gamma=auto, svm__kernel=rbf;, score=0.912 total time=   0.0s\n",
      "[CV 3/5] END pca__n_components=4, svm__C=1000, svm__gamma=auto, svm__kernel=rbf;, score=0.963 total time=   0.0s\n",
      "[CV 4/5] END pca__n_components=4, svm__C=1000, svm__gamma=auto, svm__kernel=rbf;, score=0.924 total time=   0.0s\n",
      "[CV 5/5] END pca__n_components=4, svm__C=1000, svm__gamma=auto, svm__kernel=rbf;, score=0.975 total time=   0.0s\n",
      "[CV 1/5] END pca__n_components=4, svm__C=1000, svm__gamma=scale, svm__kernel=linear;, score=0.925 total time=   0.0s\n",
      "[CV 2/5] END pca__n_components=4, svm__C=1000, svm__gamma=scale, svm__kernel=linear;, score=0.950 total time=   0.1s\n",
      "[CV 3/5] END pca__n_components=4, svm__C=1000, svm__gamma=scale, svm__kernel=linear;, score=0.988 total time=   0.1s\n",
      "[CV 4/5] END pca__n_components=4, svm__C=1000, svm__gamma=scale, svm__kernel=linear;, score=0.975 total time=   0.1s\n",
      "[CV 5/5] END pca__n_components=4, svm__C=1000, svm__gamma=scale, svm__kernel=linear;, score=0.987 total time=   0.1s\n",
      "[CV 1/5] END pca__n_components=4, svm__C=1000, svm__gamma=scale, svm__kernel=rbf;, score=0.938 total time=   0.0s\n",
      "[CV 2/5] END pca__n_components=4, svm__C=1000, svm__gamma=scale, svm__kernel=rbf;, score=0.900 total time=   0.0s\n",
      "[CV 3/5] END pca__n_components=4, svm__C=1000, svm__gamma=scale, svm__kernel=rbf;, score=0.963 total time=   0.0s\n",
      "[CV 4/5] END pca__n_components=4, svm__C=1000, svm__gamma=scale, svm__kernel=rbf;, score=0.911 total time=   0.0s\n",
      "[CV 5/5] END pca__n_components=4, svm__C=1000, svm__gamma=scale, svm__kernel=rbf;, score=0.962 total time=   0.0s\n",
      "[CV 1/5] END pca__n_components=5, svm__C=0.1, svm__gamma=auto, svm__kernel=linear;, score=0.963 total time=   0.0s\n",
      "[CV 2/5] END pca__n_components=5, svm__C=0.1, svm__gamma=auto, svm__kernel=linear;, score=0.963 total time=   0.0s\n",
      "[CV 3/5] END pca__n_components=5, svm__C=0.1, svm__gamma=auto, svm__kernel=linear;, score=1.000 total time=   0.0s\n",
      "[CV 4/5] END pca__n_components=5, svm__C=0.1, svm__gamma=auto, svm__kernel=linear;, score=0.987 total time=   0.0s\n",
      "[CV 5/5] END pca__n_components=5, svm__C=0.1, svm__gamma=auto, svm__kernel=linear;, score=0.987 total time=   0.0s\n",
      "[CV 1/5] END pca__n_components=5, svm__C=0.1, svm__gamma=auto, svm__kernel=rbf;, score=0.912 total time=   0.0s\n",
      "[CV 2/5] END pca__n_components=5, svm__C=0.1, svm__gamma=auto, svm__kernel=rbf;, score=0.875 total time=   0.0s\n",
      "[CV 3/5] END pca__n_components=5, svm__C=0.1, svm__gamma=auto, svm__kernel=rbf;, score=0.825 total time=   0.0s\n",
      "[CV 4/5] END pca__n_components=5, svm__C=0.1, svm__gamma=auto, svm__kernel=rbf;, score=0.949 total time=   0.0s\n",
      "[CV 5/5] END pca__n_components=5, svm__C=0.1, svm__gamma=auto, svm__kernel=rbf;, score=0.835 total time=   0.0s\n",
      "[CV 1/5] END pca__n_components=5, svm__C=0.1, svm__gamma=scale, svm__kernel=linear;, score=0.963 total time=   0.0s\n",
      "[CV 2/5] END pca__n_components=5, svm__C=0.1, svm__gamma=scale, svm__kernel=linear;, score=0.963 total time=   0.0s\n",
      "[CV 3/5] END pca__n_components=5, svm__C=0.1, svm__gamma=scale, svm__kernel=linear;, score=1.000 total time=   0.0s\n",
      "[CV 4/5] END pca__n_components=5, svm__C=0.1, svm__gamma=scale, svm__kernel=linear;, score=0.987 total time=   0.0s\n",
      "[CV 5/5] END pca__n_components=5, svm__C=0.1, svm__gamma=scale, svm__kernel=linear;, score=0.987 total time=   0.0s\n",
      "[CV 1/5] END pca__n_components=5, svm__C=0.1, svm__gamma=scale, svm__kernel=rbf;, score=0.900 total time=   0.0s\n",
      "[CV 2/5] END pca__n_components=5, svm__C=0.1, svm__gamma=scale, svm__kernel=rbf;, score=0.950 total time=   0.0s\n",
      "[CV 3/5] END pca__n_components=5, svm__C=0.1, svm__gamma=scale, svm__kernel=rbf;, score=0.963 total time=   0.0s\n",
      "[CV 4/5] END pca__n_components=5, svm__C=0.1, svm__gamma=scale, svm__kernel=rbf;, score=0.962 total time=   0.0s\n",
      "[CV 5/5] END pca__n_components=5, svm__C=0.1, svm__gamma=scale, svm__kernel=rbf;, score=0.962 total time=   0.0s\n",
      "[CV 1/5] END pca__n_components=5, svm__C=1, svm__gamma=auto, svm__kernel=linear;, score=0.950 total time=   0.0s\n",
      "[CV 2/5] END pca__n_components=5, svm__C=1, svm__gamma=auto, svm__kernel=linear;, score=0.963 total time=   0.0s\n",
      "[CV 3/5] END pca__n_components=5, svm__C=1, svm__gamma=auto, svm__kernel=linear;, score=1.000 total time=   0.0s\n",
      "[CV 4/5] END pca__n_components=5, svm__C=1, svm__gamma=auto, svm__kernel=linear;, score=0.987 total time=   0.0s\n",
      "[CV 5/5] END pca__n_components=5, svm__C=1, svm__gamma=auto, svm__kernel=linear;, score=0.987 total time=   0.0s\n",
      "[CV 1/5] END pca__n_components=5, svm__C=1, svm__gamma=auto, svm__kernel=rbf;, score=0.938 total time=   0.0s\n",
      "[CV 2/5] END pca__n_components=5, svm__C=1, svm__gamma=auto, svm__kernel=rbf;, score=0.938 total time=   0.0s\n",
      "[CV 3/5] END pca__n_components=5, svm__C=1, svm__gamma=auto, svm__kernel=rbf;, score=0.963 total time=   0.0s\n",
      "[CV 4/5] END pca__n_components=5, svm__C=1, svm__gamma=auto, svm__kernel=rbf;, score=0.962 total time=   0.0s\n",
      "[CV 5/5] END pca__n_components=5, svm__C=1, svm__gamma=auto, svm__kernel=rbf;, score=0.975 total time=   0.0s\n",
      "[CV 1/5] END pca__n_components=5, svm__C=1, svm__gamma=scale, svm__kernel=linear;, score=0.950 total time=   0.0s\n",
      "[CV 2/5] END pca__n_components=5, svm__C=1, svm__gamma=scale, svm__kernel=linear;, score=0.963 total time=   0.0s\n",
      "[CV 3/5] END pca__n_components=5, svm__C=1, svm__gamma=scale, svm__kernel=linear;, score=1.000 total time=   0.0s\n",
      "[CV 4/5] END pca__n_components=5, svm__C=1, svm__gamma=scale, svm__kernel=linear;, score=0.987 total time=   0.0s\n",
      "[CV 5/5] END pca__n_components=5, svm__C=1, svm__gamma=scale, svm__kernel=linear;, score=0.987 total time=   0.0s\n",
      "[CV 1/5] END pca__n_components=5, svm__C=1, svm__gamma=scale, svm__kernel=rbf;, score=0.938 total time=   0.0s\n",
      "[CV 2/5] END pca__n_components=5, svm__C=1, svm__gamma=scale, svm__kernel=rbf;, score=0.950 total time=   0.0s\n",
      "[CV 3/5] END pca__n_components=5, svm__C=1, svm__gamma=scale, svm__kernel=rbf;, score=0.975 total time=   0.0s\n",
      "[CV 4/5] END pca__n_components=5, svm__C=1, svm__gamma=scale, svm__kernel=rbf;, score=0.975 total time=   0.0s\n",
      "[CV 5/5] END pca__n_components=5, svm__C=1, svm__gamma=scale, svm__kernel=rbf;, score=0.987 total time=   0.0s\n",
      "[CV 1/5] END pca__n_components=5, svm__C=10, svm__gamma=auto, svm__kernel=linear;, score=0.963 total time=   0.0s\n",
      "[CV 2/5] END pca__n_components=5, svm__C=10, svm__gamma=auto, svm__kernel=linear;, score=0.963 total time=   0.0s\n",
      "[CV 3/5] END pca__n_components=5, svm__C=10, svm__gamma=auto, svm__kernel=linear;, score=1.000 total time=   0.0s\n",
      "[CV 4/5] END pca__n_components=5, svm__C=10, svm__gamma=auto, svm__kernel=linear;, score=0.975 total time=   0.0s\n",
      "[CV 5/5] END pca__n_components=5, svm__C=10, svm__gamma=auto, svm__kernel=linear;, score=0.987 total time=   0.0s\n",
      "[CV 1/5] END pca__n_components=5, svm__C=10, svm__gamma=auto, svm__kernel=rbf;, score=0.938 total time=   0.0s\n",
      "[CV 2/5] END pca__n_components=5, svm__C=10, svm__gamma=auto, svm__kernel=rbf;, score=0.950 total time=   0.0s\n",
      "[CV 3/5] END pca__n_components=5, svm__C=10, svm__gamma=auto, svm__kernel=rbf;, score=0.975 total time=   0.0s\n",
      "[CV 4/5] END pca__n_components=5, svm__C=10, svm__gamma=auto, svm__kernel=rbf;, score=0.962 total time=   0.0s\n",
      "[CV 5/5] END pca__n_components=5, svm__C=10, svm__gamma=auto, svm__kernel=rbf;, score=0.975 total time=   0.0s\n",
      "[CV 1/5] END pca__n_components=5, svm__C=10, svm__gamma=scale, svm__kernel=linear;, score=0.963 total time=   0.0s\n",
      "[CV 2/5] END pca__n_components=5, svm__C=10, svm__gamma=scale, svm__kernel=linear;, score=0.963 total time=   0.0s\n",
      "[CV 3/5] END pca__n_components=5, svm__C=10, svm__gamma=scale, svm__kernel=linear;, score=1.000 total time=   0.0s\n",
      "[CV 4/5] END pca__n_components=5, svm__C=10, svm__gamma=scale, svm__kernel=linear;, score=0.975 total time=   0.0s\n",
      "[CV 5/5] END pca__n_components=5, svm__C=10, svm__gamma=scale, svm__kernel=linear;, score=0.987 total time=   0.0s\n",
      "[CV 1/5] END pca__n_components=5, svm__C=10, svm__gamma=scale, svm__kernel=rbf;, score=0.938 total time=   0.0s\n",
      "[CV 2/5] END pca__n_components=5, svm__C=10, svm__gamma=scale, svm__kernel=rbf;, score=0.950 total time=   0.0s\n",
      "[CV 3/5] END pca__n_components=5, svm__C=10, svm__gamma=scale, svm__kernel=rbf;, score=0.988 total time=   0.0s\n",
      "[CV 4/5] END pca__n_components=5, svm__C=10, svm__gamma=scale, svm__kernel=rbf;, score=0.962 total time=   0.0s\n",
      "[CV 5/5] END pca__n_components=5, svm__C=10, svm__gamma=scale, svm__kernel=rbf;, score=0.987 total time=   0.0s\n",
      "[CV 1/5] END pca__n_components=5, svm__C=100, svm__gamma=auto, svm__kernel=linear;, score=0.975 total time=   0.0s\n",
      "[CV 2/5] END pca__n_components=5, svm__C=100, svm__gamma=auto, svm__kernel=linear;, score=0.963 total time=   0.0s\n",
      "[CV 3/5] END pca__n_components=5, svm__C=100, svm__gamma=auto, svm__kernel=linear;, score=1.000 total time=   0.1s\n",
      "[CV 4/5] END pca__n_components=5, svm__C=100, svm__gamma=auto, svm__kernel=linear;, score=0.975 total time=   0.0s\n",
      "[CV 5/5] END pca__n_components=5, svm__C=100, svm__gamma=auto, svm__kernel=linear;, score=0.987 total time=   0.0s\n",
      "[CV 1/5] END pca__n_components=5, svm__C=100, svm__gamma=auto, svm__kernel=rbf;, score=0.912 total time=   0.0s\n",
      "[CV 2/5] END pca__n_components=5, svm__C=100, svm__gamma=auto, svm__kernel=rbf;, score=0.938 total time=   0.0s\n",
      "[CV 3/5] END pca__n_components=5, svm__C=100, svm__gamma=auto, svm__kernel=rbf;, score=0.950 total time=   0.0s\n",
      "[CV 4/5] END pca__n_components=5, svm__C=100, svm__gamma=auto, svm__kernel=rbf;, score=0.949 total time=   0.0s\n",
      "[CV 5/5] END pca__n_components=5, svm__C=100, svm__gamma=auto, svm__kernel=rbf;, score=0.962 total time=   0.0s\n",
      "[CV 1/5] END pca__n_components=5, svm__C=100, svm__gamma=scale, svm__kernel=linear;, score=0.975 total time=   0.0s\n",
      "[CV 2/5] END pca__n_components=5, svm__C=100, svm__gamma=scale, svm__kernel=linear;, score=0.963 total time=   0.0s\n",
      "[CV 3/5] END pca__n_components=5, svm__C=100, svm__gamma=scale, svm__kernel=linear;, score=1.000 total time=   0.1s\n",
      "[CV 4/5] END pca__n_components=5, svm__C=100, svm__gamma=scale, svm__kernel=linear;, score=0.975 total time=   0.0s\n",
      "[CV 5/5] END pca__n_components=5, svm__C=100, svm__gamma=scale, svm__kernel=linear;, score=0.987 total time=   0.0s\n",
      "[CV 1/5] END pca__n_components=5, svm__C=100, svm__gamma=scale, svm__kernel=rbf;, score=0.925 total time=   0.0s\n",
      "[CV 2/5] END pca__n_components=5, svm__C=100, svm__gamma=scale, svm__kernel=rbf;, score=0.963 total time=   0.0s\n",
      "[CV 3/5] END pca__n_components=5, svm__C=100, svm__gamma=scale, svm__kernel=rbf;, score=0.963 total time=   0.0s\n",
      "[CV 4/5] END pca__n_components=5, svm__C=100, svm__gamma=scale, svm__kernel=rbf;, score=0.975 total time=   0.0s\n",
      "[CV 5/5] END pca__n_components=5, svm__C=100, svm__gamma=scale, svm__kernel=rbf;, score=0.975 total time=   0.0s\n",
      "[CV 1/5] END pca__n_components=5, svm__C=1000, svm__gamma=auto, svm__kernel=linear;, score=0.975 total time=   0.0s\n",
      "[CV 2/5] END pca__n_components=5, svm__C=1000, svm__gamma=auto, svm__kernel=linear;, score=0.963 total time=   0.1s\n",
      "[CV 3/5] END pca__n_components=5, svm__C=1000, svm__gamma=auto, svm__kernel=linear;, score=1.000 total time=   0.4s\n",
      "[CV 4/5] END pca__n_components=5, svm__C=1000, svm__gamma=auto, svm__kernel=linear;, score=0.975 total time=   0.1s\n",
      "[CV 5/5] END pca__n_components=5, svm__C=1000, svm__gamma=auto, svm__kernel=linear;, score=0.987 total time=   0.0s\n",
      "[CV 1/5] END pca__n_components=5, svm__C=1000, svm__gamma=auto, svm__kernel=rbf;, score=0.912 total time=   0.0s\n",
      "[CV 2/5] END pca__n_components=5, svm__C=1000, svm__gamma=auto, svm__kernel=rbf;, score=0.938 total time=   0.0s\n",
      "[CV 3/5] END pca__n_components=5, svm__C=1000, svm__gamma=auto, svm__kernel=rbf;, score=0.950 total time=   0.0s\n",
      "[CV 4/5] END pca__n_components=5, svm__C=1000, svm__gamma=auto, svm__kernel=rbf;, score=0.949 total time=   0.0s\n",
      "[CV 5/5] END pca__n_components=5, svm__C=1000, svm__gamma=auto, svm__kernel=rbf;, score=0.962 total time=   0.0s\n",
      "[CV 1/5] END pca__n_components=5, svm__C=1000, svm__gamma=scale, svm__kernel=linear;, score=0.975 total time=   0.0s\n",
      "[CV 2/5] END pca__n_components=5, svm__C=1000, svm__gamma=scale, svm__kernel=linear;, score=0.963 total time=   0.1s\n",
      "[CV 3/5] END pca__n_components=5, svm__C=1000, svm__gamma=scale, svm__kernel=linear;, score=1.000 total time=   0.4s\n",
      "[CV 4/5] END pca__n_components=5, svm__C=1000, svm__gamma=scale, svm__kernel=linear;, score=0.975 total time=   0.1s\n",
      "[CV 5/5] END pca__n_components=5, svm__C=1000, svm__gamma=scale, svm__kernel=linear;, score=0.987 total time=   0.0s\n",
      "[CV 1/5] END pca__n_components=5, svm__C=1000, svm__gamma=scale, svm__kernel=rbf;, score=0.912 total time=   0.0s\n",
      "[CV 2/5] END pca__n_components=5, svm__C=1000, svm__gamma=scale, svm__kernel=rbf;, score=0.912 total time=   0.0s\n",
      "[CV 3/5] END pca__n_components=5, svm__C=1000, svm__gamma=scale, svm__kernel=rbf;, score=0.925 total time=   0.0s\n",
      "[CV 4/5] END pca__n_components=5, svm__C=1000, svm__gamma=scale, svm__kernel=rbf;, score=0.949 total time=   0.0s\n",
      "[CV 5/5] END pca__n_components=5, svm__C=1000, svm__gamma=scale, svm__kernel=rbf;, score=0.962 total time=   0.0s\n"
     ]
    },
    {
     "data": {
      "text/html": [
       "<style>#sk-container-id-1 {color: black;background-color: white;}#sk-container-id-1 pre{padding: 0;}#sk-container-id-1 div.sk-toggleable {background-color: white;}#sk-container-id-1 label.sk-toggleable__label {cursor: pointer;display: block;width: 100%;margin-bottom: 0;padding: 0.3em;box-sizing: border-box;text-align: center;}#sk-container-id-1 label.sk-toggleable__label-arrow:before {content: \"▸\";float: left;margin-right: 0.25em;color: #696969;}#sk-container-id-1 label.sk-toggleable__label-arrow:hover:before {color: black;}#sk-container-id-1 div.sk-estimator:hover label.sk-toggleable__label-arrow:before {color: black;}#sk-container-id-1 div.sk-toggleable__content {max-height: 0;max-width: 0;overflow: hidden;text-align: left;background-color: #f0f8ff;}#sk-container-id-1 div.sk-toggleable__content pre {margin: 0.2em;color: black;border-radius: 0.25em;background-color: #f0f8ff;}#sk-container-id-1 input.sk-toggleable__control:checked~div.sk-toggleable__content {max-height: 200px;max-width: 100%;overflow: auto;}#sk-container-id-1 input.sk-toggleable__control:checked~label.sk-toggleable__label-arrow:before {content: \"▾\";}#sk-container-id-1 div.sk-estimator input.sk-toggleable__control:checked~label.sk-toggleable__label {background-color: #d4ebff;}#sk-container-id-1 div.sk-label input.sk-toggleable__control:checked~label.sk-toggleable__label {background-color: #d4ebff;}#sk-container-id-1 input.sk-hidden--visually {border: 0;clip: rect(1px 1px 1px 1px);clip: rect(1px, 1px, 1px, 1px);height: 1px;margin: -1px;overflow: hidden;padding: 0;position: absolute;width: 1px;}#sk-container-id-1 div.sk-estimator {font-family: monospace;background-color: #f0f8ff;border: 1px dotted black;border-radius: 0.25em;box-sizing: border-box;margin-bottom: 0.5em;}#sk-container-id-1 div.sk-estimator:hover {background-color: #d4ebff;}#sk-container-id-1 div.sk-parallel-item::after {content: \"\";width: 100%;border-bottom: 1px solid gray;flex-grow: 1;}#sk-container-id-1 div.sk-label:hover label.sk-toggleable__label {background-color: #d4ebff;}#sk-container-id-1 div.sk-serial::before {content: \"\";position: absolute;border-left: 1px solid gray;box-sizing: border-box;top: 0;bottom: 0;left: 50%;z-index: 0;}#sk-container-id-1 div.sk-serial {display: flex;flex-direction: column;align-items: center;background-color: white;padding-right: 0.2em;padding-left: 0.2em;position: relative;}#sk-container-id-1 div.sk-item {position: relative;z-index: 1;}#sk-container-id-1 div.sk-parallel {display: flex;align-items: stretch;justify-content: center;background-color: white;position: relative;}#sk-container-id-1 div.sk-item::before, #sk-container-id-1 div.sk-parallel-item::before {content: \"\";position: absolute;border-left: 1px solid gray;box-sizing: border-box;top: 0;bottom: 0;left: 50%;z-index: -1;}#sk-container-id-1 div.sk-parallel-item {display: flex;flex-direction: column;z-index: 1;position: relative;background-color: white;}#sk-container-id-1 div.sk-parallel-item:first-child::after {align-self: flex-end;width: 50%;}#sk-container-id-1 div.sk-parallel-item:last-child::after {align-self: flex-start;width: 50%;}#sk-container-id-1 div.sk-parallel-item:only-child::after {width: 0;}#sk-container-id-1 div.sk-dashed-wrapped {border: 1px dashed gray;margin: 0 0.4em 0.5em 0.4em;box-sizing: border-box;padding-bottom: 0.4em;background-color: white;}#sk-container-id-1 div.sk-label label {font-family: monospace;font-weight: bold;display: inline-block;line-height: 1.2em;}#sk-container-id-1 div.sk-label-container {text-align: center;}#sk-container-id-1 div.sk-container {/* jupyter's `normalize.less` sets `[hidden] { display: none; }` but bootstrap.min.css set `[hidden] { display: none !important; }` so we also need the `!important` here to be able to override the default hidden behavior on the sphinx rendered scikit-learn.org. See: https://github.com/scikit-learn/scikit-learn/issues/21755 */display: inline-block !important;position: relative;}#sk-container-id-1 div.sk-text-repr-fallback {display: none;}</style><div id=\"sk-container-id-1\" class=\"sk-top-container\"><div class=\"sk-text-repr-fallback\"><pre>GridSearchCV(estimator=Pipeline(steps=[(&#x27;scaler&#x27;, StandardScaler()),\n",
       "                                       (&#x27;pca&#x27;, PCA()),\n",
       "                                       (&#x27;svm&#x27;, SVC(random_state=123))]),\n",
       "             param_grid={&#x27;pca__n_components&#x27;: [2, 3, 4, 5],\n",
       "                         &#x27;svm__C&#x27;: [0.1, 1, 10, 100, 1000],\n",
       "                         &#x27;svm__gamma&#x27;: [&#x27;auto&#x27;, &#x27;scale&#x27;],\n",
       "                         &#x27;svm__kernel&#x27;: [&#x27;linear&#x27;, &#x27;rbf&#x27;]},\n",
       "             verbose=3)</pre><b>In a Jupyter environment, please rerun this cell to show the HTML representation or trust the notebook. <br />On GitHub, the HTML representation is unable to render, please try loading this page with nbviewer.org.</b></div><div class=\"sk-container\" hidden><div class=\"sk-item sk-dashed-wrapped\"><div class=\"sk-label-container\"><div class=\"sk-label sk-toggleable\"><input class=\"sk-toggleable__control sk-hidden--visually\" id=\"sk-estimator-id-1\" type=\"checkbox\" ><label for=\"sk-estimator-id-1\" class=\"sk-toggleable__label sk-toggleable__label-arrow\">GridSearchCV</label><div class=\"sk-toggleable__content\"><pre>GridSearchCV(estimator=Pipeline(steps=[(&#x27;scaler&#x27;, StandardScaler()),\n",
       "                                       (&#x27;pca&#x27;, PCA()),\n",
       "                                       (&#x27;svm&#x27;, SVC(random_state=123))]),\n",
       "             param_grid={&#x27;pca__n_components&#x27;: [2, 3, 4, 5],\n",
       "                         &#x27;svm__C&#x27;: [0.1, 1, 10, 100, 1000],\n",
       "                         &#x27;svm__gamma&#x27;: [&#x27;auto&#x27;, &#x27;scale&#x27;],\n",
       "                         &#x27;svm__kernel&#x27;: [&#x27;linear&#x27;, &#x27;rbf&#x27;]},\n",
       "             verbose=3)</pre></div></div></div><div class=\"sk-parallel\"><div class=\"sk-parallel-item\"><div class=\"sk-item\"><div class=\"sk-label-container\"><div class=\"sk-label sk-toggleable\"><input class=\"sk-toggleable__control sk-hidden--visually\" id=\"sk-estimator-id-2\" type=\"checkbox\" ><label for=\"sk-estimator-id-2\" class=\"sk-toggleable__label sk-toggleable__label-arrow\">estimator: Pipeline</label><div class=\"sk-toggleable__content\"><pre>Pipeline(steps=[(&#x27;scaler&#x27;, StandardScaler()), (&#x27;pca&#x27;, PCA()),\n",
       "                (&#x27;svm&#x27;, SVC(random_state=123))])</pre></div></div></div><div class=\"sk-serial\"><div class=\"sk-item\"><div class=\"sk-serial\"><div class=\"sk-item\"><div class=\"sk-estimator sk-toggleable\"><input class=\"sk-toggleable__control sk-hidden--visually\" id=\"sk-estimator-id-3\" type=\"checkbox\" ><label for=\"sk-estimator-id-3\" class=\"sk-toggleable__label sk-toggleable__label-arrow\">StandardScaler</label><div class=\"sk-toggleable__content\"><pre>StandardScaler()</pre></div></div></div><div class=\"sk-item\"><div class=\"sk-estimator sk-toggleable\"><input class=\"sk-toggleable__control sk-hidden--visually\" id=\"sk-estimator-id-4\" type=\"checkbox\" ><label for=\"sk-estimator-id-4\" class=\"sk-toggleable__label sk-toggleable__label-arrow\">PCA</label><div class=\"sk-toggleable__content\"><pre>PCA()</pre></div></div></div><div class=\"sk-item\"><div class=\"sk-estimator sk-toggleable\"><input class=\"sk-toggleable__control sk-hidden--visually\" id=\"sk-estimator-id-5\" type=\"checkbox\" ><label for=\"sk-estimator-id-5\" class=\"sk-toggleable__label sk-toggleable__label-arrow\">SVC</label><div class=\"sk-toggleable__content\"><pre>SVC(random_state=123)</pre></div></div></div></div></div></div></div></div></div></div></div></div>"
      ],
      "text/plain": [
       "GridSearchCV(estimator=Pipeline(steps=[('scaler', StandardScaler()),\n",
       "                                       ('pca', PCA()),\n",
       "                                       ('svm', SVC(random_state=123))]),\n",
       "             param_grid={'pca__n_components': [2, 3, 4, 5],\n",
       "                         'svm__C': [0.1, 1, 10, 100, 1000],\n",
       "                         'svm__gamma': ['auto', 'scale'],\n",
       "                         'svm__kernel': ['linear', 'rbf']},\n",
       "             verbose=3)"
      ]
     },
     "execution_count": 17,
     "metadata": {},
     "output_type": "execute_result"
    }
   ],
   "source": [
    "grid.fit(X_train,y_train)"
   ]
  },
  {
   "cell_type": "code",
   "execution_count": 18,
   "metadata": {},
   "outputs": [
    {
     "data": {
      "text/plain": [
       "{'pca__n_components': 5,\n",
       " 'svm__C': 0.1,\n",
       " 'svm__gamma': 'auto',\n",
       " 'svm__kernel': 'linear'}"
      ]
     },
     "execution_count": 18,
     "metadata": {},
     "output_type": "execute_result"
    }
   ],
   "source": [
    "grid.best_params_"
   ]
  },
  {
   "cell_type": "code",
   "execution_count": 19,
   "metadata": {},
   "outputs": [],
   "source": [
    "grid_predictions = grid.predict(X_test)"
   ]
  },
  {
   "cell_type": "code",
   "execution_count": 20,
   "metadata": {},
   "outputs": [
    {
     "name": "stdout",
     "output_type": "stream",
     "text": [
      "[[ 61   5]\n",
      " [  2 103]]\n"
     ]
    }
   ],
   "source": [
    "from sklearn.metrics import classification_report,confusion_matrix\n",
    "print(confusion_matrix(y_test,grid_predictions))"
   ]
  },
  {
   "cell_type": "code",
   "execution_count": 21,
   "metadata": {},
   "outputs": [
    {
     "name": "stdout",
     "output_type": "stream",
     "text": [
      "              precision    recall  f1-score   support\n",
      "\n",
      "           0       0.97      0.92      0.95        66\n",
      "           1       0.95      0.98      0.97       105\n",
      "\n",
      "    accuracy                           0.96       171\n",
      "   macro avg       0.96      0.95      0.96       171\n",
      "weighted avg       0.96      0.96      0.96       171\n",
      "\n"
     ]
    }
   ],
   "source": [
    "print(classification_report(y_test,grid_predictions))"
   ]
  },
  {
   "cell_type": "code",
   "execution_count": null,
   "metadata": {},
   "outputs": [],
   "source": []
  }
 ],
 "metadata": {
  "kernelspec": {
   "display_name": "Python 3 (ipykernel)",
   "language": "python",
   "name": "python3"
  },
  "language_info": {
   "codemirror_mode": {
    "name": "ipython",
    "version": 3
   },
   "file_extension": ".py",
   "mimetype": "text/x-python",
   "name": "python",
   "nbconvert_exporter": "python",
   "pygments_lexer": "ipython3",
   "version": "3.10.9"
  }
 },
 "nbformat": 4,
 "nbformat_minor": 4
}
